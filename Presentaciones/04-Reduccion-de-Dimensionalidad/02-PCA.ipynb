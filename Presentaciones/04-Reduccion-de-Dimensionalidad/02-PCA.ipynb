{
  "cells": [
    {
      "cell_type": "markdown",
      "metadata": {
        "id": "MeQKhtOyzH5s"
      },
      "source": [
        "## **PRINCIPAL COMPONENT ANALYSIS (PCA)**"
      ]
    },
    {
      "cell_type": "markdown",
      "metadata": {
        "id": "M_5uDPFjzQvZ"
      },
      "source": [
        "Es una técnica utilizada para reducción de dimensionalidad, compresión de datos, extracción de características y visualización de datos. También es conocida como **transformación Karhunen-Loéve**.\n",
        "\n",
        "El método **PCA** puede definirse como una proyección ortogonal de los datos en un espacio lineal de menor dimensión, conocido como *subespacio principal* en el cual la **varianza de los datos proyectados es maximizada**. Otra forma de entender el problema es buscar una proyección lineal que minimiza el costo promedio de proyección, el cual se define como la distancia media al cuadrado entre los datos y sus proyecciones."
      ]
    },
    {
      "cell_type": "markdown",
      "metadata": {
        "id": "zyQbFY336J_P"
      },
      "source": [
        "## **Definiciones**\n"
      ]
    },
    {
      "cell_type": "markdown",
      "metadata": {
        "id": "nU-Jq07cAX8x"
      },
      "source": [
        "### Espacio vectorial"
      ]
    },
    {
      "cell_type": "markdown",
      "metadata": {
        "id": "Ea51bMDn6NHg"
      },
      "source": [
        "Un **espacio vectorial** $V$ sobre un campo $K$ es un conjunto $V$ (no vacío) con dos operaciones: **suma +** y **producto escalar $\\cdot$**:\n",
        "\\begin{eqnarray}\n",
        "+ &:=& V \\times V \\rightarrow V\\\\\n",
        "* &:=& K \\times V \\rightarrow V\n",
        "\\end{eqnarray}\n",
        "\n",
        "para las cuales se cumplen las siguientes propiedades:\n",
        "\n",
        "(**Suma**)\n",
        "* Conmutatividad\n",
        "$$\\textbf{u}+\\textbf{v} = \\textbf{v} + \\textbf{u} \\qquad \\forall \\textbf{u}, \\textbf{v}\\in V$$\n",
        "* Asociatividad\n",
        "$$\\textbf{u}+(\\textbf{v}+\\textbf{w}) = (\\textbf{u}+\\textbf{v})+\\textbf{w}, \\qquad \\forall \\textbf{u}, \\textbf{v}, \\textbf{w}\\in V$$\n",
        "* Existencia del elemento neutro\n",
        "$$\\exists \\textbf{0}\\in V: \\ \\textbf{u}+\\textbf{0}=\\textbf{u}, \\qquad \\forall \\textbf{u}\\in  V$$\n",
        "* Existencia del elemento inverso\n",
        "$$ \\forall \\textbf{u}\\in V \\quad \\exists (-\\textbf{u})\\in V: \\ \\textbf{u}+(-\\textbf{u})=\\textbf{0}$$\n",
        "\n",
        "(**Producto escalar**)\n",
        "* Asociatividad\n",
        "$$a (b * \\textbf{u}) = (a b)* \\textbf{u},  \\qquad \\forall a,b \\in K, \\ \\forall \\textbf{u}\\in V$$\n",
        "* Existencia de elemento neutro\n",
        "$$\\exists e\\in K: \\ e * \\textbf{u} = \\textbf{u}, \\qquad \\forall \\textbf{u}\\in V$$\n",
        "* Distributividad para la suma vectorial\n",
        "$$ a* (\\textbf{u}+\\textbf{v}) = a * \\textbf{u}+a *\\textbf{v}, \\qquad \\forall a\\in K, \\ \\forall \\textbf{u}, \\textbf{v}\\in V$$\n",
        "* Distributividad para la suma escalar\n",
        "$$(a+b)*\\textbf{u} = a * \\textbf{u}+ b * \\textbf{u}, \\qquad \\forall  a,b \\in K, \\ \\forall \\textbf{u}\\in V$$"
      ]
    },
    {
      "cell_type": "markdown",
      "metadata": {
        "id": "D_7e8_tBAXSU"
      },
      "source": [
        "### Subespacio vectorial"
      ]
    },
    {
      "cell_type": "markdown",
      "metadata": {
        "id": "ugRfna_zAbFr"
      },
      "source": [
        "Sea $V$ un espacio vectorial sobre el campo $K$, y $U\\subset V$, con $U\\neq \\emptyset$. El subconjunto $U$ es un **subespacio vectorial** si\n",
        "\\begin{eqnarray}\n",
        "\\forall \\textbf{u}, \\textbf{v}\\in U &\\Rightarrow& \\textbf{u}+\\textbf{v}\\in U\\\\\n",
        "\\forall \\textbf{u}\\in U, \\ \\forall a\\in K &\\Rightarrow& a\\textbf{u}\\in U\n",
        "\\end{eqnarray}\n"
      ]
    },
    {
      "cell_type": "markdown",
      "metadata": {
        "id": "bRz7y8yGDGAB"
      },
      "source": [
        "### Producto punto\n",
        "\n"
      ]
    },
    {
      "cell_type": "markdown",
      "metadata": {
        "id": "MP3Zy8V0DHvC"
      },
      "source": [
        "La interpretación geométrica del  **producto punto** o **producto interior** entre dos vectores en $\\mathbb{R}^n$ es la siguiente:\n",
        "\n",
        "$$\\textbf{u} \\cdot \\textbf{v}  = ||\\textbf{u}|| ||\\textbf{v}||\\cos{(\\theta)}$$\n",
        "\n",
        "Es decir, como el producto de las magnitudes de ambos vectores con el coseno del ángulo entre ellos. Observe que si los dos vectores apuntan en la misma dirección entonces:\n",
        "$$\\textbf{u} \\cdot \\textbf{v}  = ||\\textbf{u}|| ||\\textbf{v}||$$\n",
        "\n",
        "Mientras que si\n",
        "$$\\textbf{u} \\cdot \\textbf{v}  = 0$$\n",
        "los vectores son ortogonales.\n",
        "\n",
        "Por trigonometría, tenemos que\n",
        "\n",
        "$$\\cos{(\\theta)}= \\frac{\\|proy_{\\textbf{u}\\|}(\\textbf{v})}{||\\textbf{v}||}$$\n",
        "\n",
        "Por la representación geométrica del producto punto podemos despejar $\\cos{(\\theta)}$:\n",
        "\n",
        "$$\\cos{(\\theta)} = \\frac{\\textbf{u} \\cdot \\textbf{v}}{||\\textbf{u}|| ||\\textbf{v}||}$$\n",
        "\n",
        "Combinando ambas ecuaciones se tiene:\n",
        "$$\\frac{\\|proy_{\\textbf{u}}(\\textbf{v})\\|}{||\\textbf{v}||}=\\frac{\\textbf{u} \\cdot \\textbf{v}}{||\\textbf{u}||||\\textbf{v}|| } $$\n",
        "$$\\|proy_{\\textbf{u}}(\\textbf{v})\\| = \\frac{\\textbf{u} \\cdot \\textbf{v}}{||\\textbf{u}|| }$$\n",
        "\n",
        "Este resultado corresponde a la magnitud de la proyección del vector $\\textbf{v}$ en la dirección del vector $\\textbf{u}$."
      ]
    },
    {
      "cell_type": "code",
      "execution_count": 2,
      "metadata": {
        "colab": {
          "base_uri": "https://localhost:8080/",
          "height": 326
        },
        "id": "oGFBZ2JJNkaj",
        "outputId": "6fe70ace-3952-4731-83a4-a849e14add60"
      },
      "outputs": [
        {
          "output_type": "display_data",
          "data": {
            "text/plain": [
              "<Figure size 500x500 with 1 Axes>"
            ],
            "image/png": "[encoded data removed]"
          },
          "metadata": {}
        }
      ],
      "source": [
        "### EJEMPLO DE LA PROYECCIÓN DE V SOBRE U ###\n",
        "\n",
        "# Import libraries\n",
        "import numpy as np\n",
        "import matplotlib.pyplot as plt\n",
        "from matplotlib.patches import Arc\n",
        "\n",
        "# Define vectors u and v\n",
        "u = np.array([5, 1])\n",
        "v = np.array([2, 3])\n",
        "\n",
        "# Calculate the projection of v onto u\n",
        "dot_product = np.dot(u, v)\n",
        "u_norm = np.linalg.norm(u)\n",
        "project_magn = dot_product/ u_norm\n",
        "projection = project_magn *(u / u_norm)\n",
        "\n",
        "# Create plot\n",
        "fig, ax = plt.subplots(figsize=(5, 5))\n",
        "ax.arrow(0, 0, u[0], u[1], fc='blue', ec='blue',  label=f'$u$',\n",
        "         length_includes_head=True, head_width=0.2, head_length=0.2)\n",
        "ax.arrow(0, 0, v[0], v[1], fc='red', ec='red',  label=f'$v$',\n",
        "         length_includes_head=True, head_width=0.2, head_length=0.2)\n",
        "ax.plot([v[0], projection[0]], [v[1], projection[1]], 'k--', label=f'$proy_u(v)$')\n",
        "ax.text(0.5, 0.3, r'$\\theta$', fontsize=14, ha='center')\n",
        "ax.set_xlim(-0.1, 6)\n",
        "ax.set_ylim(-.1, 4)\n",
        "ax.legend()\n",
        "ax.set_aspect('equal')\n",
        "plt.show()"
      ]
    },
    {
      "cell_type": "markdown",
      "metadata": {
        "id": "-psd4a7XRbb7"
      },
      "source": [
        "### Vector y valor propio"
      ]
    },
    {
      "cell_type": "markdown",
      "metadata": {
        "id": "4k98ppNIReCy"
      },
      "source": [
        "Sea $A$ una matriz cuadrada.\n",
        "\n",
        "Se dice que un escalar  $\\lambda \\in \\mathbb{R}$ es un **valor propio** de $A$ si existe un vector $\\textbf{v}\\in V$ no nulo, tal que\n",
        "$$A \\textbf{v} = \\lambda \\textbf{v}$$\n",
        "Este vector se conoce como el **vector propio** correspondiente a $\\lambda$. Esto equivale a\n",
        "$$(A-\\lambda I) \\textbf{v}=\\textbf{0}$$\n",
        "\n",
        "y dado que $\\textbf{v} \\neq \\textbf{0}$ esto implica que las columnas de la matriz $(A-\\lambda I)$ son linealmente dependientes y la matriz $(A-\\lambda I)$ no es invertible. Esto a su vez, implica sí y sólo sí, que el determinante de $A-\\lambda I$ es igual a 0."
      ]
    },
    {
      "cell_type": "markdown",
      "metadata": {
        "id": "t2AAeYo2SkXj"
      },
      "source": [
        "Dado que la matriz $A$ y la matriz $I$ son fijas, procedemos de manera inversa, buscando un valor de $\\lambda$ tal que\n",
        "\n",
        "$$\\det{(A-\\lambda I)}=0$$\n",
        "\n",
        "Esta formulación cual es conocida como el **polinómio característico** de $A$. Las raíces de ese polinómio corresponde a los valores propios de A. Finalmente, para cada valor propio $\\lambda$ de $A$ debe encontrarse una base del espacio nulo, denotado por\n",
        "\n",
        "$$Nul(A-\\lambda I)$$\n",
        "\n",
        "Es decir, los vectores $\\textbf{v}$ que solucionan el sistema de ecuaciones lineales, para un $\\lambda$ conocido:\n",
        "$$(A-\\lambda I)\\textbf{v}=0$$"
      ]
    },
    {
      "cell_type": "code",
      "execution_count": 7,
      "metadata": {
        "colab": {
          "base_uri": "https://localhost:8080/",
          "height": 445
        },
        "id": "8ql_DuhR8Ylv",
        "outputId": "7b4c71af-7716-4185-a38e-5e1433cb94b9"
      },
      "outputs": [
        {
          "output_type": "display_data",
          "data": {
            "text/plain": [
              "<Figure size 500x500 with 1 Axes>"
            ],
            "image/png": "[encoded data removed]"
          },
          "metadata": {}
        }
      ],
      "source": [
        "# Define the matrix A and some vector v\n",
        "A = np.array([[3, 1], [1, 3]])\n",
        "v = np.array([.49, .87])\n",
        "\n",
        "# Unit circle\n",
        "t = np.linspace(0, 2*np.pi, 100)\n",
        "x = np.cos(t)\n",
        "y = np.sin(t)\n",
        "circle = np.vstack((x, y))\n",
        "\n",
        "# Transformation with matrix A\n",
        "transformed_circle = np.dot(A, circle)\n",
        "transformed_v = np.dot(A, v)\n",
        "\n",
        "# Create plot\n",
        "fig, ax = plt.subplots(figsize=(5, 5))\n",
        "ax.plot(circle[0, :], circle[1, :], 'g:', label='Original')\n",
        "ax.plot(transformed_circle[0, :], transformed_circle[1, :], 'r:', label='Transformation')\n",
        "ax.arrow(0, 0, v[0], v[1], fc='g', ec='g',  label=f'Vector $v$',\n",
        "         length_includes_head=True, head_width=0.2, head_length=0.2)\n",
        "ax.arrow(0, 0, transformed_v[0], transformed_v[1], fc='r', ec='r',  label=f'Vector $Av$',\n",
        "         length_includes_head=True, head_width=0.2, head_length=0.2)\n",
        "ax.legend()\n",
        "ax.set_aspect('equal')\n",
        "plt.show()"
      ]
    },
    {
      "cell_type": "code",
      "execution_count": 8,
      "metadata": {
        "colab": {
          "base_uri": "https://localhost:8080/",
          "height": 445
        },
        "id": "JhArY1dE-6xA",
        "outputId": "69fe2f88-03da-4f81-fd19-2f7a9871f9b1"
      },
      "outputs": [
        {
          "output_type": "display_data",
          "data": {
            "text/plain": [
              "<Figure size 500x500 with 1 Axes>"
            ],
            "image/png": "[encoded data removed]"
          },
          "metadata": {}
        }
      ],
      "source": [
        "# Calculate the eigenvectors and eigenvalues\n",
        "eigenvalues, eigenvectors = np.linalg.eig(A)\n",
        "transformed_eigenvectors = eigenvectors*eigenvalues\n",
        "\n",
        "# Create plot\n",
        "fig, ax = plt.subplots(figsize=(5, 5))\n",
        "ax.plot(circle[0, :], circle[1, :], 'g:')\n",
        "ax.plot(transformed_circle[0, :], transformed_circle[1, :], 'r:')\n",
        "colors = [\"purple\", \"coral\"]\n",
        "for i in range(2):\n",
        "  ax.arrow(0, 0, eigenvectors[0, i], eigenvectors[1, i],\n",
        "           fc='g', ec='g',\n",
        "           length_includes_head=True, head_width=0.2, head_length=0.2)\n",
        "  ax.arrow(0, 0, transformed_eigenvectors[0, i], transformed_eigenvectors[1, i],\n",
        "           fc=colors[i], ec=colors[i],  label=f'$\\lambda={eigenvalues[i]}$',\n",
        "          length_includes_head=True, head_width=0.2, head_length=0.2)\n",
        "ax.legend()\n",
        "ax.set_aspect('equal')\n",
        "plt.show()"
      ]
    },
    {
      "cell_type": "markdown",
      "source": [
        "### Teorema espectral (matrices simétricas reales)"
      ],
      "metadata": {
        "id": "_p-P4suP4eB8"
      }
    },
    {
      "cell_type": "markdown",
      "source": [
        "**Teorema** Sea $\\textbf{A}$ una **matriz simétrica** de $l\\times l$, $\\textbf{A}^T \\textbf{A}$. Entonces los vectores propios correspondientes a **distintos** valores propios son **ortogonales**.\n",
        "\n",
        "**Dem**\n",
        "\n",
        "Sea $\\lambda_i \\neq \\lambda_j$ dos valores propios diferentes de $\\textbf{A}$. Por definición, sus vectores propios $\\textbf{v}_i, \\textbf{v}_j$ cumplen:\n",
        "\n",
        "\\begin{eqnarray}\n",
        "\\textbf{A}\\textbf{v}_i &=& \\lambda_i \\textbf{v}_i \\tag{1}\\\\\n",
        "\\textbf{A}\\textbf{v}_j &=& \\lambda_j \\textbf{v}_j \\tag{2}\\\\\n",
        "\\end{eqnarray}\n",
        "\n"
      ],
      "metadata": {
        "id": "2ae3fAEq4kbc"
      }
    },
    {
      "cell_type": "markdown",
      "source": [
        "Multiplicando la primera ecuación por la izquierda por $\\textbf{v}_j^T$ obtenemos:\n",
        "\n",
        "$$\\textbf{v}_j^T \\textbf{A} \\textbf{v}_i = \\lambda_i \\textbf{v}_j^T \\textbf{v}_i \\tag{3}$$"
      ],
      "metadata": {
        "id": "HZM8jS4M42OL"
      }
    },
    {
      "cell_type": "markdown",
      "source": [
        "Por otra parte si transponemos ambos lados de la ecuación (2) tenemos:\n",
        "\n",
        "\\begin{eqnarray}\n",
        "(\\textbf{A}\\textbf{v}_j)^T &=& (\\lambda_j \\textbf{v}_j)^T\\\\\n",
        "\\textbf{v}_j^T\\textbf{A}^T &=& \\lambda_j \\textbf{v}_j^T\\\\\n",
        "\\textbf{v}_j^T\\textbf{A} &=& \\lambda_j \\textbf{v}_j^T\\\\\n",
        "\\end{eqnarray}\n",
        "\n",
        "Y al resultado lo multiplicamos por $\\textbf{v}_i$ por la izquierda llegamos a que:\n",
        "$$\\textbf{v}_j^T \\textbf{A} \\textbf{v}_i = \\lambda_j \\textbf{v}_j^T \\textbf{v}_i \\tag{4}$$"
      ],
      "metadata": {
        "id": "3zoqW_7f59-l"
      }
    },
    {
      "cell_type": "markdown",
      "source": [
        "Restando la ecuación (4) a la ecuación (3) obtenemos:\n",
        "\n",
        "\\begin{eqnarray} \\textbf{v}_j^T \\textbf{A} \\textbf{v}_i-\\textbf{v}_j^T \\textbf{A} \\textbf{v}_i &=& \\lambda_i \\textbf{v}_j^T \\textbf{v}_i - \\lambda_j \\textbf{v}_j^T \\textbf{v}_i\\\\\n",
        "0 &=& (\\lambda_i-\\lambda_j) \\textbf{v}_j^T \\textbf{v}_i \\\\\n",
        "\\end{eqnarray}\n",
        "\n",
        "Dado que $\\lambda_i\\neq\\lambda_j$, eso implica que\n",
        "$$\\textbf{v}_j^T \\textbf{v}_i = 0$$\n",
        "Es decir, los vectores propios son **ortogonales**.\n",
        "$\\square$"
      ],
      "metadata": {
        "id": "FaFWms7r6szE"
      }
    },
    {
      "cell_type": "markdown",
      "metadata": {
        "id": "df_MjNAg1UYs"
      },
      "source": [
        "## **Formulación de máxima varianza**"
      ]
    },
    {
      "cell_type": "markdown",
      "metadata": {
        "id": "uYoSYdYk0PDa"
      },
      "source": [
        "Considere un conjunto de observaciones\n",
        "$$\\textbf{X} = \\{\\textbf{x}_1, \\ldots, \\textbf{x}_n\\}$$\n",
        "donde $\\textbf{x}_i \\in \\mathbb{R}^D, \\ i=1,\\ldots, n$.\n",
        "\n",
        "El **objetivo** es **proyectar** los datos en un espacio de dimensión $M<D$, mientras se **maximiza la magnitud de la varianza  de los datos proyectados**."
      ]
    },
    {
      "cell_type": "markdown",
      "metadata": {
        "id": "F3BPn-T572RZ"
      },
      "source": [
        "Primero, considere la proyección en un espacio uno-dimensional ($M=1$). Sea $\\textbf{u}_1$ el vector que define la dirección de este espacio.\n",
        "\n",
        "Por conveniencia y sin pérdida de generalidad se supone que es un vector unitario, es decir,\n",
        "$$\\textbf{u}_1^T\\textbf{u}_1 =1$$\n",
        "\n",
        "Por lo tanto, la (magnitud de una) proyección de una observación $\\textbf{x}_i$ en $\\textbf{u}_1$ es:\n",
        "\\begin{eqnarray}\n",
        "\\|proy_{\\textbf{u}_1}(\\textbf{x}_i)\\| &=& \\frac{\\textbf{u}_1 \\cdot \\textbf{x}_i}{||\\textbf{u}_1|| }\\\\\n",
        "&=& \\frac{\\textbf{u}_1^T \\textbf{x}_i}{1}\\\\\n",
        " &=&  \\textbf{u}_1^T \\textbf{x}_i\\\\\n",
        "\\end{eqnarray}"
      ]
    },
    {
      "cell_type": "markdown",
      "metadata": {
        "id": "wCrOvcU605Xm"
      },
      "source": [
        "\n",
        "\n",
        "Entonces la media de (la magnitud) de las proyecciones es:\n",
        "\\begin{eqnarray}\n",
        "\\overline{\\|proy_{\\textbf{u}_1}(\\textbf{x}_i) \\|} &=& \\frac{1}{n} \\sum_{i=1}^{n} \\|proy_{\\textbf{u}_1}(\\textbf{x}_i) \\|\\\\\n",
        "&=& \\frac{1}{n} \\sum_{i=1}^{n} \\textbf{u}_1^T \\textbf{x}_i\\\\\n",
        "&=& \\frac{1}{n} (\\textbf{u}_1^T \\textbf{x}_1+\\textbf{u}_1^T \\textbf{x}_2+\\ldots+ \\textbf{u}_1^T \\textbf{x}_n)\\\\\n",
        "&=& \\frac{1}{n}\\textbf{u}_1^T \\left(\\sum_{i=1}^n \\textbf{x}_i \\right)\\\\\n",
        "&=& \\textbf{u}_1^T \\left(\\frac{1}{n}\\sum_{i=1}^n \\textbf{x}_i \\right)\\\\\n",
        "&=&  \\textbf{u}_1^T\\overline{\\textbf{x}}\\\\\n",
        "&=& \\overline{proy}_1\n",
        "\\end{eqnarray}"
      ]
    },
    {
      "cell_type": "markdown",
      "metadata": {
        "id": "E_-D0uEyIL0L"
      },
      "source": [
        "La matriz de covarianza de las observaciones se define como:\n",
        "\n",
        "$$\\textbf{S} = \\frac{1}{n}\\sum_{i=1}^n (\\textbf{x}_i- \\overline{\\textbf{x}})(\\textbf{x}_i-\\overline{\\textbf{x}})^T $$\n"
      ]
    },
    {
      "cell_type": "markdown",
      "metadata": {
        "id": "l2DqIbu9GKI5"
      },
      "source": [
        "\n",
        "AL multiplicar la matriz $\\textbf{S}$ por $\\textbf{u}_1$ desde la izquierda y la derecha se tiene:\n",
        "\n",
        "\\begin{eqnarray}\n",
        "\\textbf{u}_1^T \\textbf{S} \\textbf{u}_1\n",
        "&=& \\textbf{u}_1^T \\left( \\frac{1}{n} \\sum_{i=1}^n (\\textbf{x}_i-\\overline{\\textbf{x}})(\\textbf{x}_i-\\overline{\\textbf{x}})^T\\right)\\textbf{u}_1\\\\\n",
        "&=& \\frac{1}{n} \\sum_{i=1}^n \\textbf{u}_1^T (\\textbf{x}_i-\\overline{\\textbf{x}})(\\textbf{x}_i-\\overline{\\textbf{x}})^T\\textbf{u}_1\\\\\n",
        "&=& \\frac{1}{n} \\sum_{i=1}^n \\left(\\textbf{u}_1^T (\\textbf{x}_i-\\overline{\\textbf{x}})\\right)\\left((\\overline{\\textbf{x}}-\\overline{\\textbf{x}})^T\\textbf{u}_1\\right)\\\\\n",
        "&=& \\frac{1}{n} \\sum_{i=1}^n \\left(\\textbf{u}_1^T (\\textbf{x}_i-\\overline{\\textbf{x}})\\right)^2\\\\\n",
        "&=& \\frac{1}{n} \\sum_{i=1}^n \\left(\\textbf{u}_1^T \\textbf{x}_i-\\textbf{u}_1^T\\overline{\\textbf{x}}\\right)^2\\\\\n",
        "&=&\\frac{1}{n} \\sum_{i=1}^n \\left(\\|proy_{\\textbf{u}_1}(\\textbf{x}_i)\\|\\ -\\overline{proy}_1\\right)^2\n",
        "\\end{eqnarray}\n",
        "\n",
        "Recordado que la magnitud de los datos proyectados $\\textbf{x}_i\\in \\textbf{X}$ sobre $\\textbf{u}_1$ equivalen a :\n",
        "$$ \\|proy_{\\textbf{u}_1}(\\textbf{x}_i)\\| = \\textbf{u}_1^T \\textbf{x}_i$$\n",
        "Entonces, la varianza de la magnitud de los datos proyectados es igual a\n",
        "\n",
        "$$Var\\left(\\|proy_{\\textbf{u}_1}(\\textbf{x}_i)\\|\\right) =\\frac{1}{n} \\sum_{i=1}^n \\left(\\textbf{u}_1^T \\textbf{x}_i-\\textbf{u}_1^T\\overline{\\textbf{x}}\\right)^2 = \\textbf{u}_1^T \\textbf{S} \\textbf{u}_1$$"
      ]
    },
    {
      "cell_type": "markdown",
      "metadata": {
        "id": "e0JvPrT6Ka_c"
      },
      "source": [
        "Por lo tanto, el objetivo es maximizar la varianza de los datos proyectados $ \\textbf{u}_1^T \\textbf{S} \\textbf{u}_1$ con respecto al vector $\\textbf{u}_1$, sujeto a que $\\textbf{u}_1^T \\textbf{u}_1=1$ para evitar que la magnitud de $\\textbf{u}_1$ crezca indefinidamente. Es decir, se debe resolver el siguiente problema de optimización con restricciones:\n",
        "\n",
        "\\begin{eqnarray}\n",
        "\\max_{\\textbf{u}_1} & \\ & \\textbf{u}_1^T \\textbf{S} \\textbf{u}_1 \\\\\n",
        "&&\\text{s.a} \\ \\ \\textbf{u}_1^T \\textbf{u}_1=1\n",
        "\\end{eqnarray}"
      ]
    },
    {
      "cell_type": "markdown",
      "metadata": {
        "id": "_V4Z9jkRLIDl"
      },
      "source": [
        "Usando un multiplicador de Lagrange $\\lambda_1$ se obtiene la función Lagrangiana\n",
        "\n",
        "$$L(\\textbf{u}_1, \\lambda_1) = \\textbf{u}_1^T \\textbf{S} \\textbf{u}_1 +\\lambda_1 (1-\\textbf{u}_1^T \\textbf{u}_1)$$"
      ]
    },
    {
      "cell_type": "markdown",
      "metadata": {
        "id": "idHsZ_PKLdrH"
      },
      "source": [
        "Derivando con respecto de $\\textbf{u}_1$ se tiene que\n",
        "\n",
        "$$\\frac{\\partial L(\\textbf{u}_1, \\lambda_1)}{\\partial \\textbf{u}_1} = 2(\\textbf{S} \\textbf{u}_1 - \\lambda_1 \\textbf{u}_1)$$\n",
        "\n",
        "Igualando a O, tenemos que cualquier punto estacionario de la función Lagrangiana debe cumplir que\n",
        "\n",
        "\\begin{eqnarray}\n",
        "2(\\textbf{S} \\textbf{u}_1 - \\lambda_1 \\textbf{u}_1) &=& 0 \\\\\n",
        "\\textbf{S} \\textbf{u}_1 - \\lambda_1 \\textbf{u}_1 &=& 0\\\\\n",
        "\\textbf{S}\\textbf{u}_1 &=& \\lambda_1 \\textbf{u}_1\n",
        "\\end{eqnarray}\n"
      ]
    },
    {
      "cell_type": "markdown",
      "metadata": {
        "id": "SBjAOq7AMT5w"
      },
      "source": [
        "Esto significa que la dirección que maximiza la varianza de los datos proyectados debe ser un **vector propio** de $\\textbf{S}$.\n",
        "\n",
        "Si multiplicamos la ecuación por $\\textbf{u}_1$ y usamos que $\\textbf{u}_1^T \\textbf{u}_1=1$ se tiene que:\n",
        "\n",
        "$$\\textbf{u}_1^T \\textbf{S} \\textbf{u}_1 = \\lambda_1$$"
      ]
    },
    {
      "cell_type": "markdown",
      "metadata": {
        "id": "aIFM0cAHN3Et"
      },
      "source": [
        "Por lo tanto, la **varianza de la magnitud de las proyecciones** será máxima cuando $\\textbf{u}_1$ corresponda al vector propio correspondiente al **valor propio** más grande $\\lambda_1$. Este vector propio es conocido como el **Primer Componente Principal**."
      ]
    },
    {
      "cell_type": "markdown",
      "metadata": {
        "id": "_mHeQTUSWOPU"
      },
      "source": [
        "### Demostración para $M+1$ con inducción"
      ]
    },
    {
      "cell_type": "markdown",
      "source": [
        "Ahora, supongamos que el resultado anterior se sostiene para $M$ dimensiones. esto es, las primeras $M$ direcciones $\\textbf{u}_1, \\ldots, \\textbf{u}_M$ que maximizan la varianza de la magnitud de las proyecciones de los datos sobre sí mismas\n",
        "\\begin{eqnarray}\n",
        "Var(\\|proy_{\\textbf{u}_1}(\\textbf{x}_i)\\|) &\\geq& \\\\\n",
        "Var(\\|proy_{\\textbf{u}_2}(\\textbf{x}_i)\\|)&\\geq&\\\\\n",
        "&\\vdots&\\\\\n",
        " Var(\\|proy_{\\textbf{u}_M}(\\textbf{x}_i)\\|)\n",
        "&\\geq& \\\\\n",
        " Var(\\|proy_{\\textbf{u}}(\\textbf{x}_i)\\|),  & & \\quad \\forall \\textbf{u}\\in \\mathbb{R}^l, \\ \\textbf{u}\\notin \\{\\textbf{u}_1,\\ldots,\\textbf{u}_M\\},  \\ \\forall \\textbf{x}_i \\in \\textbf{X}\n",
        "\\end{eqnarray}\n",
        "corresponde a los vectores propios asociados a los $M$ valores propios más grandes $\\lambda_1 \\geq \\lambda_2 \\geq \\ldots \\geq \\lambda_M$ de la matriz de covarianza $\\textbf{S}$ (por lo tanto, vectores ortogonales),"
      ],
      "metadata": {
        "id": "CSvN5Itt8SCQ"
      }
    },
    {
      "cell_type": "markdown",
      "source": [
        "Lo que buscamos demostrar es que la dirección $\\hat{\\textbf{u}} \\neq \\{\\textbf{u}_1,\\ldots,\\textbf{u}_M\\}$ que maximiza la varianza de la magnitud de los datos proyectados sobre ella es justamente el vector propio correspondiente al $M+1$-ésimo valor propio más grande de la matriz $\\textbf{S}$"
      ],
      "metadata": {
        "id": "HWwymfyjBH2V"
      }
    },
    {
      "cell_type": "markdown",
      "source": [
        "Al ser un vector propio de una matriz simétrica, por el teorema espectral de matrices simétricas, debe ser ortogonal a los otros $M$ vectores propios $\\textbf{u}_i$ anteriores. Por lo tanto, el vector buscado es el argumento máximo del siguiente problema de **optimización con restricciones**\n",
        "\n",
        "\\begin{eqnarray}\n",
        "\\max_{\\textbf{u}_*} \\textbf{u}_*^T \\textbf{S} \\textbf{u}_* &&\\\\\n",
        "\\text{s.a} \\ \\ \\textbf{u}_*^T \\textbf{u}_*&=&1\\\\\n",
        " \\textbf{u}_*^T \\textbf{u}_i&=&0, \\quad \\forall i=1,\\ldots,M\n",
        "\\end{eqnarray}"
      ],
      "metadata": {
        "id": "LlOKU7D7W3MZ"
      }
    },
    {
      "cell_type": "markdown",
      "source": [
        "La función lagrangiana asociada a este problema es"
      ],
      "metadata": {
        "id": "qrWIQcuXYDok"
      }
    },
    {
      "cell_type": "markdown",
      "source": [
        "$$L = \\textbf{u}_{*}\\textbf{S} \\textbf{u}_{*} + \\lambda_{*}(1-\\textbf{u}_{*}^T \\textbf{u}_{*})+\\sum_{i=1}^M \\eta_i \\textbf{u}_{*}^T \\textbf{u}_i$$\n",
        "\n",
        "donde $\\{\\lambda_{M+1}, \\eta_1, \\ldots, \\eta_M\\}$ son multiplicadores de Lagrange."
      ],
      "metadata": {
        "id": "duQjCuRQZJT6"
      }
    },
    {
      "cell_type": "markdown",
      "metadata": {
        "id": "Y78sUcuLW6TP"
      },
      "source": [
        "Para resolver el problema derivamos $L$ derivamos respecto al vector $\\textbf{u}_{*}$ e igualamos a 0, obteniendo la siguiente restricción que debe cumplir los puntos estacionarios\n",
        "\n",
        "$$2\\textbf{S}\\textbf{u}_{*}- 2\\lambda_{*}\\textbf{u}_{*}+\\sum_{i=1}^M \\eta_i \\textbf{u}_i=\\textbf{0} $$"
      ]
    },
    {
      "cell_type": "markdown",
      "source": [
        "Multiplicando la ecuación por cada $\\textbf{u}_j^T$ por la izquierda (con $j=1,\\ldots,M$) tenemos el conjunto de ecuaciones:\n"
      ],
      "metadata": {
        "id": "Zwnly06NaC5w"
      }
    },
    {
      "cell_type": "markdown",
      "source": [
        "\n",
        "\\begin{eqnarray}\n",
        "2\\textbf{u}_1^T\\textbf{S}\\textbf{u}_{*}- 2\\textbf{u}_1^T\\lambda_{*}\\textbf{u}_{*}+\\textbf{u}_1^T\\sum_{i=1}^M \\eta_i\\textbf{u}_i &=& 0 \\\\\n",
        "&\\vdots&\\\\\n",
        "2\\textbf{u}_M^T\\textbf{S}\\textbf{u}_{*}- 2\\textbf{u}_M^T\\lambda_{*}\\textbf{u}_{*}+\\textbf{u}_M^T\\sum_{i=1}^M \\eta_i\\textbf{u}_i &=& 0\n",
        "\\end{eqnarray}"
      ],
      "metadata": {
        "id": "azknAvAlaFT9"
      }
    },
    {
      "cell_type": "markdown",
      "source": [
        "Tomemos cualquiera de esas ecuaciones (con $j \\in \\{1,2,\\ldots, M\\}$),\n",
        "\n",
        "$$2\\textbf{u}_j^T\\textbf{S}\\textbf{u}_{*}- 2\\textbf{u}_j^T\\lambda_{*}\\textbf{u}_{*}+\\textbf{u}_j^T\\sum_{i=1}^M \\eta_i\\textbf{u}_i = 0 $$\n",
        "\n",
        "por la condición de ortogonalidad sabemos que\n",
        "\n",
        "\\begin{eqnarray}\n",
        "\\textbf{u}_j^T\\textbf{u}_{*}&=&0\\\\\n",
        "\\textbf{u}_j^T\\textbf{u}_{i}&=&0, \\forall i=1,\\ldots, M, \\ i\\neq j\\\\\n",
        "\\end{eqnarray}\n"
      ],
      "metadata": {
        "id": "-mz2WTJBam3H"
      }
    },
    {
      "cell_type": "markdown",
      "source": [
        "Además, como $\\textbf{S}$ es simétrica, entonces\n",
        "\n",
        "\\begin{eqnarray}\n",
        "(\\textbf{u}_j^T\\textbf{S})\\textbf{u}_{*} &=&\\textbf{u}_{*}^T(\\textbf{u}_j^T\\textbf{S})^T \\\\\n",
        "&=& \\textbf{u}_{*}^T \\left(S^T (\\textbf{u}_j^T)^T\\right)\\\\\n",
        "&=& \\textbf{u}_{*}^T S \\textbf{u}_j\\\\\n",
        "\\end{eqnarray}\n",
        "\n",
        "Pero como $\\textbf{u}_j$ es un valor propio, entonces\n",
        "\n",
        "\\begin{eqnarray}\n",
        "\\textbf{u}_{*}^T S \\textbf{u}_j &=& \\textbf{u}_{*}^T (\\lambda_j \\textbf{u}_j)\\\\\n",
        "&=&  \\lambda \\textbf{u}_{*}^T \\textbf{u}_j\\\\\n",
        "&=& 0\n",
        "\\end{eqnarray}"
      ],
      "metadata": {
        "id": "cGjXaeSLcMzO"
      }
    },
    {
      "cell_type": "markdown",
      "source": [
        "Por lo tanto\n",
        "\n",
        "\\begin{eqnarray}\n",
        "2(0)- 2\\lambda_{*}0+\\eta_j (1)  &=& 0\\\\\n",
        "\\eta_j  &=& 0\\\\\n",
        "\\end{eqnarray}\n",
        "\n",
        "para cualquier $j=1,\\ldots,M$\n",
        "\n"
      ],
      "metadata": {
        "id": "PFDUJbSobZrk"
      }
    },
    {
      "cell_type": "markdown",
      "source": [
        "Entonces de la ecuación\n",
        "\n",
        "$$2\\textbf{S}\\textbf{u}_{*}- 2\\lambda_{*}\\textbf{u}_{*}+\\sum_{i=1}^M \\eta_i \\textbf{u}_i=\\textbf{0} $$\n",
        "\n",
        "concluimos que\n",
        "\n",
        "$$2(\\textbf{S}\\textbf{u}_{*}- \\lambda_{*}\\textbf{u}_{*})=\\textbf{0} $$\n",
        "\n",
        "Esto implica que\n",
        "$$\\textbf{S}\\textbf{u}_{*} = \\lambda_{*}\\textbf{u}_{*}$$\n",
        "\n",
        "Es decir, que $\\textbf{u}_*$ y $\\lambda_*$ deben ser valores y vectores propios de $\\textbf{S}$."
      ],
      "metadata": {
        "id": "9MmbYC18drIx"
      }
    },
    {
      "cell_type": "markdown",
      "source": [
        "Dado que lo que buscamos es maximizar la función\n",
        "\n",
        "$$\\textbf{u}_*^T \\textbf{S} \\textbf{u}_*  = \\lambda_*$$\n",
        "\n",
        "El vector propio que lo máximiza es el asociado al $M+1$ esimo valor propio más grande de $\\textbf{S}$.\n",
        "Entonces para maximizar la varianza es necesario tomar el valor propio más grande no seleccionado. Con esto se completa la demostración por inducción. $\\square$"
      ],
      "metadata": {
        "id": "d7mxs1lpeIML"
      }
    },
    {
      "cell_type": "markdown",
      "metadata": {
        "id": "yM7Lhv-uONay"
      },
      "source": [
        "**Conclusión**\n"
      ]
    },
    {
      "cell_type": "markdown",
      "metadata": {
        "id": "Y2XtayGMOPK9"
      },
      "source": [
        "Para realizar el **Analisis de Componentes Principales** debe calcularse  la matriz de covarianza $\\textbf{S}$ del conjunto de datos, y encontrar los $M$ vectores propios de $\\textbf{S}$ que corresponden a los $M$ valores propios más grandes."
      ]
    },
    {
      "cell_type": "markdown",
      "metadata": {
        "id": "JuKDDeImmvWh"
      },
      "source": [
        "## **Ejemplo**"
      ]
    },
    {
      "cell_type": "code",
      "execution_count": null,
      "metadata": {
        "id": "PIoUsIOZmz-c"
      },
      "outputs": [],
      "source": [
        "# Importar librerías\n",
        "import numpy as np\n",
        "import pandas as pd\n",
        "import matplotlib.pyplot as plt\n",
        "import seaborn as sns\n",
        "import plotly.express as px\n",
        "import plotly.graph_objects as go\n",
        "from sklearn import datasets\n",
        "from sklearn.preprocessing import StandardScaler"
      ]
    },
    {
      "cell_type": "code",
      "execution_count": null,
      "metadata": {
        "id": "WmNmScHym2mu"
      },
      "outputs": [],
      "source": [
        "# Importar datos\n",
        "data = datasets.load_breast_cancer()\n",
        "df = pd.DataFrame(data.data, columns=data.feature_names)"
      ]
    },
    {
      "cell_type": "code",
      "execution_count": null,
      "metadata": {
        "id": "jb1Gjwmim4Ht"
      },
      "outputs": [],
      "source": [
        "# Estandarizar los datos\n",
        "scaler = StandardScaler()\n",
        "df = pd.DataFrame(scaler.fit_transform(df), columns=df.columns)"
      ]
    },
    {
      "cell_type": "code",
      "execution_count": null,
      "metadata": {
        "colab": {
          "base_uri": "https://localhost:8080/",
          "height": 827
        },
        "id": "lWl78Qy9m-uO",
        "outputId": "2fe86eb1-eef0-4aec-d2ad-bdea5435be98"
      },
      "outputs": [
        {
          "output_type": "display_data",
          "data": {
            "text/plain": [
              "<Figure size 1200x800 with 2 Axes>"
            ],
            "image/png": "[encoded data removed]"
          },
          "metadata": {}
        }
      ],
      "source": [
        "# Crear heatmap de la correlación\n",
        "corr = df.corr()\n",
        "plt.figure(figsize=(12, 8))\n",
        "plt.tick_params(axis='x', labeltop=True, labelbottom=False)\n",
        "sns.heatmap(corr, cmap='coolwarm')\n",
        "plt.show()"
      ]
    },
    {
      "cell_type": "code",
      "execution_count": null,
      "metadata": {
        "id": "dztiMCWdnNlz"
      },
      "outputs": [],
      "source": [
        "# Seleccionar variables\n",
        "#cols = ['mean radius', 'mean texture', 'mean smoothness']\n",
        "#cols = ['mean radius', 'mean perimeter', 'mean area']\n",
        "cols = ['mean radius', 'mean texture', 'mean area']"
      ]
    },
    {
      "cell_type": "code",
      "execution_count": null,
      "metadata": {
        "colab": {
          "base_uri": "https://localhost:8080/"
        },
        "id": "2WO0Iv4NnUPL",
        "outputId": "14cf0ebb-4c9d-4dd6-de3f-0ad34a3a9d3e"
      },
      "outputs": [
        {
          "output_type": "stream",
          "name": "stdout",
          "text": [
            "2.1695375718721426\n",
            "0.012660960490997804\n",
            "0.8230831577777059\n"
          ]
        }
      ],
      "source": [
        "# Calcular matriz de covarianza S\n",
        "S = np.matrix(df[cols].cov())\n",
        "# Calcular valores y vectores propios de la matriz\n",
        "eigenvalues, eigenvectors = np.linalg.eig(S)\n",
        "for eigenvalue in eigenvalues:\n",
        "  print(eigenvalue)\n",
        "# Ordenar vectores propios por su valor propio\n",
        "order = np.argsort(eigenvalues)[::-1]\n",
        "eigenvalues = eigenvalues[order]\n",
        "eigenvectors = eigenvectors[:, order]"
      ]
    },
    {
      "cell_type": "code",
      "source": [
        "eigenvalues"
      ],
      "metadata": {
        "colab": {
          "base_uri": "https://localhost:8080/"
        },
        "id": "V2yON_gD88Ew",
        "outputId": "56e77a05-74c7-42fa-e022-edf5ff0cdc16"
      },
      "execution_count": null,
      "outputs": [
        {
          "output_type": "execute_result",
          "data": {
            "text/plain": [
              "array([2.16953757, 0.82308316, 0.01266096])"
            ]
          },
          "metadata": {},
          "execution_count": 7
        }
      ]
    },
    {
      "cell_type": "code",
      "execution_count": null,
      "metadata": {
        "colab": {
          "base_uri": "https://localhost:8080/",
          "height": 542
        },
        "id": "JP5U3Lomngc3",
        "outputId": "d2bde25c-c619-4a23-b1d8-18ee87349f3b"
      },
      "outputs": [
        {
          "data": {
            "text/html": [
              "<html>\n",
              "<head><meta charset=\"utf-8\" /></head>\n",
              "<body>\n",
              "    <div>            <script src=\"https://cdnjs.cloudflare.com/ajax/libs/mathjax/2.7.5/MathJax.js?config=TeX-AMS-MML_SVG\"></script><script type=\"text/javascript\">if (window.MathJax && window.MathJax.Hub && window.MathJax.Hub.Config) {window.MathJax.Hub.Config({SVG: {font: \"STIX-Web\"}});}</script>                <script type=\"text/javascript\">window.PlotlyConfig = {MathJaxConfig: 'local'};</script>\n",
              "        <script charset=\"utf-8\" src=\"https://cdn.plot.ly/plotly-2.24.1.min.js\"></script>                <div id=\"fae1b284-0f18-45e8-a93e-add6bc57f127\" class=\"plotly-graph-div\" style=\"height:525px; width:100%;\"></div>            <script type=\"text/javascript\">                                    window.PLOTLYENV=window.PLOTLYENV || {};                                    if (document.getElementById(\"fae1b284-0f18-45e8-a93e-add6bc57f127\")) {                    Plotly.newPlot(                        \"fae1b284-0f18-45e8-a93e-add6bc57f127\",                        [{\"hovertemplate\":\"color=blue\\u003cbr\\u003emean radius=%{x}\\u003cbr\\u003emean texture=%{y}\\u003cbr\\u003emean area=%{z}\\u003cextra\\u003e\\u003c\\u002fextra\\u003e\",\"legendgroup\":\"blue\",\"marker\":{\"color\":\"#636efa\",\"symbol\":\"circle\",\"size\":2},\"mode\":\"markers\",\"name\":\"blue\",\"scene\":\"scene\",\"showlegend\":true,\"x\":[1.0970639814699807,1.8298206075464458,1.5798881149312178,-0.7689092872596208,1.7502966326234184,-0.47637466522134253,1.170907672469935,-0.11851677806771978,-0.32016685733682465,-0.4735345232598054,0.537556015047254,0.4693926079703736,1.4322007329313104,0.48927360170113043,-0.11283649414464653,0.11721500473982457,0.15697699220133832,0.5687975766241574,1.6139698184696574,0.3444263616627596,1.9973889832771101,0.7164849586240649,0.8556519147393631,0.12857557258597158,1.2731527830852554,0.33306579381661305,0.9777780190854404,1.2788330670083286,-0.6496233248750801,0.8215702112009226,1.4606021525466766,0.5687975766241574,0.742046236277895,0.034850887855260956,0.24502139300897569,-0.18384004318306366,-0.19520061102921066,-0.9023959594518453,1.4037993133159432,-0.24064288241379767,-0.271884443990701,1.284513350931402,-0.271884443990701,1.1623872465853244,0.2762629545858791,1.4435613007774568,0.1654974180859487,0.034850887855260956,-0.41105140010599867,0.18537841181670509,1.3668774678159665,0.8726927665085827,-0.09295550041388966,0.5517567248549377,1.1141048332392014,1.719055071046515,3.1504866196610037,1.4123197392005535,1.2305506536622055,0.10017415297060484,1.3895986035082595,0.3529467875473694,0.2649023867397326,1.741776206738809,0.08313330120138458,-0.14691819768308703,-0.28892529575992126,2.312644741007682,0.2109396894705352,0.4693926079703736,1.0857034136238342,1.287353492892939,2.874992849391946,-0.14691819768308703,1.3839183195851863,1.6082895345465842,0.37850806520120006,0.5773180025087679,1.2277105117006684,-0.3854901224521685,0.23366082516282868,0.5631172927010841,-0.6609838927212266,1.0090195806623439,1.4378810168543836,1.5514866953158506,2.5966589371613504,0.7534068041240426,0.9493765994700731,-0.19804075299074728,0.37850806520120006,0.6625222613548686,3.718515011968341,1.9775079895463534,0.4466714722780801,0.3273855098935393,1.1879485242391545,0.026330461970651087,-0.5076162267982459,0.20809954750899856,-0.10147592629850004,1.1226252591238108,1.4350408748928465,0.09165372708599445,0.96925759320083,2.602339221084424,-0.09011535845235304,0.2819432385089523,0.8187300692393864,1.832660749507982,3.971287646545106,0.9351758896623905,0.017810036086040707,-0.07591464864466992,1.6111296765081213,1.5344458435466308,0.4608721820857637,-0.36844927068294825,0.8300906370855329,1.812779755777226,2.5796180853921307,1.8042593298926157,0.946536457508537,1.4975239980466533,1.9349058601233036,1.5912486827773644,0.90109418612395,1.5117247078543368,-0.04751322902930266,1.5401261274697042,0.3387460777396863,0.43531090443193354,0.3983890589319564,1.7559769165464916,0.9152948959316337,0.898254044162413,0.4211101946242499,0.8698526245470467,1.8752628789310328,2.1649573590077744,1.080023129700761,1.329955622315989,1.4293605909697733,1.4975239980466533,0.6000391382010608,-0.6723444605673736,1.5344458435466308,1.6934937933926848,1.1623872465853244,1.7133747871234417,1.764497342431102,0.6085595640856711,0.6057194221241351,0.5403961570087912,0.832930779047069,1.3185950544698424,2.6648223442382317,1.5770479729696807,0.4608721820857637,3.295333859699375,0.27058267066280584,1.7928987620464691,1.7247353549695883,2.153596791161628,2.2388010500077287,0.6312806997779652,2.0570319644693806,1.8497016012772027,-0.8654741139518681,0.13425585650904484,1.5401261274697042,0.38702849108580994,2.125195371546261,1.0743428457776876,1.0970639814699807,0.28478338047048946,0.38986863304734654,0.21946011535514556,1.719055071046515,1.332795764277526,-0.04183294510622941,0.8925737602393397,1.1084245493161282,1.0289005743931006,1.9803481315078906,1.5514866953158506,0.8386110629701423,3.7753178511990755,0.9862984449700508,0.602879280162598,1.5088845658928007,0.7278455264702124,1.1027442653930548,1.239071079546815,1.835500891469519,-0.0872752164908164,2.5455363818536902,0.37850806520120006,-0.20656117887535716,0.26206224477819595,1.1879485242391545,1.6366909541619514,2.9829182439303397,1.8014191879310786,1.8241403236233726,0.04053117177833421,0.31034465812431955,1.9292255762002302,2.110994661738577,1.7048543612388314,0.7022842488163823,1.8383410334310561],\"y\":[-2.0733350146975935,-0.35363240824381126,0.4561869517641946,0.25373211176219296,-1.1518164326195182,-0.8353353034209873,0.1606494267038018,0.3584501324528832,0.5888297779724025,1.105438680046475,0.9192733099296918,-0.3257076027262936,1.2822957816574192,1.084495075908337,0.7726680809627255,1.9199121743074004,0.19555543360069827,0.3235441255559867,0.6656229931455752,-1.1704329696311964,0.8727319674004963,0.4864388244081716,-0.6724406045688023,0.5213448313050689,0.22348023911821593,1.3916679366010287,-0.986594666640873,1.354434862577672,-0.13721516548305118,1.0914762772877165,1.670915991776203,-0.32803466985275376,0.5353072340638273,0.5655591067078043,1.3753784667158102,0.35612306532642385,0.5329801669373672,0.4794576230287928,1.2846228487838784,0.23046144049759557,0.5865027108459424,-0.39319254939362724,-0.14652343398889012,-0.13721516548305118,0.6353711205015982,-0.16746703812702818,0.5353072340638273,0.6656229931455752,1.0588973375172794,1.0821680087818775,0.47014935452295303,1.2171379021165447,-0.8143916992828492,0.0838562115306284,-0.730617282730297,1.0891492101612563,1.3078935200484767,1.629028783499927,-0.17910237375932728,0.5050553614198503,1.2334273720017634,0.8075740878596228,0.1257434198069045,0.8704049002740369,0.11178101704814608,1.3241829899336952,-0.867914243191424,0.0885103457835487,-0.6096097921543874,0.8424800947565193,0.16763062808318144,-0.5048917714636971,0.21184490348591684,1.2566980432663617,-0.08834675582739546,1.3567619297041325,0.04429607038081246,0.5236718984315283,0.6097733821105406,0.7400891411922883,-0.4001737507730069,-0.288474528702937,-0.6305533962925262,0.33750652831474515,-0.7794856923859523,-0.26520385743833963,0.6400252547545175,-0.11394449421845299,1.2543709761399013,0.07920207727770893,-1.7219478786021658,0.1909012993477788,0.6004651136047017,1.6941866630408013,0.23744264187697436,0.7261267384335299,-0.16513997100056885,0.891348504412175,1.7616716097081349,0.9122921085503131,0.6982019329160123,0.593483912225322,0.7447432754452078,0.21649903773883633,0.007062996357455837,1.7174573343053994,1.0379537333791413,-0.607282725027928,0.2258073062446761,0.6632959260191158,-0.19073770939162638,1.4591528832683625,1.0519161361378997,-0.5491060468664334,0.5283260326844477,3.0671562676520754,0.22348023911821593,0.7075102014218512,-0.04878661467757951,1.9827429867218145,1.7872693480991924,0.5050553614198503,4.651888980771191,0.9797770552176467,0.9937394579764051,0.12341635268044518,-0.5142000399695369,0.00939006348391516,-0.5211812413489156,2.2061414308619542,-0.46998576456680063,0.9099650414238529,3.320806584436193,1.8082129522373305,0.8773861016534158,0.6609688588926557,0.02102539911621426,0.6470064561338972,2.7530022055800045,0.3956832064762398,1.207829633610706,0.1606494267038018,1.7011678644201809,-0.25822265605896,-0.1209256955978326,-0.26753092456479893,-0.0906738229538556,1.0635514717701988,-0.0976550243332344,0.08618327865708855,0.5166906970521494,0.33052532693536635,0.6027921807311609,-0.8795495788237231,0.39801027360269997,0.4980741600404707,1.1589612239550502,0.5562508382019654,-0.016207674907142363,-0.4257714891640644,1.5010400915446385,0.5795215094665636,1.7546904083287553,-0.4746398988197201,0.6074463149840804,0.9309086455619909,-0.9749593310085743,-0.4513692275551219,-0.10696329283907419,0.9309086455619909,0.9122921085503131,0.15832235957734164,0.6958748657895529,0.4026644078556194,0.3188899913030672,2.448156412013772,0.41662681061437784,0.7540515439510476,0.05825847313957088,0.623735784869299,0.0768750101512496,1.426573943497926,-0.5677225838781113,2.0339384635039304,0.2863110515326301,1.3288371241866146,1.8291565563754686,1.6243746492470075,0.9402169140678299,0.05127727176019208,-0.1092903599655335,0.21184490348591684,0.295619320038469,-0.41180908640530595,0.45385988463773447,1.2101567007371652,0.1257434198069045,1.084495075908337,0.2863110515326301,-0.05111368180403884,0.3002734542913885,0.2258073062446761,0.5376343011902875,0.3212170584295274,0.3654313338322628,0.7587056782039671,2.636648849257015,1.3497807283247527,0.7214726041806104,2.0851339402860454,2.045573799136229,2.336457189943702],\"z\":[0.9843749048031144,1.9087082542365938,1.5588836327586924,-0.7644637923250287,1.826229278440991,-0.5056504544836544,1.0952949067351319,-0.21896491102859386,-0.38420727288116363,-0.5090633776200244,0.40645325371116653,0.3586723298019898,1.3313554236673744,0.36350730424518046,-0.21782726998313734,0.011122990415001428,0.08421642758558748,0.40929735632480796,1.7209974817362566,0.14081406959705278,2.130548258100629,0.7102034128480763,0.7332406440185723,-0.028694446175979226,1.2488764478717715,0.22044894277901408,0.8538305948369708,1.2318118321899227,-0.6094601998815683,0.6951296689957762,1.442275425599392,0.4331878182793966,0.6103754111092604,-0.06225485701694851,0.12488709496066044,-0.27214962990368924,-0.2613420399718518,-0.8071253315296508,1.2773174740081863,-0.31196706649466993,-0.35093127230155824,1.1976826008262251,-0.3421145541992696,1.0753861884396416,0.1647045315516411,1.4138343994629772,0.005719195449082689,-0.026134753823701642,-0.44336460724490623,0.03814196524459544,1.3512641419628648,0.7807371576663847,-0.2013314748240166,0.46305089572263214,0.9985954178713218,1.6783359425316344,3.4786528969666883,1.3569523471901477,1.1948384982125837,-0.01902449728959795,1.1976826008262251,0.2085037118017201,0.14422699273342268,1.7323738921908225,-0.03523588218735449,-0.2053132184831146,-0.35462860569929205,2.429179032532984,0.07852822235830452,0.3632228939838163,0.9303369551439263,1.2005267034398666,3.145892891170636,-0.23403865488089357,1.3740169628719965,1.5275985040086362,0.26737663590409844,0.4405824850748642,1.1948384982125837,-0.4226026581653234,0.0660141708582821,0.44968361343851704,-0.6339194823588851,0.8782898773142875,1.4280549125311846,1.5901687615087488,2.9325851951475252,0.6581563350184371,0.9377316219393943,-0.2545161936991123,0.23324740454040072,0.5062812554499824,4.536659069241317,1.8660467150319717,0.3177172521655527,0.15844750580163006,1.0981390093487735,-0.12795362739206664,-0.5047972236995621,0.046958683346884085,-0.18767978227853763,1.0497892649168683,1.4024579890084112,-0.03466706166462607,0.8438762356892257,2.9297410925338836,-0.16236726901712856,0.1755121214834789,0.7093501820639836,1.8063205601455008,5.244840620038045,0.8336374662801163,-0.12567834530115327,-0.21612080841495238,1.6356744033270123,1.6157656850315218,0.30264350831325265,-0.43141937626761206,0.682900027757118,1.8887995359411036,2.8870795533292615,1.8518262019637644,0.7557090546663399,1.4223667073039017,2.01678415355497,1.5674159405996169,0.7773242345300152,1.4621841438948824,-0.1492843969943777,1.5702600432132583,0.16612658285846182,0.33734156019967876,0.25600022544953255,1.800632354918218,0.7912603373368583,0.8330686457573878,0.29496443125642086,0.777608644791379,2.173209797305251,2.377985185487437,0.9784022893144673,1.2716292687809034,1.3740169628719965,1.393925681167487,0.4272152027907495,-0.6364791747111623,1.598701069349673,1.6840241477589173,1.0583215727577928,1.7608149183272372,1.7323738921908225,0.4516744852680662,0.4889322295067693,0.393370381688416,0.7500208494390569,1.2431882426444887,3.106075454579655,1.5332867092359193,0.29496443125642086,3.854074441967363,0.1755121214834789,1.8148528679864253,1.6470508137815782,2.5344108292377183,2.352388261964664,0.5276120250522934,2.0793544110550823,1.9343051777593672,-0.8341443063592449,0.02790319583548639,1.4764046569630898,0.25543140492680444,2.1390805659415535,0.9644661865076241,0.9579247504962488,0.1837600190630391,0.4215269975634665,0.0856384788924082,1.6925564555998418,1.2943820896900353,-0.15753229457393794,0.7790306960981997,0.9530897760530582,0.9291993140984699,2.0736662058277995,1.5247544013949947,0.7850033115868469,5.250528825265327,0.9260708012234642,0.45764710075671305,1.4564959386675993,0.576530590006927,1.0014395204849633,1.1749297799170932,1.891643638554745,-0.1677710639830473,2.921208784692959,0.21732042990400838,-0.2792598864377929,0.13370381306294907,1.1294241380988297,1.5901687615087488,3.373421100261954,1.8319174836682741,1.8575144071910474,-0.07135598538060135,0.17636535226757122,1.968434409123065,2.3438559541237396,1.723841584349898,0.5779526413137477,1.735217994804464],\"type\":\"scatter3d\"},{\"hovertemplate\":\"color=red\\u003cbr\\u003emean radius=%{x}\\u003cbr\\u003emean texture=%{y}\\u003cbr\\u003emean area=%{z}\\u003cextra\\u003e\\u003c\\u002fextra\\u003e\",\"legendgroup\":\"red\",\"marker\":{\"color\":\"#EF553B\",\"symbol\":\"circle\",\"size\":2},\"mode\":\"markers\",\"name\":\"red\",\"scene\":\"scene\",\"showlegend\":true,\"x\":[-0.16679919141384392,-0.29744572164453115,-1.3130804870900499,-0.31164643145221477,-1.684571055659048,-0.5899803436828095,-0.18099990122152704,-0.6723444605673736,-0.13839777179847665,-0.6212219052597133,-0.7405078676442541,-0.30596614752914103,-1.5647170648821997,-1.1239270324517066,-1.5703973488052732,-1.407089186016914,-1.3241570407400427,-0.8001508488365242,-1.4479872302630423,-0.38264998049063187,-1.4880332319207095,-0.5161366526828558,-0.16963933337538054,-0.3599288447983384,-0.760388861375011,-0.2236020306445774,-0.6041810534904931,-0.5019359428751726,0.14561642435519184,0.13993614043211808,-0.24348302437533428,-0.19236046906767404,-0.5530584981828329,-1.2327044695785612,-0.7177867319519606,-2.029648303985755,-0.5530584981828329,-1.207427206120885,-1.0330424896825325,-0.7064261641058136,-0.5019359428751726,-0.7916304229519143,-1.2355446115400983,-0.4252521099136818,0.03769102981679758,-1.0273622057594591,-1.5340435316976035,-0.62406204722125,-1.4704243517591822,-0.7717494292211575,0.10585443689367809,-0.21508160475996752,-0.07875479060620653,0.2762629545858791,-0.5502183562212962,0.44951161423961716,-0.6865451703750568,-0.7660691452980842,-0.8086712747211346,-1.2466211651900914,-0.7660691452980842,-0.3485682769521914,-0.9591987986825787,-0.6325824731058599,0.23366082516282868,0.08881358512445783,-0.10999635218310991,-0.32016685733682465,-1.6780387291475138,-1.248609264563167,-0.8455931202211112,-0.2775647279137743,-0.533177504452076,0.7704476558932623,-0.5871402017212729,-0.9165966692595283,-0.6751846025289102,-0.5076162267982459,0.23934110908590245,-0.9449980888748951,0.23934110908590245,-0.5132965107213191,-0.8654741139518681,-0.9847600763364088,-1.5496643124860556,-1.1994748086285822,-0.317326715375288,-0.37412955460602154,-0.7717494292211575,-1.1494883101055366,-0.6865451703750568,-0.65814375075969,-0.5189767946443924,-0.3854901224521685,-1.251733420720857,-0.34572813499065475,-0.5388577883751493,-0.47069438129826874,-1.207427206120885,-0.28892529575992126,0.32454536793200267,-0.6496233248750801,-0.6354226150673965,-1.1154066065670967,-0.13555762983694003,-0.16111890749077015,-1.1210868904901699,-0.24348302437533428,0.06041216550909108,-1.047243199490216,0.24786153497051233,-0.4280922518752189,-0.7973107068749876,-0.8257121264903544,-1.2951875927323686,-0.02763223529854629,0.026330461970651087,-0.13839777179847665,-0.4848950911059524,-0.8029909907980609,-0.10715621022157329,-1.035882631644069,-0.26336401810609117,-0.35140841891372804,-0.9876002182979455,-0.7405078676442541,-0.7461881515673273,-1.001800928105629,-0.15259848160616027,-0.3570887028368018,-0.9705593665287252,0.04621145570140746,-0.805831132759598,-1.2454851084054763,-0.6354226150673965,-0.794470564913451,-0.15259848160616027,-0.07875479060620653,-0.6780247444904469,-0.35140841891372804,-0.4394528197213654,-0.6212219052597133,-0.35140841891372804,-0.8143515586442078,-0.7831099970673044,0.08029315923984795,0.23650096712436583,-0.33436756714450827,-0.6467831829135435,-0.39969083225985164,-0.10147592629850004,-0.9137565272979917,0.03769102981679758,-1.0273622057594591,-0.4735345232598054,-1.0330424896825325,-0.7575487194134739,-0.7177867319519606,-0.26336401810609117,-1.4562236419514987,-0.1781597592599904,-0.30596614752914103,-0.6893853123365938,0.13709599847058146,-0.38833026441370516,-0.7348275837211808,-1.5706813630014271,-0.4650140973751955,-0.5530584981828329,-1.4442950457130446,-0.48205494914441577,-1.101205896759413,-0.3599288447983384,-0.5473782142597596,-0.41389154206753526,-0.0049110996062527905,-0.5956606276058832,-0.3258471412598979,-0.8257121264903544,-0.8171917006057445,-0.5189767946443924,-0.3230069992983613,-1.1580087359901465,0.08313330120138458,-1.2841110390823756,-0.8711543978749413,-0.6865451703750568,-1.0983657547978765,-0.5871402017212729,0.17969812789363182,-0.7547085774519372,-0.6183817632981767,-0.7007458801827404,-0.8484332621826479,-0.44513310364443864,-0.30596614752914103,-0.07307450668313328,-1.4908733738822462,-1.332393452428499,-0.4508133875675124,-0.2349625984907239,-0.38833026441370516,0.673882829201015,-0.20656117887535716,-0.5445380722982225,0.30182423223970917,-0.12419706199079353,0.5801581444703049,-1.010321353990239,-0.1895203271061369,-0.1327174878754034,-0.8115114166826712,-0.8768346817980152,-0.5899803436828095,-0.49341551699056224,-0.24064288241379767,-0.5445380722982225,-0.07023436472159615,-0.8115114166826712,-1.0983657547978765,-1.5317714181283744,-0.5757796338751264,-0.01911180941393591,-0.17531961729845377,-0.37696969656755813,-0.8711543978749413,-0.6609838927212266,-0.62406204722125,-0.3315274251829711,-0.3372077091060449,-0.5076162267982459,-0.9052361014133818,0.5716377185856946,-0.362768986759875,-0.5274972205290027,-0.7859501390288411,-0.8768346817980152,-1.343470006078492,0.24502139300897569,-0.6354226150673965,-1.3411978925092631,-0.4053711161829254,-0.8427529782595746,-0.7263071578365705,0.15981713416287496,-0.714946589990424,-0.1327174878754034,-1.2454851084054763,-1.1636890199132202,-1.035882631644069,-0.9449980888748951,-0.8512734041441845,-0.39969083225985164,-0.49057537502902565,0.20809954750899856,-0.3570887028368018,-0.024792093337009664,-0.07875479060620653,-0.030472377260082912,-0.8967156755287715,-0.0986357843369634,-1.010321353990239,-0.6070211954520297,0.19105869573977882,0.11437486277828796,-0.6411028989904702,-0.6041810534904931,0.11437486277828796,-0.4280922518752189,-0.2122414627984304,-0.7092663060673502,-0.260523876144554,-0.32016685733682465,-1.2417929238554786,0.07745301727831133,-0.7177867319519606,-0.271884443990701,-0.25200345025994414,-0.2804048698753109,-1.2665021589208483,-0.7121064480288873,-1.2667861731170018,-0.5928204856443466,0.22514039927821883,-0.5274972205290027,-0.9222769531826016,-0.36844927068294825,0.020650178047577333,-0.06455408079852291,-0.749028293528864,-0.5587387821059061,-0.06455408079852291,-0.18668018514460027,-0.12135692002925691,0.45519189816269046,-0.47637466522134253,0.14561642435519184,-0.6950655962596671,-0.533177504452076,1.0573019940084678,-0.4735345232598054,-0.27472458595223764,0.2109396894705352,-0.4195718259906085,-0.47069438129826874,0.2592221028166588,-0.4508133875675124,-1.3801078373823152,-1.2642300453516186,-0.5416979303366859,-0.8711543978749413,0.6170799899702816,-0.6780247444904469,0.19389883770131544,0.12857557258597158,-0.7916304229519143,-0.35424856087526463,-0.39117040637524175,-1.3724394540861664,-0.8143515586442078,-0.11851677806771978,-1.2156636178093414,-1.5780657321014224,-0.1895203271061369,-0.5076162267982459,-0.05319351295237641,-0.5843000597597362,-0.6751846025289102,-0.6979057382212037,-0.12703720395233015,-0.8995558174903081,-0.6922254542981305,-1.8172056852628111,-1.8279982247166506,-0.7348275837211808,0.0973340110090682,0.17401784397055858,-0.260523876144554,-0.07307450668313328,-0.1440780557215504,-1.081324903028656,-1.0983657547978765,-1.262241945978543,-0.9393178049518218,-0.9279572371056753,-0.8512734041441845,-0.3854901224521685,-1.361646914632327,-0.35424856087526463,-1.0898453289132666,-1.126767174413243,-1.3360856369784968,0.1314157145475082,-0.7433480096057907,-0.021951951375472536,-0.8313924104134282,-1.8084012451820475],\"y\":[-1.1471622983665986,-0.833008236294527,-1.5939591866468776,-0.20237304502392464,-0.5700496510045714,-1.084331485952184,0.7005290000424724,0.5376343011902875,-0.6864030073275608,-0.24426025330020157,-0.12557982985075208,0.004735929230995686,-1.7452185498667638,-1.0261548077906895,0.3933561393497805,-1.263515654689588,0.4003373407291601,-0.05809488318341846,-0.4560233618080422,-0.6514970004306643,-1.0820044188257243,-0.6445157990512846,-1.9430192556158457,-0.30010986433523607,0.39102907222332034,-0.7981022293976306,-0.846970639053286,0.584175643719483,-0.9423803912381372,1.1007845457935554,-1.054079613308207,-0.2302978505414423,-0.3373429383585927,0.15134115819796284,-1.5008765015884862,-1.3635795411273588,0.2863110515326301,0.025679533369133735,8.179497807621169e-05,-0.2233166491620635,-0.1744482395064078,0.4585140188906548,-0.5351436441076749,0.3421606625676654,0.0838562115306284,0.20951783635945753,-0.8050834307770098,0.5213448313050689,-0.8213729006622283,-1.9709440611333628,-1.9546545912481443,-0.6747676716952616,-0.48394816732555906,-0.6747676716952616,-1.3961584808977958,-1.2472261848043693,-0.6096097921543874,-0.9074743843412403,-1.3728878096331978,-1.7033313415904874,-0.4606774960609617,-0.7841398266388717,-1.0052112036525513,-1.0796773516992646,-0.1209256955978326,-0.956342793996896,-0.3210534684733741,0.3468147968205849,0.3281982598089062,-0.9191097199735394,-1.4450268905534511,-0.9191097199735394,-0.3140722670939945,0.039641936127892984,-1.524147172853084,-1.4729516960709685,0.20719076923299737,0.6819124630307937,0.10945394992168675,-2.229248512170399,-0.5444519126135139,-1.6055945222791763,-1.0657149489405058,-0.9633239953762752,-1.1262186942284607,-0.2861474615764777,0.6819124630307937,-1.4496810248063707,-1.0168465392848505,-0.9726322638821147,-0.4886023015784785,-0.44206095904928294,-0.7887939608917912,0.49342002578755123,-0.24891438755312104,-0.6887300744540209,0.06291260739249036,-0.16048583674764855,-0.46998576456680063,0.7563786110775069,-1.4845870317032674,-0.08136555444801583,-0.2186625149091432,-0.4211173549111449,-1.426410353541773,-1.2542073861837486,-0.4094820192788458,-0.5281624427282953,-1.3542712726215194,-0.8911849144560218,-0.8795495788237231,1.0891492101612563,1.8128670864902499,3.3789832625976874,-0.7864668937653315,0.4561869517641946,1.9920512552276544,-0.858605974685585,-0.9889217337673332,-0.25589558893249986,1.0426078676320607,0.13272462118628411,-0.432752690543444,-1.2053389765280933,1.3800326009687298,-1.0145194721583908,-0.19539184364454584,-0.07903848732155651,0.593483912225322,-0.7166548799715378,0.2560591788886531,-0.5747037852574909,-1.4543351590592906,-0.8423165048003665,-0.4490421604286626,-1.1937036408957942,-0.3373429383585927,-0.956342793996896,-1.2262825806662314,-0.8353353034209873,-0.20702717927684494,0.3421606625676654,-1.4357186220476121,0.1559952924508823,-0.09300089008031492,0.10247274854230713,-0.044132480424659205,-0.760869155374274,-0.4257714891640644,-1.2821321917012662,-1.4008126151507154,-1.6149027907850158,-0.2605497231854193,0.8843673030327953,0.13970582256566375,-0.15815876962118922,-0.2628767903118795,1.2101567007371652,-0.8074104979034695,-1.1378540298607593,-1.531128374232463,-1.2681697889425074,-0.04180541329819989,-0.837662370547447,-1.3775419438861176,-1.9942147323979607,-0.16048583674764855,-0.5677225838781113,-1.2123201779074726,-0.0906738229538556,-0.5328165769812148,-0.7236360813509174,-1.3891772795184163,-0.9493615926175164,-0.463004563187421,-1.4915682330826467,-0.3163993342204547,0.014044197736835462,0.13272462118628411,-1.0494254790552875,-0.06274901743633793,-1.1774141710105757,-0.4094820192788458,-0.6398616647983651,-0.5700496510045714,-1.007538270779011,-0.8935119815824819,-1.0657149489405058,-0.0906738229538556,-1.0587337475611265,-0.7585420882478138,-1.007538270779011,-0.5165271070959963,-1.2146472450339323,-0.05111368180403884,-0.1628129038741087,-0.7166548799715378,-0.8842037130766426,-0.22564371628852284,-0.2838203944500175,0.5306530998109079,-0.10463622571261402,-0.23262491766790247,-0.5444519126135139,-0.2954557300823166,-1.4147750179094738,-0.7492338197419749,-0.7492338197419749,0.21649903773883633,2.0758256717802066,-0.9633239953762752,-1.4729516960709685,-1.0145194721583908,0.798265819353783,-0.4211173549111449,-1.2960945944600246,-1.2099931107810127,-0.7282902156038368,-0.8818766459501828,-1.6451546634289926,-0.5700496510045714,-0.3652677438761104,-0.4909293687049387,-0.09300089008031492,-0.4257714891640644,-1.0377901434229886,-0.47231283169325994,-1.950000456995225,-0.23262491766790247,-0.7259631484773766,-1.0098653379054712,-0.1628129038741087,-1.0308089420436093,0.4841117572817123,-0.318726401346914,-0.4001737507730069,-0.5723767181310315,0.5562508382019654,0.6563147246397362,0.43757041475251673,0.5609049724548849,-1.6567899990612918,0.49342002578755123,-0.05809488318341846,-1.2355908491720702,-0.760869155374274,-0.037151279045280414,-0.03947834617173973,0.46316815314357423,-1.0028841365260917,0.6260628519957592,-0.6212451277866864,-0.3769030795084087,-0.3745760123819493,-0.5467789797399732,0.05825847313957088,-0.7701774238801129,0.07222087589833014,-0.8446435719268262,-0.4862752344520192,-0.8143916992828492,-0.22564371628852284,1.303239385795557,-0.3792301466348688,0.01171713061037531,0.5236718984315283,2.080479806033126,-1.2355908491720702,-0.49791057008431827,2.6599195205216124,2.327148921437863,1.3870138023481093,1.3590889968305917,2.0734986046537465,1.791923482352112,-0.2163354477826839,-0.24891438755312104,0.19555543360069827,0.33750652831474515,-0.27683919307063787,-0.25822265605896,-0.1860835751387069,2.059536201894988,-1.0145194721583908,2.4853894860371284,-0.8539518404326656,-0.8283541020416076,0.2886381186590902,-0.6212451277866864,-1.0936397544580234,-0.2931286629558565,-0.011553540654222887,-1.216974312160392,-0.3838842808877883,-1.863898973316213,-0.6701135374423421,-0.5677225838781113,-0.7259631484773766,0.7331079398129096,-1.4101208836565542,-1.5032035687149459,0.2909651857855496,0.214171970612377,-0.2605497231854193,-0.4606774960609617,-0.5933203222691696,-0.6910571415804803,-1.4938953002091069,-1.4310644877946923,0.17461182946256024,-0.5048917714636971,-0.8353353034209873,-1.0703690831934256,-1.068042016066966,-1.3100569972187834,-0.15815876962118922,-0.24891438755312104,-0.6026285907750085,-1.2542073861837486,0.1257434198069045,-0.14186929973597065,-0.8399894376739067,-1.4403727563005317,-0.12557982985075208,-1.633519327796694,-1.4240832864153132,-1.3612524740008989,-0.402500817899467,0.16995769520964074,-0.6887300744540209,-0.38853841514070775,1.198521365104867,1.442863413383144,1.4312280777508457,-1.1285457613549204,1.3265100570601545,1.426573943497926,2.040919664883309,0.3281982598089062,0.9169462428032326,-0.6840759402011006,-0.6305533962925262,0.01171713061037531,1.1449988211962918,0.5097094956727698,0.7331079398129096,2.3597278612083,0.6167545834899202,2.2410474377588514,1.9362016441926189,0.06989380877186999,1.999032456607033,0.7889575508479441,1.0798409416554173,1.8291565563754686,2.3457654584495415,1.2217920363694643],\"z\":[-0.25195650134683506,-0.38363845235843524,-1.0835721055756025,-0.37283086242659774,-1.2883474937577886,-0.5847165071428875,-0.2670302451991347,-0.6455803030748152,-0.23631393697180691,-0.6179925077224927,-0.699333842472639,-0.36316091354021646,-1.2240707746894912,-0.9754962062572263,-1.2317498517463232,-1.1205454395529415,-1.096370567336989,-0.7417109714158969,-1.150124106734813,-0.43341024809716105,-1.1686107737234823,-0.5232838906882318,-0.27214962990368924,-0.4226026581653234,-0.72066461207495,-0.38363845235843524,-0.6017811228247364,-0.5369355832337107,-0.008501317619124687,0.02221499060820344,-0.2934803995060003,-0.28381045061961935,-0.5795971224383328,-1.024983591734588,-0.6890950730635296,-1.4544430863944506,-0.5579819425746577,-1.0141760018027504,-0.9066689230071024,-0.6893794833248938,-0.5352291216655259,-0.7348851251431574,-1.0372132329732462,-0.4962649158586377,-0.07107157511923715,-0.9120727179730214,-1.2058685179621857,-0.6151484051088513,-1.1651978505871128,-0.7155452273703954,-0.04035526689190902,-0.2883610148014458,-0.18824860280126574,0.05577540144917272,-0.566229840154218,0.3037811493587095,-0.6578099443134734,-0.7254995865181405,-0.7681611257227626,-1.0420482074164368,-0.7306189712226953,-0.4058224527448386,-0.8520621528251862,-0.6316442002679719,0.09843694065379485,-0.04206172846009397,-0.19877178247173932,-0.3853449139266202,-1.2826592885305057,-1.0087722068368314,-0.7764090233023231,-0.3298849129606114,-0.5534313783928313,0.6408073090752243,-0.5867073789724365,-0.8193549727683093,-0.668617534245311,-0.5414861474155371,0.10042781248334401,-0.8455207168138108,0.08819817124468547,-0.5426237884609937,-0.8025747673478246,-0.8682735377229426,-1.2163916976326592,-1.0025151810868203,-0.36543619563112983,-0.4154924016312197,-0.7192425607681293,-0.959569231620834,-0.6671954829384903,-0.6427362004611737,-0.5437614295064503,-0.4194741452903179,-1.0431858484618932,-0.3938772217675446,-0.5514405065632823,-0.4919987619381755,-1.0224238993823107,-0.35690388779020543,0.20082463474488796,-0.6452958928134509,-0.6333506618361567,-0.9490460519503605,-0.24456183455136715,-0.26617701441504243,-0.9720832831208565,-0.30855414335830034,-0.03893321558508828,-0.9251555899957721,0.08421642758558748,-0.4507592740403741,-0.7371604072340706,-0.7624729204954797,-1.067360720677846,-0.14644029438073625,-0.08813619080108599,-0.22635957782406177,-0.5073569160518394,-0.7550782537000119,-0.18455126940353195,-0.9021183588252762,-0.32220583590377927,-0.4058224527448386,-0.8756682045184104,-0.707012919529471,-0.7038844066544654,-0.8773746660865954,-0.2670302451991347,-0.4058224527448386,-0.8816408200070576,-0.06339249806240503,-0.75905999735911,-1.0380664637573387,-0.6236807129497757,-0.7346007148817932,-0.2348918856649862,-0.19194593619899986,-0.647286764643,-0.3933084012448162,-0.471805633381321,-0.6083225588361117,-0.39529927307436535,-0.7417109714158969,-0.7363071764499781,-0.01106100997140195,0.09217991490378348,-0.4015562988243764,-0.631928610529336,-0.4629889152790323,-0.2053132184831146,-0.8281716908705978,-0.061970446755584295,-0.9120727179730214,-0.522146249642775,-0.9117883077116572,-0.7161140478931236,-0.676012201040779,-0.3344354771424378,-1.162069337712107,-0.25224091160819895,-0.3534909646538355,-0.6717460471203167,0.028472016358214492,-0.42885968391533463,-0.6990494322112748,-1.233456313314508,-0.4928519927222678,-0.5503028655178257,-1.1671887224166617,-0.5050816339609262,-0.9405137441094361,-0.42686881208578564,-0.5602572246655709,-0.4692459410290437,-0.10918255014203285,-0.5941020457679044,-0.40070306804028405,-0.7610508691886589,-0.753371792131827,-0.5417705576769013,-0.3998498372561918,-0.9786247191322318,-0.03893321558508828,-1.0648010283255687,-0.7991618442114549,-0.6671954829384903,-0.9479084109049039,-0.5960929175974534,0.03927960629005229,-0.7172516889385803,-0.6489932262111849,-0.6652046111089412,-0.768729946245491,-0.48090676174497365,-0.406391273267567,-0.17402808973305836,-1.1771430815644068,-1.0702048232914874,-0.46355773580176074,-0.30940737414239267,-0.4501904535176457,0.5210705890409182,-0.2914895276764515,-0.5588351733587502,0.16186042893799962,-0.21555198789222396,0.38000309940430094,-0.9004118972570913,-0.26390173232412906,-0.21128583397176176,-0.7638949718023005,-0.8025747673478246,-0.5889826610633497,-0.5460367115973636,-0.32163701538105116,-0.5485964039496408,-0.16578019215349815,-0.7476835869045441,-0.9479084109049039,-1.1961985690758048,-0.5935332252451762,-0.13022890948297972,-0.27527814277869495,-0.41691445293804047,-0.7869322029727964,-0.6342038926202492,-0.6034875843929213,-0.36884911876749943,-0.41890532476758946,-0.5284032753927862,-0.8102538444046565,0.4127102794611779,-0.39928101673346333,-0.5369355832337107,-0.7254995865181405,-0.8011527160410038,-1.0980770289051738,0.11038217163108918,-0.6288000976543303,-1.0912511826324343,-0.4547410176994721,-0.7809595874841493,-0.69734297064309,0.0034439133581696383,-0.7016091245635522,-0.22635957782406177,-1.038635284280067,-0.988579078279977,-0.9137791795412061,-0.8389792808024354,-0.7786843053932361,-0.43682317123353076,-0.5321006087905202,0.05350011935825967,-0.4143547605857632,-0.12425629399433254,-0.17715660260806404,-0.1376235762784476,-0.8059876904841943,-0.19621209011946206,-0.8930172304616235,-0.6074693280520193,0.05662863223326503,0.013682682767279014,-0.6339194823588851,-0.6040564049156496,-0.030400907744163853,-0.46071363318811925,-0.2778378351309722,-0.6819848165294259,-0.3327290155742529,-0.3830696318357068,-1.0352223611436973,-0.024997112778245116,-0.6888106628021655,-0.3344354771424378,-0.3185085025060455,-0.33557311818789437,-1.048305233166448,-0.6999026629953673,-1.0403417458482518,-0.5830100455747027,0.09104227385832694,-0.5389264550632599,-0.841823383416077,-0.4208961965971386,-0.10377875517611411,-0.15781670483530214,-0.7109946631885691,-0.5676518914610387,-0.147862345687557,-0.30883855361966456,-0.23830480880135577,0.2625416614609081,-0.5067880955291111,0.03160052923322018,-0.6666266624157621,-0.5357979421882542,0.9590623915417054,-0.5050816339609262,-0.3304537334833395,0.0739776581764781,-0.48147558226770193,-0.49711814664273,0.09815253039243063,-0.5079257365745676,-1.1552434914393674,-1.0875538492347003,-0.5739089172110499,-0.8202082035524016,0.46902351121127894,-0.6509840980407339,0.07340883765375,0.011122990415001428,-0.7499588689954573,-0.46014481266539087,-0.4581539408358418,-1.12936215765523,-0.7587755870977457,-0.23858921906272,-1.028680925132322,-1.2331719030531438,-0.2951868610741853,-0.5301097369609712,-0.17260603842623762,-0.5963773278588176,-0.6598008161430226,-0.6788563036544204,-0.22579075730133333,-0.8227678959046789,-0.7067285092681069,-1.3540462641329065,-1.377936726087495,-0.716682868415852,0.0042971441422619515,0.03899519602868808,-0.3313069642674321,-0.19934060299446774,-0.2323321933127086,-0.9385228722798872,-0.9501836929958171,-1.050011694734633,-0.8341443063592449,-0.8372728192342506,-0.7863633824500682,-0.41805209398349713,-1.1117287214506528,-0.3998498372561918,-0.9484772314276323,-0.9760650267799545,-1.09096677237107,0.0062880159718111134,-0.7149764068476671,-0.15497260222166068,-0.7647482025863929,-1.3477892383828953],\"type\":\"scatter3d\"},{\"line\":{\"width\":15},\"mode\":\"lines\",\"name\":\"PC_1\",\"x\":[0,-0.9702918689117453],\"y\":[0,0.37712695174200916],\"z\":[0,-1.042039597743616],\"type\":\"scatter3d\",\"marker\":{\"size\":2,\"symbol\":\"circle\"}},{\"line\":{\"width\":15},\"mode\":\"lines\",\"name\":\"PC_2\",\"x\":[0,-0.3304954237561224],\"y\":[0,-0.8448976787292412],\"z\":[0,0.0019609007896374295],\"type\":\"scatter3d\",\"marker\":{\"size\":2,\"symbol\":\"circle\"}},{\"line\":{\"width\":15},\"mode\":\"lines\",\"name\":\"PC_3\",\"x\":[0,-0.0740715240982395],\"y\":[0,0.02915884354053306],\"z\":[0,0.07952440915932865],\"type\":\"scatter3d\",\"marker\":{\"size\":2,\"symbol\":\"circle\"}}],                        {\"template\":{\"data\":{\"histogram2dcontour\":[{\"type\":\"histogram2dcontour\",\"colorbar\":{\"outlinewidth\":0,\"ticks\":\"\"},\"colorscale\":[[0.0,\"#0d0887\"],[0.1111111111111111,\"#46039f\"],[0.2222222222222222,\"#7201a8\"],[0.3333333333333333,\"#9c179e\"],[0.4444444444444444,\"#bd3786\"],[0.5555555555555556,\"#d8576b\"],[0.6666666666666666,\"#ed7953\"],[0.7777777777777778,\"#fb9f3a\"],[0.8888888888888888,\"#fdca26\"],[1.0,\"#f0f921\"]]}],\"choropleth\":[{\"type\":\"choropleth\",\"colorbar\":{\"outlinewidth\":0,\"ticks\":\"\"}}],\"histogram2d\":[{\"type\":\"histogram2d\",\"colorbar\":{\"outlinewidth\":0,\"ticks\":\"\"},\"colorscale\":[[0.0,\"#0d0887\"],[0.1111111111111111,\"#46039f\"],[0.2222222222222222,\"#7201a8\"],[0.3333333333333333,\"#9c179e\"],[0.4444444444444444,\"#bd3786\"],[0.5555555555555556,\"#d8576b\"],[0.6666666666666666,\"#ed7953\"],[0.7777777777777778,\"#fb9f3a\"],[0.8888888888888888,\"#fdca26\"],[1.0,\"#f0f921\"]]}],\"heatmap\":[{\"type\":\"heatmap\",\"colorbar\":{\"outlinewidth\":0,\"ticks\":\"\"},\"colorscale\":[[0.0,\"#0d0887\"],[0.1111111111111111,\"#46039f\"],[0.2222222222222222,\"#7201a8\"],[0.3333333333333333,\"#9c179e\"],[0.4444444444444444,\"#bd3786\"],[0.5555555555555556,\"#d8576b\"],[0.6666666666666666,\"#ed7953\"],[0.7777777777777778,\"#fb9f3a\"],[0.8888888888888888,\"#fdca26\"],[1.0,\"#f0f921\"]]}],\"heatmapgl\":[{\"type\":\"heatmapgl\",\"colorbar\":{\"outlinewidth\":0,\"ticks\":\"\"},\"colorscale\":[[0.0,\"#0d0887\"],[0.1111111111111111,\"#46039f\"],[0.2222222222222222,\"#7201a8\"],[0.3333333333333333,\"#9c179e\"],[0.4444444444444444,\"#bd3786\"],[0.5555555555555556,\"#d8576b\"],[0.6666666666666666,\"#ed7953\"],[0.7777777777777778,\"#fb9f3a\"],[0.8888888888888888,\"#fdca26\"],[1.0,\"#f0f921\"]]}],\"contourcarpet\":[{\"type\":\"contourcarpet\",\"colorbar\":{\"outlinewidth\":0,\"ticks\":\"\"}}],\"contour\":[{\"type\":\"contour\",\"colorbar\":{\"outlinewidth\":0,\"ticks\":\"\"},\"colorscale\":[[0.0,\"#0d0887\"],[0.1111111111111111,\"#46039f\"],[0.2222222222222222,\"#7201a8\"],[0.3333333333333333,\"#9c179e\"],[0.4444444444444444,\"#bd3786\"],[0.5555555555555556,\"#d8576b\"],[0.6666666666666666,\"#ed7953\"],[0.7777777777777778,\"#fb9f3a\"],[0.8888888888888888,\"#fdca26\"],[1.0,\"#f0f921\"]]}],\"surface\":[{\"type\":\"surface\",\"colorbar\":{\"outlinewidth\":0,\"ticks\":\"\"},\"colorscale\":[[0.0,\"#0d0887\"],[0.1111111111111111,\"#46039f\"],[0.2222222222222222,\"#7201a8\"],[0.3333333333333333,\"#9c179e\"],[0.4444444444444444,\"#bd3786\"],[0.5555555555555556,\"#d8576b\"],[0.6666666666666666,\"#ed7953\"],[0.7777777777777778,\"#fb9f3a\"],[0.8888888888888888,\"#fdca26\"],[1.0,\"#f0f921\"]]}],\"mesh3d\":[{\"type\":\"mesh3d\",\"colorbar\":{\"outlinewidth\":0,\"ticks\":\"\"}}],\"scatter\":[{\"fillpattern\":{\"fillmode\":\"overlay\",\"size\":10,\"solidity\":0.2},\"type\":\"scatter\"}],\"parcoords\":[{\"type\":\"parcoords\",\"line\":{\"colorbar\":{\"outlinewidth\":0,\"ticks\":\"\"}}}],\"scatterpolargl\":[{\"type\":\"scatterpolargl\",\"marker\":{\"colorbar\":{\"outlinewidth\":0,\"ticks\":\"\"}}}],\"bar\":[{\"error_x\":{\"color\":\"#2a3f5f\"},\"error_y\":{\"color\":\"#2a3f5f\"},\"marker\":{\"line\":{\"color\":\"#E5ECF6\",\"width\":0.5},\"pattern\":{\"fillmode\":\"overlay\",\"size\":10,\"solidity\":0.2}},\"type\":\"bar\"}],\"scattergeo\":[{\"type\":\"scattergeo\",\"marker\":{\"colorbar\":{\"outlinewidth\":0,\"ticks\":\"\"}}}],\"scatterpolar\":[{\"type\":\"scatterpolar\",\"marker\":{\"colorbar\":{\"outlinewidth\":0,\"ticks\":\"\"}}}],\"histogram\":[{\"marker\":{\"pattern\":{\"fillmode\":\"overlay\",\"size\":10,\"solidity\":0.2}},\"type\":\"histogram\"}],\"scattergl\":[{\"type\":\"scattergl\",\"marker\":{\"colorbar\":{\"outlinewidth\":0,\"ticks\":\"\"}}}],\"scatter3d\":[{\"type\":\"scatter3d\",\"line\":{\"colorbar\":{\"outlinewidth\":0,\"ticks\":\"\"}},\"marker\":{\"colorbar\":{\"outlinewidth\":0,\"ticks\":\"\"}}}],\"scattermapbox\":[{\"type\":\"scattermapbox\",\"marker\":{\"colorbar\":{\"outlinewidth\":0,\"ticks\":\"\"}}}],\"scatterternary\":[{\"type\":\"scatterternary\",\"marker\":{\"colorbar\":{\"outlinewidth\":0,\"ticks\":\"\"}}}],\"scattercarpet\":[{\"type\":\"scattercarpet\",\"marker\":{\"colorbar\":{\"outlinewidth\":0,\"ticks\":\"\"}}}],\"carpet\":[{\"aaxis\":{\"endlinecolor\":\"#2a3f5f\",\"gridcolor\":\"white\",\"linecolor\":\"white\",\"minorgridcolor\":\"white\",\"startlinecolor\":\"#2a3f5f\"},\"baxis\":{\"endlinecolor\":\"#2a3f5f\",\"gridcolor\":\"white\",\"linecolor\":\"white\",\"minorgridcolor\":\"white\",\"startlinecolor\":\"#2a3f5f\"},\"type\":\"carpet\"}],\"table\":[{\"cells\":{\"fill\":{\"color\":\"#EBF0F8\"},\"line\":{\"color\":\"white\"}},\"header\":{\"fill\":{\"color\":\"#C8D4E3\"},\"line\":{\"color\":\"white\"}},\"type\":\"table\"}],\"barpolar\":[{\"marker\":{\"line\":{\"color\":\"#E5ECF6\",\"width\":0.5},\"pattern\":{\"fillmode\":\"overlay\",\"size\":10,\"solidity\":0.2}},\"type\":\"barpolar\"}],\"pie\":[{\"automargin\":true,\"type\":\"pie\"}]},\"layout\":{\"autotypenumbers\":\"strict\",\"colorway\":[\"#636efa\",\"#EF553B\",\"#00cc96\",\"#ab63fa\",\"#FFA15A\",\"#19d3f3\",\"#FF6692\",\"#B6E880\",\"#FF97FF\",\"#FECB52\"],\"font\":{\"color\":\"#2a3f5f\"},\"hovermode\":\"closest\",\"hoverlabel\":{\"align\":\"left\"},\"paper_bgcolor\":\"white\",\"plot_bgcolor\":\"#E5ECF6\",\"polar\":{\"bgcolor\":\"#E5ECF6\",\"angularaxis\":{\"gridcolor\":\"white\",\"linecolor\":\"white\",\"ticks\":\"\"},\"radialaxis\":{\"gridcolor\":\"white\",\"linecolor\":\"white\",\"ticks\":\"\"}},\"ternary\":{\"bgcolor\":\"#E5ECF6\",\"aaxis\":{\"gridcolor\":\"white\",\"linecolor\":\"white\",\"ticks\":\"\"},\"baxis\":{\"gridcolor\":\"white\",\"linecolor\":\"white\",\"ticks\":\"\"},\"caxis\":{\"gridcolor\":\"white\",\"linecolor\":\"white\",\"ticks\":\"\"}},\"coloraxis\":{\"colorbar\":{\"outlinewidth\":0,\"ticks\":\"\"}},\"colorscale\":{\"sequential\":[[0.0,\"#0d0887\"],[0.1111111111111111,\"#46039f\"],[0.2222222222222222,\"#7201a8\"],[0.3333333333333333,\"#9c179e\"],[0.4444444444444444,\"#bd3786\"],[0.5555555555555556,\"#d8576b\"],[0.6666666666666666,\"#ed7953\"],[0.7777777777777778,\"#fb9f3a\"],[0.8888888888888888,\"#fdca26\"],[1.0,\"#f0f921\"]],\"sequentialminus\":[[0.0,\"#0d0887\"],[0.1111111111111111,\"#46039f\"],[0.2222222222222222,\"#7201a8\"],[0.3333333333333333,\"#9c179e\"],[0.4444444444444444,\"#bd3786\"],[0.5555555555555556,\"#d8576b\"],[0.6666666666666666,\"#ed7953\"],[0.7777777777777778,\"#fb9f3a\"],[0.8888888888888888,\"#fdca26\"],[1.0,\"#f0f921\"]],\"diverging\":[[0,\"#8e0152\"],[0.1,\"#c51b7d\"],[0.2,\"#de77ae\"],[0.3,\"#f1b6da\"],[0.4,\"#fde0ef\"],[0.5,\"#f7f7f7\"],[0.6,\"#e6f5d0\"],[0.7,\"#b8e186\"],[0.8,\"#7fbc41\"],[0.9,\"#4d9221\"],[1,\"#276419\"]]},\"xaxis\":{\"gridcolor\":\"white\",\"linecolor\":\"white\",\"ticks\":\"\",\"title\":{\"standoff\":15},\"zerolinecolor\":\"white\",\"automargin\":true,\"zerolinewidth\":2},\"yaxis\":{\"gridcolor\":\"white\",\"linecolor\":\"white\",\"ticks\":\"\",\"title\":{\"standoff\":15},\"zerolinecolor\":\"white\",\"automargin\":true,\"zerolinewidth\":2},\"scene\":{\"xaxis\":{\"backgroundcolor\":\"#E5ECF6\",\"gridcolor\":\"white\",\"linecolor\":\"white\",\"showbackground\":true,\"ticks\":\"\",\"zerolinecolor\":\"white\",\"gridwidth\":2},\"yaxis\":{\"backgroundcolor\":\"#E5ECF6\",\"gridcolor\":\"white\",\"linecolor\":\"white\",\"showbackground\":true,\"ticks\":\"\",\"zerolinecolor\":\"white\",\"gridwidth\":2},\"zaxis\":{\"backgroundcolor\":\"#E5ECF6\",\"gridcolor\":\"white\",\"linecolor\":\"white\",\"showbackground\":true,\"ticks\":\"\",\"zerolinecolor\":\"white\",\"gridwidth\":2}},\"shapedefaults\":{\"line\":{\"color\":\"#2a3f5f\"}},\"annotationdefaults\":{\"arrowcolor\":\"#2a3f5f\",\"arrowhead\":0,\"arrowwidth\":1},\"geo\":{\"bgcolor\":\"white\",\"landcolor\":\"#E5ECF6\",\"subunitcolor\":\"white\",\"showland\":true,\"showlakes\":true,\"lakecolor\":\"white\"},\"title\":{\"x\":0.05},\"mapbox\":{\"style\":\"light\"}}},\"scene\":{\"domain\":{\"x\":[0.0,1.0],\"y\":[0.0,1.0]},\"xaxis\":{\"title\":{\"text\":\"mean radius\"}},\"yaxis\":{\"title\":{\"text\":\"mean texture\"}},\"zaxis\":{\"title\":{\"text\":\"mean area\"}}},\"legend\":{\"title\":{\"text\":\"color\"},\"tracegroupgap\":0},\"margin\":{\"t\":60}},                        {\"responsive\": true}                    ).then(function(){\n",
              "                            \n",
              "var gd = document.getElementById('fae1b284-0f18-45e8-a93e-add6bc57f127');\n",
              "var x = new MutationObserver(function (mutations, observer) {{\n",
              "        var display = window.getComputedStyle(gd).display;\n",
              "        if (!display || display === 'none') {{\n",
              "            console.log([gd, 'removed!']);\n",
              "            Plotly.purge(gd);\n",
              "            observer.disconnect();\n",
              "        }}\n",
              "}});\n",
              "\n",
              "// Listen for the removal of the full notebook cells\n",
              "var notebookContainer = gd.closest('#notebook-container');\n",
              "if (notebookContainer) {{\n",
              "    x.observe(notebookContainer, {childList: true});\n",
              "}}\n",
              "\n",
              "// Listen for the clearing of the current output cell\n",
              "var outputEl = gd.closest('.output');\n",
              "if (outputEl) {{\n",
              "    x.observe(outputEl, {childList: true});\n",
              "}}\n",
              "\n",
              "                        })                };                            </script>        </div>\n",
              "</body>\n",
              "</html>"
            ]
          },
          "metadata": {},
          "output_type": "display_data"
        }
      ],
      "source": [
        "# Visualizar los eigenvectores\n",
        "cmap = {0: 'blue', 1: 'red'}\n",
        "color_class = pd.Series(data.target).map(cmap)\n",
        "fig = px.scatter_3d(df, x=cols[0], y=cols[1], z=cols[2], color=color_class)\n",
        "i = 1\n",
        "for l, v in zip(eigenvalues, eigenvectors):\n",
        "  vector = np.sqrt(l)*v\n",
        "  vector_3d = go.Scatter3d(x=[0, vector[0, 0]],\n",
        "                           y=[0, vector[0, 1]],\n",
        "                           z=[0, vector[0, 2]],\n",
        "                           mode='lines',\n",
        "                           line=dict(width=15),\n",
        "                           name=f\"PC_{i}\")\n",
        "  fig.add_trace(vector_3d)\n",
        "  i += 1\n",
        "fig.update_traces(marker=dict(symbol='circle', size=2))\n",
        "fig.show()"
      ]
    },
    {
      "cell_type": "code",
      "execution_count": null,
      "metadata": {
        "colab": {
          "base_uri": "https://localhost:8080/",
          "height": 542
        },
        "id": "epeRiJMZnB75",
        "outputId": "3eea8460-a13e-4e20-9096-ca5a6d36a50a"
      },
      "outputs": [
        {
          "data": {
            "text/html": [
              "<html>\n",
              "<head><meta charset=\"utf-8\" /></head>\n",
              "<body>\n",
              "    <div>            <script src=\"https://cdnjs.cloudflare.com/ajax/libs/mathjax/2.7.5/MathJax.js?config=TeX-AMS-MML_SVG\"></script><script type=\"text/javascript\">if (window.MathJax && window.MathJax.Hub && window.MathJax.Hub.Config) {window.MathJax.Hub.Config({SVG: {font: \"STIX-Web\"}});}</script>                <script type=\"text/javascript\">window.PlotlyConfig = {MathJaxConfig: 'local'};</script>\n",
              "        <script charset=\"utf-8\" src=\"https://cdn.plot.ly/plotly-2.24.1.min.js\"></script>                <div id=\"e89e8a6e-b31e-4b4b-ae0a-ebdb396f8722\" class=\"plotly-graph-div\" style=\"height:525px; width:100%;\"></div>            <script type=\"text/javascript\">                                    window.PLOTLYENV=window.PLOTLYENV || {};                                    if (document.getElementById(\"e89e8a6e-b31e-4b4b-ae0a-ebdb396f8722\")) {                    Plotly.newPlot(                        \"e89e8a6e-b31e-4b4b-ae0a-ebdb396f8722\",                        [{\"hovertemplate\":\"color=blue\\u003cbr\\u003ePC1=%{x}\\u003cbr\\u003ePC2=%{y}\\u003cextra\\u003e\\u003c\\u002fextra\\u003e\",\"legendgroup\":\"blue\",\"marker\":{\"color\":\"#636efa\",\"symbol\":\"circle\"},\"mode\":\"markers\",\"name\":\"blue\",\"orientation\":\"v\",\"showlegend\":true,\"x\":[-0.615404204712458,-2.3330511682141544,-2.2331290215473403,0.9173252494907604,-1.9356017878918312,0.9509773993222398,-1.550877516496515,0.09163654277142452,0.24932624894727887,0.24435455922630672,-0.9565573331863136,-0.42667084478858447,-2.287001233995541,-0.9566686229048056,-0.0637484133410539,-0.7839361419102157,-0.23008536933410662,-0.7619935155427718,-2.4385931592553325,0.10678688098339296,-3.0362201789446805,-1.1167063454814214,-0.8013827636241772,-0.25572861484899534,-1.742220998937326,-0.8714921810970803,-0.8467740633296563,-2.1467213770238103,0.8791254577795768,-1.3964152919126025,-2.5202974999810315,-0.540358752259809,-1.0856310088564967,-0.18800190258815744,-0.7446516249999624,0.1705268077914101,0.10646927960168692,0.9511140810392482,-2.2335668986429162,0.27993387117560903,0.19646276934910403,-1.4913584514654847,0.45769064846618396,-1.4236507997401253,-0.521868373386369,-1.820650498102471,-0.30779129175194414,-0.24823140968507196,0.17689946474995433,-0.5414456948637576,-1.9612211142870808,-1.532223665682652,0.4904411417602934,-0.6988382007924892,-1.1251255790804542,-2.63401913543534,-4.841788949099822,-2.4170652118333646,-1.5319286800002176,-0.23745085809619665,-2.1531394524462724,-0.6639475355270147,-0.31525373828307,-2.6048736259533234,-0.07228872990745287,-0.2504447480424594,0.7399473956431405,-3.154798315777511,0.03142251804828862,-0.8552219534442621,-1.388702263127816,-1.4544110674594393,-4.041979066335263,-0.2069511659883885,-1.7839718718485584,-2.5593113539653,-0.4414892681241516,-0.8611049754383809,-1.8174348736096815,0.2625312983588338,-0.05160189213806748,-0.5618871578148507,1.0824271981006852,-1.365808445150074,-1.6033194651149478,-1.9722211403202037,-3.8741893301608474,-0.8880545857667146,-1.699650502364731,0.26915225005532695,0.22439728991530922,-0.8392579773122917,-5.65474515639045,-3.148249840726641,-0.5898912734100372,-0.5844873568366998,-1.4452945574157454,-0.2578210030773446,0.024940335186205937,-0.5003335761916455,-0.06395093282198452,-1.6467916003488303,-2.139854998852952,-0.11642339288738783,-1.1965848928222889,-4.26855338145875,-0.21186481774420665,-0.0800422268768736,-1.0885536987427507,-2.6379749041951914,-5.999223161043283,-1.6963709452818727,-0.31219868397646766,0.3923111172530018,-2.3305393156965324,-3.1917810002825333,-0.5842367200867762,0.26897773310173406,-0.9785945642393966,-3.1598308489997255,-4.250933790882608,-2.5915765346933464,-2.8156271510022646,-2.279741049210582,-2.964251149566096,-2.125005525333765,-0.9179825373724062,-1.9618078892534305,0.3194313071122992,-2.8519104608536785,-0.16129801251045492,-0.8403171592197562,-1.6406867931276294,-3.0007934582794373,-1.4434478744021364,-1.3809063223997362,-0.4792369004742032,-1.3206018223743519,-3.6688115326913326,-3.1357082690871514,-1.795532276327238,-1.7717292466844023,-2.4658036341590748,-1.8100314587839024,-0.6324544180934084,0.9593516206450153,-2.0301912791974788,-2.611600287525269,-1.4268285583458693,-2.319205053491306,-2.4909876491361556,-0.8186262601392544,-0.9404650212560908,-0.2945282588714987,-1.1874128043385135,-1.868442452012864,-4.222340464352462,-2.2508598263400983,-0.49186647737800226,-4.552791804474567,-0.8405929359138143,-2.586880621666433,-2.8596142479006192,-2.9141507941902636,-3.2446449036551113,-1.1022945461086495,-2.368719580797271,-2.327393697522088,1.1582037435466723,-0.44592695323191506,-2.3187938987899464,-0.4807769235177925,-3.061602294496844,-1.4893052228996995,-1.469448614126534,-1.2003992305628364,-0.6860840382614982,-0.475634912372982,-2.267840347605903,-1.9572744697519773,0.10325487564405328,-1.6204916799909221,-1.1507681609622582,-2.030406207577931,-2.773924142148286,-2.509847751725928,-1.7355312069613806,-6.535094808539927,-1.6018542323400076,-0.7170896907332932,-1.9129587315604484,-0.9361634873599182,-1.4933586678472746,-1.4396637412685744,-2.6197184460990224,-0.27290977426768004,-3.6456773469323567,-0.7874686204185195,0.2156065157023454,-0.24202875652829872,-1.6354333069019082,-2.207218160762749,-4.381535226598905,-2.509629976376842,-2.557554370209459,-0.2561133545748012,-1.2810351402598876,-3.058382256199909,-3.196374344178893,-3.017444636315968,-1.5882646646065681,-3.2044213772391186],\"xaxis\":\"x\",\"y\":[2.466846420343558,1.2924609443383377,0.3836426994029719,-0.6312708093538092,1.9940622926743792,0.5249297042345688,0.4340226368773625,-0.4209066271171854,-0.7299067469907169,-1.2826397909339529,-0.6131412248622401,0.5164554689687245,-0.4824749896114066,-0.790500851417404,-0.8049121026529997,-1.7550900811348054,-0.12010169030950282,-0.049611972837133124,0.2393348404873599,1.2146827094161488,0.2507588927806917,-0.08552245044317464,1.0353256078344177,-0.46003595454088386,0.44148724860726407,-1.1536335517366925,1.390411091110995,-0.6147207656920983,-0.19647819488330265,-0.6259847446981167,-0.8083750605695138,0.5633841088133944,-0.1503577572183376,-0.5339059645239412,-1.1857701548576012,-0.44924705507831925,-0.614059327802931,-0.886718424384711,-0.505917461184858,-0.35708238348619376,-0.7067542733720017,1.0054271893319442,-0.021813790381496997,0.7040785152851448,-0.4782955974772105,0.8919487541021949,-0.4546675318045452,-0.6177336684853906,-1.2062732560555323,-0.9504579897799248,0.2622981428298366,-0.7077376805464192,0.6824567084204909,0.18317227872767497,1.224442767111611,-0.13923804081409075,0.4900861615262057,-0.8038390336005165,0.7914948681217148,-0.44963177794689935,-0.4825125379938286,-0.6076813687572978,-0.011902659362259222,0.08429603388388292,-0.09194571783715273,-1.3240125446817606,0.642400098970013,1.1391971378085026,0.6420784421319935,-0.5702800977566362,0.36295819713868566,1.1109151244181172,1.354050249098262,-1.2686088292475088,0.7926760768412356,-0.455884035789966,0.12494849889100776,-0.2256989904471365,0.05610011589129235,-0.8974472688522154,0.44960851298918536,0.5293627503847871,0.2537127814185832,0.17163393332991125,1.4641428471555626,1.056298039934336,0.8287517688060353,0.469570907718744,-0.6820945198587438,-0.19042126220652217,1.760979374620953,0.12304581190045398,1.5685131082238293,-0.5878825408818456,-0.02442811415033492,-0.551347026872818,0.742525298797433,-0.8565153287721884,-1.9013998491492314,-0.7841529932355014,-0.724841752328322,0.006776176298164883,0.03729200335691094,-0.18713900589015875,0.4602722189377926,-0.17392641810021395,-1.031778997129077,0.6832234224264147,0.18315707757058283,0.319605883475684,2.553586401236163,-0.903415718484665,-1.0076413662387749,0.43593092894074126,0.34435940362037765,-2.044806344565551,-0.011695463301790004,-0.865028691680745,0.43493647341892505,-0.8928909454526914,-0.25581409066853067,0.47149339444799304,-3.8940463202178646,-0.16043404188496618,0.09258748406446056,0.6986665272174318,0.911017486092653,0.7572263503354434,0.43451692049143653,-1.2532948190441369,0.5674724131691823,-0.6485608958495181,-2.9242719617434734,-0.767745318809775,-0.37769743352894675,-0.16968029673739568,0.16467700414861366,-0.1783211540325923,-1.5205206870058088,0.802051896157699,-0.5947614005278135,0.5204404654453093,-0.8622357723957131,0.9851253437754235,0.3769580487590717,-0.08793638646260402,0.8916089411135535,-0.12046987184166037,0.6628146286914947,0.8147276955769582,0.4195219694723464,-0.03495121361503161,-0.2795812028474053,1.0594110731036839,0.03696254120775307,0.1959231405633411,0.4078858033096745,0.28309436901838536,0.2095321490207187,2.238994746123724,-1.283133150161402,0.389654184079345,-0.7656989862788931,1.6501977407049915,0.6171137944212842,-0.5685827075860361,1.9734891063748075,1.3952052149067264,-0.33814221187935184,-0.825335120280177,-0.07267514553398988,0.017843656878866423,0.4503974601783492,0.15001050532353527,0.23215061089268474,-2.159394374620156,-0.1789417661546385,-0.6238537729491509,0.8244993938239698,0.09579881616091547,-0.12312645420567196,-0.8981340981451807,1.0594947318931727,-1.38994338102401,0.777779855607807,-0.445158799684162,-1.2853216803387122,0.8144992316962744,-0.38309620570125846,0.22520148822799682,0.865550326224401,0.13847110221446668,0.2665530704204488,1.0052333405332672,0.5374883048176601,-1.1928220728909953,1.2916569395608632,-0.8567440948564201,-0.39189225673977485,0.14934739823632323,0.3172003800727985,0.6208425811093993,1.1372426887873692,0.6368127523950089,0.6080873873414907,-0.7146844380107829,-2.3303060264777375,-0.2529719366516569,0.4759885732036581,-1.0586264531508105,-1.5754278810756137,-1.2555541120957583],\"yaxis\":\"y\",\"type\":\"scatter\"},{\"hovertemplate\":\"color=red\\u003cbr\\u003ePC1=%{x}\\u003cbr\\u003ePC2=%{y}\\u003cextra\\u003e\\u003c\\u002fextra\\u003e\",\"legendgroup\":\"red\",\"marker\":{\"color\":\"#EF553B\",\"symbol\":\"circle\"},\"mode\":\"markers\",\"name\":\"red\",\"orientation\":\"v\",\"showlegend\":true,\"x\":[0.6936354518158366,0.751941323011216,2.1589524654694636,0.5244493021403214,2.1654757921281598,1.1685693564831363,0.039823245463062144,0.6720316417536215,0.49678014623762806,0.9050279698052222,0.9939198131702438,0.4388946970302119,2.472308191478508,1.7563590372917797,1.7020503169729864,2.124843390192965,1.448178062886751,1.0365220627305765,1.8770973452870399,0.7747115493912987,2.1436838646977123,0.9192653799610271,0.9987196330866254,0.6246237823907095,0.8328643453515713,0.6905811936913081,1.1026900638200168,0.47130125201978756,0.2529687867047294,-0.5078079005381966,0.7375767195395886,0.39744130536798933,0.868758981101057,1.4316465827088172,1.4732148434706642,2.7912062872357404,0.6273409025888984,1.453657603408676,1.2773361271816521,1.0005199657757247,0.7465346710126226,0.838221989942463,1.6916456246785307,0.4821757477907467,-0.00859080149940045,1.2008567126735865,2.097640764854089,0.6261267303382851,2.0348927105599577,1.6974139903443881,0.6688893190360341,0.5773189340981755,0.35209786519673986,0.027105140442089778,1.2438011492085408,-0.04174274452224911,1.1073630151366418,1.312816878195564,1.538508651813423,2.1276806071362726,1.1534246554506606,0.7824195708496869,1.5589597544587899,1.22583003170949,-0.17467192892173114,0.31756633902901277,0.3202650623248078,0.33823804298648774,1.830208169390835,1.8214032795830437,1.5945396570901542,0.7348249445994259,0.829960554773519,-0.943809020718165,1.3282281014098738,1.6797566247083064,0.8094440412681628,0.4424344729314763,-0.26364866774596374,1.9911997037941638,-0.017388643470171616,1.280234146038927,1.486682498274673,1.5712110224474978,2.231843606086171,1.5543372690633948,0.20118967522318482,1.0480715942054466,1.3522826522609608,1.7432153099414738,1.0694599837049292,1.0176948973328557,0.9871751452689949,0.3503301617224741,1.6019720994126037,0.7379286705262408,0.695061189430063,0.692409898764564,1.6396515115665058,0.1497365320477137,0.19482123195981613,0.8823704904079387,0.9151678619811248,1.5129270925362213,0.7699137339964458,0.7382499437369425,1.527595566345689,0.5559148774411743,0.47917636843171246,1.6235372286615999,0.10169139671560028,0.18197255982409932,0.3500885345243912,-0.18505476562769876,1.842334870713256,-0.05157995085396438,-0.6850040941725423,0.5529585714045535,1.0136630842785481,1.1192487731041922,-0.18773111505507611,1.22789141885944,0.5432416881889726,0.937727852814615,0.7242956147621548,1.322803976427586,1.026088884546079,1.2662941725700578,0.06010901555622871,0.7634484936126396,1.126450550356517,0.2206461249136,1.560316729846291,1.8106546328633384,0.9927265155125172,1.441787004058719,0.37804067907803995,0.5266189762038942,1.3194687316227796,0.7947024615386558,0.6754910535129187,0.6850368523238995,1.0147248321527595,0.9678864876558527,1.0344549810646808,-0.08294101580890867,-0.20039868529320698,0.7617793201339639,0.9971625738974641,1.035140694765133,0.7123005715976417,1.7354005845780995,0.11088058861558987,0.9550178705263295,0.6047707571702857,1.3383511422239447,1.0662071748342616,0.4770085365251579,0.6877752950245202,2.138768499987529,0.8411802431641591,0.8962319756718498,0.9115642471570868,0.19609497210157475,1.0399465103570642,1.6707099938250107,1.9051181535152228,0.8375807270730495,1.1682176084456457,1.7528065499773504,0.8441412022849285,1.6081592912012102,1.024165181373902,1.0752362262921886,0.7502168259870311,0.6184678857461074,0.8987419959666435,0.47331403056635935,0.9965787134597291,1.416552672573188,0.7213758868067812,0.904914135125595,1.556223898730528,0.20395879853994564,1.7545152255463414,1.4669846691867492,1.2169632889932838,1.7357710599144316,0.8122109080090127,0.24144981123890394,1.2456495290557996,1.2016167375040037,1.087676730627506,1.5074312306219475,0.6284268664885448,0.5283887066189177,0.42376677185769346,2.079115329935911,1.6644158201341195,0.705520043744494,0.16515107852915045,0.5902854456898137,-0.702192339514455,0.5262932710236256,0.8342198061383103,0.21000690103188333,0.4966465064965211,-0.3593941238785608,1.1794117243078366,-0.45762602549437226,0.5774411958788138,1.5740231827558304,1.4755163977141994,0.4855721298730618,0.837894739221633,0.842403927372421,1.160633732936136,0.4207049197237479,1.348030456168937,1.9468533761029385,2.004158640791027,0.9030731199419387,0.277157531648143,0.33058346090536733,0.677881789572523,1.4699543676395561,1.0249694529489624,1.5187293107100603,0.5459450674091065,0.7623551622091994,1.050114680960489,1.1890152488529453,-0.27273802338980463,0.32546060112314046,0.8170550893429454,1.1411104361270359,1.313513446445066,1.4052265240185142,-0.4731576388061194,0.6731151852992284,1.39754094165448,1.1699359922811838,0.8895134360638871,0.9586706775418095,0.34256340801538543,1.2100067897624263,0.24997148878271608,1.518565632184801,1.2486235811361086,1.649255063757488,0.9467409166527647,1.2996863948085462,0.6881528829700725,0.809895388832651,0.02688078611873073,0.4867744271484405,0.37869410105410445,0.14219098594936402,0.4183625793841718,1.2984271711106439,0.4908129679192586,1.3356107089134084,0.3250120798110136,-0.024988922431968402,-0.08861970965573032,0.6488614563997597,0.037755918836782566,0.39477812156183484,0.7666705645307134,-0.6462622848766927,0.068421779139237,-0.11461908607245566,-0.03201801808305904,0.7441568270902998,-0.6873408938401123,1.0050860985144576,0.48993526712170954,0.3044395848074444,0.2826714963992049,1.625243651744091,1.0239049543242646,1.5871273671716206,0.024047027407782518,0.16133325687287722,-0.20313711266859635,1.4727956911230777,0.8215457139730208,-0.050433716259054746,0.3727256292495553,1.3598604145818234,0.8485307309526666,0.14407008558379678,0.769608552007005,0.37666148650625214,0.2063088086801527,0.891538167927759,0.09008715622308437,1.16116579604465,0.43687855604547987,-0.8141483458375204,1.1920276959120992,0.2925139828279728,-0.26567481770311013,0.6882577080978587,0.8051358426723142,-0.019235935620602777,0.8830781272270734,2.213835213010599,2.070053108192456,0.6710323118687187,1.2977317478944235,-0.4109519828999525,1.265105403389384,0.21301904579419995,0.385215677178373,1.0727907392037153,0.6269457323777857,0.7788107849211224,2.1044310612326265,0.9901403334101703,0.28681488046323006,1.7839836721704028,2.3760414414325814,0.3649119524119765,1.278427028296864,0.6674410227696504,1.2733823964339812,1.0257427526824685,0.8447151391863118,0.4832168086960023,1.2757401197996592,0.48462898727572373,1.5628194745790083,1.5898945082216847,1.3669660330873763,-0.5501775616891312,-0.6599862079297363,-0.3537645705671076,0.05980342766846646,-0.08617830881514625,1.579340925998348,1.5787451905853787,1.5184432986201617,0.7507746324961205,0.9767779615776814,0.8113683379625919,-0.3304775184919055,1.4041465755508074,-0.3198064661205767,0.6369737149162922,1.3593282339602117,0.8700949829195318,-0.37811600914495186,0.5669690737552927,-0.549859965987806,0.19657264806831906,1.63343404375845],\"xaxis\":\"x\",\"y\":[0.9603349100867065,0.6001934786619599,0.8674324299778071,0.01205763333376421,-0.23429980312371856,0.707239291452853,-0.7679330500251316,-0.8401325620134971,0.5425625109562912,-0.09172803007952468,-0.2538738631287121,-0.17685944084994265,0.9074603967330522,0.4150825268871953,-1.087604868958288,0.5260444723556154,-0.9959771493279871,-0.3429740580580058,-0.24409688706505975,0.396441479442971,0.3238254634359766,0.33247238025323916,1.6955439005447979,0.07781833630291381,-0.7456015707031682,0.5865928357823769,0.47813080481272197,-0.8116904141719163,0.9127042741404182,-0.9835575540487247,0.8432539508435363,0.0916741561168159,0.022360651066775487,-0.7221762880942053,1.0353890281936398,0.3733070280934181,-0.5528370986550464,-0.5958769672869274,-0.49952958245831847,-0.15154731253322637,-0.10475372306127428,-0.8201333826953626,-0.08676019315746365,-0.5561322603778694,-0.0868612378415831,-0.6945200502087586,0.04449790719563313,-0.8047141475953182,0.08649640271785741,1.452484724402808,1.8369840463666207,0.49860519308241186,0.3817460834450511,0.7135879702232513,1.012610093360482,1.3553363454099312,0.22147267080785862,0.4609669407685419,0.8724360065363086,0.997065655316333,0.043545389566446074,0.5358449996965085,0.46974160843883933,0.6798363038277115,0.1979512818423454,0.9024666742305705,0.2193188042218109,-0.5048168161564396,-1.0676773652557592,0.2748465727971995,0.9280272382092938,0.6993984920635727,0.012559956218025714,0.32640553226478514,1.117043980725827,0.9247245039289106,-0.5390927904998914,-0.9053447819768687,-0.01462736958713741,1.6149993536346532,0.5911756553003449,1.2232252741117595,0.5629090853119105,0.41998701665090465,0.33683961904625215,-0.3004194809096784,-0.8110016371294589,1.1466025002184828,0.5629905943303525,0.3628205129581336,0.10634811782659655,0.07661514884726313,0.460802596712867,-0.6669174785511951,-0.3590136910562911,0.45081408854416527,-0.3394585704004873,-0.098554889819286,-0.13640905330869252,-0.8708678778469597,1.5177103835238765,-0.2577765733852871,-0.12318265347225896,-0.13934344196971765,1.2303095102713353,1.0577935566492642,-0.15760351651741622,0.34956933910986854,1.2665900923018718,0.32206648866333965,0.9043965504782512,-1.240725714861801,-2.0834650540863033,-3.5557957445666295,0.12420987233144533,-0.4698633770561833,-1.8712641171510755,0.7055120102730957,0.6653385626424938,-0.16295657675106687,-1.0462252153646756,-0.6226057012235343,0.25208773458805817,0.9273739516741158,-1.7649875283405432,0.5719916597207969,-0.1914926411202452,-0.41025573302086965,-0.6609718101663907,0.4708157810004975,-0.7154334313938953,0.5306168346901236,0.9513723040575872,0.19653880498880597,0.09387216758348453,0.7178974247187838,0.2142209603929664,0.8207216277562916,0.8006788709045323,0.5860382675834267,-0.041979774015295096,-0.6353467093642021,1.1446498802353549,-0.5459887848919035,-0.30470319482530034,-0.07773954482847367,0.125540698329794,0.518914845155543,0.067154451231756,0.9717139408689529,1.2253678871650928,1.0553637290451683,0.23623706572240555,-1.3229967314016977,-0.38665830362143677,-0.3534892815564002,-0.1347229146820206,-1.4859631863419958,0.5978314431198407,0.3856769397356642,1.3149340334716715,1.01108349460041,-0.3116532118974075,0.8225818051684869,1.0723205749459577,1.4878844650378173,-0.5723354915497016,0.28193153941175675,0.8448045333366719,-0.5878179708237813,0.24189181613508082,0.1482344767651142,1.0909441325626588,0.5987901232554095,0.20361590689073453,1.3595228504694004,-0.011810378136922864,-0.20034709964930922,-0.5322376794224666,0.5728516112761761,-0.21483570829912577,0.9101876078327423,-0.16875205989199388,0.6070891428297869,-0.07383675957800076,0.5081601240419804,0.4834341265423607,0.465618057778783,-0.22035935912722052,1.042170545236619,0.32731474536758887,0.6117943787852592,0.12923404934712998,0.7147410862397365,-0.19099240609033236,-0.03202663131500214,0.603601672550883,0.13667852243682135,-0.4083390505529014,0.02876517643336341,-0.6345284590009367,-0.11864416307951153,0.5242103725708224,0.37861500183964975,-0.009086413176119365,1.4367808434793763,0.6100920573979277,0.9447666105762608,-0.693636629389101,-2.050096006133513,0.8083948535547283,0.9660022822323432,0.5123228098777435,-1.0470994705059657,0.12434619522669016,1.0620693275293365,0.8452611379547504,0.6173020334777404,0.4197444385505431,1.0052411392168585,-0.17129771885433118,0.03893769190799469,0.41855373076470925,-0.029614164883006253,0.19195597754618665,0.5395024242259616,0.10627213298185431,1.4998326047277348,0.03617227628560913,0.48118439447374994,0.6735715580290179,-0.2901199078123281,1.213287325035565,-0.647198488838015,0.022623390314693393,-0.016564435289983897,0.10093073815704728,-1.146563997278136,-0.5198762428351131,-0.7331428068788383,-1.1485477123529695,1.3213098624815018,-0.8776699059969251,-0.31256969610731977,1.1924979790187114,0.34371611329599705,-0.058041444955441106,-0.5512791345374933,-0.9854713781188215,0.4319470493811925,-1.0424119985602316,0.15880826789418018,0.1354689538511142,0.08534158194941881,0.5763520922651646,-0.25305989694153014,0.6787064326077376,-0.1333309907252646,0.7431371989986709,0.01440255507055511,0.6823289864023241,-0.2799597801116099,-1.5265271646883753,0.41676412881846475,0.02191805295338826,-0.8161087748393008,-2.2487473149975137,1.1720924448915355,0.2346984788622989,-2.603482300305201,-2.5255666537265493,-1.4446319527054627,-1.4469422179311913,-2.5172315263570537,-1.6554370148957978,-0.16081012454074403,0.07553125983172616,-0.32917886058615825,-0.47306966509928694,-0.3381157587866755,-0.12322125760769648,-0.42064408490353544,-2.2208801470329718,1.0260432785562312,-2.5893214956032753,0.34098282131123103,0.5680245408433869,-0.29041029203322105,0.5211306659771654,0.6424617470858787,-0.01717426933040687,-0.044085920501986946,1.005518954130206,0.2646787685448926,1.9204015066475908,0.3707664653834514,0.5741834107881807,0.3253643911558879,-0.9580929250022558,1.8324654519777048,1.147779491047852,-0.4269454336225483,-0.12627578114663224,0.01044932790292784,0.17968223023011343,0.6443559079057216,0.396520755832951,0.7385099466184879,0.7272068837178429,-0.4500319781130749,0.03459936946614701,1.0574738353584872,0.6545209534154496,1.0633194069628553,1.2558380788150694,-0.24974195834029442,0.02186643178034382,0.3423374308446143,0.5239626899322785,-0.522237842396628,0.03994750872702718,0.20443925359814297,0.6177860670825972,-0.008069004064282584,1.2539284828790864,1.2678774045068206,0.9635640113149502,0.030988161100180083,-0.5128889732563319,0.550365398595999,-0.08169383678760586,-1.476542599961558,-2.1598787904218217,-2.157997293124739,0.6771310292215605,-1.2093231786019207,-1.2738854398820798,-2.053235672662564,-0.3760131254764141,-0.9510339291448431,0.11699894247322035,0.05976933644316235,-0.6061951587435316,-1.5229815852056157,-0.9292486339142642,-1.104469383980427,-2.4046120636859567,-1.211101877140141,-2.281370875336236,-2.3279854474719293,-0.6065248783381599,-2.4864705587369573,-0.6994668747975084,-1.381244066523817,-1.7492450571421885,-2.595620261116344,-1.950122774337313],\"yaxis\":\"y\",\"type\":\"scatter\"}],                        {\"template\":{\"data\":{\"histogram2dcontour\":[{\"type\":\"histogram2dcontour\",\"colorbar\":{\"outlinewidth\":0,\"ticks\":\"\"},\"colorscale\":[[0.0,\"#0d0887\"],[0.1111111111111111,\"#46039f\"],[0.2222222222222222,\"#7201a8\"],[0.3333333333333333,\"#9c179e\"],[0.4444444444444444,\"#bd3786\"],[0.5555555555555556,\"#d8576b\"],[0.6666666666666666,\"#ed7953\"],[0.7777777777777778,\"#fb9f3a\"],[0.8888888888888888,\"#fdca26\"],[1.0,\"#f0f921\"]]}],\"choropleth\":[{\"type\":\"choropleth\",\"colorbar\":{\"outlinewidth\":0,\"ticks\":\"\"}}],\"histogram2d\":[{\"type\":\"histogram2d\",\"colorbar\":{\"outlinewidth\":0,\"ticks\":\"\"},\"colorscale\":[[0.0,\"#0d0887\"],[0.1111111111111111,\"#46039f\"],[0.2222222222222222,\"#7201a8\"],[0.3333333333333333,\"#9c179e\"],[0.4444444444444444,\"#bd3786\"],[0.5555555555555556,\"#d8576b\"],[0.6666666666666666,\"#ed7953\"],[0.7777777777777778,\"#fb9f3a\"],[0.8888888888888888,\"#fdca26\"],[1.0,\"#f0f921\"]]}],\"heatmap\":[{\"type\":\"heatmap\",\"colorbar\":{\"outlinewidth\":0,\"ticks\":\"\"},\"colorscale\":[[0.0,\"#0d0887\"],[0.1111111111111111,\"#46039f\"],[0.2222222222222222,\"#7201a8\"],[0.3333333333333333,\"#9c179e\"],[0.4444444444444444,\"#bd3786\"],[0.5555555555555556,\"#d8576b\"],[0.6666666666666666,\"#ed7953\"],[0.7777777777777778,\"#fb9f3a\"],[0.8888888888888888,\"#fdca26\"],[1.0,\"#f0f921\"]]}],\"heatmapgl\":[{\"type\":\"heatmapgl\",\"colorbar\":{\"outlinewidth\":0,\"ticks\":\"\"},\"colorscale\":[[0.0,\"#0d0887\"],[0.1111111111111111,\"#46039f\"],[0.2222222222222222,\"#7201a8\"],[0.3333333333333333,\"#9c179e\"],[0.4444444444444444,\"#bd3786\"],[0.5555555555555556,\"#d8576b\"],[0.6666666666666666,\"#ed7953\"],[0.7777777777777778,\"#fb9f3a\"],[0.8888888888888888,\"#fdca26\"],[1.0,\"#f0f921\"]]}],\"contourcarpet\":[{\"type\":\"contourcarpet\",\"colorbar\":{\"outlinewidth\":0,\"ticks\":\"\"}}],\"contour\":[{\"type\":\"contour\",\"colorbar\":{\"outlinewidth\":0,\"ticks\":\"\"},\"colorscale\":[[0.0,\"#0d0887\"],[0.1111111111111111,\"#46039f\"],[0.2222222222222222,\"#7201a8\"],[0.3333333333333333,\"#9c179e\"],[0.4444444444444444,\"#bd3786\"],[0.5555555555555556,\"#d8576b\"],[0.6666666666666666,\"#ed7953\"],[0.7777777777777778,\"#fb9f3a\"],[0.8888888888888888,\"#fdca26\"],[1.0,\"#f0f921\"]]}],\"surface\":[{\"type\":\"surface\",\"colorbar\":{\"outlinewidth\":0,\"ticks\":\"\"},\"colorscale\":[[0.0,\"#0d0887\"],[0.1111111111111111,\"#46039f\"],[0.2222222222222222,\"#7201a8\"],[0.3333333333333333,\"#9c179e\"],[0.4444444444444444,\"#bd3786\"],[0.5555555555555556,\"#d8576b\"],[0.6666666666666666,\"#ed7953\"],[0.7777777777777778,\"#fb9f3a\"],[0.8888888888888888,\"#fdca26\"],[1.0,\"#f0f921\"]]}],\"mesh3d\":[{\"type\":\"mesh3d\",\"colorbar\":{\"outlinewidth\":0,\"ticks\":\"\"}}],\"scatter\":[{\"fillpattern\":{\"fillmode\":\"overlay\",\"size\":10,\"solidity\":0.2},\"type\":\"scatter\"}],\"parcoords\":[{\"type\":\"parcoords\",\"line\":{\"colorbar\":{\"outlinewidth\":0,\"ticks\":\"\"}}}],\"scatterpolargl\":[{\"type\":\"scatterpolargl\",\"marker\":{\"colorbar\":{\"outlinewidth\":0,\"ticks\":\"\"}}}],\"bar\":[{\"error_x\":{\"color\":\"#2a3f5f\"},\"error_y\":{\"color\":\"#2a3f5f\"},\"marker\":{\"line\":{\"color\":\"#E5ECF6\",\"width\":0.5},\"pattern\":{\"fillmode\":\"overlay\",\"size\":10,\"solidity\":0.2}},\"type\":\"bar\"}],\"scattergeo\":[{\"type\":\"scattergeo\",\"marker\":{\"colorbar\":{\"outlinewidth\":0,\"ticks\":\"\"}}}],\"scatterpolar\":[{\"type\":\"scatterpolar\",\"marker\":{\"colorbar\":{\"outlinewidth\":0,\"ticks\":\"\"}}}],\"histogram\":[{\"marker\":{\"pattern\":{\"fillmode\":\"overlay\",\"size\":10,\"solidity\":0.2}},\"type\":\"histogram\"}],\"scattergl\":[{\"type\":\"scattergl\",\"marker\":{\"colorbar\":{\"outlinewidth\":0,\"ticks\":\"\"}}}],\"scatter3d\":[{\"type\":\"scatter3d\",\"line\":{\"colorbar\":{\"outlinewidth\":0,\"ticks\":\"\"}},\"marker\":{\"colorbar\":{\"outlinewidth\":0,\"ticks\":\"\"}}}],\"scattermapbox\":[{\"type\":\"scattermapbox\",\"marker\":{\"colorbar\":{\"outlinewidth\":0,\"ticks\":\"\"}}}],\"scatterternary\":[{\"type\":\"scatterternary\",\"marker\":{\"colorbar\":{\"outlinewidth\":0,\"ticks\":\"\"}}}],\"scattercarpet\":[{\"type\":\"scattercarpet\",\"marker\":{\"colorbar\":{\"outlinewidth\":0,\"ticks\":\"\"}}}],\"carpet\":[{\"aaxis\":{\"endlinecolor\":\"#2a3f5f\",\"gridcolor\":\"white\",\"linecolor\":\"white\",\"minorgridcolor\":\"white\",\"startlinecolor\":\"#2a3f5f\"},\"baxis\":{\"endlinecolor\":\"#2a3f5f\",\"gridcolor\":\"white\",\"linecolor\":\"white\",\"minorgridcolor\":\"white\",\"startlinecolor\":\"#2a3f5f\"},\"type\":\"carpet\"}],\"table\":[{\"cells\":{\"fill\":{\"color\":\"#EBF0F8\"},\"line\":{\"color\":\"white\"}},\"header\":{\"fill\":{\"color\":\"#C8D4E3\"},\"line\":{\"color\":\"white\"}},\"type\":\"table\"}],\"barpolar\":[{\"marker\":{\"line\":{\"color\":\"#E5ECF6\",\"width\":0.5},\"pattern\":{\"fillmode\":\"overlay\",\"size\":10,\"solidity\":0.2}},\"type\":\"barpolar\"}],\"pie\":[{\"automargin\":true,\"type\":\"pie\"}]},\"layout\":{\"autotypenumbers\":\"strict\",\"colorway\":[\"#636efa\",\"#EF553B\",\"#00cc96\",\"#ab63fa\",\"#FFA15A\",\"#19d3f3\",\"#FF6692\",\"#B6E880\",\"#FF97FF\",\"#FECB52\"],\"font\":{\"color\":\"#2a3f5f\"},\"hovermode\":\"closest\",\"hoverlabel\":{\"align\":\"left\"},\"paper_bgcolor\":\"white\",\"plot_bgcolor\":\"#E5ECF6\",\"polar\":{\"bgcolor\":\"#E5ECF6\",\"angularaxis\":{\"gridcolor\":\"white\",\"linecolor\":\"white\",\"ticks\":\"\"},\"radialaxis\":{\"gridcolor\":\"white\",\"linecolor\":\"white\",\"ticks\":\"\"}},\"ternary\":{\"bgcolor\":\"#E5ECF6\",\"aaxis\":{\"gridcolor\":\"white\",\"linecolor\":\"white\",\"ticks\":\"\"},\"baxis\":{\"gridcolor\":\"white\",\"linecolor\":\"white\",\"ticks\":\"\"},\"caxis\":{\"gridcolor\":\"white\",\"linecolor\":\"white\",\"ticks\":\"\"}},\"coloraxis\":{\"colorbar\":{\"outlinewidth\":0,\"ticks\":\"\"}},\"colorscale\":{\"sequential\":[[0.0,\"#0d0887\"],[0.1111111111111111,\"#46039f\"],[0.2222222222222222,\"#7201a8\"],[0.3333333333333333,\"#9c179e\"],[0.4444444444444444,\"#bd3786\"],[0.5555555555555556,\"#d8576b\"],[0.6666666666666666,\"#ed7953\"],[0.7777777777777778,\"#fb9f3a\"],[0.8888888888888888,\"#fdca26\"],[1.0,\"#f0f921\"]],\"sequentialminus\":[[0.0,\"#0d0887\"],[0.1111111111111111,\"#46039f\"],[0.2222222222222222,\"#7201a8\"],[0.3333333333333333,\"#9c179e\"],[0.4444444444444444,\"#bd3786\"],[0.5555555555555556,\"#d8576b\"],[0.6666666666666666,\"#ed7953\"],[0.7777777777777778,\"#fb9f3a\"],[0.8888888888888888,\"#fdca26\"],[1.0,\"#f0f921\"]],\"diverging\":[[0,\"#8e0152\"],[0.1,\"#c51b7d\"],[0.2,\"#de77ae\"],[0.3,\"#f1b6da\"],[0.4,\"#fde0ef\"],[0.5,\"#f7f7f7\"],[0.6,\"#e6f5d0\"],[0.7,\"#b8e186\"],[0.8,\"#7fbc41\"],[0.9,\"#4d9221\"],[1,\"#276419\"]]},\"xaxis\":{\"gridcolor\":\"white\",\"linecolor\":\"white\",\"ticks\":\"\",\"title\":{\"standoff\":15},\"zerolinecolor\":\"white\",\"automargin\":true,\"zerolinewidth\":2},\"yaxis\":{\"gridcolor\":\"white\",\"linecolor\":\"white\",\"ticks\":\"\",\"title\":{\"standoff\":15},\"zerolinecolor\":\"white\",\"automargin\":true,\"zerolinewidth\":2},\"scene\":{\"xaxis\":{\"backgroundcolor\":\"#E5ECF6\",\"gridcolor\":\"white\",\"linecolor\":\"white\",\"showbackground\":true,\"ticks\":\"\",\"zerolinecolor\":\"white\",\"gridwidth\":2},\"yaxis\":{\"backgroundcolor\":\"#E5ECF6\",\"gridcolor\":\"white\",\"linecolor\":\"white\",\"showbackground\":true,\"ticks\":\"\",\"zerolinecolor\":\"white\",\"gridwidth\":2},\"zaxis\":{\"backgroundcolor\":\"#E5ECF6\",\"gridcolor\":\"white\",\"linecolor\":\"white\",\"showbackground\":true,\"ticks\":\"\",\"zerolinecolor\":\"white\",\"gridwidth\":2}},\"shapedefaults\":{\"line\":{\"color\":\"#2a3f5f\"}},\"annotationdefaults\":{\"arrowcolor\":\"#2a3f5f\",\"arrowhead\":0,\"arrowwidth\":1},\"geo\":{\"bgcolor\":\"white\",\"landcolor\":\"#E5ECF6\",\"subunitcolor\":\"white\",\"showland\":true,\"showlakes\":true,\"lakecolor\":\"white\"},\"title\":{\"x\":0.05},\"mapbox\":{\"style\":\"light\"}}},\"xaxis\":{\"anchor\":\"y\",\"domain\":[0.0,1.0],\"title\":{\"text\":\"PC1\"},\"scaleanchor\":\"y\",\"scaleratio\":1,\"range\":[-5,5],\"constrain\":\"domain\"},\"yaxis\":{\"anchor\":\"x\",\"domain\":[0.0,1.0],\"title\":{\"text\":\"PC2\"},\"range\":[-6,6],\"constrain\":\"domain\"},\"legend\":{\"title\":{\"text\":\"color\"},\"tracegroupgap\":0},\"margin\":{\"t\":60}},                        {\"responsive\": true}                    ).then(function(){\n",
              "                            \n",
              "var gd = document.getElementById('e89e8a6e-b31e-4b4b-ae0a-ebdb396f8722');\n",
              "var x = new MutationObserver(function (mutations, observer) {{\n",
              "        var display = window.getComputedStyle(gd).display;\n",
              "        if (!display || display === 'none') {{\n",
              "            console.log([gd, 'removed!']);\n",
              "            Plotly.purge(gd);\n",
              "            observer.disconnect();\n",
              "        }}\n",
              "}});\n",
              "\n",
              "// Listen for the removal of the full notebook cells\n",
              "var notebookContainer = gd.closest('#notebook-container');\n",
              "if (notebookContainer) {{\n",
              "    x.observe(notebookContainer, {childList: true});\n",
              "}}\n",
              "\n",
              "// Listen for the clearing of the current output cell\n",
              "var outputEl = gd.closest('.output');\n",
              "if (outputEl) {{\n",
              "    x.observe(outputEl, {childList: true});\n",
              "}}\n",
              "\n",
              "                        })                };                            </script>        </div>\n",
              "</body>\n",
              "</html>"
            ]
          },
          "metadata": {},
          "output_type": "display_data"
        }
      ],
      "source": [
        "# Graficar la proyección de los datos sobre los dos primeros Componentes Principales\n",
        "projection = np.dot(df[cols].values, eigenvectors[:, :2])\n",
        "df_projection = pd.DataFrame(data=projection, columns=['PC1', 'PC2'])\n",
        "fig = px.scatter(df_projection, x='PC1', y='PC2', color=color_class)\n",
        "fig.update_xaxes(scaleanchor = \"y\", scaleratio = 1, range=[-5, 5], constrain='domain')\n",
        "fig.update_yaxes(range=[-6, 6], constrain='domain')\n",
        "fig.show()"
      ]
    },
    {
      "cell_type": "markdown",
      "metadata": {
        "id": "I9Z-S1b1ow9V"
      },
      "source": [
        "### **Implementación en Sklearn**\n"
      ]
    },
    {
      "cell_type": "code",
      "execution_count": null,
      "metadata": {
        "id": "7oFUONA3ozhK"
      },
      "outputs": [],
      "source": [
        "# Importar librerías\n",
        "from sklearn.decomposition import PCA\n",
        "from sklearn.pipeline import make_pipeline\n",
        "from sklearn.preprocessing import StandardScaler"
      ]
    },
    {
      "cell_type": "markdown",
      "metadata": {
        "id": "oF8TJUeTpZv6"
      },
      "source": [
        "La clase 'sklearn.decomposition.PCA' implementa la transformación PCA en Sklearn. El argumento 'n_components' determina el número de componentes que son calculados. Si 'n_components=None' (por default) se calculan todos.\n",
        "\n",
        "\n",
        "\n"
      ]
    },
    {
      "cell_type": "code",
      "execution_count": null,
      "metadata": {
        "colab": {
          "base_uri": "https://localhost:8080/",
          "height": 124
        },
        "id": "wHGDVpVRpAyQ",
        "outputId": "346ef086-e5ee-40cd-b054-3bfc681befaa"
      },
      "outputs": [
        {
          "data": {
            "text/html": [
              "<style>#sk-container-id-9 {color: black;background-color: white;}#sk-container-id-9 pre{padding: 0;}#sk-container-id-9 div.sk-toggleable {background-color: white;}#sk-container-id-9 label.sk-toggleable__label {cursor: pointer;display: block;width: 100%;margin-bottom: 0;padding: 0.3em;box-sizing: border-box;text-align: center;}#sk-container-id-9 label.sk-toggleable__label-arrow:before {content: \"▸\";float: left;margin-right: 0.25em;color: #696969;}#sk-container-id-9 label.sk-toggleable__label-arrow:hover:before {color: black;}#sk-container-id-9 div.sk-estimator:hover label.sk-toggleable__label-arrow:before {color: black;}#sk-container-id-9 div.sk-toggleable__content {max-height: 0;max-width: 0;overflow: hidden;text-align: left;background-color: #f0f8ff;}#sk-container-id-9 div.sk-toggleable__content pre {margin: 0.2em;color: black;border-radius: 0.25em;background-color: #f0f8ff;}#sk-container-id-9 input.sk-toggleable__control:checked~div.sk-toggleable__content {max-height: 200px;max-width: 100%;overflow: auto;}#sk-container-id-9 input.sk-toggleable__control:checked~label.sk-toggleable__label-arrow:before {content: \"▾\";}#sk-container-id-9 div.sk-estimator input.sk-toggleable__control:checked~label.sk-toggleable__label {background-color: #d4ebff;}#sk-container-id-9 div.sk-label input.sk-toggleable__control:checked~label.sk-toggleable__label {background-color: #d4ebff;}#sk-container-id-9 input.sk-hidden--visually {border: 0;clip: rect(1px 1px 1px 1px);clip: rect(1px, 1px, 1px, 1px);height: 1px;margin: -1px;overflow: hidden;padding: 0;position: absolute;width: 1px;}#sk-container-id-9 div.sk-estimator {font-family: monospace;background-color: #f0f8ff;border: 1px dotted black;border-radius: 0.25em;box-sizing: border-box;margin-bottom: 0.5em;}#sk-container-id-9 div.sk-estimator:hover {background-color: #d4ebff;}#sk-container-id-9 div.sk-parallel-item::after {content: \"\";width: 100%;border-bottom: 1px solid gray;flex-grow: 1;}#sk-container-id-9 div.sk-label:hover label.sk-toggleable__label {background-color: #d4ebff;}#sk-container-id-9 div.sk-serial::before {content: \"\";position: absolute;border-left: 1px solid gray;box-sizing: border-box;top: 0;bottom: 0;left: 50%;z-index: 0;}#sk-container-id-9 div.sk-serial {display: flex;flex-direction: column;align-items: center;background-color: white;padding-right: 0.2em;padding-left: 0.2em;position: relative;}#sk-container-id-9 div.sk-item {position: relative;z-index: 1;}#sk-container-id-9 div.sk-parallel {display: flex;align-items: stretch;justify-content: center;background-color: white;position: relative;}#sk-container-id-9 div.sk-item::before, #sk-container-id-9 div.sk-parallel-item::before {content: \"\";position: absolute;border-left: 1px solid gray;box-sizing: border-box;top: 0;bottom: 0;left: 50%;z-index: -1;}#sk-container-id-9 div.sk-parallel-item {display: flex;flex-direction: column;z-index: 1;position: relative;background-color: white;}#sk-container-id-9 div.sk-parallel-item:first-child::after {align-self: flex-end;width: 50%;}#sk-container-id-9 div.sk-parallel-item:last-child::after {align-self: flex-start;width: 50%;}#sk-container-id-9 div.sk-parallel-item:only-child::after {width: 0;}#sk-container-id-9 div.sk-dashed-wrapped {border: 1px dashed gray;margin: 0 0.4em 0.5em 0.4em;box-sizing: border-box;padding-bottom: 0.4em;background-color: white;}#sk-container-id-9 div.sk-label label {font-family: monospace;font-weight: bold;display: inline-block;line-height: 1.2em;}#sk-container-id-9 div.sk-label-container {text-align: center;}#sk-container-id-9 div.sk-container {/* jupyter's `normalize.less` sets `[hidden] { display: none; }` but bootstrap.min.css set `[hidden] { display: none !important; }` so we also need the `!important` here to be able to override the default hidden behavior on the sphinx rendered scikit-learn.org. See: https://github.com/scikit-learn/scikit-learn/issues/21755 */display: inline-block !important;position: relative;}#sk-container-id-9 div.sk-text-repr-fallback {display: none;}</style><div id=\"sk-container-id-9\" class=\"sk-top-container\"><div class=\"sk-text-repr-fallback\"><pre>Pipeline(steps=[(&#x27;standardscaler&#x27;, StandardScaler()),\n",
              "                (&#x27;pca&#x27;, PCA(n_components=3))])</pre><b>In a Jupyter environment, please rerun this cell to show the HTML representation or trust the notebook. <br />On GitHub, the HTML representation is unable to render, please try loading this page with nbviewer.org.</b></div><div class=\"sk-container\" hidden><div class=\"sk-item sk-dashed-wrapped\"><div class=\"sk-label-container\"><div class=\"sk-label sk-toggleable\"><input class=\"sk-toggleable__control sk-hidden--visually\" id=\"sk-estimator-id-21\" type=\"checkbox\" ><label for=\"sk-estimator-id-21\" class=\"sk-toggleable__label sk-toggleable__label-arrow\">Pipeline</label><div class=\"sk-toggleable__content\"><pre>Pipeline(steps=[(&#x27;standardscaler&#x27;, StandardScaler()),\n",
              "                (&#x27;pca&#x27;, PCA(n_components=3))])</pre></div></div></div><div class=\"sk-serial\"><div class=\"sk-item\"><div class=\"sk-estimator sk-toggleable\"><input class=\"sk-toggleable__control sk-hidden--visually\" id=\"sk-estimator-id-22\" type=\"checkbox\" ><label for=\"sk-estimator-id-22\" class=\"sk-toggleable__label sk-toggleable__label-arrow\">StandardScaler</label><div class=\"sk-toggleable__content\"><pre>StandardScaler()</pre></div></div></div><div class=\"sk-item\"><div class=\"sk-estimator sk-toggleable\"><input class=\"sk-toggleable__control sk-hidden--visually\" id=\"sk-estimator-id-23\" type=\"checkbox\" ><label for=\"sk-estimator-id-23\" class=\"sk-toggleable__label sk-toggleable__label-arrow\">PCA</label><div class=\"sk-toggleable__content\"><pre>PCA(n_components=3)</pre></div></div></div></div></div></div></div>"
            ],
            "text/plain": [
              "Pipeline(steps=[('standardscaler', StandardScaler()),\n",
              "                ('pca', PCA(n_components=3))])"
            ]
          },
          "execution_count": 194,
          "metadata": {},
          "output_type": "execute_result"
        }
      ],
      "source": [
        "# Entrenar modelo PCA con estandarización\n",
        "pca_pipe = make_pipeline(StandardScaler(), PCA(n_components=3))\n",
        "pca_pipe.fit(df[cols])"
      ]
    },
    {
      "cell_type": "code",
      "execution_count": null,
      "metadata": {
        "colab": {
          "base_uri": "https://localhost:8080/",
          "height": 143
        },
        "id": "4wjy9FU2pLrW",
        "outputId": "d0127a33-0600-477b-e676-a8446e1e3e9b"
      },
      "outputs": [
        {
          "data": {
            "application/vnd.google.colaboratory.intrinsic+json": {
              "summary": "{\n  \"name\": \")\",\n  \"rows\": 3,\n  \"fields\": [\n    {\n      \"column\": \"mean radius\",\n      \"properties\": {\n        \"dtype\": \"number\",\n        \"std\": 0.6960757113313129,\n        \"min\": -0.7074579556460475,\n        \"max\": 0.6587472332593447,\n        \"num_unique_values\": 3,\n        \"samples\": [\n          0.6587472332593447,\n          -0.2560377387540234,\n          -0.7074579556460475\n        ],\n        \"semantic_type\": \"\",\n        \"description\": \"\"\n      }\n    },\n    {\n      \"column\": \"mean texture\",\n      \"properties\": {\n        \"dtype\": \"number\",\n        \"std\": 0.4683108218713508,\n        \"min\": 0.002161393115744037,\n        \"max\": 0.931284252606744,\n        \"num_unique_values\": 3,\n        \"samples\": [\n          0.36428693254973765,\n          0.931284252606744,\n          0.002161393115744037\n        ],\n        \"semantic_type\": \"\",\n        \"description\": \"\"\n      }\n    },\n    {\n      \"column\": \"mean area\",\n      \"properties\": {\n        \"dtype\": \"number\",\n        \"std\": 0.5442091309531535,\n        \"min\": -0.25914150030518945,\n        \"max\": 0.7067521272503634,\n        \"num_unique_values\": 3,\n        \"samples\": [\n          0.6582910552686108,\n          -0.25914150030518945,\n          0.7067521272503634\n        ],\n        \"semantic_type\": \"\",\n        \"description\": \"\"\n      }\n    }\n  ]\n}",
              "type": "dataframe"
            },
            "text/html": [
              "\n",
              "  <div id=\"df-9beafced-1beb-4a9d-ac9f-305f914bc595\" class=\"colab-df-container\">\n",
              "    <div>\n",
              "<style scoped>\n",
              "    .dataframe tbody tr th:only-of-type {\n",
              "        vertical-align: middle;\n",
              "    }\n",
              "\n",
              "    .dataframe tbody tr th {\n",
              "        vertical-align: top;\n",
              "    }\n",
              "\n",
              "    .dataframe thead th {\n",
              "        text-align: right;\n",
              "    }\n",
              "</style>\n",
              "<table border=\"1\" class=\"dataframe\">\n",
              "  <thead>\n",
              "    <tr style=\"text-align: right;\">\n",
              "      <th></th>\n",
              "      <th>mean radius</th>\n",
              "      <th>mean texture</th>\n",
              "      <th>mean area</th>\n",
              "    </tr>\n",
              "  </thead>\n",
              "  <tbody>\n",
              "    <tr>\n",
              "      <th>PC1</th>\n",
              "      <td>0.658747</td>\n",
              "      <td>0.364287</td>\n",
              "      <td>0.658291</td>\n",
              "    </tr>\n",
              "    <tr>\n",
              "      <th>PC2</th>\n",
              "      <td>-0.256038</td>\n",
              "      <td>0.931284</td>\n",
              "      <td>-0.259142</td>\n",
              "    </tr>\n",
              "    <tr>\n",
              "      <th>PC3</th>\n",
              "      <td>-0.707458</td>\n",
              "      <td>0.002161</td>\n",
              "      <td>0.706752</td>\n",
              "    </tr>\n",
              "  </tbody>\n",
              "</table>\n",
              "</div>\n",
              "    <div class=\"colab-df-buttons\">\n",
              "\n",
              "  <div class=\"colab-df-container\">\n",
              "    <button class=\"colab-df-convert\" onclick=\"convertToInteractive('df-9beafced-1beb-4a9d-ac9f-305f914bc595')\"\n",
              "            title=\"Convert this dataframe to an interactive table.\"\n",
              "            style=\"display:none;\">\n",
              "\n",
              "  <svg xmlns=\"http://www.w3.org/2000/svg\" height=\"24px\" viewBox=\"0 -960 960 960\">\n",
              "    <path d=\"M120-120v-720h720v720H120Zm60-500h600v-160H180v160Zm220 220h160v-160H400v160Zm0 220h160v-160H400v160ZM180-400h160v-160H180v160Zm440 0h160v-160H620v160ZM180-180h160v-160H180v160Zm440 0h160v-160H620v160Z\"/>\n",
              "  </svg>\n",
              "    </button>\n",
              "\n",
              "  <style>\n",
              "    .colab-df-container {\n",
              "      display:flex;\n",
              "      gap: 12px;\n",
              "    }\n",
              "\n",
              "    .colab-df-convert {\n",
              "      background-color: #E8F0FE;\n",
              "      border: none;\n",
              "      border-radius: 50%;\n",
              "      cursor: pointer;\n",
              "      display: none;\n",
              "      fill: #1967D2;\n",
              "      height: 32px;\n",
              "      padding: 0 0 0 0;\n",
              "      width: 32px;\n",
              "    }\n",
              "\n",
              "    .colab-df-convert:hover {\n",
              "      background-color: #E2EBFA;\n",
              "      box-shadow: 0px 1px 2px rgba(60, 64, 67, 0.3), 0px 1px 3px 1px rgba(60, 64, 67, 0.15);\n",
              "      fill: #174EA6;\n",
              "    }\n",
              "\n",
              "    .colab-df-buttons div {\n",
              "      margin-bottom: 4px;\n",
              "    }\n",
              "\n",
              "    [theme=dark] .colab-df-convert {\n",
              "      background-color: #3B4455;\n",
              "      fill: #D2E3FC;\n",
              "    }\n",
              "\n",
              "    [theme=dark] .colab-df-convert:hover {\n",
              "      background-color: #434B5C;\n",
              "      box-shadow: 0px 1px 3px 1px rgba(0, 0, 0, 0.15);\n",
              "      filter: drop-shadow(0px 1px 2px rgba(0, 0, 0, 0.3));\n",
              "      fill: #FFFFFF;\n",
              "    }\n",
              "  </style>\n",
              "\n",
              "    <script>\n",
              "      const buttonEl =\n",
              "        document.querySelector('#df-9beafced-1beb-4a9d-ac9f-305f914bc595 button.colab-df-convert');\n",
              "      buttonEl.style.display =\n",
              "        google.colab.kernel.accessAllowed ? 'block' : 'none';\n",
              "\n",
              "      async function convertToInteractive(key) {\n",
              "        const element = document.querySelector('#df-9beafced-1beb-4a9d-ac9f-305f914bc595');\n",
              "        const dataTable =\n",
              "          await google.colab.kernel.invokeFunction('convertToInteractive',\n",
              "                                                    [key], {});\n",
              "        if (!dataTable) return;\n",
              "\n",
              "        const docLinkHtml = 'Like what you see? Visit the ' +\n",
              "          '<a target=\"_blank\" href=https://colab.research.google.com/notebooks/data_table.ipynb>data table notebook</a>'\n",
              "          + ' to learn more about interactive tables.';\n",
              "        element.innerHTML = '';\n",
              "        dataTable['output_type'] = 'display_data';\n",
              "        await google.colab.output.renderOutput(dataTable, element);\n",
              "        const docLink = document.createElement('div');\n",
              "        docLink.innerHTML = docLinkHtml;\n",
              "        element.appendChild(docLink);\n",
              "      }\n",
              "    </script>\n",
              "  </div>\n",
              "\n",
              "\n",
              "<div id=\"df-35baaef9-5182-4a9d-9bcd-84b2d1b6f6bd\">\n",
              "  <button class=\"colab-df-quickchart\" onclick=\"quickchart('df-35baaef9-5182-4a9d-9bcd-84b2d1b6f6bd')\"\n",
              "            title=\"Suggest charts\"\n",
              "            style=\"display:none;\">\n",
              "\n",
              "<svg xmlns=\"http://www.w3.org/2000/svg\" height=\"24px\"viewBox=\"0 0 24 24\"\n",
              "     width=\"24px\">\n",
              "    <g>\n",
              "        <path d=\"M19 3H5c-1.1 0-2 .9-2 2v14c0 1.1.9 2 2 2h14c1.1 0 2-.9 2-2V5c0-1.1-.9-2-2-2zM9 17H7v-7h2v7zm4 0h-2V7h2v10zm4 0h-2v-4h2v4z\"/>\n",
              "    </g>\n",
              "</svg>\n",
              "  </button>\n",
              "\n",
              "<style>\n",
              "  .colab-df-quickchart {\n",
              "      --bg-color: #E8F0FE;\n",
              "      --fill-color: #1967D2;\n",
              "      --hover-bg-color: #E2EBFA;\n",
              "      --hover-fill-color: #174EA6;\n",
              "      --disabled-fill-color: #AAA;\n",
              "      --disabled-bg-color: #DDD;\n",
              "  }\n",
              "\n",
              "  [theme=dark] .colab-df-quickchart {\n",
              "      --bg-color: #3B4455;\n",
              "      --fill-color: #D2E3FC;\n",
              "      --hover-bg-color: #434B5C;\n",
              "      --hover-fill-color: #FFFFFF;\n",
              "      --disabled-bg-color: #3B4455;\n",
              "      --disabled-fill-color: #666;\n",
              "  }\n",
              "\n",
              "  .colab-df-quickchart {\n",
              "    background-color: var(--bg-color);\n",
              "    border: none;\n",
              "    border-radius: 50%;\n",
              "    cursor: pointer;\n",
              "    display: none;\n",
              "    fill: var(--fill-color);\n",
              "    height: 32px;\n",
              "    padding: 0;\n",
              "    width: 32px;\n",
              "  }\n",
              "\n",
              "  .colab-df-quickchart:hover {\n",
              "    background-color: var(--hover-bg-color);\n",
              "    box-shadow: 0 1px 2px rgba(60, 64, 67, 0.3), 0 1px 3px 1px rgba(60, 64, 67, 0.15);\n",
              "    fill: var(--button-hover-fill-color);\n",
              "  }\n",
              "\n",
              "  .colab-df-quickchart-complete:disabled,\n",
              "  .colab-df-quickchart-complete:disabled:hover {\n",
              "    background-color: var(--disabled-bg-color);\n",
              "    fill: var(--disabled-fill-color);\n",
              "    box-shadow: none;\n",
              "  }\n",
              "\n",
              "  .colab-df-spinner {\n",
              "    border: 2px solid var(--fill-color);\n",
              "    border-color: transparent;\n",
              "    border-bottom-color: var(--fill-color);\n",
              "    animation:\n",
              "      spin 1s steps(1) infinite;\n",
              "  }\n",
              "\n",
              "  @keyframes spin {\n",
              "    0% {\n",
              "      border-color: transparent;\n",
              "      border-bottom-color: var(--fill-color);\n",
              "      border-left-color: var(--fill-color);\n",
              "    }\n",
              "    20% {\n",
              "      border-color: transparent;\n",
              "      border-left-color: var(--fill-color);\n",
              "      border-top-color: var(--fill-color);\n",
              "    }\n",
              "    30% {\n",
              "      border-color: transparent;\n",
              "      border-left-color: var(--fill-color);\n",
              "      border-top-color: var(--fill-color);\n",
              "      border-right-color: var(--fill-color);\n",
              "    }\n",
              "    40% {\n",
              "      border-color: transparent;\n",
              "      border-right-color: var(--fill-color);\n",
              "      border-top-color: var(--fill-color);\n",
              "    }\n",
              "    60% {\n",
              "      border-color: transparent;\n",
              "      border-right-color: var(--fill-color);\n",
              "    }\n",
              "    80% {\n",
              "      border-color: transparent;\n",
              "      border-right-color: var(--fill-color);\n",
              "      border-bottom-color: var(--fill-color);\n",
              "    }\n",
              "    90% {\n",
              "      border-color: transparent;\n",
              "      border-bottom-color: var(--fill-color);\n",
              "    }\n",
              "  }\n",
              "</style>\n",
              "\n",
              "  <script>\n",
              "    async function quickchart(key) {\n",
              "      const quickchartButtonEl =\n",
              "        document.querySelector('#' + key + ' button');\n",
              "      quickchartButtonEl.disabled = true;  // To prevent multiple clicks.\n",
              "      quickchartButtonEl.classList.add('colab-df-spinner');\n",
              "      try {\n",
              "        const charts = await google.colab.kernel.invokeFunction(\n",
              "            'suggestCharts', [key], {});\n",
              "      } catch (error) {\n",
              "        console.error('Error during call to suggestCharts:', error);\n",
              "      }\n",
              "      quickchartButtonEl.classList.remove('colab-df-spinner');\n",
              "      quickchartButtonEl.classList.add('colab-df-quickchart-complete');\n",
              "    }\n",
              "    (() => {\n",
              "      let quickchartButtonEl =\n",
              "        document.querySelector('#df-35baaef9-5182-4a9d-9bcd-84b2d1b6f6bd button');\n",
              "      quickchartButtonEl.style.display =\n",
              "        google.colab.kernel.accessAllowed ? 'block' : 'none';\n",
              "    })();\n",
              "  </script>\n",
              "</div>\n",
              "    </div>\n",
              "  </div>\n"
            ],
            "text/plain": [
              "     mean radius  mean texture  mean area\n",
              "PC1     0.658747      0.364287   0.658291\n",
              "PC2    -0.256038      0.931284  -0.259142\n",
              "PC3    -0.707458      0.002161   0.706752"
            ]
          },
          "execution_count": 195,
          "metadata": {},
          "output_type": "execute_result"
        }
      ],
      "source": [
        "# Extraer etiquetas del modelo\n",
        "modelo_pca = pca_pipe.named_steps['pca']\n",
        "componentes = modelo_pca.components_\n",
        "pd.DataFrame(\n",
        "    data    = modelo_pca.components_,\n",
        "    columns = df[cols].columns,\n",
        "    index   = ['PC1', 'PC2', 'PC3']\n",
        ")"
      ]
    },
    {
      "cell_type": "markdown",
      "metadata": {
        "id": "9bXJy3E8p3zw"
      },
      "source": [
        "El vector de cada componente muestra los coeficientes de la combinación lineal de las variables originales que lo forman. Por ejemplo,\n",
        "\n",
        "$$PC1 = 0.658 *Mean Radius+0.364 * Mean Texture + 0.658 Mean Area$$"
      ]
    },
    {
      "cell_type": "markdown",
      "metadata": {
        "id": "qxGEDUTUqSZw"
      },
      "source": [
        "Los pesos asignados a las variables 'mean radius' y 'mean area' son aproximadamente iguales entre ellos y mayores a 'mean texture' lo que significa que la primera componente obtiene más información de estas dos variables."
      ]
    },
    {
      "cell_type": "markdown",
      "metadata": {
        "id": "laKsCZ3CqgPg"
      },
      "source": [
        "La influencia de cada variable en los componentes puede analizarse usando un heatmap."
      ]
    },
    {
      "cell_type": "code",
      "execution_count": null,
      "metadata": {
        "colab": {
          "base_uri": "https://localhost:8080/",
          "height": 221
        },
        "id": "KY3f6sMoql2o",
        "outputId": "159b81e5-963d-4b04-98c3-b21d33456f67"
      },
      "outputs": [
        {
          "data": {
            "image/png": "[encoded data removed]",
            "text/plain": [
              "<Figure size 400x200 with 2 Axes>"
            ]
          },
          "metadata": {},
          "output_type": "display_data"
        }
      ],
      "source": [
        "fig, ax = plt.subplots(figsize=(4, 2))  # Configura el tamaño de la figura\n",
        "sns.heatmap(componentes , cmap='viridis',\n",
        "            ax=ax, cbar_kws={'label': 'Coeficiente (Intensidad)'})\n",
        "ax.set_yticks(np.arange(len(df[cols].columns)))\n",
        "ax.set_yticklabels(df[cols].columns, rotation=0)\n",
        "ax.set_xticks(np.arange(3)+.5)\n",
        "ax.set_xticklabels([\"PC1\", \"PC2\", \"PC3\"])\n",
        "plt.show()"
      ]
    },
    {
      "cell_type": "markdown",
      "metadata": {
        "id": "Flpf3qR3riUf"
      },
      "source": [
        "Una vez calculadas las componentes principales, se puede conocer la cantidad de varianza que explica cada una, su proporción respecto al total y la proporción acumulada.\n",
        "\n",
        "Esta información se encuentra en los atributos 'explained_variance_' y 'explained_variance_ratio_'"
      ]
    },
    {
      "cell_type": "code",
      "execution_count": null,
      "metadata": {
        "colab": {
          "base_uri": "https://localhost:8080/"
        },
        "id": "gnkpBDhZr1P5",
        "outputId": "d20d3e52-7ec0-4757-89b5-d5e65b739801"
      },
      "outputs": [
        {
          "name": "stdout",
          "output_type": "stream",
          "text": [
            "Porcentaje de varianza explicada por cada componente\n",
            "----------------------------------------------------\n",
            "[0.72190823 0.27387887 0.0042129 ]\n"
          ]
        }
      ],
      "source": [
        "print('Porcentaje de varianza explicada por cada componente')\n",
        "print('----------------------------------------------------')\n",
        "print(modelo_pca.explained_variance_ratio_)"
      ]
    },
    {
      "cell_type": "code",
      "execution_count": null,
      "metadata": {
        "colab": {
          "base_uri": "https://localhost:8080/",
          "height": 427
        },
        "id": "yJCUAHG2r5pd",
        "outputId": "8bd99712-ca7c-41c4-beee-cf3a9b8b6a6d"
      },
      "outputs": [
        {
          "data": {
            "text/plain": [
              "Text(0, 0.5, '$\\\\%$ varianza')"
            ]
          },
          "execution_count": 198,
          "metadata": {},
          "output_type": "execute_result"
        },
        {
          "data": {
            "image/png": "[encoded data removed]",
            "text/plain": [
              "<Figure size 600x400 with 1 Axes>"
            ]
          },
          "metadata": {},
          "output_type": "display_data"
        }
      ],
      "source": [
        "fig, ax = plt.subplots(figsize=(6, 4))\n",
        "ax.bar(x = np.arange(modelo_pca.n_components_) + 1,\n",
        "    height = modelo_pca.explained_variance_ratio_)\n",
        "for x, y in zip(np.arange(len(df[cols].columns)) + 1, modelo_pca.explained_variance_ratio_):\n",
        "    label = round(y, 2)\n",
        "    ax.annotate(\n",
        "        label,\n",
        "        (x,y),\n",
        "        textcoords=\"offset points\",\n",
        "        xytext=(0,10),\n",
        "        ha='center'\n",
        "    )\n",
        "ax.set_xticks(np.arange(3)+1)\n",
        "ax.set_xticklabels([\"PC1\", \"PC2\", \"PC3\"])\n",
        "ax.set_ylim(0, 1.1)\n",
        "ax.set_title(f'Porcentaje de varianza explicada por cada componente')\n",
        "ax.set_xlabel('Componente principal')\n",
        "ax.set_ylabel(f'$\\%$ varianza')"
      ]
    },
    {
      "cell_type": "code",
      "execution_count": null,
      "metadata": {
        "colab": {
          "base_uri": "https://localhost:8080/"
        },
        "id": "J8SLIqiws7QR",
        "outputId": "52afa207-afc5-4945-c236-273be1a2273e"
      },
      "outputs": [
        {
          "name": "stdout",
          "output_type": "stream",
          "text": [
            "Porcentaje de varianza explicada acumulada\n",
            "------------------------------------------\n",
            "[0.72190823 0.9957871  1.        ]\n"
          ]
        }
      ],
      "source": [
        "prop_varianza_acum = modelo_pca.explained_variance_ratio_.cumsum()\n",
        "print('Porcentaje de varianza explicada acumulada')\n",
        "print('------------------------------------------')\n",
        "print(prop_varianza_acum)"
      ]
    },
    {
      "cell_type": "code",
      "execution_count": null,
      "metadata": {
        "colab": {
          "base_uri": "https://localhost:8080/",
          "height": 410
        },
        "id": "cQ3z_l4WsyqG",
        "outputId": "3c28f0a5-f54e-49d4-e84c-3dde715bf983"
      },
      "outputs": [
        {
          "data": {
            "image/png": "[encoded data removed]",
            "text/plain": [
              "<Figure size 600x400 with 1 Axes>"
            ]
          },
          "metadata": {},
          "output_type": "display_data"
        }
      ],
      "source": [
        "fig, ax = plt.subplots(figsize=(6, 4))\n",
        "ax.plot(np.arange(len(df[cols].columns)) + 1,\n",
        "        prop_varianza_acum,\n",
        "        marker = 'o'\n",
        ")\n",
        "for x, y in zip(np.arange(len(df[cols].columns)) + 1, prop_varianza_acum):\n",
        "    label = round(y, 2)\n",
        "    ax.annotate(\n",
        "        label,\n",
        "        (x,y),\n",
        "        textcoords=\"offset points\",\n",
        "        xytext=(0,10),\n",
        "        ha='center'\n",
        "    )\n",
        "\n",
        "ax.set_ylim(0, 1.1)\n",
        "ax.set_xticks(np.arange(3)+1)\n",
        "ax.set_xticklabels([\"PC1\", \"PC2\", \"PC3\"])\n",
        "ax.set_title('Porcentaje de varianza explicada acumulada')\n",
        "ax.set_xlabel('Componente principal')\n",
        "ax.set_ylabel(f'$\\%$ varianza acumulada');"
      ]
    },
    {
      "cell_type": "markdown",
      "metadata": {
        "id": "9QzLflH2tKe1"
      },
      "source": [
        "Una vez entrenado el modelo, con el método transform() se puede reducir la dimensionalidad de nuevas observaciones proyectándolas en el espacio definido por las componentes."
      ]
    },
    {
      "cell_type": "markdown",
      "metadata": {
        "id": "AbcakLY5tTWP"
      },
      "source": [
        "### **Transformación**"
      ]
    },
    {
      "cell_type": "code",
      "execution_count": null,
      "metadata": {
        "colab": {
          "base_uri": "https://localhost:8080/",
          "height": 206
        },
        "id": "wL9YfH58tMNX",
        "outputId": "d7c10782-8a86-4b76-99ac-5ca50d1d97f3"
      },
      "outputs": [
        {
          "data": {
            "application/vnd.google.colaboratory.intrinsic+json": {
              "summary": "{\n  \"name\": \"proyecciones\",\n  \"rows\": 569,\n  \"fields\": [\n    {\n      \"column\": \"PC1\",\n      \"properties\": {\n        \"dtype\": \"number\",\n        \"std\": 1.4729350195688005,\n        \"min\": -2.7912062872357355,\n        \"max\": 6.535094808539929,\n        \"num_unique_values\": 569,\n        \"samples\": [\n          -0.6924098987645589,\n          1.961221114287086,\n          0.441489268124157\n        ],\n        \"semantic_type\": \"\",\n        \"description\": \"\"\n      }\n    },\n    {\n      \"column\": \"PC2\",\n      \"properties\": {\n        \"dtype\": \"number\",\n        \"std\": 0.9072393056838447,\n        \"min\": -2.5535864012361533,\n        \"max\": 3.8940463202178677,\n        \"num_unique_values\": 569,\n        \"samples\": [\n          0.09855488981929078,\n          -0.26229814282983066,\n          -0.12494849889100251\n        ],\n        \"semantic_type\": \"\",\n        \"description\": \"\"\n      }\n    },\n    {\n      \"column\": \"PC3\",\n      \"properties\": {\n        \"dtype\": \"number\",\n        \"std\": 0.11252093356792596,\n        \"min\": -0.1574834796499477,\n        \"max\": 1.0434546797065598,\n        \"num_unique_values\": 569,\n        \"samples\": [\n          -0.015071559859718146,\n          -0.01098335461210371,\n          -0.07871379457894079\n        ],\n        \"semantic_type\": \"\",\n        \"description\": \"\"\n      }\n    }\n  ]\n}",
              "type": "dataframe",
              "variable_name": "proyecciones"
            },
            "text/html": [
              "\n",
              "  <div id=\"df-5841c4d5-569a-4961-a818-d0f9656f573a\" class=\"colab-df-container\">\n",
              "    <div>\n",
              "<style scoped>\n",
              "    .dataframe tbody tr th:only-of-type {\n",
              "        vertical-align: middle;\n",
              "    }\n",
              "\n",
              "    .dataframe tbody tr th {\n",
              "        vertical-align: top;\n",
              "    }\n",
              "\n",
              "    .dataframe thead th {\n",
              "        text-align: right;\n",
              "    }\n",
              "</style>\n",
              "<table border=\"1\" class=\"dataframe\">\n",
              "  <thead>\n",
              "    <tr style=\"text-align: right;\">\n",
              "      <th></th>\n",
              "      <th>PC1</th>\n",
              "      <th>PC2</th>\n",
              "      <th>PC3</th>\n",
              "    </tr>\n",
              "  </thead>\n",
              "  <tbody>\n",
              "    <tr>\n",
              "      <th>0</th>\n",
              "      <td>0.615404</td>\n",
              "      <td>-2.466846</td>\n",
              "      <td>-0.084899</td>\n",
              "    </tr>\n",
              "    <tr>\n",
              "      <th>1</th>\n",
              "      <td>2.333051</td>\n",
              "      <td>-1.292461</td>\n",
              "      <td>0.053698</td>\n",
              "    </tr>\n",
              "    <tr>\n",
              "      <th>2</th>\n",
              "      <td>2.233129</td>\n",
              "      <td>-0.383643</td>\n",
              "      <td>-0.014974</td>\n",
              "    </tr>\n",
              "    <tr>\n",
              "      <th>3</th>\n",
              "      <td>-0.917325</td>\n",
              "      <td>0.631271</td>\n",
              "      <td>0.004233</td>\n",
              "    </tr>\n",
              "    <tr>\n",
              "      <th>4</th>\n",
              "      <td>1.935602</td>\n",
              "      <td>-1.994062</td>\n",
              "      <td>0.049941</td>\n",
              "    </tr>\n",
              "  </tbody>\n",
              "</table>\n",
              "</div>\n",
              "    <div class=\"colab-df-buttons\">\n",
              "\n",
              "  <div class=\"colab-df-container\">\n",
              "    <button class=\"colab-df-convert\" onclick=\"convertToInteractive('df-5841c4d5-569a-4961-a818-d0f9656f573a')\"\n",
              "            title=\"Convert this dataframe to an interactive table.\"\n",
              "            style=\"display:none;\">\n",
              "\n",
              "  <svg xmlns=\"http://www.w3.org/2000/svg\" height=\"24px\" viewBox=\"0 -960 960 960\">\n",
              "    <path d=\"M120-120v-720h720v720H120Zm60-500h600v-160H180v160Zm220 220h160v-160H400v160Zm0 220h160v-160H400v160ZM180-400h160v-160H180v160Zm440 0h160v-160H620v160ZM180-180h160v-160H180v160Zm440 0h160v-160H620v160Z\"/>\n",
              "  </svg>\n",
              "    </button>\n",
              "\n",
              "  <style>\n",
              "    .colab-df-container {\n",
              "      display:flex;\n",
              "      gap: 12px;\n",
              "    }\n",
              "\n",
              "    .colab-df-convert {\n",
              "      background-color: #E8F0FE;\n",
              "      border: none;\n",
              "      border-radius: 50%;\n",
              "      cursor: pointer;\n",
              "      display: none;\n",
              "      fill: #1967D2;\n",
              "      height: 32px;\n",
              "      padding: 0 0 0 0;\n",
              "      width: 32px;\n",
              "    }\n",
              "\n",
              "    .colab-df-convert:hover {\n",
              "      background-color: #E2EBFA;\n",
              "      box-shadow: 0px 1px 2px rgba(60, 64, 67, 0.3), 0px 1px 3px 1px rgba(60, 64, 67, 0.15);\n",
              "      fill: #174EA6;\n",
              "    }\n",
              "\n",
              "    .colab-df-buttons div {\n",
              "      margin-bottom: 4px;\n",
              "    }\n",
              "\n",
              "    [theme=dark] .colab-df-convert {\n",
              "      background-color: #3B4455;\n",
              "      fill: #D2E3FC;\n",
              "    }\n",
              "\n",
              "    [theme=dark] .colab-df-convert:hover {\n",
              "      background-color: #434B5C;\n",
              "      box-shadow: 0px 1px 3px 1px rgba(0, 0, 0, 0.15);\n",
              "      filter: drop-shadow(0px 1px 2px rgba(0, 0, 0, 0.3));\n",
              "      fill: #FFFFFF;\n",
              "    }\n",
              "  </style>\n",
              "\n",
              "    <script>\n",
              "      const buttonEl =\n",
              "        document.querySelector('#df-5841c4d5-569a-4961-a818-d0f9656f573a button.colab-df-convert');\n",
              "      buttonEl.style.display =\n",
              "        google.colab.kernel.accessAllowed ? 'block' : 'none';\n",
              "\n",
              "      async function convertToInteractive(key) {\n",
              "        const element = document.querySelector('#df-5841c4d5-569a-4961-a818-d0f9656f573a');\n",
              "        const dataTable =\n",
              "          await google.colab.kernel.invokeFunction('convertToInteractive',\n",
              "                                                    [key], {});\n",
              "        if (!dataTable) return;\n",
              "\n",
              "        const docLinkHtml = 'Like what you see? Visit the ' +\n",
              "          '<a target=\"_blank\" href=https://colab.research.google.com/notebooks/data_table.ipynb>data table notebook</a>'\n",
              "          + ' to learn more about interactive tables.';\n",
              "        element.innerHTML = '';\n",
              "        dataTable['output_type'] = 'display_data';\n",
              "        await google.colab.output.renderOutput(dataTable, element);\n",
              "        const docLink = document.createElement('div');\n",
              "        docLink.innerHTML = docLinkHtml;\n",
              "        element.appendChild(docLink);\n",
              "      }\n",
              "    </script>\n",
              "  </div>\n",
              "\n",
              "\n",
              "<div id=\"df-dd14e968-cf9b-48de-8f42-84a086416fbe\">\n",
              "  <button class=\"colab-df-quickchart\" onclick=\"quickchart('df-dd14e968-cf9b-48de-8f42-84a086416fbe')\"\n",
              "            title=\"Suggest charts\"\n",
              "            style=\"display:none;\">\n",
              "\n",
              "<svg xmlns=\"http://www.w3.org/2000/svg\" height=\"24px\"viewBox=\"0 0 24 24\"\n",
              "     width=\"24px\">\n",
              "    <g>\n",
              "        <path d=\"M19 3H5c-1.1 0-2 .9-2 2v14c0 1.1.9 2 2 2h14c1.1 0 2-.9 2-2V5c0-1.1-.9-2-2-2zM9 17H7v-7h2v7zm4 0h-2V7h2v10zm4 0h-2v-4h2v4z\"/>\n",
              "    </g>\n",
              "</svg>\n",
              "  </button>\n",
              "\n",
              "<style>\n",
              "  .colab-df-quickchart {\n",
              "      --bg-color: #E8F0FE;\n",
              "      --fill-color: #1967D2;\n",
              "      --hover-bg-color: #E2EBFA;\n",
              "      --hover-fill-color: #174EA6;\n",
              "      --disabled-fill-color: #AAA;\n",
              "      --disabled-bg-color: #DDD;\n",
              "  }\n",
              "\n",
              "  [theme=dark] .colab-df-quickchart {\n",
              "      --bg-color: #3B4455;\n",
              "      --fill-color: #D2E3FC;\n",
              "      --hover-bg-color: #434B5C;\n",
              "      --hover-fill-color: #FFFFFF;\n",
              "      --disabled-bg-color: #3B4455;\n",
              "      --disabled-fill-color: #666;\n",
              "  }\n",
              "\n",
              "  .colab-df-quickchart {\n",
              "    background-color: var(--bg-color);\n",
              "    border: none;\n",
              "    border-radius: 50%;\n",
              "    cursor: pointer;\n",
              "    display: none;\n",
              "    fill: var(--fill-color);\n",
              "    height: 32px;\n",
              "    padding: 0;\n",
              "    width: 32px;\n",
              "  }\n",
              "\n",
              "  .colab-df-quickchart:hover {\n",
              "    background-color: var(--hover-bg-color);\n",
              "    box-shadow: 0 1px 2px rgba(60, 64, 67, 0.3), 0 1px 3px 1px rgba(60, 64, 67, 0.15);\n",
              "    fill: var(--button-hover-fill-color);\n",
              "  }\n",
              "\n",
              "  .colab-df-quickchart-complete:disabled,\n",
              "  .colab-df-quickchart-complete:disabled:hover {\n",
              "    background-color: var(--disabled-bg-color);\n",
              "    fill: var(--disabled-fill-color);\n",
              "    box-shadow: none;\n",
              "  }\n",
              "\n",
              "  .colab-df-spinner {\n",
              "    border: 2px solid var(--fill-color);\n",
              "    border-color: transparent;\n",
              "    border-bottom-color: var(--fill-color);\n",
              "    animation:\n",
              "      spin 1s steps(1) infinite;\n",
              "  }\n",
              "\n",
              "  @keyframes spin {\n",
              "    0% {\n",
              "      border-color: transparent;\n",
              "      border-bottom-color: var(--fill-color);\n",
              "      border-left-color: var(--fill-color);\n",
              "    }\n",
              "    20% {\n",
              "      border-color: transparent;\n",
              "      border-left-color: var(--fill-color);\n",
              "      border-top-color: var(--fill-color);\n",
              "    }\n",
              "    30% {\n",
              "      border-color: transparent;\n",
              "      border-left-color: var(--fill-color);\n",
              "      border-top-color: var(--fill-color);\n",
              "      border-right-color: var(--fill-color);\n",
              "    }\n",
              "    40% {\n",
              "      border-color: transparent;\n",
              "      border-right-color: var(--fill-color);\n",
              "      border-top-color: var(--fill-color);\n",
              "    }\n",
              "    60% {\n",
              "      border-color: transparent;\n",
              "      border-right-color: var(--fill-color);\n",
              "    }\n",
              "    80% {\n",
              "      border-color: transparent;\n",
              "      border-right-color: var(--fill-color);\n",
              "      border-bottom-color: var(--fill-color);\n",
              "    }\n",
              "    90% {\n",
              "      border-color: transparent;\n",
              "      border-bottom-color: var(--fill-color);\n",
              "    }\n",
              "  }\n",
              "</style>\n",
              "\n",
              "  <script>\n",
              "    async function quickchart(key) {\n",
              "      const quickchartButtonEl =\n",
              "        document.querySelector('#' + key + ' button');\n",
              "      quickchartButtonEl.disabled = true;  // To prevent multiple clicks.\n",
              "      quickchartButtonEl.classList.add('colab-df-spinner');\n",
              "      try {\n",
              "        const charts = await google.colab.kernel.invokeFunction(\n",
              "            'suggestCharts', [key], {});\n",
              "      } catch (error) {\n",
              "        console.error('Error during call to suggestCharts:', error);\n",
              "      }\n",
              "      quickchartButtonEl.classList.remove('colab-df-spinner');\n",
              "      quickchartButtonEl.classList.add('colab-df-quickchart-complete');\n",
              "    }\n",
              "    (() => {\n",
              "      let quickchartButtonEl =\n",
              "        document.querySelector('#df-dd14e968-cf9b-48de-8f42-84a086416fbe button');\n",
              "      quickchartButtonEl.style.display =\n",
              "        google.colab.kernel.accessAllowed ? 'block' : 'none';\n",
              "    })();\n",
              "  </script>\n",
              "</div>\n",
              "    </div>\n",
              "  </div>\n"
            ],
            "text/plain": [
              "        PC1       PC2       PC3\n",
              "0  0.615404 -2.466846 -0.084899\n",
              "1  2.333051 -1.292461  0.053698\n",
              "2  2.233129 -0.383643 -0.014974\n",
              "3 -0.917325  0.631271  0.004233\n",
              "4  1.935602 -1.994062  0.049941"
            ]
          },
          "execution_count": 201,
          "metadata": {},
          "output_type": "execute_result"
        }
      ],
      "source": [
        "# Proyección de las observaciones de entrenamiento\n",
        "proyecciones = pca_pipe.transform(X=df[cols])\n",
        "proyecciones = pd.DataFrame(\n",
        "    proyecciones,\n",
        "    columns = ['PC1', 'PC2', 'PC3'],\n",
        "    index   = df[cols].index\n",
        ")\n",
        "proyecciones.head()"
      ]
    },
    {
      "cell_type": "markdown",
      "metadata": {
        "id": "0oWI6ht8tVC-"
      },
      "source": [
        "### **Reconstrucción**"
      ]
    },
    {
      "cell_type": "markdown",
      "metadata": {
        "id": "9DDVvFhntYcW"
      },
      "source": [
        "Puede revertirse la transformación y reconstruir el valor inicial con el método inverse_transform(). Es importante tener en cuenta que, la reconstrucción, solo será completa si se han incluido todas las componentes."
      ]
    },
    {
      "cell_type": "code",
      "execution_count": null,
      "metadata": {
        "colab": {
          "base_uri": "https://localhost:8080/",
          "height": 464
        },
        "id": "ITcJnjkutaHi",
        "outputId": "88232e02-2b7e-4b32-a694-732325257631"
      },
      "outputs": [
        {
          "name": "stdout",
          "output_type": "stream",
          "text": [
            "------------------\n",
            "Valores originales\n"
          ]
        },
        {
          "data": {
            "application/vnd.google.colaboratory.intrinsic+json": {
              "summary": "{\n  \"name\": \"display(df[cols]\",\n  \"rows\": 5,\n  \"fields\": [\n    {\n      \"column\": \"mean radius\",\n      \"properties\": {\n        \"dtype\": \"number\",\n        \"std\": 1.0815057720346053,\n        \"min\": -0.7689092872596209,\n        \"max\": 1.829820607546446,\n        \"num_unique_values\": 5,\n        \"samples\": [\n          1.829820607546446,\n          1.7502966326234184,\n          1.5798881149312183\n        ],\n        \"semantic_type\": \"\",\n        \"description\": \"\"\n      }\n    },\n    {\n      \"column\": \"mean texture\",\n      \"properties\": {\n        \"dtype\": \"number\",\n        \"std\": 1.0460478643790492,\n        \"min\": -2.0733350146975935,\n        \"max\": 0.4561869517641942,\n        \"num_unique_values\": 5,\n        \"samples\": [\n          -0.35363240824381165,\n          -1.1518164326195182,\n          0.4561869517641942\n        ],\n        \"semantic_type\": \"\",\n        \"description\": \"\"\n      }\n    },\n    {\n      \"column\": \"mean area\",\n      \"properties\": {\n        \"dtype\": \"number\",\n        \"std\": 1.1047113734125429,\n        \"min\": -0.7644637923250284,\n        \"max\": 1.9087082542365934,\n        \"num_unique_values\": 5,\n        \"samples\": [\n          1.9087082542365934,\n          1.8262292784409906,\n          1.558883632758692\n        ],\n        \"semantic_type\": \"\",\n        \"description\": \"\"\n      }\n    }\n  ]\n}",
              "type": "dataframe"
            },
            "text/html": [
              "\n",
              "  <div id=\"df-dc060830-7fcc-406d-ac59-a155b8049bb0\" class=\"colab-df-container\">\n",
              "    <div>\n",
              "<style scoped>\n",
              "    .dataframe tbody tr th:only-of-type {\n",
              "        vertical-align: middle;\n",
              "    }\n",
              "\n",
              "    .dataframe tbody tr th {\n",
              "        vertical-align: top;\n",
              "    }\n",
              "\n",
              "    .dataframe thead th {\n",
              "        text-align: right;\n",
              "    }\n",
              "</style>\n",
              "<table border=\"1\" class=\"dataframe\">\n",
              "  <thead>\n",
              "    <tr style=\"text-align: right;\">\n",
              "      <th></th>\n",
              "      <th>mean radius</th>\n",
              "      <th>mean texture</th>\n",
              "      <th>mean area</th>\n",
              "    </tr>\n",
              "  </thead>\n",
              "  <tbody>\n",
              "    <tr>\n",
              "      <th>0</th>\n",
              "      <td>1.097064</td>\n",
              "      <td>-2.073335</td>\n",
              "      <td>0.984375</td>\n",
              "    </tr>\n",
              "    <tr>\n",
              "      <th>1</th>\n",
              "      <td>1.829821</td>\n",
              "      <td>-0.353632</td>\n",
              "      <td>1.908708</td>\n",
              "    </tr>\n",
              "    <tr>\n",
              "      <th>2</th>\n",
              "      <td>1.579888</td>\n",
              "      <td>0.456187</td>\n",
              "      <td>1.558884</td>\n",
              "    </tr>\n",
              "    <tr>\n",
              "      <th>3</th>\n",
              "      <td>-0.768909</td>\n",
              "      <td>0.253732</td>\n",
              "      <td>-0.764464</td>\n",
              "    </tr>\n",
              "    <tr>\n",
              "      <th>4</th>\n",
              "      <td>1.750297</td>\n",
              "      <td>-1.151816</td>\n",
              "      <td>1.826229</td>\n",
              "    </tr>\n",
              "  </tbody>\n",
              "</table>\n",
              "</div>\n",
              "    <div class=\"colab-df-buttons\">\n",
              "\n",
              "  <div class=\"colab-df-container\">\n",
              "    <button class=\"colab-df-convert\" onclick=\"convertToInteractive('df-dc060830-7fcc-406d-ac59-a155b8049bb0')\"\n",
              "            title=\"Convert this dataframe to an interactive table.\"\n",
              "            style=\"display:none;\">\n",
              "\n",
              "  <svg xmlns=\"http://www.w3.org/2000/svg\" height=\"24px\" viewBox=\"0 -960 960 960\">\n",
              "    <path d=\"M120-120v-720h720v720H120Zm60-500h600v-160H180v160Zm220 220h160v-160H400v160Zm0 220h160v-160H400v160ZM180-400h160v-160H180v160Zm440 0h160v-160H620v160ZM180-180h160v-160H180v160Zm440 0h160v-160H620v160Z\"/>\n",
              "  </svg>\n",
              "    </button>\n",
              "\n",
              "  <style>\n",
              "    .colab-df-container {\n",
              "      display:flex;\n",
              "      gap: 12px;\n",
              "    }\n",
              "\n",
              "    .colab-df-convert {\n",
              "      background-color: #E8F0FE;\n",
              "      border: none;\n",
              "      border-radius: 50%;\n",
              "      cursor: pointer;\n",
              "      display: none;\n",
              "      fill: #1967D2;\n",
              "      height: 32px;\n",
              "      padding: 0 0 0 0;\n",
              "      width: 32px;\n",
              "    }\n",
              "\n",
              "    .colab-df-convert:hover {\n",
              "      background-color: #E2EBFA;\n",
              "      box-shadow: 0px 1px 2px rgba(60, 64, 67, 0.3), 0px 1px 3px 1px rgba(60, 64, 67, 0.15);\n",
              "      fill: #174EA6;\n",
              "    }\n",
              "\n",
              "    .colab-df-buttons div {\n",
              "      margin-bottom: 4px;\n",
              "    }\n",
              "\n",
              "    [theme=dark] .colab-df-convert {\n",
              "      background-color: #3B4455;\n",
              "      fill: #D2E3FC;\n",
              "    }\n",
              "\n",
              "    [theme=dark] .colab-df-convert:hover {\n",
              "      background-color: #434B5C;\n",
              "      box-shadow: 0px 1px 3px 1px rgba(0, 0, 0, 0.15);\n",
              "      filter: drop-shadow(0px 1px 2px rgba(0, 0, 0, 0.3));\n",
              "      fill: #FFFFFF;\n",
              "    }\n",
              "  </style>\n",
              "\n",
              "    <script>\n",
              "      const buttonEl =\n",
              "        document.querySelector('#df-dc060830-7fcc-406d-ac59-a155b8049bb0 button.colab-df-convert');\n",
              "      buttonEl.style.display =\n",
              "        google.colab.kernel.accessAllowed ? 'block' : 'none';\n",
              "\n",
              "      async function convertToInteractive(key) {\n",
              "        const element = document.querySelector('#df-dc060830-7fcc-406d-ac59-a155b8049bb0');\n",
              "        const dataTable =\n",
              "          await google.colab.kernel.invokeFunction('convertToInteractive',\n",
              "                                                    [key], {});\n",
              "        if (!dataTable) return;\n",
              "\n",
              "        const docLinkHtml = 'Like what you see? Visit the ' +\n",
              "          '<a target=\"_blank\" href=https://colab.research.google.com/notebooks/data_table.ipynb>data table notebook</a>'\n",
              "          + ' to learn more about interactive tables.';\n",
              "        element.innerHTML = '';\n",
              "        dataTable['output_type'] = 'display_data';\n",
              "        await google.colab.output.renderOutput(dataTable, element);\n",
              "        const docLink = document.createElement('div');\n",
              "        docLink.innerHTML = docLinkHtml;\n",
              "        element.appendChild(docLink);\n",
              "      }\n",
              "    </script>\n",
              "  </div>\n",
              "\n",
              "\n",
              "<div id=\"df-88baebf6-a8c0-4b60-8707-917997b51d63\">\n",
              "  <button class=\"colab-df-quickchart\" onclick=\"quickchart('df-88baebf6-a8c0-4b60-8707-917997b51d63')\"\n",
              "            title=\"Suggest charts\"\n",
              "            style=\"display:none;\">\n",
              "\n",
              "<svg xmlns=\"http://www.w3.org/2000/svg\" height=\"24px\"viewBox=\"0 0 24 24\"\n",
              "     width=\"24px\">\n",
              "    <g>\n",
              "        <path d=\"M19 3H5c-1.1 0-2 .9-2 2v14c0 1.1.9 2 2 2h14c1.1 0 2-.9 2-2V5c0-1.1-.9-2-2-2zM9 17H7v-7h2v7zm4 0h-2V7h2v10zm4 0h-2v-4h2v4z\"/>\n",
              "    </g>\n",
              "</svg>\n",
              "  </button>\n",
              "\n",
              "<style>\n",
              "  .colab-df-quickchart {\n",
              "      --bg-color: #E8F0FE;\n",
              "      --fill-color: #1967D2;\n",
              "      --hover-bg-color: #E2EBFA;\n",
              "      --hover-fill-color: #174EA6;\n",
              "      --disabled-fill-color: #AAA;\n",
              "      --disabled-bg-color: #DDD;\n",
              "  }\n",
              "\n",
              "  [theme=dark] .colab-df-quickchart {\n",
              "      --bg-color: #3B4455;\n",
              "      --fill-color: #D2E3FC;\n",
              "      --hover-bg-color: #434B5C;\n",
              "      --hover-fill-color: #FFFFFF;\n",
              "      --disabled-bg-color: #3B4455;\n",
              "      --disabled-fill-color: #666;\n",
              "  }\n",
              "\n",
              "  .colab-df-quickchart {\n",
              "    background-color: var(--bg-color);\n",
              "    border: none;\n",
              "    border-radius: 50%;\n",
              "    cursor: pointer;\n",
              "    display: none;\n",
              "    fill: var(--fill-color);\n",
              "    height: 32px;\n",
              "    padding: 0;\n",
              "    width: 32px;\n",
              "  }\n",
              "\n",
              "  .colab-df-quickchart:hover {\n",
              "    background-color: var(--hover-bg-color);\n",
              "    box-shadow: 0 1px 2px rgba(60, 64, 67, 0.3), 0 1px 3px 1px rgba(60, 64, 67, 0.15);\n",
              "    fill: var(--button-hover-fill-color);\n",
              "  }\n",
              "\n",
              "  .colab-df-quickchart-complete:disabled,\n",
              "  .colab-df-quickchart-complete:disabled:hover {\n",
              "    background-color: var(--disabled-bg-color);\n",
              "    fill: var(--disabled-fill-color);\n",
              "    box-shadow: none;\n",
              "  }\n",
              "\n",
              "  .colab-df-spinner {\n",
              "    border: 2px solid var(--fill-color);\n",
              "    border-color: transparent;\n",
              "    border-bottom-color: var(--fill-color);\n",
              "    animation:\n",
              "      spin 1s steps(1) infinite;\n",
              "  }\n",
              "\n",
              "  @keyframes spin {\n",
              "    0% {\n",
              "      border-color: transparent;\n",
              "      border-bottom-color: var(--fill-color);\n",
              "      border-left-color: var(--fill-color);\n",
              "    }\n",
              "    20% {\n",
              "      border-color: transparent;\n",
              "      border-left-color: var(--fill-color);\n",
              "      border-top-color: var(--fill-color);\n",
              "    }\n",
              "    30% {\n",
              "      border-color: transparent;\n",
              "      border-left-color: var(--fill-color);\n",
              "      border-top-color: var(--fill-color);\n",
              "      border-right-color: var(--fill-color);\n",
              "    }\n",
              "    40% {\n",
              "      border-color: transparent;\n",
              "      border-right-color: var(--fill-color);\n",
              "      border-top-color: var(--fill-color);\n",
              "    }\n",
              "    60% {\n",
              "      border-color: transparent;\n",
              "      border-right-color: var(--fill-color);\n",
              "    }\n",
              "    80% {\n",
              "      border-color: transparent;\n",
              "      border-right-color: var(--fill-color);\n",
              "      border-bottom-color: var(--fill-color);\n",
              "    }\n",
              "    90% {\n",
              "      border-color: transparent;\n",
              "      border-bottom-color: var(--fill-color);\n",
              "    }\n",
              "  }\n",
              "</style>\n",
              "\n",
              "  <script>\n",
              "    async function quickchart(key) {\n",
              "      const quickchartButtonEl =\n",
              "        document.querySelector('#' + key + ' button');\n",
              "      quickchartButtonEl.disabled = true;  // To prevent multiple clicks.\n",
              "      quickchartButtonEl.classList.add('colab-df-spinner');\n",
              "      try {\n",
              "        const charts = await google.colab.kernel.invokeFunction(\n",
              "            'suggestCharts', [key], {});\n",
              "      } catch (error) {\n",
              "        console.error('Error during call to suggestCharts:', error);\n",
              "      }\n",
              "      quickchartButtonEl.classList.remove('colab-df-spinner');\n",
              "      quickchartButtonEl.classList.add('colab-df-quickchart-complete');\n",
              "    }\n",
              "    (() => {\n",
              "      let quickchartButtonEl =\n",
              "        document.querySelector('#df-88baebf6-a8c0-4b60-8707-917997b51d63 button');\n",
              "      quickchartButtonEl.style.display =\n",
              "        google.colab.kernel.accessAllowed ? 'block' : 'none';\n",
              "    })();\n",
              "  </script>\n",
              "</div>\n",
              "    </div>\n",
              "  </div>\n"
            ],
            "text/plain": [
              "   mean radius  mean texture  mean area\n",
              "0     1.097064     -2.073335   0.984375\n",
              "1     1.829821     -0.353632   1.908708\n",
              "2     1.579888      0.456187   1.558884\n",
              "3    -0.768909      0.253732  -0.764464\n",
              "4     1.750297     -1.151816   1.826229"
            ]
          },
          "metadata": {},
          "output_type": "display_data"
        },
        {
          "name": "stdout",
          "output_type": "stream",
          "text": [
            "---------------------\n",
            "Valores reconstruidos\n"
          ]
        },
        {
          "data": {
            "application/vnd.google.colaboratory.intrinsic+json": {
              "summary": "{\n  \"name\": \"display(df[cols]\",\n  \"rows\": 5,\n  \"fields\": [\n    {\n      \"column\": \"mean radius\",\n      \"properties\": {\n        \"dtype\": \"number\",\n        \"std\": 1.0815057720346053,\n        \"min\": -0.7689092872596208,\n        \"max\": 1.8298206075464458,\n        \"num_unique_values\": 5,\n        \"samples\": [\n          1.8298206075464458,\n          1.7502966326234184,\n          1.5798881149312178\n        ],\n        \"semantic_type\": \"\",\n        \"description\": \"\"\n      }\n    },\n    {\n      \"column\": \"mean texture\",\n      \"properties\": {\n        \"dtype\": \"number\",\n        \"std\": 1.0460478643790492,\n        \"min\": -2.0733350146975935,\n        \"max\": 0.4561869517641946,\n        \"num_unique_values\": 5,\n        \"samples\": [\n          -0.35363240824381126,\n          -1.1518164326195182,\n          0.4561869517641946\n        ],\n        \"semantic_type\": \"\",\n        \"description\": \"\"\n      }\n    },\n    {\n      \"column\": \"mean area\",\n      \"properties\": {\n        \"dtype\": \"number\",\n        \"std\": 1.104711373412543,\n        \"min\": -0.7644637923250287,\n        \"max\": 1.9087082542365938,\n        \"num_unique_values\": 5,\n        \"samples\": [\n          1.9087082542365938,\n          1.826229278440991,\n          1.5588836327586924\n        ],\n        \"semantic_type\": \"\",\n        \"description\": \"\"\n      }\n    }\n  ]\n}",
              "type": "dataframe"
            },
            "text/html": [
              "\n",
              "  <div id=\"df-53bf5bcc-d438-4e17-a12b-28d664e8c0e7\" class=\"colab-df-container\">\n",
              "    <div>\n",
              "<style scoped>\n",
              "    .dataframe tbody tr th:only-of-type {\n",
              "        vertical-align: middle;\n",
              "    }\n",
              "\n",
              "    .dataframe tbody tr th {\n",
              "        vertical-align: top;\n",
              "    }\n",
              "\n",
              "    .dataframe thead th {\n",
              "        text-align: right;\n",
              "    }\n",
              "</style>\n",
              "<table border=\"1\" class=\"dataframe\">\n",
              "  <thead>\n",
              "    <tr style=\"text-align: right;\">\n",
              "      <th></th>\n",
              "      <th>mean radius</th>\n",
              "      <th>mean texture</th>\n",
              "      <th>mean area</th>\n",
              "    </tr>\n",
              "  </thead>\n",
              "  <tbody>\n",
              "    <tr>\n",
              "      <th>0</th>\n",
              "      <td>1.097064</td>\n",
              "      <td>-2.073335</td>\n",
              "      <td>0.984375</td>\n",
              "    </tr>\n",
              "    <tr>\n",
              "      <th>1</th>\n",
              "      <td>1.829821</td>\n",
              "      <td>-0.353632</td>\n",
              "      <td>1.908708</td>\n",
              "    </tr>\n",
              "    <tr>\n",
              "      <th>2</th>\n",
              "      <td>1.579888</td>\n",
              "      <td>0.456187</td>\n",
              "      <td>1.558884</td>\n",
              "    </tr>\n",
              "    <tr>\n",
              "      <th>3</th>\n",
              "      <td>-0.768909</td>\n",
              "      <td>0.253732</td>\n",
              "      <td>-0.764464</td>\n",
              "    </tr>\n",
              "    <tr>\n",
              "      <th>4</th>\n",
              "      <td>1.750297</td>\n",
              "      <td>-1.151816</td>\n",
              "      <td>1.826229</td>\n",
              "    </tr>\n",
              "  </tbody>\n",
              "</table>\n",
              "</div>\n",
              "    <div class=\"colab-df-buttons\">\n",
              "\n",
              "  <div class=\"colab-df-container\">\n",
              "    <button class=\"colab-df-convert\" onclick=\"convertToInteractive('df-53bf5bcc-d438-4e17-a12b-28d664e8c0e7')\"\n",
              "            title=\"Convert this dataframe to an interactive table.\"\n",
              "            style=\"display:none;\">\n",
              "\n",
              "  <svg xmlns=\"http://www.w3.org/2000/svg\" height=\"24px\" viewBox=\"0 -960 960 960\">\n",
              "    <path d=\"M120-120v-720h720v720H120Zm60-500h600v-160H180v160Zm220 220h160v-160H400v160Zm0 220h160v-160H400v160ZM180-400h160v-160H180v160Zm440 0h160v-160H620v160ZM180-180h160v-160H180v160Zm440 0h160v-160H620v160Z\"/>\n",
              "  </svg>\n",
              "    </button>\n",
              "\n",
              "  <style>\n",
              "    .colab-df-container {\n",
              "      display:flex;\n",
              "      gap: 12px;\n",
              "    }\n",
              "\n",
              "    .colab-df-convert {\n",
              "      background-color: #E8F0FE;\n",
              "      border: none;\n",
              "      border-radius: 50%;\n",
              "      cursor: pointer;\n",
              "      display: none;\n",
              "      fill: #1967D2;\n",
              "      height: 32px;\n",
              "      padding: 0 0 0 0;\n",
              "      width: 32px;\n",
              "    }\n",
              "\n",
              "    .colab-df-convert:hover {\n",
              "      background-color: #E2EBFA;\n",
              "      box-shadow: 0px 1px 2px rgba(60, 64, 67, 0.3), 0px 1px 3px 1px rgba(60, 64, 67, 0.15);\n",
              "      fill: #174EA6;\n",
              "    }\n",
              "\n",
              "    .colab-df-buttons div {\n",
              "      margin-bottom: 4px;\n",
              "    }\n",
              "\n",
              "    [theme=dark] .colab-df-convert {\n",
              "      background-color: #3B4455;\n",
              "      fill: #D2E3FC;\n",
              "    }\n",
              "\n",
              "    [theme=dark] .colab-df-convert:hover {\n",
              "      background-color: #434B5C;\n",
              "      box-shadow: 0px 1px 3px 1px rgba(0, 0, 0, 0.15);\n",
              "      filter: drop-shadow(0px 1px 2px rgba(0, 0, 0, 0.3));\n",
              "      fill: #FFFFFF;\n",
              "    }\n",
              "  </style>\n",
              "\n",
              "    <script>\n",
              "      const buttonEl =\n",
              "        document.querySelector('#df-53bf5bcc-d438-4e17-a12b-28d664e8c0e7 button.colab-df-convert');\n",
              "      buttonEl.style.display =\n",
              "        google.colab.kernel.accessAllowed ? 'block' : 'none';\n",
              "\n",
              "      async function convertToInteractive(key) {\n",
              "        const element = document.querySelector('#df-53bf5bcc-d438-4e17-a12b-28d664e8c0e7');\n",
              "        const dataTable =\n",
              "          await google.colab.kernel.invokeFunction('convertToInteractive',\n",
              "                                                    [key], {});\n",
              "        if (!dataTable) return;\n",
              "\n",
              "        const docLinkHtml = 'Like what you see? Visit the ' +\n",
              "          '<a target=\"_blank\" href=https://colab.research.google.com/notebooks/data_table.ipynb>data table notebook</a>'\n",
              "          + ' to learn more about interactive tables.';\n",
              "        element.innerHTML = '';\n",
              "        dataTable['output_type'] = 'display_data';\n",
              "        await google.colab.output.renderOutput(dataTable, element);\n",
              "        const docLink = document.createElement('div');\n",
              "        docLink.innerHTML = docLinkHtml;\n",
              "        element.appendChild(docLink);\n",
              "      }\n",
              "    </script>\n",
              "  </div>\n",
              "\n",
              "\n",
              "<div id=\"df-673c7a66-72d7-4014-b2bb-e0a583d07b83\">\n",
              "  <button class=\"colab-df-quickchart\" onclick=\"quickchart('df-673c7a66-72d7-4014-b2bb-e0a583d07b83')\"\n",
              "            title=\"Suggest charts\"\n",
              "            style=\"display:none;\">\n",
              "\n",
              "<svg xmlns=\"http://www.w3.org/2000/svg\" height=\"24px\"viewBox=\"0 0 24 24\"\n",
              "     width=\"24px\">\n",
              "    <g>\n",
              "        <path d=\"M19 3H5c-1.1 0-2 .9-2 2v14c0 1.1.9 2 2 2h14c1.1 0 2-.9 2-2V5c0-1.1-.9-2-2-2zM9 17H7v-7h2v7zm4 0h-2V7h2v10zm4 0h-2v-4h2v4z\"/>\n",
              "    </g>\n",
              "</svg>\n",
              "  </button>\n",
              "\n",
              "<style>\n",
              "  .colab-df-quickchart {\n",
              "      --bg-color: #E8F0FE;\n",
              "      --fill-color: #1967D2;\n",
              "      --hover-bg-color: #E2EBFA;\n",
              "      --hover-fill-color: #174EA6;\n",
              "      --disabled-fill-color: #AAA;\n",
              "      --disabled-bg-color: #DDD;\n",
              "  }\n",
              "\n",
              "  [theme=dark] .colab-df-quickchart {\n",
              "      --bg-color: #3B4455;\n",
              "      --fill-color: #D2E3FC;\n",
              "      --hover-bg-color: #434B5C;\n",
              "      --hover-fill-color: #FFFFFF;\n",
              "      --disabled-bg-color: #3B4455;\n",
              "      --disabled-fill-color: #666;\n",
              "  }\n",
              "\n",
              "  .colab-df-quickchart {\n",
              "    background-color: var(--bg-color);\n",
              "    border: none;\n",
              "    border-radius: 50%;\n",
              "    cursor: pointer;\n",
              "    display: none;\n",
              "    fill: var(--fill-color);\n",
              "    height: 32px;\n",
              "    padding: 0;\n",
              "    width: 32px;\n",
              "  }\n",
              "\n",
              "  .colab-df-quickchart:hover {\n",
              "    background-color: var(--hover-bg-color);\n",
              "    box-shadow: 0 1px 2px rgba(60, 64, 67, 0.3), 0 1px 3px 1px rgba(60, 64, 67, 0.15);\n",
              "    fill: var(--button-hover-fill-color);\n",
              "  }\n",
              "\n",
              "  .colab-df-quickchart-complete:disabled,\n",
              "  .colab-df-quickchart-complete:disabled:hover {\n",
              "    background-color: var(--disabled-bg-color);\n",
              "    fill: var(--disabled-fill-color);\n",
              "    box-shadow: none;\n",
              "  }\n",
              "\n",
              "  .colab-df-spinner {\n",
              "    border: 2px solid var(--fill-color);\n",
              "    border-color: transparent;\n",
              "    border-bottom-color: var(--fill-color);\n",
              "    animation:\n",
              "      spin 1s steps(1) infinite;\n",
              "  }\n",
              "\n",
              "  @keyframes spin {\n",
              "    0% {\n",
              "      border-color: transparent;\n",
              "      border-bottom-color: var(--fill-color);\n",
              "      border-left-color: var(--fill-color);\n",
              "    }\n",
              "    20% {\n",
              "      border-color: transparent;\n",
              "      border-left-color: var(--fill-color);\n",
              "      border-top-color: var(--fill-color);\n",
              "    }\n",
              "    30% {\n",
              "      border-color: transparent;\n",
              "      border-left-color: var(--fill-color);\n",
              "      border-top-color: var(--fill-color);\n",
              "      border-right-color: var(--fill-color);\n",
              "    }\n",
              "    40% {\n",
              "      border-color: transparent;\n",
              "      border-right-color: var(--fill-color);\n",
              "      border-top-color: var(--fill-color);\n",
              "    }\n",
              "    60% {\n",
              "      border-color: transparent;\n",
              "      border-right-color: var(--fill-color);\n",
              "    }\n",
              "    80% {\n",
              "      border-color: transparent;\n",
              "      border-right-color: var(--fill-color);\n",
              "      border-bottom-color: var(--fill-color);\n",
              "    }\n",
              "    90% {\n",
              "      border-color: transparent;\n",
              "      border-bottom-color: var(--fill-color);\n",
              "    }\n",
              "  }\n",
              "</style>\n",
              "\n",
              "  <script>\n",
              "    async function quickchart(key) {\n",
              "      const quickchartButtonEl =\n",
              "        document.querySelector('#' + key + ' button');\n",
              "      quickchartButtonEl.disabled = true;  // To prevent multiple clicks.\n",
              "      quickchartButtonEl.classList.add('colab-df-spinner');\n",
              "      try {\n",
              "        const charts = await google.colab.kernel.invokeFunction(\n",
              "            'suggestCharts', [key], {});\n",
              "      } catch (error) {\n",
              "        console.error('Error during call to suggestCharts:', error);\n",
              "      }\n",
              "      quickchartButtonEl.classList.remove('colab-df-spinner');\n",
              "      quickchartButtonEl.classList.add('colab-df-quickchart-complete');\n",
              "    }\n",
              "    (() => {\n",
              "      let quickchartButtonEl =\n",
              "        document.querySelector('#df-673c7a66-72d7-4014-b2bb-e0a583d07b83 button');\n",
              "      quickchartButtonEl.style.display =\n",
              "        google.colab.kernel.accessAllowed ? 'block' : 'none';\n",
              "    })();\n",
              "  </script>\n",
              "</div>\n",
              "    </div>\n",
              "  </div>\n"
            ],
            "text/plain": [
              "   mean radius  mean texture  mean area\n",
              "0     1.097064     -2.073335   0.984375\n",
              "1     1.829821     -0.353632   1.908708\n",
              "2     1.579888      0.456187   1.558884\n",
              "3    -0.768909      0.253732  -0.764464\n",
              "4     1.750297     -1.151816   1.826229"
            ]
          },
          "metadata": {},
          "output_type": "display_data"
        }
      ],
      "source": [
        "recostruccion = pca_pipe.inverse_transform(proyecciones)\n",
        "recostruccion = pd.DataFrame(\n",
        "                    recostruccion,\n",
        "                    columns = df[cols].columns,\n",
        "                    index   = df[cols].index\n",
        ")\n",
        "print('------------------')\n",
        "print('Valores originales')\n",
        "display(recostruccion.head())\n",
        "\n",
        "print('---------------------')\n",
        "print('Valores reconstruidos')\n",
        "display(df[cols].head())"
      ]
    },
    {
      "cell_type": "markdown",
      "metadata": {
        "id": "zG4eO6Fcz0Vd"
      },
      "source": [
        "# **Referencias**"
      ]
    },
    {
      "cell_type": "markdown",
      "metadata": {
        "id": "ypm5RhKfz2z9"
      },
      "source": [
        "* Bishop, C.M. (2006). *Pattern Recognition and Machine Learning*, Springer. Chapter 12."
      ]
    }
  ],
  "metadata": {
    "colab": {
      "provenance": []
    },
    "kernelspec": {
      "display_name": "Python 3",
      "name": "python3"
    },
    "language_info": {
      "name": "python"
    }
  },
  "nbformat": 4,
  "nbformat_minor": 0
}