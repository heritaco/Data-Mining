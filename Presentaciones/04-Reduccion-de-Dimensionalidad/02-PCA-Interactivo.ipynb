{
 "cells": [
  {
   "cell_type": "markdown",
   "id": "04124105",
   "metadata": {},
   "source": [
    "# **TABLERO INTERACTIVO DE ANÁLISIS DE COMPONENTES PRINCIPALES**\n"
   ]
  },
  {
   "cell_type": "markdown",
   "id": "3bf9f33c",
   "metadata": {},
   "source": [
    "**Fuente**: Michael Pyrcz, Associate Professor, University of Texas at Austin.\n",
    "https://github.com/GeostatsGuy/PythonNumericalDemos/blob/master/Interactive_PCA_Eigen.ipynb"
   ]
  },
  {
   "cell_type": "markdown",
   "id": "5bdd8c2b",
   "metadata": {},
   "source": [
    "## Instalación de librerías"
   ]
  },
  {
   "cell_type": "code",
   "execution_count": 1,
   "id": "bb65dacc",
   "metadata": {},
   "outputs": [],
   "source": [
    "import pandas as pd                                       # DataFrames and plotting\n",
    "import numpy as np\n",
    "import matplotlib.pyplot as plt                           # plotting\n",
    "from matplotlib.colors import ListedColormap              # custom color maps\n",
    "import matplotlib.ticker as mtick\n",
    "from matplotlib.patches import Rectangle\n",
    "import matplotlib as mpl\n",
    "from mpl_toolkits.axes_grid1 import make_axes_locatable\n",
    "from numpy.linalg import eig                              # Eigen values and Eigen vectors\n",
    "from sklearn.decomposition import PCA                     # PCA program from scikit learn (package for machine learning)\n",
    "from sklearn.preprocessing import StandardScaler          # normalize synthetic data\n",
    "from ipywidgets import interactive                        # widgets and interactivity\n",
    "from ipywidgets import widgets                            \n",
    "from ipywidgets import Layout\n",
    "from ipywidgets import Label\n",
    "from ipywidgets import VBox, HBox\n",
    "import warnings\n",
    "warnings.filterwarnings('ignore')                         # ignore warnings\n",
    "plt.rc('axes', axisbelow=True)                            # grids behind plot elements"
   ]
  },
  {
   "cell_type": "markdown",
   "id": "e1c4dc34",
   "metadata": {},
   "source": [
    "## Creación del tablero"
   ]
  },
  {
   "cell_type": "markdown",
   "id": "a6f6162e",
   "metadata": {},
   "source": [
    "1. Calcular la matriz de covarianza de los datos.\n",
    "2. Tomar una muestra de la distribución normalmultivariada a partir de la matriz de covarianza.\n",
    "3. Estandarizar las muestras.\n",
    "4. Calcular la matriz de covarianza real, garantizando que sea semidefinida positiva.\n",
    "5. Calcular los valores y vectores propios.\n",
    "6. Ordenar los pares del punto 5 en forma descendente respecto a los valores propios.\n",
    "7. Graficar la varianza de los atributos, así como los valores y vectores propios."
   ]
  },
  {
   "cell_type": "code",
   "execution_count": 2,
   "id": "e803cb18",
   "metadata": {},
   "outputs": [],
   "source": [
    "l = widgets.Text(value='                                         PCA Eigen Vector / Component Loadings Demo, Prof. Michael Pyrcz, The University of Texas at Austin',\n",
    "        layout=Layout(width='900px', height='30px'))\n",
    "# P_happening_label = widgets.Text(value='Probability of Happening',layout=Layout(width='50px',height='30px',line-size='0 px'))\n",
    "cstr = widgets.FloatSlider(min=0.0, max = 1.0, value=0.0, step = 0.1, description = r'$\\rho_{strength}$',orientation='horizontal', \n",
    "        style = {'description_width':'initial','button_color':'green'},layout=Layout(width='600px',height='40px'),continuous_update=False,readout_format='.3f')\n",
    "\n",
    "ui_summary = widgets.HBox([cstr],)\n",
    "ui_summary1 = widgets.VBox([l,ui_summary],)\n",
    "\n",
    "def run_plot_summary(cstr):\n",
    "    \n",
    "    m = 4;\n",
    "    \n",
    "    mean = np.zeros((m))                         # make inputs for multivariate dataset\n",
    "    #cov = np.zeros((m,m))\n",
    "    cov = np.full((m,m),0.0)\n",
    "    for i in range(0,m):\n",
    "        cov[i,i] = 1.0\n",
    "    cov[0,1] = cov[1,0] = 0.99*cstr; cov[1,2] = cov[2,1] = -0.9*cstr; cov[0,2] = cov[2,0] = -0.7*cstr;\n",
    "    \n",
    "    data = np.random.multivariate_normal(mean = mean, cov = cov, size = 1000) # draw samples from MV Gaussian\n",
    "    data = StandardScaler(copy=True, with_mean=True, with_std=True).fit(data).transform(data)\n",
    "    \n",
    "    cov_actual = np.cov(data,rowvar = False)\n",
    "    \n",
    "    eigen_values,eigen_vectors = eig(cov_actual) # Eigen values and vectors \n",
    "    sorted_indices = np.argsort(-eigen_values)\n",
    "    sorted_eigen_vectors = eigen_vectors[:, sorted_indices]\n",
    "    sorted_eigen_values = np.sort(-eigen_values)*-1\n",
    "    \n",
    "    fig = plt.figure(figsize=(6, 6))\n",
    "    gs = fig.add_gridspec(2,2 ,width_ratios=(1.0, 1.0))\n",
    "    \n",
    "    plt_center = fig.add_subplot(gs[1, 1])\n",
    "    plt_x = fig.add_subplot(gs[1, 0],sharey=plt_center) \n",
    "    plt_y = fig.add_subplot(gs[0, 1],sharex=plt_center) \n",
    "    plt_extra = fig.add_subplot(gs[0, 0]) \n",
    "    \n",
    "    for i in range(0,m):\n",
    "        for j in range(0,m):\n",
    "            color = (sorted_eigen_vectors[j,i] + 1.0)/(2.0)\n",
    "            plt_center.add_patch(Rectangle((i-0.5,j-0.5), 1, 1,color = plt.cm.RdBu_r(color),fill=True))\n",
    "            \n",
    "            if abs(sorted_eigen_vectors[j,i]) > 0.5:\n",
    "                plt_center.annotate(np.round(sorted_eigen_vectors[j,i],1),(i-0.1,j-0.05),color='white')\n",
    "            else:\n",
    "                plt_center.annotate(np.round(sorted_eigen_vectors[j,i],1),(i-0.1,j-0.05))\n",
    "    \n",
    "    plt_center.set_xlim([-0.5,3.5]); plt_center.set_ylim([-0.5,3.5])\n",
    "    plt_center.set_xticks([0,1, 2, 3],[1,2,3,4]); plt_center.set_yticks([0,1, 2, 3],[1,2,3,4])\n",
    "    for x in np.arange(0.5,3.5,1.0):\n",
    "        plt_center.plot([x,x],[-0.5,3.5],c='black',lw=3)\n",
    "        plt_center.plot([-0.5,3.5],[x,x],c='black',lw=1,ls='--')\n",
    "    plt_center.set_title('Eigen Vectors / Principal Component Loadings')  \n",
    "    plt_center.set_xlabel('Eigen Vector'); plt_center.set_ylabel('Feature')\n",
    "    \n",
    "    plt_x.barh(y=np.array([0,1,2,3],dtype='float'),width=np.var(data,axis=0),color='darkorange',edgecolor='black')\n",
    "    plt_x.set_xlim([3.0,0]); plt_x.set_yticks([0,1, 2, 3],[1,2,3,4])\n",
    "    plt_x.plot([1,1],[-0.5,3.5],c='black',ls='--'); plt_x.annotate('Equal Variance',(1.13,2.6),rotation=90.0,size=9)\n",
    "    plt_x.set_ylabel('Feature'); plt_x.set_xlabel('Variance')\n",
    "    plt_x.set_title('Original Feature Variance') \n",
    "    plt_x.grid(axis='x',which='minor', color='#EEEEEE', linestyle=':', linewidth=0.5)\n",
    "    plt_x.grid(axis='x',which='major', color='#DDDDDD', linewidth=0.8); plt_x.minorticks_on()\n",
    "    for x in np.arange(0.5,3.5,1.0):\n",
    "        plt_x.plot([-0.5,3.5],[x,x],c='black',lw=1,ls='--')\n",
    "    \n",
    "    plt_y.bar(x=np.array([0,1,2,3],dtype='float'),height=sorted_eigen_values,color='darkorange',edgecolor='black')\n",
    "    plt_y.set_ylim([0,3.0]); plt_y.set_xticks([0,1, 2, 3],[1,2,3,4]); \n",
    "    plt_y.plot([-0.5,3.5],[1,1],c='black',ls='--'); plt_y.annotate('Equal Variance',(2.55,1.05),size=9)\n",
    "    plt_y.set_xlabel('Eigen Value'); plt_y.set_ylabel('Variance')\n",
    "    plt_y.set_title('Sorted, Projected Feature Variance') \n",
    "    plt_y.grid(axis='y',which='minor', color='#EEEEEE', linestyle=':', linewidth=0.5)\n",
    "    plt_y.grid(axis='y',which='major', color='#DDDDDD', linewidth=0.8); plt_y.minorticks_on()    \n",
    "    for x in np.arange(0.5,3.5,1.0):\n",
    "        plt_y.plot([x,x],[-0.5,3.5],c='black',lw=3)\n",
    "\n",
    "    for i in range(0,m):\n",
    "        for j in range(0,m):\n",
    "            color = (cov_actual[j,i] + 1.0)/(2.0)\n",
    "            plt_extra.add_patch(Rectangle((i-0.5,j-0.5), 1, 1,color = plt.cm.RdBu_r(color),fill=True))\n",
    "    \n",
    "    plt_extra.set_xlim([-0.5,3.5]); plt_extra.set_ylim([3.5,-0.5])\n",
    "    plt_extra.set_xticks([0,1, 2, 3],[1,2,3,4]); plt_extra.set_yticks([0,1, 2, 3],[1,2,3,4])\n",
    "    for x in np.arange(0.5,3.5,1.0):\n",
    "        plt_extra.plot([x,x],[-0.5,3.5],c='black',lw=2)\n",
    "        plt_extra.plot([-0.5,3.5],[x,x],c='black',lw=2)\n",
    "    plt_extra.set_title('Covariance Matrix')  \n",
    "     \n",
    "    cplt_extra = make_axes_locatable(plt_extra).append_axes('left', size='5%', pad=0.3)\n",
    "    fig.colorbar(mpl.cm.ScalarMappable(norm=mpl.colors.Normalize(vmin=-1.0, vmax=1.0), cmap=plt.cm.RdBu_r),\n",
    "                 cax=cplt_extra, orientation='vertical')\n",
    "    cplt_extra.yaxis.set_ticks_position('left')\n",
    "    \n",
    "    plt.subplots_adjust(left=0.0, bottom=0.0, right=1.51, top=1.50, wspace=0.2, hspace=0.2); plt.show()\n",
    "    \n",
    "interactive_plot_summary = widgets.interactive_output(run_plot_summary, {'cstr':cstr,})\n",
    "interactive_plot_summary.clear_output(wait = True)  "
   ]
  },
  {
   "cell_type": "markdown",
   "id": "0704a84e",
   "metadata": {},
   "source": [
    "## Tablero interactivo"
   ]
  },
  {
   "cell_type": "markdown",
   "id": "e4c34aa0",
   "metadata": {},
   "source": [
    "Instrucciones: Agregue correlación/redundancia de datos y observe el impacto en las cargas de los componentes (vectores propios) y la varianza explicada (valores propios)."
   ]
  },
  {
   "cell_type": "code",
   "execution_count": 3,
   "id": "a7a18c67",
   "metadata": {},
   "outputs": [
    {
     "data": {
      "application/vnd.jupyter.widget-view+json": {
       "model_id": "7b5af68ce33e47e9b05ddfd3e13ab6eb",
       "version_major": 2,
       "version_minor": 0
      },
      "text/plain": [
       "VBox(children=(Text(value='                                         PCA Eigen Vector / Component Loadings Demo…"
      ]
     },
     "metadata": {},
     "output_type": "display_data"
    },
    {
     "data": {
      "application/vnd.jupyter.widget-view+json": {
       "model_id": "e69d66c158ba48a28c1b52f49c330481",
       "version_major": 2,
       "version_minor": 0
      },
      "text/plain": [
       "Output()"
      ]
     },
     "metadata": {},
     "output_type": "display_data"
    }
   ],
   "source": [
    "display(ui_summary1, interactive_plot_summary)  "
   ]
  },
  {
   "cell_type": "markdown",
   "id": "12d98e4a",
   "metadata": {},
   "source": [
    "# **VISUALIZACIÓN DE PROYECCIÓN SOBRE VECTORES ORTOGONALES**\n"
   ]
  },
  {
   "cell_type": "markdown",
   "id": "f5010389",
   "metadata": {},
   "source": [
    "Fuente: Michael Pyrcz, Associate Professor, University of Texas at Austin. https://github.com/GeostatsGuy/DataScienceInteractivePython/blob/main/Interactive_PCA.ipynb"
   ]
  },
  {
   "cell_type": "markdown",
   "id": "a0fb1ed2",
   "metadata": {},
   "source": [
    "# Crear una muestra de datos normal bivariados"
   ]
  },
  {
   "cell_type": "code",
   "execution_count": 4,
   "id": "bf065ff7",
   "metadata": {},
   "outputs": [],
   "source": [
    "x = np.random.multivariate_normal([0,0], [[1, .75], [.75, .2]], 5000)"
   ]
  },
  {
   "cell_type": "markdown",
   "id": "ac0ab58b",
   "metadata": {},
   "source": [
    "## Implementación y visualización de los datos y sus proyecciones sobre vectores ortogonales."
   ]
  },
  {
   "cell_type": "code",
   "execution_count": 5,
   "id": "bf26de1a",
   "metadata": {},
   "outputs": [
    {
     "data": {
      "application/vnd.jupyter.widget-view+json": {
       "model_id": "10d3efd62a1d4aacb8625e22b91ca4cc",
       "version_major": 2,
       "version_minor": 0
      },
      "text/plain": [
       "VBox(children=(Text(value='                                            Interactive Feature Projection - Orthog…"
      ]
     },
     "metadata": {},
     "output_type": "display_data"
    },
    {
     "data": {
      "application/vnd.jupyter.widget-view+json": {
       "model_id": "85838f12644945b19f1996b611f74629",
       "version_major": 2,
       "version_minor": 0
      },
      "text/plain": [
       "Output()"
      ]
     },
     "metadata": {},
     "output_type": "display_data"
    }
   ],
   "source": [
    "import math\n",
    "import ipywidgets as widgets\n",
    "from ipywidgets import Layout\n",
    "import matplotlib.transforms as transforms\n",
    "import warnings\n",
    "warnings.filterwarnings('ignore')\n",
    "\n",
    "global xdata                                        #create global values to allow for orthoganal rotation and visualization\n",
    "global ydata\n",
    "def pc_slider(Angle):\n",
    "    global xdata\n",
    "    global ydata\n",
    "    fig15, ((ax15,ax16)) = plt.subplots(1, 2,figsize=(15,6), constrained_layout=True)\n",
    "    fig15.subplots_adjust(wspace=.5,hspace = .5)\n",
    "    \n",
    "    base = plt.gca().transData\n",
    "    #print(base)\n",
    "    rot = transforms.Affine2D().rotate_deg(int(Angle))\n",
    "    #line=ax16.plot(x[:,0],x[:,1], 'o', transform= rot + base, c = 'black', alpha = 0.3)\n",
    "    line=ax16.plot(x[:,0],x[:,1], 'o', c = 'black', alpha = 0.3)\n",
    "    \n",
    "    xdata=x[:,0]*math.cos(math.radians(int(Angle)))-x[:,1]*math.sin(math.radians(int(Angle)))\n",
    "    ydata=x[:,1]*math.cos(math.radians(int(Angle)))+x[:,0]*math.sin(math.radians(int(Angle)))\n",
    "    \n",
    "    eigen = np.zeros([2,2])\n",
    "    eigen[0,0] = math.cos(Angle*math.pi/180.0)\n",
    "    eigen[1,0] = math.sin(Angle*math.pi/180.0)\n",
    "    eigen[0,1] = -1*math.sin(Angle*math.pi/180.0)\n",
    "    eigen[1,1] = math.cos(Angle*math.pi/180.0)\n",
    "    \n",
    "    df2 = pd.DataFrame({'x':xdata, 'y':ydata})\n",
    "    data = df2.values\n",
    "    lists=[]\n",
    "    \n",
    "    ydataZeroed = np.zeros(len(ydata))\n",
    "\n",
    "    rotinv = transforms.Affine2D().rotate_deg(int(-Angle)) \n",
    "    ax16.plot(xdata, ydataZeroed,\"or\", c = 'red', alpha = 0.3,transform= rotinv + base)\n",
    "    ax16.plot(ydataZeroed, ydata,\"or\", c= 'blue', alpha = 0.3,transform= rotinv + base)\n",
    "    ax16.set_xlim(left=-3.5, right=3.5)\n",
    "    ax16.set_ylim(bottom=-3.5, top=3.5)\n",
    "    \n",
    "    ax16.set_title(\"Data and Arbitrary Feature Projection Components\");ax16.set_xlabel('Standardized Porosity'); ax16.set_ylabel('Standardized TOC')\n",
    "    labels = 'Feature 2 Variance', 'Feature 1 Variance'\n",
    "    sizes = []\n",
    "    \n",
    "#     print('Your Estimated Principal Component/Eigen Vector #1 = ' + str(eigen[:,0]))\n",
    "#     print('Your Estimated Principal Component/Eigen Vector #2 = ' + str(eigen[:,1]))\n",
    "    \n",
    "    sumOfVariance=df2.var()['x']+df2.var()['y']\n",
    "    sizes.append(df2.var()['x']/sumOfVariance)\n",
    "    sizes.append(df2.var()['y']/sumOfVariance)\n",
    "    n = ax15.pie(sizes, autopct='%1.2f%%',colors = ['red','blue'],shadow=True,startangle=90)\n",
    "    n[0][0].set_alpha(0.5); n[0][1].set_alpha(0.5)\n",
    "    ax15.axis('equal')\n",
    "    ax15.legend(sizes, labels=labels,loc='upper left')\n",
    "    ax15.set_title('Variance for Arbitrary Feature Projection Components')\n",
    "#    plt.tight_layout()\n",
    "    plt.subplots_adjust(left=0.0, bottom=0.0, right=1.0, top=1.0, wspace=0.1, hspace=0.1)\n",
    "    plt.show()\n",
    "    \n",
    "x0 = widgets.Text(value='                                            Interactive Feature Projection - Orthogonal Rotation, Dr. Michael Pyrcz, The University of Texas at Austin',layout=Layout(width='950px', height='30px'))\n",
    "x1 = widgets.IntSlider(min=0, max = 180, value = 0, description = 'Angle',orientation='horizontal',continuous_update=False)\n",
    "uik2 = widgets.VBox([x0,x1],)\n",
    "interactive_plot = widgets.interactive_output(pc_slider, {'Angle': x1})\n",
    "interactive_plot.clear_output(wait = True)               # reduce flickering by delaying plot updating\n",
    "\n",
    "display(uik2,interactive_plot)"
   ]
  }
 ],
 "metadata": {
  "kernelspec": {
   "display_name": "Python 3 (ipykernel)",
   "language": "python",
   "name": "python3"
  },
  "language_info": {
   "codemirror_mode": {
    "name": "ipython",
    "version": 3
   },
   "file_extension": ".py",
   "mimetype": "text/x-python",
   "name": "python",
   "nbconvert_exporter": "python",
   "pygments_lexer": "ipython3",
   "version": "3.12.1"
  }
 },
 "nbformat": 4,
 "nbformat_minor": 5
}
