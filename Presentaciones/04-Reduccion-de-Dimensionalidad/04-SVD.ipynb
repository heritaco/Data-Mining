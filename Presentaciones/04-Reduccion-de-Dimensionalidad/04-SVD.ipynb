{
  "cells": [
    {
      "cell_type": "markdown",
      "id": "02393c74",
      "metadata": {
        "id": "02393c74"
      },
      "source": [
        "# **THE SINGULAR VALUE DECOMPOSITION (SVD)**"
      ]
    },
    {
      "cell_type": "markdown",
      "id": "4978af7a",
      "metadata": {
        "id": "4978af7a"
      },
      "source": [
        "## **INTRODUCTION**"
      ]
    },
    {
      "cell_type": "markdown",
      "id": "48e4cb40",
      "metadata": {
        "id": "48e4cb40"
      },
      "source": [
        "The **singular value decomposition (SVD)** of a matrix is one of the most elegant and powerful algorithms in **linear algebra, and it has been extensively used for **rank** and **dimension reduction** in pattern recognition and information retrieval applications."
      ]
    },
    {
      "cell_type": "markdown",
      "id": "d151aace",
      "metadata": {
        "id": "d151aace"
      },
      "source": [
        "Given a $l\\times n$ matrix $\\textbf{X}$ of rank $r$ (obviously $r\\leq \\min\\{l,n\\}$), there exist **unitary matrices** $\\textbf{U}$ and $\\textbf{V}$ of dimensions $l\\times l$ and $n\\times n$, respectively so that"
      ]
    },
    {
      "cell_type": "markdown",
      "id": "499f0429",
      "metadata": {
        "id": "499f0429"
      },
      "source": [
        "\\begin{eqnarray}\n",
        "X = \\textbf{U} \\left[\\begin{matrix}\\Lambda^{\\frac{1}{2}}& \\textbf{0} \\\\ \\textbf{0} & 0\\end{matrix} \\right] \\textbf{V}^T\n",
        "\\end{eqnarray}"
      ]
    },
    {
      "cell_type": "markdown",
      "id": "895d4964",
      "metadata": {
        "id": "895d4964"
      },
      "source": [
        "where $\\Lambda^{\\frac{1}{2}}$ is the $r\\times r$ **diagonal matrix** with elements $\\sqrt{\\lambda_i}$; where $\\lambda_i$ are the $r$ nonzero eigenvalues of the associated matrix $\\textbf{X}^T \\textbf{X}$. $\\textbf{0}$ denotes a zero element matrix.\n",
        "\n",
        "[**Note**: Remember that a unitary matrix (with real entries) $\\textbf{A}$ satisfies $\\textbf{A}^T \\textbf{A} = \\textbf{A} \\textbf{A}^T = \\textbf{I}$. In this case, such a matrix is called **orthogonal**.]"
      ]
    },
    {
      "cell_type": "markdown",
      "id": "5a0f5e8c",
      "metadata": {
        "id": "5a0f5e8c"
      },
      "source": [
        "In other words, there exist unitary matrices $\\textbf{U}$ and $\\textbf{V}$ that transform $\\textbf{X}$ into the special diagonal structure of\n",
        "\n",
        "$$\\textbf{Y} \\equiv \\left[\\begin{matrix}\\lambda^{\\frac{1}{2}} & \\textbf{0} \\\\ \\textbf{0}& 0 \\end{matrix}\\right]$$"
      ]
    },
    {
      "cell_type": "markdown",
      "id": "73f848a0",
      "metadata": {
        "id": "73f848a0"
      },
      "source": [
        "If $\\textbf{u}_i$, $\\textbf{v}_i$ denote the **column vectors** of matrix $\\textbf{U}$ and $\\textbf{V}$ respectively, then the above equation is written as\n",
        "\n",
        "\\begin{eqnarray}\n",
        "\\textbf{X} &=& [ \\textbf{u}_0, \\textbf{u}_1, \\ldots, \\textbf{u}_{r-1}]\n",
        "\\left[\\begin{matrix} \\sqrt{\\lambda_0} & 0 & \\ldots & 0\\\\\n",
        "0 &  \\sqrt{\\lambda_1} & \\ldots & 0\\\\\n",
        " & & \\ddots & \\\\\n",
        "0 & 0 & \\ldots &\\sqrt{\\lambda_{r-1}}   \\end{matrix}\\right] \\left[\\begin{matrix}\\textbf{v}_0^T\\\\ \\textbf{v}_1^T\\\\ \\vdots\\\\ \\textbf{v}_{r-1}^T \\end{matrix}\\right]\\\\\n",
        "&=& \\left[\\sqrt{\\lambda_0} \\textbf{u}_0, \\sqrt{\\lambda_1}\\textbf{u}_1, \\ldots, \\sqrt{\\lambda_{r-1}}\\textbf{u}_{r-1}\\right] \\left[\\begin{matrix}\\textbf{v}_0^T\\\\ \\textbf{v}_1^T\\\\ \\vdots\\\\ \\textbf{v}_{r-1}^T \\end{matrix}\\right]\n",
        "\\end{eqnarray}"
      ]
    },
    {
      "cell_type": "markdown",
      "id": "0ec73880",
      "metadata": {
        "id": "0ec73880"
      },
      "source": [
        "or as the expansion\n",
        "$$ \\textbf{X} = \\sum_{i=0}^{r-1} \\sqrt{\\lambda_i} \\textbf{u}_i \\textbf{v}_i^T$$\n",
        "\n",
        "Sometimes, the above is also written as\n",
        "$$\\textbf{X} = \\textbf{U}_r \\Lambda^{\\frac{1}{2}} \\textbf{V}_r^T$$\n",
        "\n",
        "where\n",
        "$\\textbf{U}_r$ denotes the $l\\times r$ matrix that consists of the first $r$ columns of $\\textbf{U}$ and $\\textbf{V}_r$ the $r\\times n$ matrix formed by using the first $r$ columns of $\\textbf{V}$.\n"
      ]
    },
    {
      "cell_type": "markdown",
      "id": "53fa1963",
      "metadata": {
        "id": "53fa1963"
      },
      "source": [
        "More precisely $\\textbf{u}_i$, $\\textbf{v}_i$ are the eigenvectors corresponding to the nonzero eigenvalues of the matrices $\\textbf{X}\\textbf{X}^T$ and $\\textbf{X}^T \\textbf{X}$, respectively."
      ]
    },
    {
      "cell_type": "markdown",
      "id": "bfe67f85",
      "metadata": {
        "id": "bfe67f85"
      },
      "source": [
        "The eigenvalues $\\lambda_i$ are known as **singular values** of $\\textbf{X}$ and the expansion above as the **singular value decomposition (SVD)** of $\\textbf{X}$ or the **spectral representation** of $\\textbf{X}$"
      ]
    },
    {
      "cell_type": "markdown",
      "id": "5fcf0878",
      "metadata": {
        "id": "5fcf0878"
      },
      "source": [
        "## **GENERAL PROOF**"
      ]
    },
    {
      "cell_type": "markdown",
      "id": "b32736de",
      "metadata": {
        "id": "b32736de"
      },
      "source": [
        "Given a matrix $\\textbf{X}$ of rank $r$, it is known from linear algebra that\n",
        "the $n \\times n$ matrix $\\textbf{X}^T\\textbf{X}$ as well as the $l\\times l$ matrix $\\textbf{X}\\textbf{X}^T$ are of the same rank $r$.\n",
        "\n",
        "Furthermore, both matrices **have the same nonzero eigenvalues** but different (yet related) eigenvectors (*see Appendix A*)\n",
        "$$\\begin{eqnarray} \\textbf{X}\\textbf{X}^T \\textbf{u}_i &=& \\lambda_i \\textbf{u}_i\\\\\n",
        "\\textbf{X}^T\\textbf{X} \\textbf{v}_i &=& \\lambda_i \\textbf{v}_i\n",
        "\\end{eqnarray}$$"
      ]
    },
    {
      "cell_type": "markdown",
      "source": [
        "Note that both matrices are **ortoghonal** (they are equal to their transpose), i.e.,\n"
      ],
      "metadata": {
        "id": "RcAgUP3rwvdM"
      },
      "id": "RcAgUP3rwvdM"
    },
    {
      "cell_type": "markdown",
      "source": [
        "$$(\\textbf{X}\\textbf{X}^T)^T = (\\textbf{X}^T)^T \\textbf{X}^T= \\textbf{X}\\textbf{X}^T$$\n"
      ],
      "metadata": {
        "id": "I46qQJ6lw0Xg"
      },
      "id": "I46qQJ6lw0Xg"
    },
    {
      "cell_type": "markdown",
      "source": [
        "\n",
        "$$(\\textbf{X}^T\\textbf{X})^T = \\textbf{X}^T (\\textbf{X}^T)^T=\\textbf{X}^T\\textbf{X}$$"
      ],
      "metadata": {
        "id": "etYhUXFEw1qi"
      },
      "id": "etYhUXFEw1qi"
    },
    {
      "cell_type": "markdown",
      "source": [
        "and ***nonnegative*** (**positive semidefinite**), i.e.,"
      ],
      "metadata": {
        "id": "agt2sD4BxTMs"
      },
      "id": "agt2sD4BxTMs"
    },
    {
      "cell_type": "markdown",
      "source": [
        "\n",
        "$$\\textbf{v}^T (\\textbf{X}\\textbf{X}^T) \\textbf{v} \\geq 0 \\quad \\forall \\textbf{v}\\in \\mathbb{R}^{l\\times l}$$\n",
        "\n",
        "\n",
        "Indeed,\n",
        "\n",
        "\\begin{eqnarray}\n",
        "\\textbf{v}^T (\\textbf{X}\\textbf{X}^T) &=& (\\textbf{v}^T \\textbf{X})(\\textbf{X}^T \\textbf{v})\\\\\n",
        "&=&(\\textbf{X}^T\\textbf{v} )^T(\\textbf{X}^T \\textbf{v}) \\\\\n",
        "&=& \\|\\textbf{X}^T\\textbf{v} \\|^2 \\geq 0\n",
        "\\end{eqnarray}\n",
        "\n",
        "(The demonstration for the case of $\\textbf{X}^T\\textbf{X}$ is analogous)"
      ],
      "metadata": {
        "id": "Ky9PodTdxVtf"
      },
      "id": "Ky9PodTdxVtf"
    },
    {
      "cell_type": "markdown",
      "id": "33e73c83",
      "metadata": {
        "id": "33e73c83"
      },
      "source": [
        "Therefore, they have **nonnegative real eigenvalues** and **orthogonal eigenvector**."
      ]
    },
    {
      "cell_type": "markdown",
      "id": "fd1d8d81",
      "metadata": {
        "id": "fd1d8d81"
      },
      "source": [
        "The eigenvectors $\\textbf{u}_i$ and  $\\textbf{v}_i$ can be normalized to become orthonormal, that is, $\\textbf{u}_i^T\\textbf{u}_i=1$ and  $\\textbf{v}_i^T\\textbf{v}_i=1$."
      ]
    },
    {
      "cell_type": "markdown",
      "id": "5b451ef0",
      "metadata": {
        "id": "5b451ef0"
      },
      "source": [
        "It is straightforward to see that\n",
        "$$\\textbf{u}_i = \\frac{1}{\\sqrt{\\lambda_i}}\\textbf{X}\\textbf{v}_i,\\qquad \\text{for} \\lambda_i\\neq 0$$"
      ]
    },
    {
      "cell_type": "markdown",
      "id": "b8458ad5",
      "metadata": {
        "id": "b8458ad5"
      },
      "source": [
        "Premultiplying $$\\textbf{X}^T\\textbf{X} \\textbf{v}_i = \\lambda_i \\textbf{v}_i$$ by $X$ results in\n",
        "\\begin{eqnarray}\n",
        "\\textbf{X}\\textbf{X}^T\\textbf{X} \\textbf{v}_i &=&   \\textbf{X}\\lambda_i\\textbf{v}_i\\\\\n",
        "(\\textbf{X}\\textbf{X}^T)\\textbf{X} \\textbf{v}_i &=&  \\lambda_i \\textbf{X}\\textbf{v}_i\\\\\n",
        "\\end{eqnarray}\n"
      ]
    },
    {
      "cell_type": "markdown",
      "id": "f6622f2a",
      "metadata": {
        "id": "f6622f2a"
      },
      "source": [
        "That is $$\\textbf{u}_i=\\alpha \\textbf{X}\\textbf{v}_i$$ where (without loss of generality) the scaling factor $\\alpha$ can be taken as positive and it is found from\n",
        "\\begin{eqnarray}\n",
        "1 &=& ||\\textbf{u}_{i}||^2 \\qquad \\text{(by orthonormality)}\\\\\n",
        "&=& ||\\alpha \\textbf{X}\\textbf{v}_i||^2\\\\\n",
        "&=& (\\alpha \\textbf{X}\\textbf{v}_i)^T(\\alpha \\textbf{X}\\textbf{v}_i)\\\\\n",
        "&=& \\alpha^2 \\textbf{v}_i^T\\textbf{X}^T\\textbf{X}\\textbf{v}_i\\\\\n",
        "&=& \\alpha^2 \\textbf{v}_i^T(\\textbf{X}^T\\textbf{X}\\textbf{v}_i)\\\\\n",
        "&=& \\alpha^2 \\textbf{v}_i^T \\lambda \\textbf{v}_i \\qquad \\text{(because it's eigenvectors)}\\\\\n",
        "&=& \\alpha^2\\lambda_i ||\\textbf{v}_i||^2\\\\\n",
        "&=& \\alpha^2\\lambda_i\\qquad \\text{(by orthonormality)}\\\\\n",
        "&\\Rightarrow& \\alpha = \\frac{1}{\\sqrt{\\lambda_i}}\n",
        "\\end{eqnarray}\n",
        "$$$$"
      ]
    },
    {
      "cell_type": "markdown",
      "id": "ad887916",
      "metadata": {
        "id": "ad887916"
      },
      "source": [
        "Let us now assume that:\n",
        "- $\\textbf{u}_i, \\textbf{v}_i, \\ i=0,1,\\ldots,r-1$, are the eigenvectors corresponding to the nonzero eigenvalues\n",
        "- $\\textbf{u}_i, \\ i=r,\\ldots,l-1$, $\\textbf{v}_i, \\ i=r,\\ldots,n-1$, to the zero ones.\n"
      ]
    },
    {
      "cell_type": "markdown",
      "id": "cba90347",
      "metadata": {
        "id": "cba90347"
      },
      "source": [
        "\n",
        "Then, for the latter case we have\n",
        "\\begin{eqnarray}\n",
        "\\textbf{X}^T \\textbf{X} \\textbf{v}_i &=& 0\\\\\n",
        "\\Rightarrow \\textbf{v}_i^T\\textbf{X}^T \\textbf{X} \\textbf{v}_i &=& 0\\\\\n",
        "\\Rightarrow ||\\textbf{X}\\textbf{v}_i||^2 &=&0\n",
        "\\end{eqnarray}"
      ]
    },
    {
      "cell_type": "markdown",
      "id": "ad487a28",
      "metadata": {
        "id": "ad487a28"
      },
      "source": [
        "Hence\n",
        "$$\\textbf{X}\\textbf{v}_i = 0, \\ i=r,\\ldots,n-1$$\n",
        "\n",
        "In a similar way one can show that\n",
        "$$\\textbf{X}^T\\textbf{u}_i = 0, \\ i=r,\\ldots,l-1$$"
      ]
    },
    {
      "cell_type": "markdown",
      "id": "6e612ff6",
      "metadata": {
        "id": "6e612ff6"
      },
      "source": [
        "Combining\n",
        "$$\\textbf{u}_i = \\frac{1}{\\sqrt{\\lambda_i}}\\textbf{X}\\textbf{v}_i,\\qquad \\text{for} \\lambda_i\\neq 0$$\n",
        "$$\\textbf{X}\\textbf{v}_i = 0, \\ i=r,\\ldots,n-1$$\n",
        "we can show that\n",
        "\\begin{eqnarray}\n",
        "\\sum_{i=0}^{r-1}\\sqrt{\\lambda_i}\\textbf{u}_i\\textbf{v}_i^T &=& \\sum_{i=0}^{r-1}\\sqrt{\\lambda_i}\\left(\\frac{1}{\\sqrt{\\lambda_i}}\\textbf{X}\\textbf{v}_i \\right)\\textbf{v}_i^T\\\\\n",
        "&=& \\sum_{i=0}^{r-1}\\left(\\textbf{X}\\textbf{v}_i \\right)\\textbf{v}_i^T\\\\\n",
        "&=& \\textbf{X} \\sum_{i=0}^{r-1}\\textbf{v}_i\\textbf{v}_i^T \\\\\n",
        "&=& \\textbf{X} \\sum_{i=0}^{r-1}\\textbf{v}_i\\textbf{v}_i^T + \\sum_{i=r}^{n-1}\\textbf{0}\\textbf{v}_i^T\\\\\n",
        "&=& \\textbf{X} \\sum_{i=0}^{r-1}\\textbf{v}_i\\textbf{v}_i^T + \\sum_{i=r}^{n-1}\\left(\\textbf{X}\\textbf{v}_i \\right)\\textbf{v}_i^T \\\\\n",
        "&=& \\textbf{X} \\sum_{i=0}^{r-1}\\textbf{v}_i\\textbf{v}_i^T + \\textbf{X}\\sum_{i=r}^{n-1}\\textbf{v}_i \\textbf{v}_i^T \\\\\n",
        "&=&  \\textbf{X} \\sum_{i=0}^{n-1}\\textbf{v}_i\\textbf{v}_i^T\n",
        "\\end{eqnarray}"
      ]
    },
    {
      "cell_type": "markdown",
      "id": "7f62d8eb",
      "metadata": {
        "id": "7f62d8eb"
      },
      "source": [
        "Let us now define a matrix $\\textbf{V}$ that has as columns the orthonormal eigenvectors $\\textbf{v}_i$,\n",
        "$$\\textbf{V} = \\left[\\textbf{v}_0,\\ldots, \\textbf{v}_{n-1} \\right]$$"
      ]
    },
    {
      "cell_type": "markdown",
      "id": "9c9f6044",
      "metadata": {
        "id": "9c9f6044"
      },
      "source": [
        "Orthonormality of the columns results in $\\textbf{V}^T\\textbf{V}=\\textbf{I}$; that is, $\\textbf{V}$ is unitary and hence $\\textbf{V}\\textbf{V}^T=\\textbf{I}$. Thus, it turns out that\n",
        "\\begin{eqnarray}\n",
        "\\textbf{I} &=&\\textbf{V}\\textbf{V}^T\\\\\n",
        "&=& \\left[\\textbf{v}_0,\\ldots, \\textbf{v}_{n-1} \\right]\\left[\\begin{matrix} \\textbf{v}_0^T\\\\ \\vdots\\\\ \\textbf{v}_{n-1}^T \\end{matrix} \\right]\\\\\n",
        "&=&\n",
        "\\sum_{i=0}^{n-1} \\textbf{v}_i\\textbf{v}_i^T\n",
        "\\end{eqnarray}"
      ]
    },
    {
      "cell_type": "markdown",
      "id": "85c07f02",
      "metadata": {
        "id": "85c07f02"
      },
      "source": [
        "Given that\n",
        "\n",
        "$$\\sum_{i=0}^{r-1}\\sqrt{\\lambda_i}\\textbf{u}_i\\textbf{v}_i^T = \\textbf{X} \\sum_{i=0}^{n-1}\\textbf{v}_i\\textbf{v}_i^T $$"
      ]
    },
    {
      "cell_type": "markdown",
      "id": "b284a414",
      "metadata": {
        "id": "b284a414"
      },
      "source": [
        "We obtain\n",
        "$$X = \\sum_{i=0}^{r-1}\\sqrt{\\lambda_i}\\textbf{u}_i\\textbf{v}_i^T$$"
      ]
    },
    {
      "cell_type": "markdown",
      "id": "58cca0b3",
      "metadata": {
        "id": "58cca0b3"
      },
      "source": [
        "And $\\textbf{X}$ can be written as\n",
        "\\begin{eqnarray}\n",
        "X = \\textbf{U} \\left[\\begin{matrix}\\Lambda^{\\frac{1}{2}}& \\textbf{O} \\\\ \\textbf{O} & 0\\end{matrix} \\right] \\textbf{V}^T\n",
        "\\end{eqnarray}\n",
        "where $\\textbf{U}$ is the unitary matrix with columns the orthonormal eigenvectors $\\textbf{u}_i$. $\\square$\n",
        "\n",
        "-----"
      ]
    },
    {
      "cell_type": "markdown",
      "id": "700c5654",
      "metadata": {
        "id": "700c5654"
      },
      "source": [
        "## **DIMENSIONALITY REDUCTION**"
      ]
    },
    {
      "cell_type": "markdown",
      "id": "12f8b87d",
      "metadata": {
        "id": "12f8b87d"
      },
      "source": [
        "**SVD** has been used extensively for **dimension reduction** in pattern recognition and\n",
        "information retrieval"
      ]
    },
    {
      "cell_type": "markdown",
      "id": "b2d33e4b",
      "metadata": {
        "id": "b2d33e4b"
      },
      "source": [
        "The expansion in\n",
        "$$X = \\sum_{i=0}^{r-1}\\sqrt{\\lambda_i}\\textbf{u}_i\\textbf{v}_i^T$$\n",
        "is an exact representation of matrix $\\textbf{X}$.\n",
        "\n",
        "A very interesting\n",
        "implication occurs if one uses less than $r$ (the rank of  $\\textbf{X}$) terms in the summation.\n"
      ]
    },
    {
      "cell_type": "markdown",
      "id": "c95f39f0",
      "metadata": {
        "id": "c95f39f0"
      },
      "source": [
        "Let $\\textbf{X}$ be approximated by\n",
        "\n",
        "$$X \\simeq \\hat{X}= \\sum_{i=0}^{k-1}\\sqrt{\\lambda_i}\\textbf{u}_i\\textbf{v}_i^T, \\qquad k\\leq r$$\n",
        "\n",
        "It can be written as\n",
        "\\begin{eqnarray}\n",
        "X \\simeq \\hat{X}&=& \\left[\\textbf{u}_0, \\textbf{u}_1,\\ldots, \\textbf{u}_{k-1} \\right]\\left[\\begin{matrix} \\sqrt{\\lambda_0} \\textbf{v}_0\\\\ \\sqrt{\\lambda_1}\\textbf{v}_1\\\\ \\vdots\\\\ \\sqrt{\\lambda_{k-1}}\\textbf{v}_{k-1} \\end{matrix} \\right]\\\\\n",
        "&=& \\textbf{U}_k \\left[\\textbf{a}_0, \\textbf{a}_1,\\ldots, \\textbf{a}_{n-1} \\right]\n",
        "\\end{eqnarray}\n"
      ]
    },
    {
      "cell_type": "markdown",
      "id": "0c10dece",
      "metadata": {
        "id": "0c10dece"
      },
      "source": [
        "where $\\textbf{U}_k$ consists of the first $k$ columns of $\\textbf{U}$ and the $k$-dimensional vectors $\\textbf{a}_i, \\ i=0,1,\\ldots,n-1$, are the column vectors of the $k\\times n$ product matrix\n",
        "$$\\Lambda_k^{\\frac{1}{2}}\\textbf{V}_k^T$$\n",
        "where $\\textbf{V}_k^T$ consists of the first $k$ rows of $\\textbf{V}^T$ and $\\lambda_k^{\\frac{1}{2}}$ is the diagonal matrix having elements the square roots of the respective $k$ singular values."
      ]
    },
    {
      "cell_type": "markdown",
      "source": [
        "![SVD.png](data:image/png;base64,iVBORw0KGgoAAAANSUhEUgAABacAAAMTCAYAAAC18qtQAAAAAXNSR0IArs4c6QAAAARnQU1BAACxjwv8YQUAAAAJcEhZcwAADsMAAA7DAcdvqGQAAM8CSURBVHhe7N0JnE31/8fx94SyjLXQGCOhochOYWSrwS/bH0USSgrRrkR7lGizhIqKShSylewjY19ChLEvQ7KWsTbc/3zvnMt13TGLmTt3eT0fj/Pw/Z577v39/82dOee8z/f7+QbZEggAAAAAAAAAAA+6zvoXAAAAAAAAAACPIZwGAAAAAAAAAHgc4TQAAAAAAAAAwOMIpwEAAAAAAAAAHkc4DQAAAAAAAADwOMJpAAAAAAAAAIDHEU4DAAAAAAAAADyOcBoAAAAAAAAA4HGE0wAAAAAAAAAAjyOcBgAAAAAAAAB4HOE0AAAAAAAAAMDjCKcBAAAAAAAAAB5HOA0AAAAAAAAA8DjCaQAAAAAAAACAxxFOAwAAAAAAAAA8jnAaAAAAAAAAAOBxhNMAAAAAAAAAAI8jnAYAAAAAAAAAeBzhNAAAAAAAAADA4winAQAAAAAAAAAeRzgNAAAAAAAAAPA4wmkAAAAAAAAAgMcRTgMAAAAAAAAAPI5wGgAAAAAAAADgcYTTAAAAAAAAAACPI5wGAAAAAAAAAHgc4TQAAAAAAAAAwOMIpwEAAAAAAAAAHkc4DQAAAAAAAADwOMJpAAAAAAAAAIDHEU4DAAAAAAAAADyOcBoAAAAAAAAA4HGE0wAAAAAAAAAAjyOcBgAAAAAAAAB4HOE0AAAAAAAAAMDjCKcBAAAAAAAAAB5HOA0AAAAAAAAA8DjCaQAAAAAAAACAxxFOAwAAAAAAAAA8LsiWwGoDGSs+TocP7Ffsrm3a8PtCTZ0ZopenPKMqNwRZBwAAAAAAAAAIFITTyDAX9kzV06276dOVB6w9zoJVrt9sLe9bQzmtPQAAAAAAAAACB2U9kGGuK9JAb05drf071mnu4IeV39qfqKraNridYBoAkDpmFs7eGK1b9Iu+G/KyHmz8iVaf5Tk7AAAAAPgiwmlknKzBuikkRCG33qmI6ncor7XbrkYTNSp/2R4AAK5gZuH0qF5EQUFBiVu23CpYrLQq3nO/2j8zXJsi7tLtlIcCAAAAAJ9EOA0POKvdf67VLqsn5VfNtg10Z07CBADA1TELBwAAAAD8F+E0Mt6FXYqeEG11jJpqU6eUrrd6AAAkiVk4AAAAAOC3CKe9xL59+6yW/7HtW6e5S5wWRYxsqUZ3BludwHH06FGdPn3a6gFAxvHPcwqzcMx5BAAAAAD8CeF0JouJidFLL72ksLAwe9v/nNPepbM1Pc7qKkSRbWqqVAB+815++WXVqVNHkydPJqQGkCGczymLFy+29vqJAJ+FY36eN954o4YNG+an1wsAAAAAAhHhdCYxN5ktWrRQ6dKlNWjQIPu+UaNG2f/1K7ZYLZ26UBez6eDGeuzeEpd/8WyndGD1L/ryg97q+mA9lcpdVc2ffk9jF2xXnM06xseZIMH8fFeuXKlWrVrZQ2oTMDAKDkB6MOeULl26XHZOmTp1qv1ffxHos3AcP9eePXvaf87mIQQhNQAAAABfRzjtQWa07OzZs+2hdERExBXBgT/eZNr2rtDU6dutnhTcNFI1whzj3C7ozN7fNLJbQ4VXvV+de72vz36M0va41Zo2tI861m+lJz5fo3/9IKDetevSRHTDhNQmYHCMgvPnsi4AMo7jQac5p7g+4DTnFP+ZpRHYs3DcPcg0YbUJqc3P3+9GyQMAAAAIGITTHmDCAVPKwYyWbdiw4RWhdK9evbRlyxZNmTLF2uMvXMOEcmrfLkJh9vKgZ3XgtyHq1OApzcjbXt8v3aTdO1Zp0muNdWkc3Dp93/V1fb3+4gf4rMjISB05ckRjxoxRtWrVrL2JTEhtpuAzCg5ASjjOKdWrV3f7oNOcU6Kjo+3nlBw5clh7fVyAz8IpUKCA/edpfq7Nmze39iYyP3/zPTAhtXkATtkoAAAAAL4kyJbAaiOdmZFO48aNs4eP7vTv31+tW7dWeHi4tcfP2HZqwsP3qe331sjp/M9o+uYP1KTQOe2c/o4ee2mv7v+0n3rUK67sjvWsTi7S67ffo3f2Wn3lV8SI3xTVtZyyWHt8nQkOZs6cqQEDBthHULsywZIJH2rVqmXtAYDEc8qMGTPssy2S+tvx+OOP++U5xbZngh4u21bfW+l08EPjtfG7NipmP3eYWTjR+rp/X/X6LPpSgH1RBT008kuNfKKy8vjJ2omOUlGOUh/OzAPQ3r17q3Hjxv7zcAIAAACA32LkdAYwJRpMeGBKNrgLpocOHWofRdunTx//DaYTuJb0COnYWDULnteBeR/pyY/Pq+ukT/VCfadg2siaTTf4SwqdBBMWtGzZUitWrHA7Cs6EDY5RcEzVBmBCacc5pWPHjlcE045zysCBA/30nMIsHFfm52x+3mbWlXnQ7cyxtkHOnDlZ2wAAAACA1yOcTkdmJJMpzWBKNLiG0mYk06RJk+wBQo8ePexTdP1bvP5aFeUUJlTRI00rKGjZED3cY786j3pTbe7Iq8sHsdl0bvNK/XJZeea71LxamN+MmnZlRkc7pmqbUY/OHFO1zdR9M4WfqdpAYHGcU9w96DTnFFMmKCDOKa4lPfI30P3VCyecP05p5/Q31e7JVao6cromDnhSTe4uo2K3VlHLl1/Rc2HW8XZL9OPSXTpv9fyFCanNg27zPTAPKVyZ741jbQPKRgEAAADwRoTT6cCMbu3SpYt9YSLXKbZmVKwJpRcuXGgfLev/obTFdlCr5zhNry7TRJFFluvtbhvU5sf39GCJnNYLTmwHtGDM91pidaVg3datux6unNfq+y8TUjtGwbmG1I5RcKZm+dixYxkFB/g5c04xobS7c4rjQac5p3To0CEgzinMwkme+R6YhxQmpDbfD3drG5jvE2sbAAAAAPA21JxOIzOKdc2aNfbgwHUxKsOE0iZkDNS6wba/Z6h7maYaecz0glWuzyA9fWCm/mw5VIOaFFNW+1HOzmjP5N66t9VgbbX2BNd7R1O+66UGITdYewJHcvXKzQi5du3aBc7DDiAAmFCac4qreB2Y3FPhrUZaDzur6KV5M9Q7xzdq9dhOPfnzB2pzxcNOm86tG6Z6FZ92etjZSINWjdeLVfz/YafhWNvAPNB0930ytck7derE2gYAAAAAMh3hdColt5idg+voV39gRvamTLz+nvGiyjQdLHs2rfyqUKW4dM+7mv1hIxVyXZDK9o9ifhqorh3f1QJ7+hCsks1e0+cjn1H9VATTJthxdxPuy8wIt6v9/2S+Z/66ABoQCJILER0C9pxii9WM7o3UdOSGxH6ZNzT3p0qa0Xayynw7RE+Ucy0PlcC2X7NeaK1GHy+1dphZOOO08NOmCrni4MuZkcX+xnX0vTPHQ4/KlSuzeCIAAACATEE4nUImQBg9erQ9QLhaKO3PUvxVcQ0TjDIv69eF/dSwkPOY6f90PGaRJg0foGcHz0kcFVeyuV7q86J6tKupsOypqzpj6jKb8heBiJAa8D3mb1ZyDzr9WUrOKZ6ehRMUlEx67adMGZDevXvby48BAAAAgCdRczqFzIiiyMhI1a1b19qDpNgO/a6fJzgF0yqjTm92UYNCUtzh/dr553LNnzxK/bs2UdXSzfXeuhB1HzRak+av0/4Nk/X+YxGpDqYDmQkV7r77bvtCnAB8R7ly5TinXFW8Dq2YqwmJU3ASZFOWWZ/r03zd9Mr9boJpMwtn8jvq1NERTJtZOO9raoCWh0oNU7/cfB8BAAAAwNMYOZ0GptTC7Nmzk6wHbJiawEWKFLF6/iFlI6pcS3q4l7/NEP30dguVLRKim4KvHPuWFubnsmGDcyju+6421Z/p2IB/2Ldvn6ZMmcI5xVUmzMIxo9n9ybJly65a1oP1CwAAAABkNsLpa5CSRevMaOuAKrVwRZgQoshRP+nTwjP1xENvWTWljSrqOulHDW15q5tp2YGNhayAwOQ4pyRVPirQyvdcXtLDKKNO42foiza36Mzhv3Xo773aufkPLZ39o776bIlUt6Va3V9Hd1Wpqho1yikkgGfgmIe1o0aNchtMO0p4mFH7hNIAAAAAMhvhdDpIbpHEQAoUrggTgh/T+I0j1KbYOW0c+bju7jYhcVSbEdxGI5aNUteywdaOwGaCqaioKL5HQIBLyTnFjHatWLGitccfZd4sHF9mFgb++uuv7cG0KzPbxpTvaNy4MbNtAAAAAHgNCvumA3OTZ6YnL1y4ULNmzbLfADozI5dKly6tFi1a2G8c/ZdrfVApuGmkaoRdb1q6o2V7tc+fuN8uboL6fDhb+50ej9gOr9K4IZ/qu2X7Ez4tMJhQetiwYbrxxhvtCzq6hlFmBP7evXs1cOBAgmkgADifU6Kjo92eUypVquTf5xTbQa34eZ5TMG1m4SzT1ulvqJ7T88xjE8Zo/IZ45QvgYNo8zDDfA/N9iIiIuCKYNt8f8z0ypWPM94pgGgAAAIA3YeR0BjE3iiZAcFeWwdwodu/eXbVr1/avm8QrSnqU1EPj5+i7NrcqyN7/R6s/aKuqvX619xI10qBV4/VilbwJ7XgdmNxDRVp9JuXvpkkbBqtlkWyJh/mh5GqXUwsUgEOgjYhlFk7yGGEPAAAAwB8wcjqDmHrAZpTSli1b7DeIzkxg3bBhQ9WpU8e++JK5wfQHtkO/6+cJTgtXBddR8xqhVjBt5FXldl30qPPoaf2qdz+dZ42ezqqbI3to/LP3KfjYAs1ec8h+hL8xofRLL71kH03vGkybWqCTJk3SqVOn1KNHD4JpAHbmnPLFF18keU4xsy4c5xQzG8O3MQvnahyzbczP291sm/79+9u/J2a2DcE0AAAAAG/HyGkPMYHkxIkT1bdvX2vP5Xx/lOx5HZ31sko1+vDiNOzgh8Zr43dtVOxSOp0gudHTCeI368tWXbTlmZ/0fv2bEvf5gYAcTQ8gQ+zbt8/+ANQvZ14wC8ctv/6ZAwAAAAhYjJz2EFMruE+fPjpy5Ij9BtKVudk0NYd91zGtnR/lVB+0nNq3i1DYZcG0kVeVO/dV/3phVt/4VW+9/Z3WxZ2392ynjumvcw3VpKr/3GCPHTvWXgvUNZh2rgUaGRlJMA0gRYoWLWqfXeE4p5hZF84c5xRfnJnDLJwrmWA6LCwsydk25nvAbBsAAAAAvohw2sPMjaMjUDA3lM6BgrvQ2mdc+EeH9p21OsEq2ayzOta62SlMuCQofw09PfQ9da0WYu2R4qY9pYimT6nfB+/ouUcG69wrjysij/98PZs0aWK1Eplp+WbatQmlzXR9AEgLxznFLJ7o7pziew+8zuvY71FJlPS4JKhIAz3Vp5HVS3Tsqy80bs0/9nZQcDm1GTREg5vdpLw5L3+vLzIPI5zLuThCafNzN4scEkoDAAAA8FWU9chkjgWNzMjaL7/8MoBuMG2KP7ROM8ZP0E+TJ2ls1FYFV2mhR//v/9TigSa6J7yAslpH+gtTI9QwI6TNSHoASG/mnLJo0SINHz7c/jfHhJq+5bDmv9xIDQautvrl1HX6rxrexHnkdCLbsWi916qd+i7Ya+2Rgpt9qujvnlSF4Cyy/btU77WZp9oT+qi2HzzsdKxXYEJqHmoCAAAA8BeE0wAAwDtc2K4Jj7RQ23GmrIeZhfOOvv26p+7OnyXx9cucV9zG8er1aC+NXHnA2pfwrrpP6uX7Q3V40Uble+ETvXGP+1k8AAAAAIDMRzgNAAB8VODNwgEAAAAAf0I4DQAAAAAAAADwOBZEBAAAAAAAAAB4HOE0AAAAAAAAAMDjCKcBAAAAAAAAAB5HOA0AAAAAAAAA8DjCaQAAAAAAAACAxxFOAwAAAAAAAAA8jnAaAAAAAAAAAOBxhNMAAAAAAAAAAI8jnAYAAAAAAAAAeBzhNAAAAAAAAADA44JsCaw2UiAoKMhqAQDSmz+ekjhvAEDG8Kdzxr59+zRkyBCrBwAA/M3TTz+tokWLWj04I5xOJUIGAMg4hNMAgJTyp3NGTEyMSpcubfUAAIC/2bJli8LDw60enFHWAwAAAAAAAADgcYycTiVGwAFAxmHkNAAgpfx15HTDhg3VunVrexsAAPiuiRMnatasWfY2I6eTRjidSq4hQ2xsrNUCvFORIkWsFuB9XP+mBkI4zXkD3oxzBrxZZp4zJk+erJYtW1q99OccTnfr1k2vvvqqvQ0AAHxXv379NGLECHubcDpplPUAAABAujt9+rSOHj1q9QDftXjxYg0YMMD+nQYAAPBG5kG3uWbxRYTTAAA4MWGaGSEH4NrMnDlT48aNs3qA7xo0aJBWrlxp/04DAAB4o1GjRtmvWXwR4TQAAE5MmMYIOeDamN8f83vUs2dPRk/Dp5kRSFOnTrW3OTcAAABvtG/fPnswba5Z1q5da+31HYTTAABYTIhmwjQzQm7RokXWXgCptWbNGvvvkTFjxgz7v4AvcgTTBucGAADgjaZMmWK1Egdb+Rq/DKdNnRWzAQCQGs4h2vDhw60WgNSKiIiwWlLHjh0ZbQqfZO4nXKfHcm4AAADexDHAysFcu/haJuqX4fTEiRM1e/ZsqwcEptDQUPvmurI9APdMeDZs2DCrlzhazlcXlABSy/mcca3nDXe/N9TqhS8ytRtdcW4AAADexN1IaZOL+hK/C6fNE4O+fftS4xAAkComPHOUIXDw1QUlgMz09ddfW61LTK1ewJeY+4ikzgGcGwAAgDcwA6zGjh1r9S4xuagvZaJ+F047PzFghXgAQEq5C8/MCDnKRAEpZ35f3I02NQ9+GG0KX3K1+wjODQAAwBu4G2Dl4EuZqF+F0651VkybGocAgOSY0Cypk7q7oA2Ae1f7fWG0KXyF6z2FO5wbAABAZjJ559VmJ/pSRQm/CqejoqKs1iXUOAQAJOdqoZl5jRFyQPL27dt31d8lavXCVzgvjpsUzg0AACAzrVmzJskBVg4puabxBn4TTif1xMDsY/Q0ACApJiwzodnVsMgukLwpU6ZYraQl97sGZDZz3+C8OG6vXr2sVmK7efPmVo9zAwAAyDxJDQqpVq2a1ZL9msYXMlG/CaeTqrNi9jF6GgCQFHeLt7likV3g6lJSBsFgtCm8nfM9hbm5a9eunb3t4BxWc24AAACZwXWA1dChQ62W1KNHj4sBta9kon4TTrtbndLhaq8BAAKX6+JtVxshxyK7QNKcfz+cf28cnH+3qNULb+Y8E9Pc3OXMmdPqJapVqxbnBgAAkKmcB1j1799fRYoUsXpScHCwOnToYPXcL/zvbfwinE5uSjY1DgEA7rgG03fffbfVS9S9e3erxQg5IClmqqDzQADni2EH5zDPjJ429akBb2PuF5xnYjZp0sRqXc713EAJQQAA4CmuA6xat25ttS5xnvllrm28PRP1i3D6aovvOKTkGABA4HBdvM3daM/atWtfVrPL3cK7QKBzLYPQuHFje9uZ62jTlNSnBjzN+ZxgpscWKFDA6l3O9dxACUEAAOAprgOswsPDrd4l5hrGudSHt2eiPh9Or1279rJR02Y4u4PzFFJzjDkWAADDORwzoZkJz1zlyJFDvXv3tnossgu4Mr8PzlMFze+L+b1xx/m6jJkI8DauMzFda00749wAAAAyg+sAq6tdr7Ro0cJqeX9FCZ8Pp53rvJmbnjJlylg92adnO98IURMOAGC4Lt7mfK5w5TwK1FcWlAA8Zc2aNZeVQahbt67VupJ5AOQ82pTrMngT52DanBOSGjXt4HpuWLRokdUDAADIGK4DrCpWrGj1rlS0aNHL7nOdr3W8jU+H06bOivMTg8cff9xqXeK8zxzLCvEIFLGxsfbNZrNZewA4OIdiJixzN2rawYyQc54SxSK7wCUpLYPg4Dza1PwuMdoU3iAl9xSuXM8Nw4cPt1oAAADpLzUDrBx8JRP16XB64sSJVivxP7i7Oitmn3ONQ+f3AAACjwnDnANm57AsKc7Tpbx9ShSQFs4PNFP6UDM1ZRAczGhTx+hpZiLAW6SkdqM7nBsAAICnOA+wSqospStzTeMcYjtf83gTnw2nzRODvn37Wj2pU6dOVutKzj8I8x5qHAJA4ErJ4m2ufG1BCcATvv76a6uVuOZHcqOmDTPatEePHlaPWr3IfOa+wPlvuvOgluRwbgAAAJ7gOsCqQ4cOVit5ztc25lrFGzNRnw2nU/PEwLzm/MOgxiEABCZzUndevM2EZEkt3uYqMjLSaiWOkGORXQQyMyXQeeRF69atrVbymjRpYrUSR0+butVAZknLKCRnnBsAAEBGS8sAKwdfyER9MpxOS50V52NYIR4AApPr4m3OIVlyXKdE8aATgSytZRAMRpvCW6TlnsIV5wYAAJCRXAdYmbKUKR1g5eDtmahPhtNRUVFWK/GJQeXKla1e0swxjhqHhvNnAAACg3MIlpLF21yxyC5w5eJxKak17YpavfAGM2bMsFrJL457NZwbAABARlm0aNFlA6zq1q1rtVLOXOM4Z6LO10DewOfC6bQ+MTDHOC96RY1DAAgsaVm8zZUZIec8JYpFdhGIZs+ebbUSyyBUrFjR6qWceTDkPILDuX414Cnly5e/+Dc9JYvjJsX53GC+1zlz5rS3AQAArtXw4cOtVtoGWDk4X+sMGzbMqzJRnwunr6XOCivEA0Dgcg6/THiQ1pO6c6DGIrsIRHPnzrVaaSuD4OA82nTdunX8LsHjzIOVKVOmKDo6OlX3FO4MHDhQR44csf9btGhRay8AAMC1MdfbjofgaRlg5eDIRM1n9evXz9rrHXwunHYeNW1Wp0xNnRVzrPOKls4rXQIA/Js5qTuCNOdQLLUcC0qYbdKkSamu9wX4OkeYZ0ZupLUMgmFGm5rPMJ+1YsWKND8wAq6V+R5f699y833mOwwAANKbuU4x19979+69pmsNc60zefJk+2eZBZ296T7Wp8JpMyXbuc4KNQ4BACllggMzos2c1E37Wnz55Zf2k3rLli0JpxGQzEVyjx49rF7amc+4loAbAAAACATpMTPLW2d3+VQ4fa0LWRnmPea9Ds6fCQDwf+lxQmZ0HAAAAAAA185nwmlTqPvee++1elKLFi2sVuo5v9d8Jgsjwh+Fhobat6CgIGsPAADuOZ8zOG8AAAAA8BSfCafNtGkz9dMsNDJr1qxrGvlm3ms+w3yW+UymZAMAAAAAAACAZ/ncgohmKrUp3H2tzGcwLRsAAAAAAAAAMofPhdMAAAAAAAAAAN9HOA0AAAAAAAAA8DjCaQAAAAAAAACAxxFOAwAAAAAAAAA8jnAaAAAAAAAAAOBxhNMAAAAAAAAAAI8jnAYAAAAAAAAAeBzhNAAAAAAAAADA4winAQAAAAAAAAAeRzgN+KnY2Fj7ZrPZrD0AAAAAAACA9yCcBgAACHDODzR5qAkAAADAUwinAQAAAAAAAAAeRzgNAAAAAAAAAPA4wmkAAAAAAAAAgMcRTgMAAAAAAAAAPI5wGgAAAAAAAADgcYTTAAAAAAAAAACPI5wGAAAAAAAAAHgc4TQAAAAAAAAAwOMIpwEAAAAAAAAAHkc4Dfip0NBQ+xYUFGTtAQDAPedzBucNAAAAAJ5COA0AAAAAAAAA8DjCaQAAAAAAAACAxxFOAwAAAAAAAAA8jnAaAAAAAAAAAOBxhNMAAAAAAAAAAI8jnAYAAAAAAAAAH1S3bl1t2bLFvpm2ryGcBgAAAAAAAAAfVKBAAYWHh9s30/Y1hNMAAAAAAAAAAI8jnAYAAAAAAAAAeBzhNAAAAAAAAADA4winAQAAAAAAAAAeRzgN+KnY2Fj7ZrPZrD0AAAAAAACA9yCcBgAACHDODzR5qAkAAADAUwinAQAAkK4cITdhNwAAAICrIZwGAAAAAAAAAF8VH6fDe2O0btEv+m7Iy3qw8SdafdY3BokQTgMAAAAAAACAj7iwZ6p6VC+ioKCgxC1bbhUsVloV77lf7Z8Zrk0Rd+n2G4Kso70b4TQAAAAAAAAA+IjrijTQm1NXa/+OdZo7+GHlt/Ynqqq2DW5XTqvn7QinAQAAAAAAAMBXZA3WTSEhCrn1TkVUv0N5rd12NZqoUfnL9ng1wmkAAAAAAAAA8DlntfvPtdpl9aT8qtm2ge7M6RslPQzCaQAAAAAAAADwNRd2KXpCtNUxaqpNnVK63ur5AsJpAAAAAAAAAPAxtn3rNHfJAauXILKlGt0ZbHV8A+E04KdCQ0Ptm1m1FQAAAAAAAP7knPYuna3pcVZXIYpsU1OlfCztJZwGAAAIcM4PNNPtoWZ8nA7vjdG6Rb/ouyEv68HGn2j1WZv1IgAAAIBrYovV0qkLdTGbDm6sx+4tcXnYazulA6t/0Zcf9FbXB+upVO6qav70exq7YLvivOTSnHAaAAAA1+zCnqnqUb3IxYA7KFtuFSxWWhXvuV/tnxmuTRF36fYbmM0DAAAApAfb3hWaOn271ZOCm0aqRpij2vQFndn7m0Z2a6jwqverc6/39dmPUdoet1rThvZRx/qt9MTna/SvFwTUhNMAAAC4ZtcVaaA3p67W/h3rNHfww8pv7U9UVW0b3K6cVg8AAADAtXAt6VFO7dtFKMw+FuSsDvw2RJ0aPKUZedvr+6WbtHvHKk16rbEuVaNep++7vq6v11/8gExDOA0AAIBrlzVYN4WEKOTWOxVR/Q7ltXbb1WiiRuUv2wMAAAAgrVxLeuRvoPurF1aQTmnn9DfV7slVqjpyuiYOeFJN7i6jYrdWUcuXX9FzYdbxdkv049JdOm/1MgvhNAAAANLRWe3+c612Wb2EK2XVbNtAd+akpAcAAACQHlxLeoR0bKyaBc/rwLyP9OTH59V10qd6oX5xZXe+BM+aTTdksdpehHAaAAAA6efCLkVPiLY6Rk21qVNKjup3AAAAAK5FvP5aFeVU0qOKHmlaQUHLhujhHvvVedSbanNHXl0+NMSmc5tX6pdLI0gS3KXm1cKU2Xk14TQAAADSjW3fOs1dcsDqJYhsqUZ3XqpuBwAAAOAa2A5q9ZzoSyU9yjRRZJHlervbBrX58T09WMLNSi+2A1ow5nstsbpSsG7r1l0PV8780nuE0wAAAEgnrguzhCiyTU2V4ooTAAAASBe2Q7/r5wkbrF6wyrW8WTsGfin1e0edy7mOmDbOaM9PA9Xz46VWP+Fd9V7WiNciFeIFlfe4VQAAAED6cF2YJbixHru3xOUXnLZTOrD6F335QW91fbCeSuWuquZPv6exC7YrzmYdAwAAAMCNeB1aMVcTjlldZVOWWZ/r03zd9Mr9xZTV2nuR7R/FTH5HnToO1lb7jmCVbPa+pn7XSw1CbrDvyWyE0wAAAEgXrguzBDeNVI0wR7XpCzqz9zeN7NZQ4VXvV+de7+uzH6O0PW61pg3to471W+mJz9foXwJqAAAAwD3bQa34eZ4uZtMJrXUnI/V+73tV6LJR0P/peMx8jX7uAVVp9a4WmNEjJZvrpdEztWDCi6rvJcG0QTgNAACAdOBa0qOc2reLUJj9IvmsDvw2RJ0aPKUZedvr+6WbtHvHKk16rbEuVaNep++7vq6v11/8AAAAAABOLi/pYZRRpze7qEEhKe7wfu38c7nmTx6l/l2bqGrp5npvXYi6DxqtSfPXaf+GyXr/sYTr8+zeFQcTTgMAAODauZb0yN9A91cvrCCd0s7pb6rdk6tUdeR0TRzwpJrcXUbFbq2ili+/oufCrOPtlujHpbt03uoBAAAAcHAt6WFs1tdtSylbUDblLhiqEmXvVusfTivi+VFaduKYti0Yo/dffEwt65VXiJeF0g6E04Cfio2NtW82G/OjAQBX53zOSOt5w7WkR0jHxqpZ8LwOzPtIT358Xl0nfaoX6hdXdufphlmz6YYsVhsAAABA0q4o6RGiyFHLtHX6G6p3aTqijk0Yo/Eb4pUv+IoK1F6JcBoAAMBn2RR/Mlbr547WK+/O1xFrr+fF669VUU4lParokaYVFLRsiB7usV+dR72pNne4rhxu07nNK/XLLqtrd5eaVwsTeTUAAABwuStKepjFx++rpFJNXtTQQW2cyuWt1siOr2jURt8ol0c4DQAA4Gvij2vH8uka3b+7mlaqrsYdX9fYg2cyrxyG7aBWz4m+VNKjTBNFFlmut7ttUJsf39ODJXJaLzixHdCCMd9ridU1K4ff1q27Hq6c1+oDAAAASHRlSY9Li48H646W7dU+f+J+u7gJ6vPhbO13mhRpO7xK44Z8qu+W7U/4NO9BOA0AAOBrzp/T+fyV1PrFj/XZey2tnZnn8lEcwSrX8mbtGPil1O8ddS7nOmLaOKM9Pw1Uz4+XWv2Ed9V7WSNei1TIlQcDAAAAge2Kkh4l1bR5dWvxcSmoUG093qdRYsdy7KsvNG7NP1YvXn/9NkoPP9ND7f/XT9P2/2ftz3yE0wAAAL7mhkK6Lbyo8t6QVdlz5LJ2ZhbXURzZlGXW5/o0Xze9cn8xXVHpzvaPYia/o04dB2urfUewSjZ7X1O/66UGITfY9wAAAAC45MqSHnXUvEao0yCQvKrcrosedR49rV/17qfzrNHTWXVzZA+Nf/Y+BR9boNlrDtmP8AaE0wAAAEi7K0ZxHNO6k5F6v/e9KnTZKOj/dDxmvkY/94CqtHpXC0wNkJLN9dLomVow4UXVJ5gGAAAA3DivY79HJVHS45KgIg301FVGTwcFl1ObQUM0uNlNypvz8vdmJsJpAAAApNkVozhURp3e7KIGhaS4w/u188/lmj95lPp3baKqpZvrvXUh6j5otCbNX6f9Gybr/cciFJadS1IAAADAvWNaOz/KaTBIObVvl3ANfUU5vLyq3Lmv+tcLs/rGr3rr7e+0Li5xdRrbqWP661xDNalawN73BtwJAAAAII2uXJhF2qyv25ZStqBsyl0wVCXK3q3WP5xWxPOjtOzEMW1bMEbvv/iYWtYrrxBCaQAAAODqLvyjQ/vOWh1TEq+zOta62c26LlJQ/hp6euh76lotxNojxU17ShFNn1K/D97Rc48M1rlXHldEHu+5DueOAAAAAGlzRUmPEEWOWqat099QvWBrV4JjE8Zo/IZ45Qu+ogI1AAAAgKu5rqTafPeHbDZbwnZC26Y+q7vzZ7FedJVFwWXbaejPv+inIb3Voe5tibtPHNTfZ29Rs0HD9eo97oPtzEI4DQAAgDS5cmGWxnrsvkoq1eRFDR3URpfy6dUa2fEVjdpoCk0DAAAAGeTkOo19pac6NL5PrZ98Ws8884zT9pI+jDog+/qAhjm296NqHNFaTzof91Jv9X5+qKIO/mcd6GuClLVgRbXo+Z7GLIixh9onVv2kIX07qH54gSsXLM9khNOAnwoNDbVvQUHe9DwMAOA/rizpcWlhlmDd0bK92juvFh43QX0+nG2tFp7IdniVxg35VN8t25/waQAAAMA1ylVBHd4bqi/fb6n9MyZp4sSJmri2oJr2GajBgwfqhbohl0YNm2MHfKkpQ+7ROnOc/diierBPfw34qKfqFs5mHYiMRDgNAAAQ4JwfaKb4oeYVJT1Kqmnz6hcXZgkqVFuPX2W1cBNu//XbKD38TA+1/18/TdvvqyNTAAAA4F3idfzvv+S46izS9D7VLHyD1XN1XieOHtEJq1c4sqbK50uqZIZ3Onr0qGJiYuybafsawmkAAACk2pUlPeqoeY1Qp/p1eVW5XRc96jx6Wr/q3U/nWaOns+rmyB4a/+x9Cj62QLPXHLIfAQAAAFybf7Vl+Qodt7fLq0WN25TT3nbnmDYsWnLx2FZ1b1due9t3REVFqXTp0vbNtH0N4TQAAABS6byO/R6VREmPS4KKNNBTVxk9HRRcTm0GDdHgZjcpb87L3wsAAACkyamtWjplfWI7Xw3VKps3se3OiRgtnv5nYjtfdd1VOk9iGx5DOA0AAOCzLujM6ZOJzd1/6fA5p4LOGeqY1s6PcirpUU7t20VcLOlxSV5V7txX/euFWX3jV7319ndaF3fe3rOdOqa/zjVUk6oF7H0AAAAg7Ww6vXmFZu5P7OVrVlPl8iZVpsOmU38u05SDib1ckXfpzhu9bblA/0c4DQAA4HNOa0/Udxo5erQmrMyq1q1bq/UtmzVhyFCN+GKudmR0SH3hHx3ad9bqBKtks87qWOtmp5IelwTlr6Gnh76nrtVCrD1S3LSnFNH0KfX74B0998hgnXvlcUXk4bIUAAAA1+qUdv6+Upvt7VtUt0a4bkxySZUT2rx8qRJz7CKKiLhDhZI8FhmFuwAAAACfk0PF6j6srp27qdeAjzV48GD76uNvvfi0unW5VyWuz+Cr6utKqs13f8hmsyVsJ7Rt6rO6O39SI1KyKLhsOw39+Rf9NKS3OtS9LXH3iYP6++wtajZouF69x32wDQAAAKTK+X1aNWO11ami+hWvcp15bq9+n7/J6lRWZKUQrkkzAeE0AAAAMliQshasqBY939OYBTH2UPvEqp80pG8H1Q8vICZPAgAAID1c2P27fl2RuLyhNFlP17hVoaGh7rdbI/X6SuvY6rVU+ZYbEtvwKMJpAAAAAAAAAD7unA5sWKlV9nY+VXt7tnbGxirW7bZDiz5sYj/SfmyTKiqe1ERAZCjCaQAAAKSroKCgyzYAAAAgw9kOad2C5UpcLvx21a8UpuvtbTdsB/T77DVWJ5ljkaEIpwEAAHyE2+mIV9kAAACAQGE7skmLZu9M7BSpobvK5E5su2Hbv17zoxOXQlThqqpyW3BiGx5HOA0AAAAAAADAh11Q3JZVmmWVkC7c4m7dkTOpGXzxOrJptaISh1ircKvaKp+biDSz8F8eAAAAAAAAgA/7V38uXaKD9vYdalorXEmPm/5XW5avUGKOXUYN7yopxk1nHsJpwE85ivzbbDZrDwAA7jmfMzhvAAAAwOec3q7lMzcntvPVVO1y+RPb7pzYpKhJ6xPbuaqr9p03iVVSMg/hNAAAgI9whMgp3QAAAAD/Z9O5nes0f7NVp+Ou8gq/MWti+wo2nd66RvMTh1hLEVVVrlBSx8ITCKcBAAAAAAAA+CbbP9owd65WWt3CxW5UHqt9hfj9Wjxtjqwx1ipyR1HdxLDpTEU4DQAAAAAAAMCn2P6O1tDeL6j3K/00ZntBtW7d2r7VPvC5Hu/4jN4cv0HWWGrpn+Ua8dzT6vZUP007duvFY2vuHadXnnleb03brv+sQ+FZhNMAAAAAAAAAfEpQoQj1HPChBgz4QIMHD760fTZOE8cO1pttyymXdazy3qVuHw/RiM9GaIjzsfbtI73RrKSyWYfCswinAQAAAAAAAAAeRzgNAADgc2yKP7JRv479SK892ljhoeGq2fopvTFkopbsiUt4FQAAAPCw89s1qUsdhTfuoKd799eQESM0wmkb0v8VPfPMM3rmydaqGRqqsq/M1WF3F64XdmlajwYKrdlaTz7zgt74YJjT5wxW/97P6ekOCdfA4U9r0u6z1pvgqwinAQAAfMp5ndzykwZ+vlmFGnTRG1/9oj9j5mto8xya9/4zeuDe7hq6+igBNQAAADwrSzHd99pITXz/OT14xzH90K+f+jlt7w+fpNW6Q00e66uRC5bpt1frul+M8Loiinh+iGYOe04PNCgnLRtz6XM+XqDDt0To/54aoCmz3lCTYjdYb4KvIpwGAADwIbbD0frs5wLq3KulKofmVlYFKWuuoqrS/jn1aVNKOjlP7384WzsvWG8AAAAAPCKb8hS7XeXLV1LEw130RPV81n6H8nq4c3vdd1cllQ8P0425slr7XV2vAiXKqnzlWrq3WVs93OzOxN256uu5L0doULdWqndXBd1x6426wV24DZ9COA0AAOAzbIr/r6haPllbhbO6XIkHFVLFulUS2wvXavPh+MQ2AAAA4GlZCqhY+SJW5xpc+Et/LPwzoVFeHT7pr2cjQpRUpA3fRDgN+KnQ0FD7FhTEY0QA8B9ByhZSUsVzZbH6zoKUNev1ic0iBXVjsLtjAAAAAE/IqQI357XaaRWvw799ryG/nlCFHn30YuNiBNN+iHAaAADAL8Rp559mVEkulWoTobI5U/5w0vmBJg81AQAAcO2yKV+hEKudNrZ/Vurrgd/pwD3P6r2eNXUjl6l+iXAaAADAD9gOr9LUcaulWx/Syw9VVLC1HwAAAPC865Q9Ry6r7bBfm/f9Y7WTYTuiFV98rI+3Raj3q21UnlmBfotwGgAAwNeZi/evP9eYuPp6bkBXRYayajkAAAAyUxblvbmIwqxe6pzXPyu+1Vsf71ezt59Xu7J5xKBp/0U4DQAA4NPO6uC8EXppSnF9+NNgFokBAACAFwhSlqzZXILH3Vq5+7CSW7bb9s8KffHWGP3b5iX1bhWu7NZ++CfCaQAAAI+x6b/t4/VYg0FafPy8te9anNfJLdP0/ndBeuHLV9WmbAGCaQAAAHiFrDffompWO8Uc5Tz+bao+LzTULdkYM+3vCKcBAAA85oz2rIxW9OZfNWPVIdmsvWljU/zBxRr52UG1HPCimoUz3REAAABeJMv1ci07vXvzPh212ldylPM4oyf6dVdjStUFBMJpAAAATzm3Q1HjF+ikNmvavA06cg3ptO3kZk2f8q+avNNNEYWdL9xtOr11nTadvGD1AQAAgEyQt5Buuclqp0BiOY9vpR691KNOYQZeBAjCaQAAAI+w6dy25Zq+8ri9d3zSTC3Zf87eTrX4A1r82SzZ6lZR/pNH9Pfff1/a9v+pOd/+op2E0wAAAMhMQTcoV+F8Vseycrf+cld02irn8XnwY3qne03deE3JtE3xJ//WjvULNL5/H41ef9LaD29EOA0AAOARJ7Rh7i9aafV0cqlmrf4r9aU9bMe1blRfPfbhIPWsX1WVKlW6fKsWqW6j/rEOBgAAADJJlty6qVheq3M1VjmPz4P1fN+HVDlvFmt/Kp1cp7Gv9FSHxlV0S3gl1W7cXi9MyqMyt+awDoA3IpwGAADwhNNbFT11vdUxdmvOlCXa8V9q4mmbTv/+jZ5/Z5auOv4jX07lvJ6JkAAAAMhM2ZW3kEs4vXu39h29fOi07cgSDX/rRxXu/aweKZ8v7eU8clVQh/eGaszoN9XM2lW4VW2Vz0386c346QAAAGS48zq+Zr4mbb48Uj4ZHa2Ve85YvZQIUo7KPTUvNlaxV9s2vq66+dI44gQAAABIFzcodwGXFRFd2Q5q4bBB+qpwN/Vud6dyXfP4CptO792qVfZ2ebWqe7ty29vwVoTTAAAAGc12TBsXLpE6PalHyzhdoJ9cpdkr9+k/qwsAAAD4j2zKVyjEajts0+6/zlrtszo47wu98cOtevvVFiqdPT1m/p3UtjWrtN80C9dR3fIuNa/hdQinAT/lGD1ns6W6mikAIJ3Z/tmshbOyqVWrTmrZvLy119ir6GnLtONc5v6tdj5ncN4AAABA+rhO2XMkNXLapvjYefrkzTkq9/bTalUymRHWKXVut1bOMqX0cqlUu3qqQEkPr8dPCAAAIEPF68iqOfoua21F3B6q2yPqqIz1inFy4RxFbztl9QAAAAB/kUV5by6iMKuXaL827/tHOhOjif3e16LaL6tP8xLKZr16bWw6t225pq88ntAur1b1b1ewff85Hdk4S1+++4xa1wxXeOOn9MH0LTrJmAyvQDgNAACQkWyHtXbeEt3cvKZuz5FFOW6vqebOpT20WlMXbtNpqwcAAAD4hyBlyZrNTfh4XBvHfaTX/6irPj0aKDRrei3kfUrblkZppWmWqaOI23NL8Qe0fOTL6jFqq/JUqKV7Ktyik+un6OOuz6r/vP0in858hNMAAAAZyLZ/hX6aFKJ295ZRDrMjx22KuKy0x3GtnvibNp3m0hgAAAD+JevNt6ia1U60W3NHv65XB+xRqz6dFRl6g7U/HZzbpaXTVyc0cqmMGRiS7S9FD/5U0WWe11cf9VDr+x/Qk12aWiO512vi3D911N5GZiKcBgAAyDDntH/1Qs25o65qlMpp7ct9RWkPbV6o6E0nrA4AAADgJ67PqXwuaxIeX7ZeR9u9oGcjw5TV2nftLi/p0bxmHq0fNla7m7yk5+uGKXGtxfM6cfSIEq+68+mO20ISrsx9w759+6xW2qXHZ2QEwmkAAICM8t9uLZqyVlVb1lCp6x3TFYPclPZYr0m/rtdxBk8DAADAnwQX0M15rbZDqU56q0ddFU63ch6GU0mPaveo1L45WlG1g9qUzpNw9W05s1W/fDdLJr7WrQ+qR5NwXW9/wXstXrxYLVq0UFhYmI4eTfs479OnT6tly5b2zzKfafregnAaAAAgQ9j0357Vmr38djWrVfzyC98rSnuc1LZZS7Xxn/NWHwAAAPAD1+VU/uKFrY5RRU+81Vl1bkq/MdN2F0t6SPly/aHfDtXQo7VCLo7Mtp3Zq6hh76rf7L3KVeExDRn9nBoUTp9lGDPSoEGDNHXqVHt73Lhx9n/TYubMmVq5cqX9s5577jlrr3cgnAYAwFKuXDlNmjTJvjVv3tzaC6TVae1YPF/L74pQtWLZrX0Obkp7bFushRuPsSgL4EVy5sypXr162TdzjgAAAKl0XU7lKei4Fs6lUk88p6fqFL40mjldOJf0kI6fqKQHHyqv4IT/EdvZw9q6eLzefaK9npiXR10+/EG/jn9drZxHVHux7t27Wy2pZ8+eaR49PWDAAKsl9ejRQzly2FfD8QqE0wAAWMLDw+1TncxWq1Ytay+QRud2Knryn7orsoqKZXO99HVX2mOlvpuxVkdIpwGvUbRoUQ0cONC+dejQwdoLAABSLrduLmmNnL71Yb3WNUI3pXsq7FTSI0G+fAe17JuP9cYzT+jZoQsUm/UOPdB/qv745VP1altLJfJ4/4hph9q1a6tatUtLSkZFRVmtlDNlPMyoaYcmTZpYLe9AOA0AAJDubDq9OVpT/7xLLWrfIreXv1eU9pCOT1uktUfirR4AAADg67IqOF/+hH9L6cGXOqluRpTScCrpoSqv6svX6+jUggkaNfFnTZyyQaeKllZ4WD7d4AtDpV2YEc69e/e2eokjoFNbL9qUBnEYOnSoChQoYPW8A+E04KdCQ0PtW1CQD/71BQCfd0KbouZo8311VKVIUsus5Fa5e/+nS+MgEhyfo5+W7Pd4aQ/ncwbnDQAAAKSf61W45B26p+NLerZxsYs1oNOPc0mPfKrW/B5VKlVHXV5orwrm5Z2j9OxrP2n7f+YKO04x04bpg2+W62C870xXbNy4sdWSfQS0qR+dUmbUtKNmtdGuXTur5T0IpwEAANLb6a2KnnpMTe6voiJJZr1Bur7UXWpaLZ/VN3Zrzqy12k9pDwAAAPiFLMpb60V9/+79uuWKUnfpwbmkR4Ta1iul683/ZvW2eumJKva9J2eN0LCZexSvHAotW0Lnpn+pWTvO2F/zBWb0tBnx7DB27FirlTznYNqsoeFto6YNwmkAAIB0dV7H18zXpL8i9L/qySz2cn1x1WiaeNHscHLObC3akbqpep5kphFOnjxZXbp0SfWUQlfmM8xnXevnAAAAIEA5lfTI1ShSNYrfYG8rqJAiuj6tLqXMGi/b9MPAofp+9V7F5QhViUp1VCXMdcFy7+Y84tkEzmZEdHJiYmIuK+nx+OOPWy3vQjgNAACQnmzHtHHhYh1uVlsVb0xu4mJOlapR9/LSHidXafbKffrP6nqbOnXqqFWrVho1apQWLVpk7U29tWvX2j/DfFbOnDnTvPI4AAAAApftr81abC/pUV6tH6qhYheTziBlLdxAr/74vT58toXK//29ej/UXa9/F6Pwzq1UNodvlbIzI56dR087h85JMdfaDmbUdHh4uNXzLoTTAAAA6ch29A/N+SVIDzepqBuTveZ1V9pjr6Jnr9Yee128lDitPVHfaMgbj6qmvXZ0A70y968Mq1vdoUMHqyUNHz7caqXeuHHjrJb3TjEEAACAdwsq1kpfxsYqNnam3r23iMusxSBlLVRFbXt9qpkxCcfE/KLPej2gyoWs0dU+JjIy0moljp42gz2Ssm/fvssC7ObNm1st70M4DQAAkG7ideT3KP2YpabqlM1/9ZIeDu5Ke0TP1+IUl/bIoWJ1H1HPJ/8vcdGXfBFqUPGmlP1vp0FaphS68pUphgAAAIC3MCOfzaAOB+fBHq6mTJlitRKD6Vq1alk970M4DQAAkF5sB7Xil2jd1LCGyubNYu1MjrvSHos1OXqnzlnd5J3XPzFr9VtCK1+KyomknRnh3L9/f6uXsimFriZOnGi1Ei+WvXWKIQAAAOBNnAd1mOtwM+jDlSmX17NnT6uXOEvRmxFOAwAApBPb/tX6eUZ+tWpUXvlSPHTZXWmP41o5NVqbT6e0OMc/2rh4acK7yqhZg3IpKCdybVq3bm21EkdPu7soToq5WO7bt6/V8/6LZQAAAMBbmEEdzgG186APB+cR1dWqVfPqUdMG4TQAAEC6OKf9qxdqTlgdRdye29qXQm5Ke2j1HEVtOmF1knFqq5ZOWe9U0uOcjmz8VSPf6KzGZf+nJz+YoZiT562Dr53rlELnxVaS43yx7O1TDAEAAABv06lTJ6sl+6CP/fv3Wz0pLi5OY8eOtXpS7969rZb3IpwGAABID//t1qIpSxXWvKZuT/Xq325Ke2i9pkZvVfKVp206vXmFZiZckyaW9DilLZM/17gdhdX4iSfVuvpRzfj4Zb04dkMKPivlnGtPJzWl0JXrFMPu3btbLQAAAAApYQZ3OC9w6Hx9PWzYMK1cudLeNqOmGzdubG97M8JpAACAa2bTf3tWa3Z0KbW7t4xyWHtTzl1pj5PaPGm+1hxPbsTzCW2KXqjN9pIexfXPjCn6s2wH9WhaSbeE3q5KlUISjjmuzbsP6VTiG9JFxYoVL7sonj17ttVKWlRUlNVKvFiuXbu21QMAAACQUkmVxnME00aPHj2UI0fq70w8jXAaAAAgLWwntX/Teq1fb7bVmvPTVM0qVFS5Tmyz9iVsm/brZJJlo22KP7rz0rGbjytXmWLWa5ZtizR73opLx+w4qnjrpYvO7dTy6aakx12qfH6F5ue5V01L55F97PaZ3fo9endCo5Sa3HO7Cph96cj5otiM2DAjo5Ny+vRpDRgwwOolTjH0hYtlAAAAwNtUrlzZPtjjapo0aWK1vBvhNOCnYmNj7ZvNltLFtAAAqWI7oN/e6WSfKte4cXN1+fg3aecYvdDyf9a+hO2d33TwKuH06U0T1MlxbOMH9cI3663XHFZr1NOtL35ep+83uZTmsOncttWa9edJ5at1nXbtv00P3lNEWe0v/astP36ujxbH6dY2L+iZ+4okBtbpyHVKoXM9aVczZ868bCSH+f8HAAAAQOqZQR5Xqyc9dOhQFSiQ3kNTMgbhNAAADrZTOrB6sj7o1lClctdW90nb9J/1UiKb4o9t0PQPuqt+qWKq+uBbmhwTZ72GgHNdKbUdt+biw0C327i2KpHk1dZ1yl2rt9a4e18S25q+tXT5UountG1plEzke3xLTlVrWkl5gxK+qWditfyrN9X5nT2KfOsLfffO/bolW9LRtOPzzQPN1D7UdK4bbUZPmxHS7jgvzGIulhk1DQAAAKSdGeyR1Ohp5/VhvB3hNAAARvw+zX+vg2pXbaVeI2dre1y0RnwyV1svlvu1Kf7AXL3T6n9q1muEFmzfq9U/vqmOb/6sPUxQQGY5v0+rZqy2N/OVCdbxJRM1asgIfTVjjU6U7qRvlo3XR4/X0S25stiPyQimbrTzRbEZIe1q8eLFmjp1qtXzrYtlAAAAwBuZwR4dOnSwepeY0nu+MmraIJwGACB+n+a900Ovbimi+nXDrJ0JDsTptBU8244t1sCHO+vtBXsTd1jiVuzVoeTWqwMyyIXdv+vXFcelfI9pUK8aOvLTJ3rj/Sn6I6iMImqV160Fsqd7KQ9XrlMKnetKOwwaNMhq+dYUQwQgZtAAAAAf4m7Qx+OPP261fAPhNAAgsNn+0m/9eup9PaVJo9/Vk/eXtF5IUDVMhcyA0/id+qnPu9ra5kf9fWKJ+hVPfNkIrl1CRTJuUCpwFWe1a8UCLUxo5WtWR9VLVlabnh1URRv0wysf6YctJ6Xz2zT+kc76cPkhZeQAf+f60c51pR2cR01HRkZaLcDLMIMGAAD4GDPowwz+cDCjpsPDw62ebyCcBgAEsFPa8UM/9T74iEa9dq9CshzV7o2x1mvBqlSzjIoEndGeaUP0Yfbu6t+5ugrmyKnc+YOtY2rqqUcidHNGD00F3LEd0O+z1yQ0yqtdk8q6KSiLgiu11ss9akgnp+n9T6Zqy5lb1fqt+/XfQfd1oNOLGT3tfFGcFF+8WEaAYAYNAADwUS1atLBaumyxcl9BOA0ACFA2/bf9J736XrDeeKuZimUNkk7t1tp5W63XS+u+cqG67sAcDfgwu15/pZGKmGOylNEDwz/XoH7va8SM0Xq1XqEML5sAuHV0m1ZG75fK/E+NK+dP3BdUSDWf/kDfvd1F1Xd9oJbd+uvrtWF69H9hGf49TUkdaV+bYogAwQwaAADgw4oWLWofBGKC6Vq1all7fQfhNAAgQB3VsjEzdctHzyiyUNaEvk1nNy/XNMeAuOBquqvMWS0YPEKnn35cDezHGDco5O6H9GLfl9T1/jIKJplGZrnxXg2IiVXsvJ6qnOPSFzEoV3HV7fymvpq5RhvHvq7HW1ZTYfNgJYO5Til0ZYJpRk3D+zCDBgAA+D5zrW0Cal9EOA0ACFD5VKn7R+pbL8QaUXpWu9et0Dp7O0HNqgr/d5aGLGqgHk1LyBFNA0ja1epJd+rUyWoB3oIZNAAAwD+YQSC+OGra8LtwunDhwvYnBWYzbQAA3Mui4JsLXRr5bNun5dOWWZ38imgRpgNfT1SBFx5Q5ZzEDkBKmItidyM2fHWKIfwdM2gAAAAym9+F0+bGZ+DAgfaNmyAAQErZ9q7WzHmORKKmWhXaoa8WNdBTjTK+Vi/gT9zVlfbVKYbwd8ygAQAAyGxBtgRWGykQFHR5RBEb66hJB3iX0NBQqyXxaw5v5fo3NfO+q/H6e8aLKtN0sI6ZboXnNajFbv1Z/iONblnsmsJp1/8fUyI15xbn3/WU8PfPTu3nGr742Rn539q41t9F1+/9qVOnlCNHDqsHpE2GnzNs2/TN/9VXh6nmQWV+RQwfr9d3f6Lvq4+85nNBcmJiYlS6dGmrl3L83b2SL362N/wcjYz67ED5ORoZ9dne8HM0MuqzA+XnaGTUZ3vDz9HIqM/2h5/jli1bWH8lCdScBgBAR/T73KjEYFrBKlPuby2dV4NR00AaRUdHWy1p0qRJBNPwCcygAQAA8DxGTqcSI6fhK5yf0PFrDm/lNSOn/52vl8s00MADphOs4iVLqmKfcfrhsTuUzX5A2qVl5HRq/juk9vP9/bMz8r+3N312Rv63NlLz+Ulp0aKF9u/fr4ULFxJOI124fpfT43t6ScbNoEmJtI6czsi/BRn198vgsy/nDT9HI6M+O1B+jkZGfbY3/ByNjPrsQPk5Ghn12d7wczQy6rP94efIyOmkMXIaABDgLujfVXP1jT2YNuK062hddW4Sfs3BNBDIunfvrg4dOhBMw0cwgwYAACAzEE4DAALcca2LitLFbFr5VaPPw6pfKGOWvjJP2ZPbUsPd+6+2pYa7919tSw1377/allLu3pvcllLu3pvcllLu3nu1LTXcvT+5LT3Url1bnTt3tnqAl/t3o+b/cHEpRJ1Z9ocuPNpY5XN6Ppo2C4i6+710t6WGu/dfbUspd+9Nbkspd+9Nbkspd+9Nbkspd++92pYa7t5/tS013L3/altKuXtvcltKuXtvcltKuXtvcltKuXvv1bbUcPf+q22p4e79V9tSyt17k9tSyt17k9tSyt17k9tSyt17r7alhrv3X21LDXfvv9qWUu7em9yWUu7em9yWUiwKnjKE0wCAwHZqi3776Q+rkyC4sR5vVlY5rS6AtDEjphk1Dd/ADBoAAIDMQjgNAAhgNp3dtFg/boiz+lL+B1qp0W1E0wAQODw7gwYAAACXEE4DAALYSW1eHKVLE7lr6on2EQqhwCgABA5m0AAAAGQawmkAQOC6sE+rf15jdRLUaKkH7i7I4lcAEDCYQQMAAJCZCKcBAIHr6C6t334isR0coadeaaVKmbD4FQAgszCDBgAAIDMRTgMAAtdNjfTJthOJqy6fWKRhTYtzYgSAQMIMGgAAgEzFPTgAAACAwMQMGgAAgExFOA34qdjYWPtmRoQCAADADWbQAAAAZCquvQAAAAAAAAAAHkc4DQAAAAAAAADwOMJpAAAAAAAAAIDHEU4DAAAAAAAAADyOcBoAAAAAAAAA4HGE0wAAAAAAAAAAjyOcBgAAAAAAAAB4HOE0AAAAAAAAAMDjCKcBAAAAAAAAAB5HOA0AAAAAAAAA8Dg/DKdtio87ogM7Nyj613Ea0ruj6j/8nXZcsF4GAkRoaKh9CwoKsvYAAAAAAAAA3sM/wuljv6l//XB7CBcUdJ2y5b5JRUrcqdqNH9Yz70/X2bvKqihjxAEAAAAAAADAa/hHZJuvup4at1D792xS1OCHld/anaim2tQppeutHgAAAAAAAAAg8/lHOB2UXfluDlFIWBnVqlVRBazddjUbqs7tuawOAAAAAAAAAMAb+Fmxi3Pav22TDlo9Kb9qtqmt26+n5i4AAAAAAAAAeBP/CqdtsVo6daHirC4lPQAAqXH06FHFxMTYt3379ll7AQAAAABARvCrcNq2d4WmTt9u9RJQ0gMAkApRUVEqXbq0fRsyZIi1FwAQqMzDysRF14P00ksvWXsBAACQXvwonD6nvUtna/rFYdOU9AAAAAAAAAAAb+U/4TQlPQAAAAAAAADAZ/hNOE1JDwAAAAAAAADwHX4STlPSAwAAAAAAAAB8iX+E05T0AAAAAAAAAACf4hfhNCU9gCvFxsbaN5vNZu0BAAAAAAAAvIcfhNOU9AAAAAAAAAAAX+P74TQlPQAAAAAAAADA5/h8OE1JDwAAAAAAAADwPT4eTruW9AhWhf+roTKU9AAAAAAAAAAAr+bb4fQVJT2q6oGIUrrB6gEAAAAAAAAAvJNPh9NXlPQoF6kG5fNaHQAAAAAAAACAt/LhcPrKkh7l2tZV+ZyU9AAAAAAAAAAAb+e74bTtL636ddFlJT3aNrhdOa0eAAAAAAAAAMB7+Ww4bTu0XnOmbrV6CVxKethOHtWRMxesHgAAAAAAAADAm/hoOH1BJzYs0dRjVjdByP/u0h2Okh62Q4oe2Etfbbw0rhoINKGhofYtKIhSNwAAAAAAAPA+PhpOx2nrmlU6YPWkCnqwflnlsbfPav/PH6j33/frwQq57XsAAAAAAAAAAN7FN8Np29/6M3qz1TEqq8YdBRL+Pa+4Dd/o+VdteuW1+1UsKyNGAQAAAAAAAMAb+WY4feqAtq7Za3USlLxDpUKkY+vGqOcTqxT5XV/dX+QG60UAAAAAAAAAgLfxzXD630Pa7ZRNa/vnerHFvar2wDLV/uJ9PVo2rxgzDQAAAAAAAADeyzfD6bwhCi8XbHWMA9qbpaEG//oBwTQAAAAAAAAA+ADfDKdzVtZjg99UmyphKlmvmwZNitKiCb11f4k8BNMAAAAAAAAA4AN8M5zWDQqp/4LGr9qjbfOH68WWVRSS3Uf/XwEAAAAAAACAAESiCwAAAAAAAADwOMJpAAAAAAAAAIDHEU4DAAAAAAAAADyOcBoAAAAAAAAA4HGE0wAAAAAAAAAAjyOcBvxUbGysfbPZbNYeAAAAAAAAwHsQTgMAAAAAAAAAPI5wGgAAAAAAAADgcYTTAAAAAAAAAACPI5wGAAAAAAAAAHgc4TQAAAAAAAAAwOMIpwEAAAAAAAAAHkc4DQAAAAAAAADwOMJpAAAAAAAAAIDHEU4DAAAAAAAAADyOcBrwU6GhofYtKCjI2gMAAAAAAAB4D8JpAAAAAAAAAIDHEU4DAAAAAAAAADyOcBoAAAAAAAAA4HGE0wAAAAAAAAAAjyOcBgAAAAAAAAB4HOE0AAAAAAAAAMDj/C6cnjx5soKCguybaQMAAAAAAAAAvA8jpwEAAAAAAAAAHkc4DQAAAAAAAADwOMJpAAAAAAAAAIDHEU4DAAAAAAAAADyOcBoAAAAAAAAA4HGE04Cfio2NtW82m83aAwAAAAAAAHgPwmkAAAAAaWBTfNwerZ4xRN16/6JD1l4AAAAgpQinAQAAAKRc/FHF/PaDhrz8kO4OuUVVmz6jkQfOKN56GQAAAEgpwmkAAAAAKRd/VvE33aVH3vpaPw5/2NoJAAAApB7hNAAAAICUyx6iO+64RfmzZ1X2XMHWTgAAACD1CKcBAAAAAAAAAB5HOA0AAAAAAAAA8DjCaQAAAAAAAACAxxFOAwAAAAAAAAA8jnAaAAAAAAAAAOBxhNOAnwoNDbVvQUFB1h4AAAAAAADAexBOAwAAAAAAAAA8jnAaAAAAAAAAAOBxhNMAAAAAAAAAAI8jnAYAAACQBud15mRcYnNbrP4+Z0tsAwAAAClEOA0AAAAgFU5p56zP9cGQIfpycTZ16NBBHUr9oa/6vacPPv5ZMYTUAAAASCHCaQAAAACpkFO3NnxCLz7dS++M/EpjxoxJ2D7XJ2/30YvP3a/w64Os4wAAAICrI5wGAAAAAAAAAHgc4TQAAAAAAAAAwOMIpwEAAAAAAAAAHkc4DQAAACBZQUFBqdoAAACA5BBOAwAAAAAAAAA8jnAaAAAAAAAAAOBxhNOAn4qNjbVvNpvN2gMAAAAAAAB4D8JpAAAAAMkyD7xTswEAAHhc3CqN7NZeTapWVL0HH1HHjh2dtif05qx9uniVYo7t2lxVw+vpQefjnuiqro+9p1kH/rMOREYinAYAAAAAAADg+4KrquuIbzXls/ba++O3Gjt2rMauKKwH3vtcY8Z8rjcbFtXFZZvNsSOnaPHY+7TSHGc/tpg6DvhUI798RQ1DslkHIiMRTgMAAAAAAADwE/E6emCfjlq9sAeaql6RG6yeq/P65/Df+sfqhTSrp6oFslg9eALhNAAAAAAAAAA/cVwbFkXrmL1dRQ/VvV257G13juj3uVEXj32kYXnlsbfhKYTTAAAAAAAAAPzDyU2K+n51Yjt/XdWvmD+x7c6/GzX/h3WJ7fwRql0uX2IbHkM4DQAAACAVbIo/tFZTRr6lp5tXVe6g3CpVr52e7T9WC3b+e2mRIQAAAI+z6dQf0fppb2Ivf5u6qpQ/qTIdNp1c95u+P5DYC25+j6oUzJrYgccQTgMAAABIofOK2zhOr370h27+33P6aOpKHTuxQd+0zaVfXu2o+uXb6b2lhwmoAQBAJjmprSsWa4O9XVKN6pZVwYsrILr6R3/8tlCJOXaYGtQvr5uTPBYZhXAaAAAAQIrY/p6nDyfepGfeaa+7i+VRVgUpa/AtqvHEaxrwaBkp7mf1fXOatl6w3gAAAOBJ53dp6Y9LrM7daly9SMLVShLO7dKKX6ySHgnHNruraNLHIsMQTgMAAABIAZvizxXXwy/cq5CsLrduQSGq1rBGYnv2Cm04GJ/YBgAA8KAL21fop+jE5Q2l79ShRHYFBQW5326opGeWWMdG1NfdJbMntuFRhNOAnwoNDbVv5g8uAADAtQtStqLhKhXsrm5jkLJmuz6xGXazCuZJqrYjAABARjmnfb8vVuK46fyqOfh3nbXZZHO7ndaW0Q/Yj7Qf+8DdKsXlS6YgnAYAAABwjf7VtrXrE/4NVplO9VUhFw/HAQCAh9n+0qpfFynO3qmg/1UvLuvR+ZVs+7R82jKrk8yxyFCE0wAAAACuie3vJfp+1FLpts7q/3h15bH2AwAAeIrt0HrNmbo1sRNWR/fcmTex7YZt72rNnJe4FKJCaqjGHVy9ZBbCaQAAAABpZzuk6E8/0ogTjfX6iBfVrBj1GgEAgKdd0IkNSzTVKiEd8tA9V5nJFa9D65fq18Qh1gp55F5VzUNEmln4Lw8AAAAgjc5q/8+D9MT3pTQ6+hu91qCoslqvAAAAeM5xrYuK0gF7u4IerF/2KjO5jmvDomgl5tjl1Lx2aeW2t5EZCKcBAACAgGDTfzFfqsWdr2n+0fPWvmtxXnEbx+vVL4L05pRBerTCjQTTAAAgc5zaot9++iOxnb+u7q10Y2LbnX/Xa9Y3qxPbwRG6r0phsVpG5iGcBgAAAALCae2Mnqd5G6boxyV/yWbtTRub4g/M1wcfHtDDI99WmzvyclMHAAAyiU3ntq7SLxusOh33VFHZgkk9Mrfp1J/L9UviEGupQU1VupnH65mJcBoAAAAIBOdi9OvomYrTBk34+XcduoZ02hb3h34Yd1wPDOmlBiE3WHsNc8O3SuvjLlh9AACADGY7pjU/z9ASqxtyayEluRRi/F7NnzA94WooUVj54irEE/ZMRTgNAAAA+D2bzm1apAlLEqsrHvv2Jy3Ye87eTrX4fZr/4VTZGtZQgRN/68CBA5e2ves0/fNJ2naCcBoAAGQs24F5eq9rZ3Xt9rJGbLlZHTp0sG/3xX6kVk076rkvf5c1ljrh4meRPnj0EbVt95ImHL3t4rH1do9S946P6fkJW/SfdSg8i3AaAAAA8Hv/aM2MyRdHFCluoaYujVWqB0/bjmrVJz3U4s3X1f7OMBUpUuTyrVgltR1sLZMPAACQgYJCGuiVkaM1cuQXGjNmzKXth1laMGOMPn6skoKtY5W/tl786huN/2G8vnE+1r59qY/alFY261B4FuE0AAAA4O9ObdK88ausjrFd079foK3/pSaetunU8s/0aK+pl0YhuZM/WLluYH4sAAAAkkc4DQAAAPi18zq67Bd961gkyBI3b56id562eikRpJx3v6I/bDbZrrYd/UANC2Sx3gMAAALG+S36ptXtyl21iR7p+rL6f/CBPri4DVL/l7upY8eO6vhgPZUKClKBbjP0t7vn5Be2a8LDdyqoVD092LGznn19gNPn9NPLXR/VI02qKnfuR/TNjrPWm+CrCKcBPxUbG2vfzE0iAAAIYLYjWjs7SnrqBfUod3FyqxS3RNOid1FfEQAApI8sJdT0gwmK+uw1dap4VGN69VKvi9tLenXgt1qq8mrd831N2LhTWwY1cr8Y4XVF1eCNb7Tq29fU4X8VpUXDL33OWzP1d8n6evjlEYpe85EeuNV5YWb4IsJpAAAAwI/Zjv2h2VOzqX37p/Rw26rWXmOX5k1YpJhzPMgGAADpIZvy3VpeVarcpQZdntHzEfmt/Q5V9cTTT6pp7eqqckdxFQzOau13dYNuCq+oKnfXV5M2nfVEm8qJu4Mb6/UpE/RFr0fUqHY1VbitoLJTScznEU4DAAAAfiteh5ZM1+dZ71OD8sVUvkGkylmvGHGzp2veppNWDwAAIJ1kKahbqxSzOtfgQqxWz1qX0KiirmM+1WsNiiqpSBu+iXAaAAAA8Fe2g1rxc5RC29ZV+ZxZlLN8XbV1Lu2hJRo/Z5NOWT0AAID0kUs3FXUdOZ1a8fp7zmi9O+UfVes9QG//360E036IcBoAAADwU7a90Rr3bVF1aXKncpodOW9Xg8tKexzT0jFztf4UpT0AAEB6yqYChUOtdtrYji3Wp699rn33va7hr9RTQUp4+CXCaQAAAMAvndPepbM1vXxD1bk9l7Uv7xWlPbRhtuat/8fqAAAApIcsyp7LebaWsVd/7D5mtZNhO6ToT97S25vu1buDOqlKnizWC/A3hNMAAACAP/pvm+Z+v0I1H6mj2693DDUKclPaY5W+nbJaRxk8DQAA0k0WFShSTMWtXuqc17Hoz/TC2/vUZvAb6lIhX8IVDPwV4TQAAADgd2z6b+cyTfutvNrUL6Xrrb12V5T2iNPmqVFae+y81QcAALhWQcqS7XpdPt55uxbv+FvxVi8ptmPR+uSF4Tr+6Dt695E7lN3aD/9EOA0AAAD4nVOKmf+LfrungSJuzWHtc3BT2mPzfM1ee0QMngYAAOkla5ESqmW1U8xRzuP4gxrwZnOVyMaYaX9HOA0AAAD4m3NbNe+b9bqn2d269YqbOnelPZbo8x9X6BDpNAAASC9Zr1cOl7LT2//YrUNW+0qOch5n9NzQl/R/xRgzHQgIpwEAAAC/YtOpP+Zp/PraeujeUspm7b3MFaU9pGMT5mrFoeQm2gIAAKRQ/hCVKmy1UyCxnMfnUu+39UpkEepMBwjCacBPhYaG2regIP6cAwAQWP7R+l9n6I+mkaoRdlm1aSd5VblJS9W0enbHZmjcgr2U9gAAAOkj6AYFh+S3OpbFO7Tf3bNwq5zHR8E9NfileipIlBEwCKcBAAAAf3Jqk+aNP6wHWtdQWJI3dkG6/vbaalPT+YZxu6ZPXaG9pNMAACA9ZMmrQiUKWJ2rscp5fJRHbwzsrLvzX76MIvwb4TQAAADgN87r6LJf9G1sA7WMSGY67PWlVKfNZWOnFTd9muZuPWX1AAAArkUO5bs5n9W2bN+m3S5lxGyHFmjgC2MV8u5r6lqlAOU8AgzhNAAAAOAvbEe0dvZ8HWxzr6oXzGrtTEou3V6n4eWlPeKWaFr0Lv1ndQEAANIuu/IWzG21k2Dbr9nvva5hIS/q3S6VFUwyHXAIpwEAAAA/YTu8RtMnX6cnHqieglqN7kp77NK8acu08z9qewAAgGuVTQUKh1pthy3asf+M1T6r/T9/ome/vk2DB7ZT2ewk04GIcBoAEFD27dtntdLu6NGjVgsAvEm8Di3/VWOy1FVkxRtTNiXWXWmPeb9ofgylPQAAwLXKouy5gq22K5vi9/ysd56frkqD++qR0kkdB39HOA0ACAiLFy/WSy+9pLCwMMXExFh70+axxx5T9erVNXnyZJ0+fdraCwCZzLZf0ZPnqXDzuqqY4oWE3JX2mK9v5m3VOasLAACQNllUoEgxFbd6ifbqj93HpDN/auxLfTWvQX8NeOg2ZbNevTbnFRfzsz7o1lDh1V/XPEdta9s/ipnxgR6tXkrVu41XzBlmiHkTwmkAQED4+uuvNWjQIHt71KhR9n/TwoTcU6dO1cqVK9WqVSvCaQBew7Z3qSb+eJPat6iiAimeFeuutMcxLRk/T3+c8v8bN/M3fPbs2dc8I8Y89Fy7dq3VAwAAiYKUJdv1uuKRue2o1n3xlp5Z01ADXvmfimVNj3IeZ3Vg3kA93vVdjRw5W1tXLtLve87Yg+mNX/VSk6a99PXK7Vo58jNN23jSeg+8AeE0ACAgdOrUyWrJHlKnNYhwBNzG0KFDVaBAAasHAJnpnPYuna3pxSPVoHxea18KuSntoaUz9Ov6f6xOCtj+1Y5ZQ9Utsome/3WfTKxti9usKf0fUb3I3pq8w/vKhJhQuk6dOmrYsKGioqKsvWljZuZUqlRJLVq0uObZOQAA+JOsRUqoltVOtF3ThzyrHn12qP2AZ9SsWHZr/7U4r2NLR2vI3vs16rsXrP+9WxVWKKuOLftO317XQ8tXDlJJszt/BZUJS4//TaQXwmkAQECoVauWmjdvbvWkcePGWa2UM4GDGTXtEBkZabUAIJP9t01zv1+o4m3rqnzO1I4+clPaQ6s0ft4mpShSNiOSvv9a01au0NQ5CxUVc0QX4nfpl89+0urNaxU151f9tvWEdbD3iIuLs8+CMQYMGJDmmTCOGTWG+femm26ytwEAQIIbcim/8wStBMd+W6XDj7+p15oVV1Zr37Ww/T1XH0y/RT3bl1PQtvVaYHZGVFe5nCs0cloRdWt/p/KVrKs+vfto0LieurdQevyvIr0QTgMAAkavXr2sltSzZ89Uj552LgdiPis8PNzqAUBmsum/ncs0bV4ZdWlyp3Jae1POXWmPOG349hctO3re6iclXoeiJmll2fZ6tGZYQr+k7imdR7t+WqjrH+mpRyMrKn+N1mpZzfsC28aNG6tatWr2tgmpZ86caW+nlvOMmv79+zOjBgAAZ3luUlHXU2OZp/TJK41UJF3KeZzX8Z02NX6uYcLnxWnz8iXaq2CVa1RMx8YtUclujexlQ4LyV9Vj7/XXi41KinHT3oVwGgAQMMzoaUcQYcyYMcNqJc+MmnYOIB5//HGrBQCZwBanvetXa/Vqsy3T9G/Ha2pIMQX/s8nal7Ct36u4JMtG2xR/eOulY/84quA7S1ivWTbP07Sfoy8dE3NY1rJCl1zYpRVHqqtthazatmaVDqicKmdfo+nZ6uneQsEq8cjX+vu3vrqnQEoXaPScHDlyqEOHDlYvcfR0arnOqGndurXVAgAAdtflUoGSIVbHqKHnPnlakek2ejmL8t/VSBEFEz7v/B6tnLoqYV9pNSy8XVPONVCTdCkbgoxEOA34qdjYWPtms7EKLeCsd+/eVksaNmxYiqdxT5w40WrJXh6EUdMAMpVtn+b0aqqqVasmbDXV6p050tYR6lynurUvYes1R/uvEk6fWv+VmjqOrdpAnT9bbb3msFSDO9S9+HlNR6+/sszHdaV0f+tyyn5hv9bN2SBFllX8pv9U739hShwLlUVZ02VUVMZo166d1UocPW1KdKQGM2oAAEjGdbmU72bHvK5glXnudfWOLGJdJ6SvC9tX6KfoY1LI7coSc1Q1H6qYhhll8DTCaQBAQEnLNG5T/qNv375W7/LyIACQKa4ro8dm7bc/hE5ym/WYwpO82r9Oeeq/q/3u3pfEtv/9+spjvduVbfdKTZt9RtWKHdRfN9dU+eu9N5B2ZkpwmMVtHZxnyCSHGTUAAKREHhUJt0ZO39ZFg3o1UKEMuUw4o23Rv2p2Qit/jaw6G3a/GhXJlvgSvBrhNAAgoJhp3D169LB6KZvG7bx4ohk1bcqDAAAc4vXX70s0T3mV4/BtahDpGDXtG1q0aGG1Ehc0TOno6dmzze1vImbUAACQlGzKc+ONCf+WUad3nlKjkAwKjG0H9PvcNfbmsQU5dE+rCoya9hGE0wCAgNOkSROrlfw0bjNq2iye6NC9e3erBQCwsx3U6jnRitNZ3dCwjirn9KVoWipatOhlM2Kca0gnxfXcwIwaAACScoNCwivovm799FrLEkqvStOubHtXaOr07QmtYJV5opXqZlQIjnRHOA0ACDipmcYdFRVltWQvB1K7dm2rBwCwO7FFi6ZukPK3UNdmpeWLt4LOJTnMOcGU7LgaZtQAAJBSWZS//luaPbyVSmTLqAfY57R36WxNjzPtOur20F0q4FvPygMa4TQAICA5L4KV1DRus1iic9kPs5iiKQsCAHC4oH9XzdU3B6SQjs19dpSSKcnhHFA7L3ToypwbmFEDAIAXsf2lVb8uksmm8z/6mFqXD07cD59AOA0ACEhm9LTzNOyvv/7aal1iFks0ZT8czGKKAABnp7Vzw+86ENxYzz98t0+PUurUqZPVShw9bUp3uOO8kC4zagAA8AIntmn5rK1S8H3q2SlCIYya9imE0wCAgOU6Sm7ZsmVWL9HYsWOtluxlQBg1DQCucqnC0zNlO/GLXqya19rnm0xpDlOiw8G5dIcDM2oAAPBCeerr/f22hOuR2XrrnkI+tTAzCKcBAAHMTON2Hj3tXHvatJ0XxXIuAwIA8E/O5wRTuuPQoUNWL9GiRYuYUQMAAJCOCKcBAAHNeZRcUsyoaVMGBADg3ypXrmwv1eHgWvJp+PDhVosZNQAAAOmBcBoAENBcp3G706JFC6sFAPBnJmw2pTocnBdGZEYNAABA+iOcBvxUaGiofQsKotoSkBznadyuzGtFixa1egAAf2dKdTiPnnaHGTUAAADpg3AaABDwzOjppIII50UTAQD+z4ye7tChg9VzLzIy0moBAADgWhBOAwCQwHkat4MJps2iiQCAwHK1kh1mRg3nBgAAgPRBOA0AQAJ307g7depktQAAgcSU7DClO9xhRg0AAED6IZwGACCB6yJYZpFEU+4DABCY3C2Ga84NjJoGAABIP4TTAABY6tata7WuvkgiAMD/mcVwXc8FnBsAAADSF+E0AAAWxzRuU96jcuXK1l4AQKByLuHBjBoAAID0RzgNAIATswiWKe9hynwAAAKbKeHhCKi7d+9u/xcAAADph3AaAAAnZvR0y5YtrR4AINCZxXHNjJratWtbewAAAJBeCKcBAAAAIAmmlMfHH3/MjBoAAIAMEGRLYLX9wuTJk9WqVSt7e9KkSek++i0oKMhqJYqNjbVagHcJDQ21WpKf/ZrDj7j+TfXH76rr/48AgPThT+eMmJgYlS5d2t42ta07dOhgbwMAAN81duxYTZ061d7esmWLvVwYrkQ4nUqE0/AVhNPwBYTTAIC08tdwGgAA+B/C6aRR1gPwU+bBidkIpgEAAAAAAOCNGDmdSoychq8pUqSI1QK8DyOnAQBp5U/njKNHjyoqKsrqAQAAf1O3bl374vu4EuF0KhFOw9cQTsObBUI4DQAAAAAA3KOsBwAAAAAAAADA4winAQAAAAAAAAAeRzgNAAAAAAAAAPA4wmkAAAAAAAAAgMcRTgMAAAAAAAAAPI5wGgAAAAAAAADgcYTTAAAAAAAAAACPI5wG/FRoaKh9CwoKsvYAAAAAAAAA3oNwGgAAAAAAAADgcYTTAAAAAAAAAACPI5wGAAAAAAAAAHgc4TQAAAAAAAAAwOMIpwEA8HFr167Vu+++q9OnT1t7AMAzZs+ercmTJ/P3xwcsXrxYLVq0sP8LAECgGjZsmF566SXFxMRYe5DZCKcBAPBRjqChUqVK6tu3r2bOnGm9AgAZzwTSr776qlq1aqWcOXPab/aOHj1qvQpvYH5G5uFB9erVFRERoalTp2rQoEHWqwAABBZzndKzZ0/7ubB06dI8tPUSQbYEVtsvmIsvc4FsTJo0SS1btrS300tQUJDVShQbG2u14B/O65/lQ/XQI8N1vHxdVQu9UYVKFlOBbNbLF53UXzF7dexIjH6dF6JXF3yqDuE5rNcs57drUtfH9PTCnGrQKFw35g9T+M25rBcTnPxLMVs3avnKqhq08CXVyp2+z4pCQ0OtluRnv+ZI+J4e++1dNbx/oI5WbahaxQrq5vASKnjD5X+fZPtX+/7crSOHNmrKz0U1aOM4db0jp/Wi5fwWffNgC3WYnUv3tyirgjfeojuK5pHjk2z/7tOfm9dpUXQNfb65n+rnSd/vqevfVL6ryTNBw6JFizR8+HB7yOCsefPmmjJlitUDgIxlRk03bNjQ6l0ydOhQRUZGKjw83NoDTzM33zNmzLA/MFi5cqW195ItW7bw8wEABBznzNCZuY/q3r27ateurRw5XLIdZDjC6VQinPZ/tjN/a1vMAZ34d6eiv/tU70/703rlklwVHtRTjzRQhRJhKlSoqEoWv1GuuaD0n/7ds027jp/SiX1/aPaXn2rU0v0J+3Pp1mY91OvhWro1T07lLnqrihfIfjEMTC+E0/7NduaANm2M1b/HYzTvi4F6dcI665VLgqt10stP/k/Vwovr5puLq3Spgsru5nt6fOcmbT96Uv/sXqNpQ9/X4Ki9CfuDdVub3nq7S33dli+X8twSrlI3pf/3lHA65UwobUZGDxgwwG3Q0KtXLz3++OOEDUg72ykdWPOrvhv1mUZ+e0qRX3+lwa1K6dLzWZvij23UzNHD9fHIGfq3cmf16feCWoYHW68j0PB3yfuYUHrcuHH2UWHumAcH7dq1U4ECBaw9AAAEFlMS0Zwr3c0kqlatmnr37q3GjRsTUnsQ4XQqEU4HEpvOrhmqOk3fl4nqLirVTWN+6KV7C99g7UiJ/7R/2suq1m2CVKaXJk/pqbtyZ7FeyxiE04Ei4Xu67D2VqdFXu6w9dgnfs+nz3lGTIqn7nu6d8KSKtf1KKve2flvcR7XzZOz3lHA6eSkJGhihiGsWv0/zBz6rJ/pO0nZrlyJGaGNUV91h/zNgU/yBuXrn4c56e8Gls2LwQ+O18bs2KpbeT67gU642o8Mwo5FMUF2rVi1rD9KbqZs5atSoJG+0e/TooSZNmhBKAwBgMefOiRMn2ssjusMDXc+h5jSQpAuKO3pIl1dOzKdqHf5P96QqmDaClDXr9Qn/FtY9HRupcgYH0wgkF/Tv4b902Oolyq+a3dopMlXBtJHwPc1mvqchuu+p/9PdGRxM4+rMxZKZjn3jjTe6DabNxdKRI0fsgQPBNK5J/D7Ne6eHXt1SRPXrhlk7ExyI02nreZHt2GINdAmmjbgVe3XovNVBwDIji8xDMlNWKDo62h5GOzOBtal3bOo6mlIgJsxG+jB1Ms2iTqZupmswbUJpM1hn4cKF6tChAzfXAAA4MfdQffr0sd9TmXsrV+YezNyLmXuyffv2WXuREQingST9o83LV+mk1UsUobb1SsnEd6lzWvu2bUn4t5qaR9zqNEUauFbH9MeiJYqzeonuVedGZdLwPT2p3Zs2Jvyb8D2v7zyVH55kQmlH0OAaSjuChlOnTtlDaYIGXDPbX/qtX0+9r6c0afS7evL+ktYLCaqGqZB5RhW/Uz/1eVdb2/yov08sUb/iiS8bwbVLqAjPseDEjI42IbWpaWxGSzszIbWpUV2nTh37bEdC6rRzLIhrQn/XUNo8HDAPCUwobWaRMi0ZAICkmXsqc29lQmpzr2XuuZyZe7KwsDD7PZq5V0P6I5wGknJ6p1bPvzi5OVGdeqpePLWjURNcOKiYZbvT/n4gKae2aukv5sGHk8hGiiiV3eqkwoUD+vO3hO98Wt+Pa+IIGtyNfjNBw6xZswgakM5OaccP/dT74CMa9dq9CslyVLs3OsqVBatSzTIqEnRGe6YN0YfZu6t/5+oqmCOncud31JiuqaceidDNlPSAG2Y00sCBA+0htetoJFOf2pThy5kzp300kilfhOSZMN+E+o5Q2rWEiqnvbUJp83DAPCTgXAEAQMqZkNrca5l7LhNSu84EM/do5l6tS5cu9ns3pB/CacAtm85tXanpm53HTRdWnWZVVTwNvzUXdq3StIVnVb1RJd3iod86Uw/dbNTw9Wc2nd20WD9ucB43HaLINjVVKi3f021LNGH2GUX8X3WV5OzgESZoMFPckwoaHKPfTNBgpswTNCD92PTf9p/06nvBeuOtZiqWNUg6tVtr5221Xi+t+8qF6roDczTgw+x6/ZVGKmKOyVJGDwz/XIP6va8RM0br1XqF0n2hVPgXE1I7RiMlN2WW0UjumfDehNJmxLkJ9V3PFWaEunkI8MUXX1DXG8hUNsUfWqefv3xXz7ZtqHrNX9PkHaes11yYRYhX/6Iv+z+rtvXCFRQUrnod++izRbGKtw4BkDnMPZcJqZMqV2bWeHCUKzMhNTPBrh0LIqYSCyIGipP6c3Q33ff6PKufIFcrDZkzSK1uSe3I53OKnfaK6nU7pJfnjFDnO3JZ+z2jSJEiVgv+J07rhrRVxWd+tvoJgttr7LpReqRE6r+neyZ0U9m2B9V/7Xg9XcExMjJjBeqCiOYCZubMmRowYIB9BKErxyrR5cqVs/YgUJkphBnzUOKIFr3+jH6pO0jv1g9RkHnYtfpD3VW1l9aZl4O7atKWV5VvSBd9U2movmhTUlnt70tfhJGB59ChQ/Zw1d3CfYYJWs0IYGrpJ78grtG/f3+VKVPG6gFwSO8cIFm2f7Xjl2F67pn3NG27Y+BIfkWM+E1RXcvpUgUss8DwMo19/w09M3iOS2m+BGm+lk+eOedu2LDB6gFIDXPvZkJpdxz3bo0bN2YwURoRTqcS4XSAOLdRox98UK+vPG7tkHK1GKEFw5opNLVDxGx/aW6fh9Vx08Oa88OjuuN6z44xI5z2Y+fWaki9+npmyTFrR8L17EPjtfG7NiqW6u9prGZ0b6Sm65/Q2gU9VMFD39NAC6dTEjQAzsxoyIwJ6c4r7q8jUuFCCrb/Gp5RzJcdVLrzj/ZXFTlKfwwO0qudj+m1Oc+rSs6M+Zvg+jcAcDABdadOnQJyJLAJkCZOnKi+fftaewCklkevKeMPatXoV/XI6DO6v2KsPvtiwcXQueSgVdr8YhXrAW/CuXfjePV6dLCOtXhZL7a/TxWLHNW0ni3UaqT90XCCkuowaYHGtHRaoDidOGclANKfCanNAsTt2rVjbaBUYuI2cAWbzm1brulOwbR0i+5rWFFF0nIPHbddy2f9pWpN71IpDwfT8GcJ39NNizTBKZg2F7NNm1dXWFq+Zie2aNHUWNVsU1u38z3NEGa0tBkpTTAN75BFwTc7gukEtn1aPm2Z1cmviBZhOvD1RBV44QFVzqBgGrgaMzrpueeeC8iajmZ0+YoVK6weAK9mO6pVn3TVI8uq65ufR2nAk/9TYeslc21eq0Qhp2D6W/Vs/b0KvfODvn6llaoWy6OsWfOrSNHc9iMSFdItBT070xZA+jAzYvfs2aPDhw9be5BSjJxOJUZOBwJ3JT3aasSC99Qs9HprR0pd0InFA1XnwT/1VCaU9DAYOe2v3JX0eEzjN45Qm2Kp/57+O/9VlWmwXr09WNLDCMSyHikZEWfqmjGlHcbTTz+tokWLWr2MY9szQQ+Xbavv7UO97tfHE5toxUcn9UIGjpo2zKrnCExJlfUwzN9AM/Io0KfHrl271j7b5mr/rcwI8/z581s9AA5mQdaMd0Z7JvdWw5HF9c3Enqqa54L2TnhSxdp+Zb3eXCM2jlPXO3Iofv/P6tVwpPJ8MlKvNSh6qVTW+Q0aWfcedYt2DDh5WGN3jNYjt6Z/WQ/zsM+1Zj2AlDH3cFf7/THrapg1griHSxvC6VQinA4Ap9dpRJt26rc6HUp66F+tGfKYmk6/VzN/flLlM2FEKuG0nzq1Uh/c21C9lqZDSQ8d17L+/6caP96vVctfUJUbPPc9DcRw2iG5Eh/mAscssuGJYBKBLl5/z3hRZZoOlv0vSoXnNajFbv1Z/iONblmMBQ+RbswMkjVr1tjDVnc3eCaUNjWnWdTvcld7qMkUYiCzmIWFx6lT95167OteahBiwuTDmv9yIzUYuDrxkLA39NumNxRhW6Nh7d/V4Z6DLw+mE1yI+VKNS3fWbKuvyNHaMvMxhTPHHfAKyQ0sMvdsnIOvHX/ygMvYdHrTb5roFExfU0mPc3v1+/wdCTf81XQbpRKQbmw6tX6uxjgF09dU0uPcLq34ZYvKPVBLt3swmA505gKmR48eOnLkiP1hqgkYnJnQ2iyGZ0aWmosiIOMc0e9zoxKDaQWrTLm/tXReDT3VKIxgGunChNJmAEmdOnXsq9u7BtMmkP7999/tq+ITTF/JjMLq06eP/XxhboKdmSnE5nxx4403atiwYdq3b5/1CoCMdv5CKT19MZhOcHaX1szakthOEPLQPaqQ84iWDXlP8xr0Ua/6lwfTZuT1tuhfLwXTClFkm5oqRUoDZDpz/2Xuw0qXLn1FMG3u28z926lTp+z3cwTT144/e8BlTmhT9EJttnp2uWqoYZWb03SDfmHfH5q3sqga31VSrNmK9POP1s+brcvW2g6uo+Y1QtP2Pd21Rj8vKa7/u6e0clr74DnmYsbM8lm4cKH9IseMHHRmRhiai6IuXboEZO1VeMC/GzX/B8dCTAm3ysv+0IVHG6s8taZxjcwMEROYmlDazGw0Qaqz/v372xf9NNPvK1asaO1FUpwfao4ZM4aHmkCmClL22+7SXY5g2qwHs3mpflrnWAqxgh6sX1rnoz/TG9se0EddK19a58Hhwi5FT4i2OkaE2kQUJ6QBMpG53zKzV839l2tZLXOfNmvWLPt9m7l/C+TSY+mNv3uAsxN/aObXS62OJaKmKhZJbQ1f46x2rVighYVrqsYdeax9QDr4d41++jTK6lga1FX1sLR8T60RGyF1VbdCPmsfMoO5uDEXOWbkYHR09BUhtVkczIw4NBdL5qLJjEQErt0F/btqrr45YHUVp11H66pzk3Bls/YAqWVG75pQ2ozmNYGpayhtRv+agNWMBqY2Y+qZkNqU8nA81HQNqXmoCWSGhHu/1Yu0xOopf101uGWTPnnniLq+2Vwlsl35wPfCtiWaMPviCViKbKSIUtmtDgBPMfdVs2fPtt9nuZvhZe7LzP2ZuU8zdaUJpdMf4TRw0QWdWL9Ikw5aXbvCqhNZQUXTMnjMdlAbFv2hfE3vVtnc/KohvbgGSUaIIptV0y1p+p4e0O9z1yj/g3VUMQ/fU29hprWbix8zzd1Md3dmLpbMRZMZiWimyRNS49oc17qoKF36k5JfNfo8rPqFLp94DKSEYwqsGb3rWk/fBKhmtK8JpZkCmz4cDzVXrFiRooeaADKQyyjo/G0qKcusMdrb+Sk1K+YucD6pzfN/dirpUVIPPVZPt3E5DniMc9mxhg0bui07ZmZ4UXYs4/GnD7jouNZHLdRl2bSqqVn1sDT9otiOxGhpVA41q11Gea19nhQaGmrfXBecg687qlWzZjsFSUbapwDaDm1U1K851ObecmKtf+9jprmb6e7mosg1pDYjEc00eXMxZUYomunzQKqd2qLffvrD6iQIbqzHm5WlxA9SxQSfjrqMrlNgHXUZzShfM9qXUDpjOB5qmpA6qYea1atX56EmkEEuHwVdRvff9Ic+j6qn3i1LuNSZtpzbqrnfLLA6Ca6hRB+A1HGUHcuZM6fbsmNmhpej7BgzvDyDcBpwOLVVS6estzqWanepfNG0lEq4oLgtqzTrv+qqfedNXGQg/ZzcpKjvrRXAHWrWVpXijnp3qXFBJzYs0dT/InRflcJ8T72YuSgyF0cpWQwLSDmbzm5arB83OOpjSvkfaKVGtxFNI2XMSGnHFFh3dRlNUGpG9VKX0XNMSJ2Sh5osnAikJ9eFDTfr234bFfFqK4W7Kedhzr/nNi3ShCWXFjfP3/7/VC9NJfoApIZ5oO4oO+bKUXbMzPAilPYswmnAcuGvnVqz3+pYikSUVfHr0xLZJY7CjruvhiowNRrp6ELsVi3fa3UsYQ0qqlSavqeJo7BPNK2rqjfzPfUFyS2GtWfPHqsFpMRJbV4cpUtLIdbUE+0jFMKTKqSCuymwjrqMTIHNPFd7qGmYG3MA6eSKhQ2DVeblF/VY5aTmz57UpoWzLtWnVjm1ub+SCnL+BTJcwYIFrVYixwyvU6dOUXYsExFOA3bndWzHRq2yeonu0P+qlkjb1ObTO7V6/gnd17CiiqToIsOm+JN/a8f6BRrfv49Grz9p7QecndeRmLVOF7JGBbWsFa5cVi9VzGyBX/5V0+bVFcbFsE9JajGsdu3a2f8FUuTCPq3+eY3VSVCjpR64uyCzKJBiJgB9/PHH7W1HXUYTiBJKew93DzV79+7NSHYgHV2xsGFwM/V6rIYKJHVCPbdNCyc4XdHnb6D7qzvNYow/qgNHzlodAOnJXLuYaxYzw2vWrFn2+ylmeGU+nwqnTV0YUyfNrDx9rcxnmM+iRicSndXB3Tt0eSRcRuVLpKVa9AXFrV+oSX/do/vvCrn6Tf7JdRr7Sk91aFxFt4RXUu3G7fXCpDwqcyt/GOHOGe3fsVWXJuAb5VQlPJ/VTo0L+nf1bH0be69a1y5KGOWjXBfDMjWqgRQ7ukvrt59IbAdH6KlXWqlSTv4aIHXMDZ4JPqnL6N2cH2o2btzY2gvg2rmW9Ei+RNb5bcv0o3NJjzb3qnpBaxaj7ahWfdJHI/+8/IofQPoxD2nNDK/IyEhCaS/hM+G0WbjDTD8zddLMytPXsuK0ea/5DPNZ5jNZFAT2kcvnXJ5OFymuojdlszqpYDug3yZM1YkHIlWzUDLvz1VBHd4bqjGj31Qza1fhVrVVPjeTGuCO+Z6esdqWsFIqXigN9els+zT3q/H6p2Nz1Q1Jw/ccXoeRiki1mxrpk20nZLPZZDuxSMOapm1hVQQ2E0gzBdZ3mJtwbsSBdHRFSY+6euGJ+leZPXtG25fN16V33Kbm95W3Snqc17Flo9X399rqcDd/V4GMwnWL9/GZexBzEeVcL8110ZXUcH6v+Uwu0CBlV+htt19eGiFbTuVIdR1fm87EROnHGUXVpWUV5UvR2206vXerVVKkvFrVvV257W3AVQ4VK3Ongq2e3fXBynlDGr6nf/6qMT8W1/Pt7056yiEAAACAJF1R0uO+tvq/KleZfWvbp+XTllkdo6JqlyukIJ1X3MZv9fwL+/Xke61U0u1CigDgn3xqgIwZcu9gFl9Zu3at1Us5M2raeeEWs8I4IGVRgYp11Mq5OsLhPdp3JN7qpNB/O/TzkM+14+HH9cCdKY2YT2rbmlWyr8VYuI7qlk9LiQYEhiy6qXqk2ue3usbB7dp9KLXf0636sf/HiunyjDokuVALAAAAgKTF6Y9fJzuV9CiuFo/UV5mrBcvHtmv1b86rmwcrV47zOrZujHq2nqKyQ17T/xXLbr0GAIHBp8JpR+Fyh3HjxlmtlHMOps1nFS1a1Ooh0AXdVEtd3+uoW62+Ti7QxAU79Z/VTVb8AUUPflOv7Gyqd3vU1k0pfdh9brdWzlqf0MilUu3qqQIlPXAVQYXqq9eIbrrN6ivuV42dGZOK7+k+zev3rLpve1CfvnKvCqX0e2r7RzEzPla3+hVVvfccHbJZu+M2a8YHnVW9QG11G79ZLkVHAAAAAP/kurBhcH21rXPLVUOW83u36LdL5aYT/Ki+/1db1Vr9ots+HapnqxZgLRgAAcfnUjDHiuCGKc8RExNj9ZJnjnUu6eH8WYApmXBL094aPeQxVbDX99irWa+/rcFRe3XGCuLcu6AzB1dr/Gvd9eT84nrv4ydU80ZrQYtk2RKuaZZr+srjCe3yalX/dqtkwzkd2ThLX777jFrXDFd446f0wfQtOnnV/zsQGHKqxIPv6aexPVXN/mXZpanPvKh+s3Yl/z09sFRf9nxID8wspeFfPa96joVXkmMC7beeUtdBIzRywTqtnLhOe86bYHq9vurZTk17famVx6I18tUZ2pjKQdwAAACAT/r3L+04aA0RKRmpboN7qHFYMmvBZLv+8lKSitPB3Peq/7TReqV+UaX0LhIA/InPhdNm9HTz5s2tnjRx4kSrlTyzCKKDCaZZURxXCMqj0q1e1/fTv9ZrHerolpPz9fHDzdXy2U80fu5yrY/Zo4N//62///5Le2LWa/mCnzS6/1P6v9rP65fcHfT9N6+pVek8qXjafUrblkZppWmWqaOI23PbR2AvH/myeozaqjwVaumeCrfo5Pop+rjrs+o/b7/Ip6GgvCr7yIeatWyaBnWNVMm4mXq7UU3d0+kdfTnjN63+c6cOHDiQsMVq55+rtejXcRrycjtFhD+myXm7ac7Pg/RI2bwp+57aDmvp4K+194HB+u6Z+on7qoapUJbDWvbZNF334jStHFTXvjv/fWUUlsXeBAAAAPyb88LC22Zp+GOVlCeZC+ws4U301qD2qhIcoirNntGg8Uv158wBanNHCq/NAcAPBSX8IfW5rMvUjY6IiLB60pEjRy6utjl58mS1atXK3p40aZJatmxpbx89elQ33nijvW1ER0erVq1aVi/lgoIuP2XExsZaLfifeJ3cv10bt2zS5j826s/tB3Usdo1mLN2Z8NqtqtGkikoVK6OKlSqofMU7FV4kd+qfdJ/bqNEPPqjXV/6nMi9/rxndi2j14E+1vMqTeqpOmLIH2XR2zVDVafq+TGWyXI+M0dIB9+rSNzlpoaGhVkv2Cyb4q3jF7d2stRvXa8OadVq7Zb+O7lmuH6O2Jrx2m+o+UEOlb71T1e+qqirVKqtsWJ5UfE/j9fesD/TJf+30dpNgLX29ie55Z7MiRizQlLJR+uBQM73TsphOrP5OA388rjpPdFajEpePBUmO699UvqsAAAAAAAQOnwynDbOQoaN+9NChQ9WjRw97O6lwetiwYerZs6e9bUZeT5kyxd5OLcJppB+bzv35lR687zWtVA29PPU93RU9Wdsad1O7i6Ov43V47juq03GUjiufqr39g37oXFbJTBazI5zGtTus5VO2qUTzu1Xw3Cp9cFc99VpXVf3m9FGe+f+q+dstVSzrtY3xIJwGAAAAACBw+ezKa84LI5rQ2YyMTop5zRFMG87vBTKPU0mPaveo1L45WlG1g9o4lwU5s1W/fDdLpiK1bn1QPZqEpyiYNsyDE7MR9iHtbtJdLe5WwYQv5PntqzR1XZwUUlGFdy7RuVb3XnMwDQAAAAAAApvPhtOVK1dWtWrVrJ4UFRVlta40Y8YMqyX7e8x7gUx3bpeWTl9tb+bL9Yd+O1RDj9YKuVhywXZmr6KGvat+s/cqV4XHNGT0c2pQOJv1KuBJZ7R92XxFJ7RC7s+imC0V9FDlvIkvAQAAAAAApJHPhtM5cuRQ7969rZ40YMAAnT592updYvaZkh4O5j3mvUDmsunctuWavtI+JlrHT1TSgw+VV3BQwitnD2vr4vF694n2emJeHnX58Af9Ov71VC60CKSjC7sUPcFE07epxjmbwh6qpyJ8GQEAAAAAwDXy2XDaaNy48cXR0ytXrtTMmTPtbWdmn3nNMMea9wCZz6mkR4J8+Q5q2Tcf641nntCzQxcoNusdeqD/VP3xy6fq1baWSuRhxDQyj23fOs1dciChtVULstRSK0ZNAwAAAACAdODT4bQZAd2hQwerJ40dO9ZqXWJGVDuYYxk1Da/gVNJDVV7Vl6/X0akFEzRq4s+aOGWDThUtrfCwfLqB0anIdOe0d+lsTY8z7Zp6on2EQvheAgAAAACAdODT4bTRrl07qyVNnTr1soDatB2jpg3nY4HM41zSI5+qNb9HlUrVUZcX2quCeXnnKD372k/a/p9ZyDBOMdOG6YNvlutgPAsbIhPYYrV06sKEb2KCmm31UERByssAAAAAAIB04fPhdIECBTR06FCrlxhQOzi3zTHmWCDzOZf0iFDbeqV0vbIob/W2eumJKva9J2eN0LCZexSvHAotW0Lnpn+pWTvO2F8DPMn21+/6dfr2hFYZPfpCc5W/nmgaAAAAAACkD58Pp40WLVpYraQxahpew6mkR65GkapR/AZ7W0GFFNH1aXUplSuhs00/DByq71fvVVyOUJWoVEdVwrInHgd4zAWd2LRKs+Kk4BoPq1PdUEZNAwAAAACAdOMX4XTRokXVq1cvq3cl8xqjpuEtbH9t1mJ7SY/yav1QDRW7+FsYpKyFG+jVH7/Xh8+2UPm/v1fvh7rr9e9iFN65lcrmIBaEp12nPPXf1X6bTSeWvKp7CmSx9gMAAAAAAFy7IFsCq+3TYmJiVLp0aat3uS1btig8PNzqXZugoMsDwtjYWKsFeKciRYpYLcD7uP5N9ZNTEgAAAAAASAG/GDltmPD58ccft3qXmFHT6RVMA74kNDTUvrmGfwAAAAAAAIA38Jtw2ujUqZPVuqR58+ZWCwAAAAAAAADgLfwqnK5Vq9ZlYbRpm30AAAAAAAAAAO/iV+G04bww4tUWSQQAAAAAAAAAZB6/WRDR4fTp06pTp469vWLFCvu/6YkFEeErTL1pBxaZg7diQUQAAAAAAAKX34XTxuTJk+3/tmzZ0v5veiKchq8gnIYvIJwGAAAAACBw+WU4bUZPGzly5LD/m54Ip+ErCKfhCwinAQAAAAAIXH5Xc9owoXRGBNMAAAAAAAAAgPThl+E0AAAAAAAAAMC7EU4DAAAAAAAAADzOL2tOZyTX+qgAgPTDKQkAAAAAgMDByGkAAAAAAAAAgMcRTgMAAAAA8P/t3Xt8jvUfx/H3nA9LTaa2bOQ4h1BGGTKmqdBETI5Fikql8qPo5NCBTiipkCSRwhyK2Rxnc5qczVCYrBpbmNNsu3+77vuahmGb7bbdXs/H4374fr7XNbV79+4/3vfH5wsAAOyOcBoAAAAAAAAAYHfMnAYAAAAAAAAA2B2d0wAAAAAAAAAAuyOcBgAAAAAAAADYHeE0AAAAAAAAAMDuCKcBAAAAAAAAAHZHOA0AAAAAAAAAsDvCaQAAAAAAAACA3RFOAwAAAAAAAADsjnD6Oti8ebP+97//6bPPPjN3ACD/WbNmjdq3b2/9EwAAAAAAILcRTttRetBz9913a8yYMZo2bZpOnz5tXgWugeWUYiPn6MP+rVX1pmZ69ue9OmdesrEoOWG7Fnz4rFpW9ZR353c0JzrRvAZkznifCgoKUtOmTa3vXXPmzOE9CwAAAAAA5BonSxpzjTxgBDm//vqrNYg2Qp6LLVmyRP7+/mYF5EDyIS0b/ZKeHvqz9plbavqFdqzop1qFjcKi5NgQjejWR8OXx1gvG5wfn6kd3wfK08ncADKIjo5WjRo1zOo/DRs21JAhQ+Tr66uyZcuauwAAAAAAANlH53QeMUJpo8uwefPm6tix4yXB9KBBg7R7926CaVyb5EMKHfG8hu12V0tfD3MzTWyiTpsfO1kS1mj0RcG0IXF9jOJSzAK4SPXq1RUTE6Px48ebOzYbNmywvqfdeuut1tFE8fHx5hUAAAAAAIDsIZzOZUZQYwQ2pUqVsgY4RpCTkRH0GKH06NGjreEPkGOWv7Rq5AB9oOf08+R39UybKuaFNN4eKm90TSf/obmvv6s9gbP1z4lwjaxku2xwblZZ7tbOaiBzFSpU0PPPP6+jR49a37uMrumMBgwYYA2p3333XWunNQAAAAAAQHYQTucSI5gxQmkjqDECm4sZwY4R8BhBD6E0rt0p/f7jSA35u4cmvdFKboXjdWDHn+Y1Z93t4yV3pzM6OH+cPirxrEb1aSTXkqV0k4uzeY+PnuvRVLcz0gNZYIzvMN67Vq5cqZ9//vmSkHro0KHWESDGQa/Gga8AAAAAAABZwczpa2SE0pMmTbIeHHax9NmsDz30kEqWLGnuAtfKonP7ZqhXx23qFTxSrcsXkU6u1ps179cI6+SOBvpf6GK9XzNCzz0WroC5I2z36Kxi187R96Excq7/iLo/7CVnwmnkgDG2aNOmTecPTLxYQECAdXRRkyZNzB0AAAAAAIBLEU7n0Jo1a64YzDz77LNq1qwZoTTywFGtfvNF/eI7Ru+2dJOTLDob+ZHu9R6kLcZl5376efcw3TKur767e7y+DqwiI5oG8sLV3gt79uzJB3QAAAAAACBThNPZYHQLrl69WhMmTKBbENdRihL/OirdVt7sfD6j6Ck9VaPPbOtV+U/StrFOGtYnQW8sfVkNStEejbzHvyIBAAAAAADZRTidBUYo/euvv+r999+/5IDDdEYofd9995kV8J8OHTqYqzxi2avvHm2pnkHGTA8XNZ0wU28e+FQ/NJqoyR08lVfRtNEx+/fff5sVYLN27dpMA+p0xvz9rl27WudYAwAAAACAGxvh9BXEx8drxowZmjZt2mVDaeBq8vpXzHJwlrrV7qIfEo2qjT75qa3Wf3xSr+Rx17Rx+N2VQkjgSoyQ2t/fnwNiAQAAAAC4gRUy/0QmDh48qC1bthBMIx9LVtzWCC22BtNp6tVQ8rYQlXilk+5hnAfysZCQEMXFxZkVAAAAAAC4EdE5nQVXmqWazpg3TQcgMjN69GhzlRf+1pKXWuvBscZRiM7y6tZetQ7U1+tL8n7WtPEvCrZv325WgE1CQoL1/fJymM0PAAAAAADSEU5nw6FDhzRv3jwNGDDA3LkQs1Rhd8eXabCXn0bHGoWzKlWpovqvz9CPvWupqPUGwD6uNpvfCKSfeuopPsQDAAAAAADnEU7nwNVmUY8aNUqPPfYYIQzyWKqOLxsmL7/3ZM2mDS4vakHUh2pbvoi5AeSt9PfDK31ox2xpAAAAAACQGcLpa5CVTkGjk7p+/frmDpCb4rX6zba6f0SEWbuo8ZglCnm1oUqZO0BeMcYdBQcH8y9JAAAAAABAjhFO5wIjpN60aZN1JnVQUJC5+x9mrCJPnIrQqHv9NWy7eRqic1dNjvxavasTTSPvXGkGf8OGDTVkyBA99NBDKlmypLkLAAAAAACQOcLpXLZmzRpNnTo10wPBjJC6Z8+eBDfIBRadjfxI93oPknEUosHlyZ+1fXIHueftOYi4QRnvbVf6AO7ZZ59Vs2bNeG8DAAAAAABZRjidR7LSXejr68s/eUcOJWrLuC6q/+Iis/bR4NC5eq9leZFNI7cY/ypk9erVmjBhAv8qBAAAAAAA5DrC6Tx26NAhzZs377JzWcPCwgh2kH2pUZryUEv1CTaPQmz8oTaGvKwGpYimkTuM964OHTowTx8AAAAAAOSZQuafyCMVKlTQ888/r6NHj1oPCLtYzZo1zRWQDfH7tXXfCdvauamee62j7iaYRi4y3rsuNmrUKO3evVujR48mmAYAAAAAANeMzmk7M/6Z/K+//qr333/fOn/aCK4BID+aM2eOOnbsaP1gzeiUZgwRAAAAAADITYTT14kRUhsPwh4A+RXvUwAAAAAAIC8RTgMAAAAAAAAA7I6Z0wAAAAAAAAAAuyOcBgAAAAAAAADYHeE0AAAAAAAAAMDuCKcBAAAAAAAAAHZHOA0AAAAAAAAAsDvCaQAAAAAAAACA3RFOAwAAAAAAAADsjnAaAAAAAAAAAGB3hNMAAAAAAAAAALsjnAYAAAAAAAAA2B3hNAAAAAAAAADA7ginAQAAAAAAAAB2RzgNAAAAAAAAALA7wmkAAAAAAAAAgN0RTgMAAAAAAAAA7I5wGgAAAAAAAABgd4TTAAAAAAAAAAC7I5wGAAAAAAAAANgd4TQAAAAAAAAAwO4IpwEAAAAAAAAAdkc4DQAAAAAAAACwO8JpAAAAAAAAAIDdEU4DAAAAAAAAAOyOcBoAAAAAAAAAYHeE04DDSlbiwUgtHPeKhiw6bO4BAAAAAAAA+QPhNOBQLEr+N1qrZo3T4M4+cqvorXYvBin2bIp5HQAAAAAAAMgfCKcBB5N8Wip3b3e9M3OGJgR4mLsAAAAAAABA/kI4DTgUJ5Vwq65alcqqRKHiKn1zMXMfAAAAAAAAyF8IpwEAAAAAAAAAdkc4DQAAAAAAAACwO8JpAAAAAAAAAIDdEU4DAAAAAAAAAOyOcBoAAAAAAAAAYHeE0wAAAAAAAAAAuyOcBgAAAAAAAADYHeE0AAAAAAAAAMDuCKcBAAAAAAAAAHZHOA04KstZnTyWlLaI195DR2WsAAAAAAAAgPzCyZLGXANwBOd+15KJQdp99oh2bjuk08Ze8bKqWMldLnUD9Fzb6ipmvREAAAAAAAC4fginAQAAAAAAAAB2x1gPAAAAAAAAAIDdEU4DAAAAAAAAAOyOcBoAAAAAAAAAYHeE0wAAAAAAAAAAu+NARMBBODk5maus4VcfAAAAAAAA1xOd0wAAAAAAAAAAuyOcBgAAAAAAAADYHWM9AAfBWI+MUpUYOVmDPg3ShnUnVbmxp0qaV6wKeanru6+qtVvRtMJ276tvfa1lJz3V2LO07R4VUvGSRZV8e0eNequ13LL39AIAAAAAAOAqCKcBOLBERX7YTt6DVqStneX10g8KHdNG7kUyS5qPae2otmo8LCxtnXbv4Hla856fyhJKAwAAAAAA5AnGegBwXJZjit13xCzuUqcOPpcJptNYEnXk0L9mUUOP+NcjmAYAAAAAAMhDhNMAHNeJ3VodtN22dvOVb71bbOvMJGxXyKz0e/3V2rusbQ0AAAAAAIA8QTgNwEFZdHLLKv0Qa6tcOjdX/TKXe8tL1fHNK/Vjgq1yCfBRnZt4ewQAAAAAAMhLpC+AwzmruC3zNfGt5xXg7S4np+pq0eUljZq2Qn8kppj33AiOaduqlYqxrusosFUduVjXmflXW1askC3HrqaAB+rKlZEeAAAAAAAAeYpwGnAklmPaMfVdfbzVVQ8P+lRBGw/qxIEp6lJylYb1aqG6j3ysiIQbJKBO2q/1v2yxrZ0bybeuqy6bN5/arVVzt5lFI7W8+7bL3wsAAAAAAIBcQTgNOIxk/RP8tX5ye0ojejSWp3ORtL0icvZsqqdHDdOTLlLi8k/09tw9SrV9gUNL2btWs8PNOR1+vmrkUcy2voRFSXs26pftibbSv6XurVjctgYAAAAAAECeIZwGHEaykjwe0yv+HjJi6Yyc3O5Ra/9KaatYBa/cqb9t2w7sjPatXaYws1JQT1Uu5CQnp8wehVS8/gsKt97ooqaPNlIV3hkBAAAAAADyHBEM4DBKqEKtSnLObB6FU2EVLV7YuvSo6Koy1pUDs8Tqt5BNZtFGYzefkMViyfyRskuT/d3Me33UqXEl2Z4pAAAAAAAA5CXCaeBGcHK/Ni/fl7ZoqiceqKXStl2HZfnrNy1eYHy/aeo0UaNql/+OLQc2aH6w7SjEq90LAAAAAACA3EM4DTi8ZP2zfI4mxTirWr+BeqpxWXPfUSUrLnKVgswR0h6PNtVdpS53vGGSYtavUKhZuT18r2pd9l4AAAAAAADkJsJpwMFZEtbo8+Hf6kSLwfrizTbyLOLo4eu/2r46TLajEBvocd+al+8Ut8Rp64r1suXYDdSjdV3HH3kCAAAAAACQTxBOA44s+aAWDX9dP9T+UGE/D5afW3HzggM7uUsrfoi0rV181bK+i22dmRO7tTpou23t0lTN6txiWwMAAAAAACDPEU4DjspyTDumjdbXekHzxvdSPZei5gVHZtGpbWGaG2OrXAJ9dbfL5Y43TNXxjSH6zhw37Rxwvxq4FrEVAAAAAAAAyHOE00C+YNG56Clqf9cbWhafYu5di7OKXfaFPjoYoIljOquW8+UCWkdzUnvWr5GtF9pD9/t4yfWyU0yOa2dEhGzZtIf8WtbV7YybBgAAAAAAsBvCaSBfOK0/wkIVun2eZof/JYu5mzMpStwxXzP+fljj3npAbhfMmD6unWujzBnLjsdyfJsWzQw3q3K6s7yzub6YRcmHwzRr+kazrqC6lcqKbBoAAAAAAMB+nCxpzDWA6yVps8a1aKkXwxPk0m+Boia0VfkcJaUWJceGaNS4I+r4gq9uNXfTJR9dpY8mFNfgCe3lZu4VfOcUu2yc3vlut1T0nE6fTTX3U3U65k+d8mioDi+/pt71jHnSKUpYPV4vT1qvk6cLqWTJizvK79DDQ4cpsHopswYAAAAAAEBeIZwGrjuLkrZ8phb1X5C159e5t2bu+EKBnsWsV7PDcnydPnqskwYtNYcuZ6bnzzr8bQcHCqcBAAAAAABQEDHWA7jujmnTwjm2YNqQuFJBEX/mYLTHv1o3fsiVg+k0Li6lVdxcAwAAAAAAANcLndPA9XYqQqPu9dew7f9NgnYOmKzI2U+qetECOgU5Zbe+69xezx6oovbeteVV1TVDIG7R2bjfFf3XKen0Qa2ZvULxlxtlkrpPs3q0V5d15dSpSWW5V6ymCmWKmBfPKG7vPh0+tE3zVtbUhC2T1KMysTsAAAAAAEBBQTidCyxxS/Vam/4KKX+vat9aRrdXryzX4hlSNstxHdp5QAnGKNzUo9oxb6tcxwZrYW8v2SbentKOid3UbNI5tantIfcLvt4WwP11OlmnD67T7L+6adW6N9SsTEFrek9Rwqp31brNaMV7t1YTT9dLnyeD+VwdjduheYsqaMyOGepX66L5v2bw2TO4tNq0ry3XWyuqVoUy5w+zsxw/pJ1RW7Q6rLG+ihqplvn6uUpR/LK31cRvpKLMHSvnrpoc+bV6F9jZx+f07x+7tC/+tP7dMEn9+0/SHvOKjbOq9XxbHz3VTO63lpenZwW5OqeHzhmd1ZHoXToQH6/YAzsUMnGMxq4wO8OdffTEm/0UeJ+X3G6vpBpVXVXi4nAbAAAAAAAA+RbhdG5IPq6Y6H3659Qx7Q/+Wq8NnXFREJemWicNHthOjSpXkme5W3VbjeryOB/GWZScGK+4uL91OGab5n80VMPn7zOvOatKm756ocdDauRVURUqeuqOW0qcD2ILEsuZWO3a8aeO/xut0K9Ha9isLeaV/zg3fEKDn3lYDatX0u2XDRzTg8+TOnZgk+aP/8AMLJ1VLXCIhvdtqWq3lFaZitVVtVw+f64s/2jZax31XOK9arXyS312vnu6kgImL9Ls3rVU1NwpsFK2a6Lv/eoflmBuGHw1ZuMCvdrA2ayz4pR2Tuyq2v2D0n7UD+nNeV/pDb8KyizSBgAAAAAAQP5HOJ3brGHjo/L74PwEYasqYzYq6tUGWQjSjinywy7yHrRYcn5Qg6eO0eCA2nIp4kgtoRadXfuevBoP1X5zx8prkBaEjlBb9+yMZjinmFnPyLPLN1Kd4Vq15nU1K2PrRy8ILPGheq3JKN30zWT5hfZW42ErzCtpP37/iVq74GnVLlbQf/Z/a8lLrfXg2IwfRuQgnE7do+86+qvnvFvV7+fZGt/hToJpAAAAAACAAowDEXObk6ua9e6jgIsyt31zw7Uj6WqfA6QoIeIrDXpnsVStryavnan3OtZxsGDakKrjR/7SEbOycZFP/67yz1YwbXBSkaLF0v500wPPPar7ClAwLSUrLnyBvirygPzqeqqun7/qmFcMicELFLrrpFkVZKVVroKLuc6pZP2zdLLenXdMDYe8r+GPEkwDAAAAAAAUdITTuc5JRau11QvP+Zi1KXyOFm46ZhaZSVHijul6uddwbWj4un5eOEZP1r65QI7vuLoEbVsdrv+O/zO0Up8HvWTEzNlzUgd27Uj7s6m6tKxasEZgWP7W+kUrdEcXX9UtVVil6vqqS52Mn2qEa+bSXTplVgVXUZW97Q5znTOWhDX6/I2vdOiBNzXhtRZydcxfDAAAAAAAgBsK4XReyLR7eoU++jZM/2TaPG1RcuxSjXxyoH6qMFjzvn9THao7ajCd5tQeRfyy2yxM/g+qadUSZpENqbHauWpfzr/+OrLEhGnG9Arq2/YuWY89LFVTfl28rddsEhTxbYi2nirok3cKq0Tpi8d3xGjbgYwzqK/AEqewT9/R8F2t9O6YJ9SgQHXHAwAAAAAA4HIIp/OE0T39sPo/dbdZ2yRMn6Ulf5w1q3RGMB2iEd2e1ufOL2ve94Pk55bd0RYFiUVnd63R7PMH/xnc5B/oo6o5eDWm7g3XrOAzavpoI1UpUK/mJMVEBGtB3dZqXrO0uXfzJaM9tD1YoVuv1HFfEBRWWXdPVTKr7ElRQtiXemX4IQWOfUt9693iuB/aAAAAAAAA3GAIp/OK021q1r2bGpulVeIiTVy4S0lm+V8w3Ucf6+kbIJg2nFTUmhXKeDSenP3U3ffOHLwYk3TotzUKl486Na6kAtVPe26vQn5YL58ezVXz/IGHTpmM9tio6fMiFV+gm6edVLhosYt+Pvu05vd/lGxWl2NJCNOnr0zQv0+O0Ls9aqlg9cYDAAAAAADgSgin84yTSt3TSa8+6WXWhgSFfxGkdcdT09Z5GEynRmlKa3c5OTnl4cNdradEyfhOsiVpr1bOCjcLG+d2bdX8zhx875Y4bV2xXok+GbuPCwKLzv2xVvNX1VVgy6oXztm+ZLRHoqKCVmhzQopZF0xF3CuribnOsvRxHv921vtvB6hyUXqmAQAAAAAAHAnhdF5y8tCDT/e8cExD1Ex9ExKjpBuuY9pgUdKu1ZoVnnHWcBW1C2gkj5zkjid2a3XQn/IJbJah+7ggOKXoZb9o1f1+anpnSXMvXSajPaKWKXjz0bRnrwArUkwlLxo7vW/bAcWZ60ulj/M4o4Hj/6dHPemZBgAAAAAAcDSE03nKSaUaBGhgQMZpu1H65v3B6tvn6bwLpgt5qfeSw7JYLHn4OKwlvb2y+QI6qV0rl+iCvmnn5gpofEcO5gin6vjGEH0X66PA5hd1H+d3SXsU+t1W3f/Ifbrzkm7gzEZ7hOur2esVV5DTaRc3Vb3NXGeBbZzHV9KQ4XrN3z0Hrw8AAAAAAADkd4TTea1odbV9KkAuZmm1YZbmnOlzA3VMm07t0tKZF4/08Fdjj5xEy8e1MyJCsfV81cSrYI30OLUtVDO3NtPjraqqqLl7gUtGe0gJs0K0Pu5qE5rzMaficna74LdAWvO7Dmf2LZnjPD52HqCx/2shV5JpAAAAAAAAh0Q4neeKqHzLbnq98YXBXOLZm1Xu1gLV73uNLDq1NUTfRuTSSI+k/Vr/y27V6dRENYsXpPTymLYuXqhtVwzlb9Y9bTvIx6ysEhZqxvKYgjvao/DNKl+5rFlciTnO4+Myemt0H93nUqCOuQQAAAAAAEA2EE7bQ6laerhnC7Mwhc/Rwk3HzOJGcExbQ4O13ayscjzSQ0rdv0mLwivp0ftrqJS5VyCc2qXQmUfU6bHGVwjlnVSsZjMF+mT8QGOfFgStV0yBTadL6pbbbzHXpn17deCibnBL3HKNfmWa3N59Q/0alGWcBwAAAAAAgAMjnM5zFiXHhmvWjxvMOt0KfT5rneIL9Cl32XB8k+Z+vsIsTH6+apSjkR5ntDdssYLdfOVb76LAM19LUfzaXzT9Tz91aHqVOcrFqqp54AW900pcMF8he06ZVUFTQje73mSuL8NyWMHvvanP3F7Vu33vkTPJNAAAAAAAgEMjnM5TRjAdohHd+uhjddWnwx4y921iJ/2opTFJZuXI0g8vNEsrN/k/0lAVcxJAWmL1W8gmuXRurvplCtBL2HJUm4OX6e/AVmrkWsTcvJzSqtm89YWjPRLDNT9sv86ZZcFSVGVvu8Ncp9ut3w+fMddndXjRp3ppajWNHd1VtUuQTAMAAAAAADg6wuk8kzGYflrzvn9HL/TtpcedzcuGxLka++MW5XovbGqUprR2l5OTUx4+3NV6SpRSzf/klcVr45JgXZBNq6kCm1bK0QvQErdDKxaXVGCrOhceNJnPWY5s0oI5hfR0p0ZZOOQvs9Ee+xU6f63+OFcQ2+0Lq0TpjC/+jNJ+Vw4u0oiXF+jusUPVo8bl7gMAAAAAAIAjIZzOExcH04Pk51ZcTh5N1bV7HfMeQ4IiJs/X2vgUs3ZQJ3dpxQ+RZmHyaaYGlYqbRXak6sT2cAWda6oHGtxWgGYSJytu3WJ9W9hX/vVvzdr/d2ajPUJ/0bLogjjao7DKunuqklnZxGjbgQTpzE5N+99QhfqN0vuPV1NR8+o1sRxT9MJP1L9lfTUaslRxZp5vSYzSwg/7qFHZZuo/M0rpfdsAAAAAAACwP8LpXJd5MG3l5Kb7uz4mL1tlEzVd4xf9nsUO5Cwq5KXeSw7LYrHk4eOwlvT2ytILKPXPPVoXYxYmD7/6qlosJ9GyrQv7RDtfed9+tdEY+Uja8xU2J1S3Bfiqvkthc/NqMhvtsUzfhe5RwRsG46TCRYvpku/cEq8tX7+jFze11vuvPSzPIrnwcUPyIYW+85z6jflCE5dv0YaftuhgihFMb9U3A7qq3aAp2pAQponDFmrHhecxAgAAAAAAwI4Ip3PVFYJpq0Iq0+Bh9Wl84aiGeV/M12+nHPVkxBQdjd6scLOyqacOTaqrtFlly6k9ivjluNoFNJJHwWmbliUmQj/NLqfu7RuobJb/vzMb7ZGg8Jmh2lYAXy9F3Curibm22acF417S86//ru7vv6hHPEuY+9fAckQRY6cqptNYff9iS9uet4fKFz6itV/OV6FX52vDGF/rtssDXvLI6ucEAAAAAAAAyHWE07nmasG0qVRddejfRhdM1Y2YpM8Xx6T9DY7ojA7/vkeJZmVTRw2q32KusyNVxyODNf3PVnqsWYUCNNIjSTERwVpQyV9+dW8297Iok9EeilioxVuPmUUBUry0XC4aEp6waqOOPPW23nikkq69Dz5Z/wRP0oIaPdW9tpP2bt6atueipr5eKhX2vebf2S1t301VWjypIYPHasagFipfgD7gAAAAAAAAcDSE07kiRYnRczXsasG0VXHd2byt2l2QTkdp9rQQ7SmQB91djUXJSRdN9vWoqkrli5lFNlgOKeSbmTrWK0C+brkymdg+zu1VyA8rVamLr+qWym4amsloD23UzNBd2TpI05K4V0vGPS//lq9rcey5tB3jNRukUV385f/yHP1uj9demXKqUNZcp/N6Tp++9qDcc2Och/7VH6d9NbCNp4qc/V3r5m9L26unB6v+oxm/VlB/awBeWC4Neuq991/Qg5Vz1LsPAAAAAACAXEI4fc1SlLhjuga07aUPDnXQt1NfvUIwbXPpwYhSYtBkTVkd54Dd0yXl6XXXhZ3ixZxVqnh2w0iLzuxcrG9nV9LL3e/LxmiM682ic3+s1fxQL/Vte5dKmbtZl9loj0Rtn/5Llg/SNGYt/zBxnjZErtTS5b8p+p8kJR8M1pfz1ilq1VItnRquPSdydep55gqVVtkqbmZhaKyBn74g//K5NTu8nO5tf59c014bKfs2KmhLouRWX7f9Ea6kjq1yZ541AAAAAAAAcg3h9LWwHNfvC0fokfue0NTYhzRu9tt6NCtzc51uU6M2frpwwkG4vpoepliHS6cLq1wjf3XP+M3+vU8H4rJ5Et25PZo96hNF931RPe/J5mgMe7MkKmZrpCIjjcdaLZg+U0FunnI+tsvcS3tsjVHiZX/WFiUf2fPfvdvi5XxXZfOaKSpU8xeF/XdP9BFl+oxaYrXi2x2q3a+HfG4vLrnUVo3bYzR3YXH1eOVJ+d/rpcYD2qphlg9pvAaFSuuW29PjeWd5DXxTQ/zd82A8yxntW7tMYWkrtzaFFb27nh7P768ZAAAAAACAGxDhdI6k6kzsRv349pPyb/eOlidW0+MTRqpfvVuyGLQVUVm3Crp4wkHCN19q6rp4h+uedirfUoO+6K9qZq3ExZr2a7SM4RJZknxIoSNf0rN7O+vz11rl/znBlkNaOqidvL290x4+6jhiqbTnC/Vp3sjcS3sMWqrDVwinT239Ru3S7/X2U58vI81r6SI0tqfv+b+v3eStmY75SN27TUd926le0RhtWrJbut9LJdaEqWj7ZipfuJp6/LRNq972tVMnehm5Vzc7p6v11ZhBfnnzs0zdr7BZRjRdTY2TLPJ4vIXc8/trBgAAAAAA4AZEOJ1lRiC9U2GLZ2jc4K5qWr2hAofP0T7zavLfuxW5JVoxsUeVmHxp6mg5E6udkau1ZN4czZn1lYZ/MP381/4nWEN7Pqu3Js/RsrWbtDPmeObdsAVOKVXu/J7mThughtb5HvsV9OKrGrlkv85cMYk3nvMITRnwuDr9WlUTvnlZLVyzPgLCkhilhR8+q5bVW2pIaKwZ+huzlhfpwyebqGyjlzQz+sKjGnNFIS/1XnJYFovl8o8lvVX9sr99hVSm5bs6nNnXXeZx+IOWKmN+dUaFqvnrsdrOSj2wVUu33CR/X4t2HW+oh93Nmd2Fi8h+0y6Kqsytt6b96aUnRjynB/Nobrjl0BaFhMemrfZoeeEm6kjXNAAAAAAAQL7kZDGSLVzd8VV6895ntPquRqpxZzVVdc0wvuNsnPZGH1b8wXWa/Wdr/RzyoTp4Zpw7bdHZyI90r/fHKtKmhWrfWkQqebuqV3XVhdOpzyhu7z79dTpJR3cs16KzAxSxbojuy/YhevnVOSXsWKzJn32miRODtU9uatizv/p1aq56lT3k7mI8p6k6k/CXDh3crd+Wz9e0CVt0+3Nv6J1XOqqB65Vnef/HouTYEI0c+KGWbwzXqn2JqjJmo6Jera8zxnzwR5/X1D22UNq230C5NfU4fzqrP77ro8o9D+ip/u3UZthAtU8Pp+0qRQnLhivwp7qaOLaDKhfNi9d1kg7O6q/aXaYoUT4aHDpX77UsnwejQwAAAAAAAHCtCKdxHSQrMSZKm3ds1fZNW7R5txnsr9iTdq2afDs1Vo0771Kje73VoOE9qu1RJlvhsSVhjT4evV8PDm2i3c+1UsdpKQqcuVw/+P9p2/9fVf3a8D4N2ldH/RYs1oS2dzh2eGk5qDm9056HIFe1H/mJvn+2UQ4OZiwgLH9oVrcH1OWHfZLPOG1e/rzqFSOaBgAAAAAAyI8Ip+FYLIe1ZNhUnXvuFbW9eb3erHm/RsQE6IvtY1V7/veK6/ayOnicVOQ34zU7/j49/XxrVS7h2OGl5Z+FetarnSYmdNAXO6apX63S5hXHY4mdo97VO2pqopee/HmJJnfwpGsaAAAAAAAgn2LmNBzLv4d1+qHeauNeTGej1ml+TNpenYaqmrBEv1YJ1COeJSSnW9Wg99t6/9UHHT6YNsaknNgerqAEyeXJbnqkpuMG09bvdddGLUmUnBt30xO+Dt4RDwAAAAAAUMARTsOxuHirfdPb5aTT2rchTFvSttxau+iPecnq2Layg8+Wzky8Ni4JVqzuVq9AH7k5dFr730GSJ8KH6f6yhc19AAAAAAAA5EeE03BMqQe1du76tEU9tSn8u3b7tNU9DnOwZDak/KntS3fL2aebujW7jU5iAAAAAAAA5BuE03BIqXvDNSs4VnKpoKSz1fX4gx43ZjBbuJ5e2HRCJ9a8Iu8bMZwHAAAAAABAvkU4DQeUpEO/rVG4sUzYp8L3P3hjdk0DAAAAAAAA+RjhNByP5U9FBK1UorH2ekzdORgPAAAAAAAAyHcIp+FwLDHrFbRgX9rKRT79O6opB+MBAAAAAAAA+Q7hNBxMsv7auEILjLZply565bHaKma7AAAAAAAAACAfIZyGg/lXu9ZtUKLc1HhAZ/m6FTX3AQAAAAAAAOQnTpY05hoAAAAAAAAAALugcxoAAAAAAAAAYHeE0wAAAAAAAAAAuyOcBgAAAAAAAADYHeE0AAAAAAAAAMDuCKcBAAAAAAAAAHZHOA0AAAAAAAAAsDvCaQAAAAAAAACA3RFOAwAAAAAAAADsjnAaAAAAAAAAAGB3hNMAAAAAAAAAALsjnAYAAAAAAAAA2B3hNAAAAAAAAADA7ginAQAAAAAAAAB2RzgNAAAAAAAAALA7wmnAYSUr8WCkFo57RUMWHTb3AAAAAAAAgPyBcBpwKBYl/xutVbPGaXBnH7lV9Fa7F4MUezbFvA4AAAAAAADkD4TTgINJPi2Vu7e73pk5QxMCPMxdAAAAAAAAIH8hnAYcipNKuFVXrUplVaJQcZW+uZi5DwAAAAAAAOQvhNMAAAAAAAAAALsjnAYAAAAAAAAA2B3hNAAAAAAAAADA7ginAQAAAAAAAAB2RzgNAAAAAAAAALA7wmkAAAAAAAAAgN0RTgMAAAAAAAAA7I5wGgAAAAAAAABgd4TTAAAAAAAAAAC7I5wGHJXlrE4eS0pbxGvvoaMyVgAAAAAAAEB+4WRJY64BOIJzv2vJxCDtPntEO7cd0mljr3hZVazkLpe6AXqubXUVs94IAAAAAAAAXD+E0wAAAAAAAAAAu2OsBwAAAAAAAADA7ginAQAAAAAAAAB2RzgNAAAAAAAAALA7wmkAAAAAAAAAgN1xICLgIJycnMxV1vCrDwAAAAAAgOuJzmkAAAAAAAAAgN0RTgMAAAAAAAAA7I6xHnY0bdo0ValSRU2aNDF3gNzDWI+MUpUYOVmDPg3ShnUnVbmxp0qaV6wKeanru6+qtVvRtMJ276tvfa1lJz3V2LO07R4VUvGSRZV8e0eNequ13LL39AIAAAAAAOAqCKftZPPmzbr77rvVsGFDzZkzRxUqVDCvAMg7iYr8sJ28B61IWzvL66UfFDqmjdyLZJY0H9PaUW3VeFhY2jrt3sHztOY9P5UllAYAAAAAAMgTjPWwg0OHDunpp5+2rjds2KB33nlHp0+fttYA8pDlmGL3HTGLu9Spg89lguk0lkQdOfSvWdTQI/71CKYBAAAAAADyEOF0HjNCaCOMNkLpdJMmTdInn3xiVgDyzIndWh203bZ285VvvVts68wkbFfIrPR7/dXau6xtDQAAAAAAgDxBOJ3HjBDaCKMvNnToUOt4DwB5xaKTW1bph1hb5dK5ueqXudxbXqqOb16pHxNslUuAj+rcxNsjAAAAAABAXiJ9yUNG+GyE0OnGjx+vp556yqykjh07Kjo62qwA5K5j2rZqpWKs6zoKbFVHLtZ1Zv7VlhUrZMuxqynggbpyZaQHAAAAAABAniKcziNG6GyEz+mMUPr555/XuHHjrIcipuvevbvi4+PNCsgNZxW3Zb4mvvW8Arzd5eRUXS26vKRR01boj8QU854bQNJ+rf9li23t3Ei+dV112bz51G6tmrvNLBqp5d23Xf5eAAAAAAAA5ArC6TxghM1G6JzOCKM/+OAD67pkyZKaPn26dW0wZlEPHjyYAxKROyzHtGPqu/p4q6seHvSpgjYe1IkDU9Sl5CoN69VCdR/5WBEJN0ZAnbJ3rWaHm3M6/HzVyKOYbX0Ji5L2bNQv2xNtpX9L3VuxuG0NAAAAAACAPONkSWOukQuMkPmFF164YM707t27Vb16dbOyCQ4OVuvWrc3KNvLD6KwGci5Z/yz5VF8oUENbe6iIuWuwHJ6jPnU66psEN/lPXqZfe3s5+CdTZxQ9padq9Jlt1lnloqZfrNKKfnVU2NwBAAAAAABA3qBzOpdNnjz5gmB6yZIllwTTBn9/f2sgnW7AgAHWwBrIuWQleTymV/wvDKYNTm73qLV/pbRVrIJX7tTftm3HZYnVbyGbzKKNxm4+IeNzuEwfKbs02d/NvNdHnRpXIpgGAAAAAACwA8LpXLRmzRpryJzOCJ+NEPpy+vTpc8EBiUYn9aFDh8wKyK4SqlCrkpwzG5bsVFhFi9siV4+KripjXTkuy1+/afGCfbaiThM1qlbats6E5cAGzQ+2HYV4tXsBAAAAAACQewinc4kRKjdt2tSsbAcgGuHzlRjzp41Z1BkPSOzQoQPzp5H7Tu7X5uVGWNtUTzxQS44dvyYrLnKVgswR0h6PNtVdpS53vGGSYtavUKhZuT18r2pd9l4AAAAAAADkJsLpXGCEyUaonM4Im9966y1r+Hw1ZcuW1VdffWVWtgMSjZnVQO5J1j/L52hSjLOq9RuopxqXNfcd1b/avjpMtqMQG+hx35qXD+Mtcdq6Yr1sOXYD9Whd1+G7ygEAAAAAAPILwulcYITJRqiczgibK1SoYFZXV79+ff38889mJevM6mnTppkVcG0sCWv0+fBvdaLFYH3xZht5FnHwzuCTu7Tih0jb2sVXLeu72NaZObFbq4O229YuTdWszi22NQAAAAAAAPIc4fQ1MkLkjAcgGiGzETZnl9F5PWrUKLOSevXqZZ1hDVyT5INaNPx1/VD7Q4X9PFh+bsXNC47KolPbwjQ3xla5BPrqbpfLHW+YquMbQ/SdOW7aOeB+NXC9+ChJAAAAAAAA5BXC6WsQHx9vDZHTGeFyxvEe2TVw4EAFBASYla3GjcKic9FT1P6uN7QsPsXcu0aWY9oxbbS+1guaN76X6rkUNS84spPas36NbL3QHrrfx0uul20UP66dERGyZdMe8mtZV7czbhoAAAAAAMBuCKevgTEvOiwszDpj2giVrzVMNmZUf/bZZ9a/z3jMmTPHvALHd1p/hIUqdPs8zQ7/SxZzN+fOKnbZF/roYIAmjumsWs6X6x52LJbj27RoZrhZldOd5Z3N9cUsSj4cplnTN5p1BdWtVFZk0wAAAAAAAPbjZEljrpFDhw4dsv6ZnTnTV7J582bVqFEjSwcqwkEkbda4Fi31YniCXPotUNSEtiqf46Q0RYk75ujLLTX0zON15XzB33NcO9celud9XrpcbFvwnFPssnF657vdUtFzOn021dxP1emYP3XKo6E6vPyaetcz5kmnKGH1eL08ab1Oni6U9jt2cWh/hx4eOkyB1UuZNQAAAAAAAPIK4TRw3VmUtOUztaj/gqw9v869NXPHFwr0LGa9mj0WJceGaNS4I+r4gq9uNXfTJR9dpY8mFNfgCe3lZu4BAAAAAAAA1wNjPYDr7pg2LZxjC6YNiSsVFPFnjkZ7WI6v16e9+ujt97vqLnd3uV/08Lyri8aeTO8sBgAAAAAAAK4fOqdzgSVuqV5r018h5e9V7VvL6PbqleVaPMMsBctxHdp5QAlGJph6VDvmbZXr2GAt7O0l21CBU9oxsZuaTTqnNrU95H7B159R3N59+ut0sk4fXKfZf3XTqnVvqFmZgva5QooSVr2r1m1GK967tZp4ul76PBnM5+po3A7NW1RBY3bMUL9aF41YSNmt7zq3V8/g0mrTvrZcb62oWhXKnJ8XbDl+SDujtmh1WGN9FTVSLfP7c3UqQqPu9dew7YnmhuQcMFmRs59U9aIXPT9X9K/WjnpUjYetMOvMuby4WHs/ba2yZp0nzJ/RsweqqL13bXlVdVVx81LaT0hn435X9F+nlPai1prZKxR/uVEmqfs0q0d7dVlXTp2aVJZ7xWqqUKaIedH2u3H40DbNW1lTE7ZMUo/K//1XAAAAAAAAkL8RTueG5OOKid6nf04d0/7gr/Xa0BnaY146r1onDR7YTo0qV5JnuVt1W43q8nBOD9ksSk6MV1zc3zocs03zPxqq4fP3mdecVaVNX73Q4yE18qqoChU9dcctJQrkwW2WM7HateNPHf83WqFfj9awWVvMK/9xbviEBj/zsBpWr6Tbb6+kGlVdVeKSb/ac/v1jl/bFn9SxA5s0f/wHGrsiJm3fWdUCh2h435aqdktplalYXVXL5ffnKkXxy95WE7+RijJ3rJy7anLk1+pdYGcfp/+MTuvfDZPUv/+ki34n0n5WPd/WR081k/ut5eXpWUGu538fMjqrI9G7dCA+XrEHdihk4hjzZ53G2UdPvNlPgfd5ye2yrxUAAAAAAADkV4TTuc3yj5a99qj8Pjg/pMGqypiNinq1gTKL3y50TJEfdpH3oMWS84MaPHWMBgfUlksRR0rdLDq79j15NR6q/eaOldcgLQgdobbu2el+PaeYWc/Is8s3Up3hWrXmdTUrc/Ehd/mY9fXSUc8l3qtWK7/UZ+e7pyspYPIize5dS0XNnQIrZbsm+t6v/mEJ5obBV2M2LtCrDbJzLOMp7ZzYVbX7B6X9bjykN+d9pTf8KmThdwoAAAAAAAD5ETOnc5uTq5r17qOAizK3fXPDtSPpap8DpCgh4isNemexVK2vJq+dqfc61nGwYNqQquNH/tIRs7JxkU//rvLPVjBtcFKRosbBgW564LlHdV9BCqbTWBK2KTioqLp3f07dunibu4b9Cp21WtFXfc0UAIVddWcDT7O4Bql/KnKJ0W3fQP2+/ZxgGgAAAAAAoIAjnM51Tipara1eeM7HrE3hc7Rw0zGzyEyKEndM18u9hmtDw9f188IxerL2zQVyfMfVJWjb6nD9N2HZ0Ep9HvSSETNnz0kd2LUj7c+m6tKyagHrMk5WXPgCfVXkAfnV9VRdP3/VMa8YEoMXKHTXSbMqyEqrXAUXc51Tyfpn6WS9O++YGg55X8MfvZNgGgAAAAAAoIAjnM4LmXZPr9BH34bpn0wbYS1Kjl2qkU8O1E8VBmve92+qQ3VHDabTnNqjiF92m4XJ/0E1rVrCLLIhNVY7V+3L+ddfT5a/tX7RCt3RxVd1SxVWqbq+6lIn44smXDOX7tIpsyq4iqrsbXeY65yxJKzR5298pUMPvKkJr7WQK7OlAQAAAAAACjzC6TxhdE8/rP5P3W3WNgnTZ2nJH2fNKp0RTIdoRLen9bnzy5r3/SD5uWV3tEVBYtHZXWs0+/xsZYOb/AN9VDUHr8bUveGaFXxGTR9tpCoF7NVsiQnTjOkV1LftXbIee1iqpvwuGO2RoIhvQ7T1VEEf7VFYJUpfPFs6RtsOZJxBfQWWOIV9+o6G72qld8c8oQYFbHQLAAAAAAAAMkc4nVecblOz7t3U2CytEhdp4sJdSjLL/4LpPvpYT98AwbThpKLWrJAxOfg8Zz91970zBy/GJB36bY3C5aNOjSupYEWWSYqJCNaCuq3VvGZpc+/mS0Z7aHuwQrdeaRxMQVBYZd09VcmssidFCWFf6pXhhxQ49i31rXeL4/6LAgAAAAAAgBsM4XSecVKpezrp1Se9zNqQoPAvgrTueGraOg+D6dQoTWntLicnpzx8uKv1lCgZ30m2JO3VylnhZmHj3K6tmt+Zg+/dEqetK9Yr0SdjwFtAnNurkB/Wy6dHc9Uslh63pr1mLhntsVHT50UqvkA3TzupcNFiF314sE9rfv9HyWZ1OZaEMH36ygT9++QIvdujlgrY4BYAAAAAAABcAeF0XnLy0INP97ywEzZqpr4JiVHSDdcxbbAoaddqzQrPOM6hitoFNJJHTtphT+zW6qA/5RPYLEPAWxBYdO6PtZq/qq4CW1a98BDIS0Z7JCoqaIU2J6SYdcFUxL2ympjrLEsf5/FvZ73/doAqF6VnGgAAAAAAwJEQTucpJ5VqEKCBARkHGkTpm/cHq2+fp/MumC7kpd5LDstiseTh47CW9PbK5gvopHatXKIL+qadmyug8R05GNWQquMbQ/RdrI8Cm18U8OZ7pxS97Betut9PTe8sae6ly2S0R9QyBW8+qgLdPF2kmEpeNHZ637YDijPXl0of53FGA8f/T4960jMNAAAAAADgaAin81rR6mr7VIBczNJqwyzNOdPnBuqYNp3apaUzLx7p4a/GHjmJlo9rZ0SEYuv5qolXARvpkbRHod9t1f2P3Kc7L+kGzmy0R7i+mr1ecQU5nXZxU9XbzHUW2MZ5fCUNGa7X/N1z8OFFumQlxkYrcslkDe48XpFXmyMCAAAAAAAAuyGcznNFVL5lN73e+IJ4Wolnb1a5WwtWv++1sejU1hB9G5FLIz2S9mv9L7tVp1MT1SxekMY9pD0P20I1c2szPd6qqoqauxe4ZLSHlDArROvjCnCy6lRczm4X/g5oze86nNm3ZI7z+Nh5gMb+r4Vcs/3jTVVi5Nfq36OtvG8qqpvca8j7waf03Z21Va2IeQsAAAAAAACuO8JpeyhVSw/3bGEWpvA5WrjpmFncCI5pa2iwtpuVVY5Hekip+zdpUXglPXp/DZUy9wqGtOdh8UJtu2LH+M26p20H+ZiVVcJCzVgeU3BHexS+WeUrlzWLKzHHeXxcRm+N7qP7XC48RjFrCsm5QV998d1czZ30pLnXQD1a11UZswIAAAAAAMD1Rzid5yxKjg3XrB83mHW6Ffp81jrFF+hBwtlwfJPmfr7CLEx+vmqUo5EeZ7Q3bLGC3XzlW+8Wc6+AOLVLoTOPqNNjja/QMe6kYjWbKdAnY6fxPi0IWq+YAvt6Kalbbr/oZ7Vvrw5c1A1uiVuu0a9Mk9u7b6hfg7LXMM7DcEL7d0TZlm7+au2dlXAcAAAAAAAA9kI4naeMYDpEI7r10cfqqk+HPWTu28RO+lFLY5LMypGlH15ollZu8n+koSrmJH20xOq3kE1y6dxc9csUpJdwiuLX/qLpf/qpQ9OrzFEuVlXNAy/onVbigvkK2XPKrAqaErrZ9SZzfRmWwwp+70195vaq3u17j5yvLZmWzv6udfO3WZduPVrJu0C9VgAAAAAAABwfaU2eyRhMP61537+jF/r20uMZz7lLnKuxP25RrseNqVGa0tpdTk5OefhwV+spUUo1/5NXFq+NS4J1QTatpgpsWilHL0BL3A6tWFxSga3qXHjQZH5nOarNwcv0d2ArNXK92vDj0qrZvPWFoz0SwzU/bL/OmWXBUlRlb7vDXKfbrd8PnzHXZ3V40ad6aWo1jR3dVbVLXGsybVFSVITmbklMWzfVU23rMdIDAAAAAAAgnyGczhMXB9OD5OdWXE4eTdW1ex3zHkOCIibP19r4FLN2UCd3acUPkWZh8mmmBpWKm0V2pOrE9nAFnWuqBxrcdo1jH+zLcmSTFswppKc7NcrCIX+ZjfbYr9D5a/XHuWzM9jj3u5aMH6mX2ta0fahQ9iUt/Od6HKxYWCVKZ/xkJqO035eDizTi5QW6e+xQ9ahxufuy46R2rVyicGNZ52E93MAc6ZH8j7bMG68hvVqqqpO7vDu/rR93Hkv7PwAAAAAAAIC9EU7nusyDaSsnN93f9TF52SqbqOkav+j3LHYgZ1EhL/VeclgWiyUPH4e1pLdXll5AqX/u0boYszB5+NVX1WI5iZZtXdgn2vnK+/ardR/nJ8mKW7dY3xb2lX/9W7MWqmc22iP0Fy2LzkavfdHKaj1gsF7p0dhaumSpazsvFFZZd09VMiubGG07kCCd2alp/xuqUL9Rev/xaipqXr0mSXu1cpYRTTurThdf1S2V9hOIXaEPe/bVp3vKqKFfS3lXO6HI2e8osP07WhRbMPvRAQAAAAAACjLC6Vx1hWDaqpDKNHhYfRpf2A0774v5+u2Uo/Zupuho9GZbB+t59dShSXWVNqtsObVHEb8cV7uARlc4UPAiyYmKjd6oJVOGqPO4SF2PvmFjnnLYnFDdFuCr+i6Fzc2ryWy0xzJ9F7pH2ZtUHq+dEZvS/qyjwDZ3Z6FrOy84qXDRYrrkO7fEa8vX7+jFTa31/msPy7NIbvzPWZS0a7VmhSekrb3Vxc9LxdJ+L0cOjdBd78/QlEG91LHnAL3Uq77t9j2/amFknG0NAAAAAAAAuyGczjVXC6ZNpeqqQ/82umBwQcQkfb44xkFHC5zR4d/3yJj8+586alD9FnOdHak6Hhms6X+20mPNKlyl+zhBkRMHqkdbb91U9Ca512ioB/uE6M46FXU9+oYtMRH6aXY5dW/fQGWznL9mNtojQeEzQ7UtOx9mHN+hZT9ukVz81KbR9RuFUsS9spqYa5t9WjDuJT3/+u/q/v6LesSzhLl/rTKO9PBXy9t/03tj/tRj4/6n1p6lbd+/JVFHDv1rrNJUUS0PJlIDAAAAAADYG+F0rkhRYvRcDbtaMG1VXHc2b6t2F6TTUZo9LUR7sjNLuMCwKDkp/dA7k0dVVSpfzCyywXJIId/M1LFeAfJ1u9rwBxc16PeJvlvwkyYFmsMk3PzV2tucPWxXSYqJCNaCSv7yq3uzuZdFmYz2UMRCLd56zCyuxqKTW1bph9gMIz2MuctzPtFLAd4q691Vb/64XYn2eOkVLy2Xi06wTFi1UUeeeltvPFIp9z40OD/Sw0U+PStp/9Rt8hn0uOo4p/dtW3Rm5yJ9PX172tpZ1fo/o051c2PONQAAAAAAALKDcPqapShxx3QNaNtLHxzqoG+nvnqFYNrm0oMRpcSgyZqyOs4Bu6dLytPrrgs7xYs5q1Tx7PbvGoHiYn07u5Je7n5f1ruPT8VoR/h+69KtRyt5l7kOL/lzexXyw0pVss4+zu73ncloD23UzNBdytrk6WPatmqlYtJHepzcqu9HTtNuz3Z6eUgvNdv9g0YEDtLETVkNu69BmXKqcPFnA17P6dPXHpR7rozzMGQc6VFWZcJW66+2PdTy/O9kqs4cXKL3BozU/EQ3New3UXNHPyy33PrPAwAAAAAAIMsIp6+F5bh+XzhCj9z3hKbGPqRxs9/Wo1kZTeB0mxq18dOFTaTh+mp6mGIdLp0urHKN/NU94zf79z4diMvm5OdzezR71CeK7vuiet6T1e5ji85GrdN862GMDdSjdV3Zf3iDRef+WKv5oV7q2/YulTJ3sy6z0R6J2j79F62NTzHrKzi1S6EzN9pGetx1VLO/3K36rw5UZ++q8rynoRqVM27ar72xJ62356lCpVW2iptZGBpr4KcvyL98bg5ayTDSQ/E6dm8P9WlQNu1ZTNWZIzu1bMrreqzl01pUrpcmh65Q8Piuqn2+oxoAAAAAAAD2RDidI6k6E7tRP779pPzbvaPlidX0+ISR6lfvlizO8y2ism4VdHETacI3X2rquniH6552Kt9Sg77or2pmrcTFmvZrtM6Z5VUlH1LoyJf07N7O+vy1Viqf5S7Xk4pas0JbjKVXO7W110gPS6JitkYqMtJ4rNWC6TMV5OYp52O7zL20x9aYK4zSsCj5yJ7/7t0WL+e7KpvXTFGhmr8o7L97oo9kctCjRWd3rdHs7Yly6VxHKYsjdEvXR8ww1qIzURsUajSVu7SQ/z2u1q/IU4VK65bb0+N5Z3kNfFND/N1zdwb2+ZEehrIq+88yffnWS+oV8JTe+/WAitbrqc82RGvDjyPUu2V13ZJrHdsAAAAAAADILsLpLDMC6Z0KWzxD4wZ3VdPqDRU4fI72mVeT/96tyC3Riok9qsTkS1NHy5lY7YxcrSXz5mjOrK80/IPp57/2P8Ea2vNZvTV5jpat3aSdMcczCRwLolKq3Pk9zZ02QA2t8z32K+jFVzVyyX6duWISbzznEZoy4HF1+rWqJnzzsloYM5Oz6nxQ6aw63f3VwDrSw6LkuM2aN/419WpRXU43NVLnN3/SzsQsdCFnleWQlg5qJ29v77SHjzqOWCrt+UJ9mjcy99Ieg5bq8BXC6VNbv1G79Hu9/dTny0jzWroIje3pe/7vazd5ayZjPtLD+WpqWeygDtbuoAfM8RaWxK369r3xWq679eQXA9XO/WozvHNDGblXNzunq/XVmEF+2figISsyjvRwUePRX+nDh1L16ydjNW3+bP0QfloV69VUJZcSuRuIAwAAAAAAIEecLGnMNa7k+Cq9ee8zWn1XI9W4s5qqumYY33E2TnujDyv+4DrN/rO1fg75UB08M86dtuhs5Ee61/tjFWnTQrVvLSKVvF3Vq7rqwunUZxS3d5/+Op2kozuWa9HZAYpYN0T3ZXtOcX51Tgk7FmvyZ59p4sRg7ZObGvbsr36dmqteZQ+5uxjPaarOJPylQwd367fl8zVtwhbd/twbeueVjmrgeuVZ3heyKGnLZ2pR/wWFy1cjI+Zq6H0lFbvqC70ycofu7t5Kt8XM18hhM7THeijeDK38vJ1jzR5O2qxxLVrqxfBz8ho4Wys/elDlndKe35jV+nrYQL2+q4FGjhisPv5V5WyX7/uUdk7sqtr9d+uJmQv1dWCV3DsE0SpRW8Z1Uf0XF6Wt22js5pl6oe5prX47UPcPX562V0kBkxdpdu9aKnpqh2aNnqt//Z5Un2Z35PL/BwAAAAAAALKCcBrXQbISY6K0ecdWbd+0RZt3m8H+ij1p16rJt1Nj1bjzLjW611sNGt6j2h5lchAeZggq67yriHUDVTHiUw1dXV9vD/GXZ4lC0tm1GuXVWMOM0RbOA7Tg90/U1tVx5g+n7Jwo39r9FZb2nHYaOUwd3RK0L76IKnhUVIWqXqpbu7LKGc+D3aQoYdlwBf5UVxPHdlDlormciJ8P4xMk/8na/WtvVU/79iz/LNYrzTvpk6hEyeUZzdz8qQI9zip67mj1G+uhz5b1Uy3GTgMAAAAAANgd4TQcU4au4TojF2pBs40aF9VKw/vWO98lbPlnoZ71aqeJxhQIn3HavPx51SvmKK3TZxQ9padq9Jktl34/Kbz3YQ1u+YLmuz2jaQs/VI/q1vkqDiRjp3wltZ8WrJ97VDPnFp3V4YVvyK/dGEUZXfJPfKRv32ijCsdDNWF1Hb0x4J4cHFQJAAAAAACAa2XPtknATjLOHm6mnl4HNHVNPQ3qXTfD+IpE7ZwzXdONW9RA/V9rr7oOE0ynSd2vsFlhaYs6Cmxzn2p4d9Nrr/lLe77Us4NmaMcZi1Kip+hh/3e1Ks4RJpsn6c+t62Q9CrHao+rTqlKGN7ficm87QssivtWwTjUVO/UZ+XcepK82VdML/e8mmAYAAAAAALhO6JyGA8ow0sPFV4907qQ3Rj8j7zLm7AbLSR0M/lhPPPamlqup+k34XGO6ZwyuCz7LH9/p0co9FeT2mkKjRqplmUKyxIXo9Tad9f6GcgqcOFuTnq6mw998rt9avahAz2LmVwIAAAAAAAD2Qec0HE/SXq2cZe2hlRKK6d4nuqiBEUxbzujIzlBNGdJNLR9boHIvTVZoZJDG93CsYNqY7XxkxwaFyll1nmun+8rYfs2dXFto6MyZGvtibe19taO6DP5KG6p3VUeCaQAAAAAAAFwHdE7DwWScPZzGpY1eHNJUZQ7v0paEynqsa0vV8vBU5coecrHrYYAAAAAAAAAAMiKdg4M5qV0rl9iCaT2o0fNG6KGTq/TJ2GmaP22Bwk9WUL1aFQmmAQAAAAAAgOuMhA6OJeNID5+H5X9fffm/NFgvN3RJ24jUxF7DNC36VNraolM7Z+vttyZrdexZ6+0AAAAAAAAA7IdwGg7EoqRdqzUrPCFt7Sb/Pg/ormJOcnJpoudGPC0v45bEGXr1vYU6mCyV9LxLdc/O1bCgPUoxrgEAAAAAAACwG8JpOJAMIz2c/dTd907zBV5E5f2e1ZiXGlurhKnv663Ja/THiZKqXL2xHmvsqcLWKwAAAAAAAADshXAajsPyl7Yu25q2cFa1Hp3V6s7itn1DEU+1HfOTIiYPU6cGf2lqv87q/OIkbar1pPrXK2PeBAAAAAAAAMBenCxpzDUAAAAAAAAAAHZB5zQAAAAAAAAAwO4IpwEAAAAAAAAAdkc4DQAAAAAAAACwO8JpAAAAAAAAAIDdEU4DAAAAAAAAAOyOcBoAAAAAAAAAYHeE0wAAAAAAAAAAuyOcBgAAAAAAAADYHeE0AAAAAAAAAMDuCKcBAAAAAAAAAHZHOA0AAAAAAAAAsDvCaQAAAAAAAACA3RFOAwAAAAAAAADsjnAaAAAAAAAAAGB3hNMAAAAAAAAAALsjnAYAAAAAAAAA2B3hNAAAAAAAAADA7ginAQAAAAAAAAB2RzgNAAAAAAAAALA7wmkAAAAAAAAAgN0RTgMAAAAAAAAA7I5wGgAAAAAAAABgd4TTAAAAAAAAAAC7I5wGAAAAAAAAANgd4TQAAAAAAAAAwO4IpwEAAAAAAAAAdkc4DQAAAAAAAACwO8JpAAAAAAAAAIDdEU4DAAAAAAAAAOyOcBoAAAAAAAAAYHeE0wAAAAAAAAAAuyOcBgAAAAAAAADYHeE0AAAAAAAAAMDuCKcBAAAAAAAAAHZHOA0AAAAAAAAAsDvCaQAAAAAAAACA3RFOAwAAAAAAAADsjnAaAAAAAAAAAGB3hNMAAAAAAAAAALsjnAYAAAAAAAAA2B3hNAAAAAAAAADA7ginAQAAAAAAAAB2RzgNAAAAAAAAALA7wmkAAAAAAAAAgN0RTgMAAAAAAAAA7I5wGgAAAAAAAABgd4TTAAAAAAAAAAC7I5wGAAAAAAAAANgd4TQAAAAAAAAAwO4IpwEAAAAAAAAAdkc4DQAAAAAAAACwO8JpAAAAAAAAAIDdEU4DAAAAAAAAAOyOcBoAAAAAAAAAYHeE0wAAAAAAAAAAuyOcBgAAAAAAAADYHeE0AAAAAAAAAMDuCKcBAAAAAAAAAHYm/R9i2bTLBFTKfgAAAABJRU5ErkJggg==)"
      ],
      "metadata": {
        "id": "01lBsf2I0NW4"
      },
      "id": "01lBsf2I0NW4"
    },
    {
      "cell_type": "markdown",
      "id": "fd3fc1fa",
      "metadata": {
        "id": "fd3fc1fa"
      },
      "source": [
        "[Diagrammatic interpretation of the matrix products involved in **SVD**. In the approximation of $\\textbf{X}$ by $\\hat{\\textbf{X}}$, the first $k$ columns of $\\textbf{V}_r^T$ and the first $k$ rows of $\\textbf{V}_r^T$ are involved.]\n"
      ]
    },
    {
      "cell_type": "markdown",
      "id": "3887cdea",
      "metadata": {
        "id": "3887cdea"
      },
      "source": [
        "## EXAMPLE"
      ]
    },
    {
      "cell_type": "markdown",
      "id": "3806b04b",
      "metadata": {
        "id": "3806b04b"
      },
      "source": [
        "Consider the matrix\n",
        "$$\n",
        "\\textbf{X}= \\left[\\begin{matrix}6 & 6\\\\ 0 & 1\\\\ 4 & 0\\\\ 0& 6 \\end{matrix} \\right]\n",
        "$$\n",
        "\n",
        "The goal is to compute its singular value decomposition"
      ]
    },
    {
      "cell_type": "markdown",
      "id": "156d8ab8",
      "metadata": {
        "id": "156d8ab8"
      },
      "source": [
        "- **Step 1:** Find the eigenvalues and eigenvectors of\n",
        "\\begin{eqnarray}\n",
        "\\textbf{X}^T \\textbf{X} &=& \\left[\\begin{matrix}6 & 0 & 4 & 0\\\\ 6 & 1 & 0& 6 \\end{matrix} \\right]\\left[\\begin{matrix}6 & 6\\\\ 0 & 1\\\\ 4 & 0\\\\ 0& 6 \\end{matrix} \\right]\\\\\n",
        "&=& \\left[\\begin{matrix}52 & 36\\\\ 36 & 73 \\end{matrix} \\right]\n",
        "\\end{eqnarray}\n",
        "These are\n",
        "\\begin{eqnarray}\n",
        "\\lambda_0 &=& 100\\\\\n",
        "\\lambda_1 &=& 25\n",
        "\\end{eqnarray}\n",
        "and the corresponding eigenvectors are\n",
        "\\begin{eqnarray}\n",
        "\\textbf{v}_0 &=& [0.6, 0.8]^T\\\\\n",
        "\\textbf{v}_1 &=& [0.8, -0.6]^T\n",
        "\\end{eqnarray}\n"
      ]
    },
    {
      "cell_type": "markdown",
      "id": "c19bb54b",
      "metadata": {
        "id": "c19bb54b"
      },
      "source": [
        "- **Step 2:** Compute the eigenvectors of $\\textbf{X}\\textbf{X}^T$. This is a $4\\times 4$ matrix of rank 2\n",
        "\\begin{eqnarray}\n",
        " \\textbf{X}\\textbf{X}^T &=& \\left[\\begin{matrix}6 & 6\\\\ 0 & 1\\\\ 4 & 0\\\\ 0& 6 \\end{matrix} \\right]\\left[\\begin{matrix}6 & 0 & 4 & 0\\\\ 6 & 1 & 0& 6 \\end{matrix} \\right]\\\\\n",
        "&=& \\left[\\begin{matrix}\n",
        "72 & 6 & 24 & 36\\\\\n",
        "6 & 1 & 0 & 6\\\\\n",
        "24 & 0 & 16 & 0\\\\\n",
        "36 & 6 & 0 & 36\n",
        "\\end{matrix} \\right]\n",
        "\\end{eqnarray}\n",
        "    "
      ]
    },
    {
      "cell_type": "markdown",
      "id": "10073626",
      "metadata": {
        "id": "10073626"
      },
      "source": [
        "The eigenvectors corresponding to the nonzero eigenvalues $\\lambda_0, \\lambda_1$ are computed using\n",
        "\n",
        "$$\\textbf{u}_i = \\frac{1}{\\sqrt{\\lambda_i}}\\textbf{X}\\textbf{v}_i,\\qquad \\text{for} \\lambda_i\\neq 0$$\n",
        "\n",
        "that is\n",
        "\\begin{eqnarray}\n",
        "\\textbf{u}_0 &=& \\frac{1}{10}\\textbf{X}\\textbf{v}_0 &=& [0.84, 0.08, 0.24, 0.48]^T\\\\\n",
        "\\textbf{u}_1 &=& \\frac{1}{5}\\textbf{X}\\textbf{v}_1 &=& [0.24, -0.12, 0.64, -0.72]^T\\\\\n",
        "\\end{eqnarray}"
      ]
    },
    {
      "cell_type": "markdown",
      "id": "88a4991c",
      "metadata": {
        "id": "88a4991c"
      },
      "source": [
        "- **Step 3:** Compute the SVD of $\\textbf{X}$:\n",
        "\n",
        "\\begin{eqnarray}\n",
        "\\textbf{X}&=& \\sqrt{\\lambda_0 }\\textbf{u}_0\\textbf{v}_0^T + \\sqrt{\\lambda_1 }\\textbf{u}_1\\textbf{v}_1^T \\\\\n",
        " &=& 10\\left[\\begin{matrix}0.84\\\\ 0.08\\\\ 0.24\\\\ 0.48\\end{matrix} \\right]   \\left[\\begin{matrix} 0.6& 0.8\n",
        "  \\end{matrix}\\right] +  5\\left[\\begin{matrix}0.24\\\\-0.12 \\\\ 0.64\\\\ -0.72\\end{matrix} \\right]   \\left[\\begin{matrix} 0.8& -0.6\n",
        "  \\end{matrix}\\right]\\\\\n",
        "  &=& \\left[\\begin{matrix}\n",
        "5.04 & 6.72\\\\\n",
        "0.48 & 0.64\\\\\n",
        "1.44& 1.92\\\\\n",
        "2.88 & 3.84\n",
        "\\end{matrix} \\right]  + \\left[\\begin{matrix}\n",
        ".96 & -.72\\\\\n",
        "-.48 & .36\\\\\n",
        "2.56 & -1.92\\\\\n",
        "-2.88 & 2.16\n",
        "\\end{matrix}\\right]\n",
        "\\end{eqnarray}\n",
        "        "
      ]
    },
    {
      "cell_type": "markdown",
      "id": "6bb41c07",
      "metadata": {
        "id": "6bb41c07"
      },
      "source": [
        "If we keep the first of the two terms, then the resulting approximation is best, rank-1 approximation of $\\textbf{X}$"
      ]
    },
    {
      "cell_type": "markdown",
      "id": "48f62293",
      "metadata": {
        "id": "48f62293"
      },
      "source": [
        "## APPENDICES"
      ]
    },
    {
      "cell_type": "markdown",
      "id": "ba2a8597",
      "metadata": {
        "id": "ba2a8597"
      },
      "source": [
        "-----\n",
        "#### **Appendix A) Mini Proof**\n",
        "\n",
        "Let $\\lambda$ be a nonzero eigenvalue of $\\textbf{X}\\textbf{X}^T$ with eigenvector $v$. Then by definition\n",
        "$$\\textbf{X}\\textbf{X}^T v = \\lambda v$$\n",
        "Now consider the vector $\\hat{v}$ defined by $\\hat{v}=\\textbf{X}^Tv$. Then\n",
        "\\begin{eqnarray}\n",
        "\\textbf{X}^T \\textbf{X}\\hat{v} &=& \\textbf{X}^T \\textbf{X} \\textbf{X}^T v\\\\\n",
        "&=&  \\textbf{X}^T (\\lambda v)\\\\\n",
        "&=& \\lambda (\\textbf{X}^T v)\\\\\n",
        "&=& \\lambda \\hat{v}\n",
        "\\end{eqnarray}\n",
        "This last expression shows that $\\hat{v}$ is an eigenvector of $\\textbf{X}^T \\textbf{X}$ with eigenvalue $\\lambda$. Thus both $\\textbf{X}\\textbf{X}^T$ and $\\textbf{X}^T \\textbf{X}$ have the **same eigenvalues**.\n",
        "$\\square$\n",
        "\n",
        "----"
      ]
    },
    {
      "cell_type": "markdown",
      "id": "6c121323",
      "metadata": {
        "id": "6c121323"
      },
      "source": [
        "------\n",
        "#### **Appendix B) Mini Proof**\n",
        "\n",
        "Let $A$ be an $l\\times l$ symetric matrix, $A^T = A$. Let $\\lambda_i \\neq \\lambda_J$ be two such eigenvalues. From the definitions we have\n",
        "\\begin{eqnarray}\n",
        "Av_i &=& \\lambda_iv_i\\\\\n",
        "Av_j &=& \\lambda_jv_j\n",
        "\\end{eqnarray}\n",
        "\n",
        "Multiplying the first on the left by $v_j^T$ and transpose the second and multiplying on the right by $v_i$ we obtain\n",
        "\\begin{eqnarray}\n",
        "v_j^TAv_i &=& \\lambda_iv_j^Tv_i\\\\\n",
        "v_j^TAv_i &=& \\lambda_jv_j^T v_i\n",
        "\\end{eqnarray}\n",
        "\n",
        "So\n",
        "\\begin{eqnarray}\n",
        "v_j^T A v_i - v_j^T A v_i &=& (\\lambda_i-\\lambda_j) v_j^Tv_i\\\\\n",
        "0 &=&  v_j^Tv_i\n",
        "\\end{eqnarray}\n",
        "$\\square$\n",
        "\n",
        "------"
      ]
    },
    {
      "cell_type": "markdown",
      "id": "da6bdad8",
      "metadata": {
        "id": "da6bdad8"
      },
      "source": [
        "## **REFERENCES**"
      ]
    },
    {
      "cell_type": "markdown",
      "id": "ac76d6c0",
      "metadata": {
        "id": "ac76d6c0"
      },
      "source": [
        "*  Theodoridis, S. \\& Koutroumbas, K. *Pattern Recognition*, 4th ed., Academic Press, 2009"
      ]
    }
  ],
  "metadata": {
    "kernelspec": {
      "display_name": "Python 3 (ipykernel)",
      "language": "python",
      "name": "python3"
    },
    "language_info": {
      "codemirror_mode": {
        "name": "ipython",
        "version": 3
      },
      "file_extension": ".py",
      "mimetype": "text/x-python",
      "name": "python",
      "nbconvert_exporter": "python",
      "pygments_lexer": "ipython3",
      "version": "3.12.1"
    },
    "colab": {
      "provenance": []
    }
  },
  "nbformat": 4,
  "nbformat_minor": 5
}