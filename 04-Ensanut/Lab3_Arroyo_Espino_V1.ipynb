{
 "cells": [
  {
   "cell_type": "markdown",
   "metadata": {},
   "source": [
    "<div style=\"text-align: center; padding: 30px\">\n",
    "  <h1><strong>Encuesta Nacional de Salud y Nutrición 2023</strong></h1>\n",
    "  <h3><strong>Nuria y Heri</strong></h1>\n",
    "</div>"
   ]
  },
  {
   "cell_type": "markdown",
   "metadata": {},
   "source": [
    "https://ensanut.insp.mx/encuestas/ensanutcontinua2023/index.php\n",
    "\n",
    "Objetivo: Realizar un entendimiento de los datos de la Encuesta Nacional de Salud y Nutrición 2023.\n",
    "\n",
    "Usando la base de datos y el catálogo del ENSANUT 2023, realiza las siguientes actividades en Python:\n",
    "\n",
    "1. Selecciona un cuestionario del hogar y un cuestionario de salud del ENSANUT 2023.\n",
    "2. Importa cada base de datos correspondiente a cada cuestionario como dataframes de pandas.\n",
    "3. Integra ambas bases de datos utilizando las variables de FOLIO como clave.\n",
    "4. Elimina de tu base de datos las columnas que todos sus registros sean valores nulos.\n",
    "5. Crea las siguientes funciones, cuyos parámetros sean: un dataframe, el nombre de una o 2 columnas.  \n",
    "    - Una función que genere un boxplot de una variable numérica  \n",
    "    - Una función que genere el histograma de una variable numérica  \n",
    "    - Una función que genere la gráfica de barras de una variable categórica  \n",
    "    - Una función que genere un heatmap de la matriz de correlación de un subconjunto de variables numéricas.  \n",
    "    - Una función que genere un gráfico de dispersión entre dos variables numéricas.\n",
    "\n",
    "Las primeras tres gráficas deben tener como título el nombre de la variable que aparece en el catálogo. Para ello necesitaras importar en Python los catalogos de los cuestionarios elegidos, y construir una función que busque el nombre de etiqueta de la variable y devuelva el título de la pregunta del cuestionario correspondiente"
   ]
  }
 ],
 "metadata": {
  "language_info": {
   "name": "python"
  }
 },
 "nbformat": 4,
 "nbformat_minor": 2
}
