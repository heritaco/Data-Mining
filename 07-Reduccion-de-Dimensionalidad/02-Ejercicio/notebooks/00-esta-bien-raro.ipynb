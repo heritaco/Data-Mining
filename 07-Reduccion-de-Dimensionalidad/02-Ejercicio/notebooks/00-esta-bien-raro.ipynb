{
 "cells": [
  {
   "cell_type": "markdown",
   "id": "83c150b5",
   "metadata": {},
   "source": [
    "# **APRENDER A USAR LA DB**"
   ]
  },
  {
   "cell_type": "markdown",
   "id": "8d259c9d",
   "metadata": {},
   "source": [
    "Está bien rara la db de las imágenes. https://paperswithcode.com/datasets"
   ]
  },
  {
   "cell_type": "code",
   "execution_count": 1,
   "id": "77186e9e",
   "metadata": {},
   "outputs": [],
   "source": [
    "import pickle\n",
    "import os\n",
    "import numpy as np\n",
    "import matplotlib.pyplot as plt"
   ]
  },
  {
   "cell_type": "code",
   "execution_count": 2,
   "id": "5548c718",
   "metadata": {},
   "outputs": [],
   "source": [
    "def unpickle(file):\n",
    "    with open(file, 'rb') as fo:\n",
    "        dict = pickle.load(fo, encoding='bytes')  # Importante: encoding='bytes' para Python 3\n",
    "    return dict\n",
    "\n",
    "# Ruta al batch\n",
    "path = r\"/home/heri/Documents/GitHub/Data-Mining/07-Reduccion-de-Dimensionalidad/02-Ejercicio/datos/cifar-10-batches-py\"\n",
    "batch_file = os.path.join(path, \"data_batch_1\")\n",
    "\n",
    "data_dict = unpickle(batch_file)"
   ]
  },
  {
   "cell_type": "code",
   "execution_count": 3,
   "id": "178859aa",
   "metadata": {},
   "outputs": [
    {
     "name": "stdout",
     "output_type": "stream",
     "text": [
      "dict_keys([b'batch_label', b'labels', b'data', b'filenames'])\n"
     ]
    }
   ],
   "source": [
    "print(data_dict.keys())"
   ]
  },
  {
   "cell_type": "code",
   "execution_count": 4,
   "id": "cfd844a7",
   "metadata": {},
   "outputs": [
    {
     "data": {
      "image/png": "[encoded data removed]",
      "text/plain": [
       "<Figure size 640x480 with 1 Axes>"
      ]
     },
     "metadata": {},
     "output_type": "display_data"
    }
   ],
   "source": [
    "# Extraer la imagen y su etiqueta\n",
    "img_flat = data_dict[b'data'][0]\n",
    "label = data_dict[b'labels'][0]\n",
    "\n",
    "# Convertir a imagen 32x32x3\n",
    "img_R = img_flat[0:1024].reshape(32, 32)\n",
    "img_G = img_flat[1024:2048].reshape(32, 32)\n",
    "img_B = img_flat[2048:].reshape(32, 32)\n",
    "img = np.stack([img_R, img_G, img_B], axis=2)\n",
    "\n",
    "# Mostrar la imagen\n",
    "plt.imshow(img.astype(np.uint8))\n",
    "plt.title(f\"Label: {label}\")\n",
    "plt.axis('off')\n",
    "plt.show()"
   ]
  },
  {
   "cell_type": "code",
   "execution_count": 5,
   "id": "6a85dd2c",
   "metadata": {},
   "outputs": [
    {
     "name": "stdout",
     "output_type": "stream",
     "text": [
      "frog\n"
     ]
    }
   ],
   "source": [
    "meta_file = os.path.join(path, \"batches.meta\")\n",
    "meta_dict = unpickle(meta_file)\n",
    "label_names = [label.decode('utf-8') for label in meta_dict[b'label_names']]\n",
    "print(label_names[label])  # Nombre de la clase de la imagen mostrada"
   ]
  }
 ],
 "metadata": {
  "kernelspec": {
   "display_name": "a",
   "language": "python",
   "name": "python3"
  },
  "language_info": {
   "codemirror_mode": {
    "name": "ipython",
    "version": 3
   },
   "file_extension": ".py",
   "mimetype": "text/x-python",
   "name": "python",
   "nbconvert_exporter": "python",
   "pygments_lexer": "ipython3",
   "version": "3.12.9"
  }
 },
 "nbformat": 4,
 "nbformat_minor": 5
}
