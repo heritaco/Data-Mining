{
 "cells": [
  {
   "cell_type": "code",
   "execution_count": 1,
   "id": "461beb86",
   "metadata": {},
   "outputs": [
    {
     "name": "stdout",
     "output_type": "stream",
     "text": [
      "\n",
      "S:\n",
      "[[2.09543003e+21 3.14218780e+21 1.83702928e+20]\n",
      " [3.14218780e+21 1.92262142e+22 2.36004001e+20]\n",
      " [1.83702928e+20 2.36004001e+20 1.92046387e+19]]\n",
      "\n",
      "Sorted eigenvalues:\n",
      "[1.97879178e+22 1.54996377e+21 2.96734219e+18]\n",
      "\n",
      "Sorted eigenvectors:\n",
      "[[ 0.17498278  0.98030748 -0.09153287]\n",
      " [ 0.98448059 -0.17547217  0.00273633]\n",
      " [ 0.01337903  0.09059114  0.9957983 ]]\n",
      "\n",
      "Datos originales:\n",
      "[[     1142432      2434243       143433]\n",
      " [   431431714      4342524    644314212]\n",
      " [   124341743      4343102   2924321432]\n",
      " [     1042431     43143111      4121423]\n",
      " [      324134      4321123    315143214]\n",
      " [      434341      4311431      4314321]\n",
      " [    43434211     43424311   4314314341]\n",
      " [     4314341   4314341431   4341231431]\n",
      " [ 43143143431 431321412431   4314343431]\n",
      " [143144214331 143143143143  14314343241]]\n",
      "\n",
      "Proyección en R^2:\n",
      "[[ 2.59828990e+06  7.05786489e+05]\n",
      " [ 8.83885495e+07  4.80542907e+08]\n",
      " [ 6.51579474e+07  3.86048671e+08]\n",
      " [ 4.27111034e+07 -6.17514810e+06]\n",
      " [ 8.52709010e+06  2.81086983e+07]\n",
      " [ 4.37824375e+06  6.00908402e+04]\n",
      " [ 1.08071971e+08  4.25797795e+08]\n",
      " [ 4.30622179e+09 -3.59540364e+08]\n",
      " [ 4.32234587e+11 -3.30005178e+10]\n",
      " [ 1.66160930e+11  1.16504459e+11]]\n",
      "\n",
      "Proyectados R^1:\n",
      "[[2.59828990e+06]\n",
      " [8.83885495e+07]\n",
      " [6.51579474e+07]\n",
      " [4.27111034e+07]\n",
      " [8.52709010e+06]\n",
      " [4.37824375e+06]\n",
      " [1.08071971e+08]\n",
      " [4.30622179e+09]\n",
      " [4.32234587e+11]\n",
      " [1.66160930e+11]]\n"
     ]
    }
   ],
   "source": [
    "import numpy as np\n",
    "\n",
    "x = [[1142432, 2434243, 143433],\n",
    "    [431431714, 4342524, 644314212],\n",
    "    [124341743, 4343102, 2924321432],\n",
    "    [1042431, 43143111, 4121423],\n",
    "    [324134, 4321123, 315143214], \n",
    "    [434341, 4311431, 4314321],\n",
    "    [43434211, 43424311, 4314314341],\n",
    "    [4314341, 4314341431, 4341231431],\n",
    "    [43143143431, 431321412431, 4314343431],\n",
    "    [143144214331, 143143143143, 14314343241]]\n",
    "\n",
    "x = np.array(x)\n",
    "\n",
    "# Matriz de covariancia (necesitamos x.T, porque se calcula la covarianza entre las filas)\n",
    "S = np.cov(x.T)\n",
    "print(\"\\nS:\")\n",
    "print(S)\n",
    "\n",
    "# lambdas y us de S\n",
    "lambdas, us  = np.linalg.eig(S)\n",
    "\n",
    "# Sort\n",
    "idx = np.argsort(lambdas)[::-1] # indices de lambdas ordenados de mayor a menor\n",
    "lambdas = lambdas[idx]      # lambdas ordenados\n",
    "us = us[:, idx]       # us ordenados\n",
    "print(\"\\nSorted eigenvalues:\")\n",
    "print(lambdas)\n",
    "print(\"\\nSorted eigenvectors:\")\n",
    "print(us)\n",
    "\n",
    "# Print de datos\n",
    "print(\"\\nDatos originales:\")\n",
    "print(x)\n",
    "\n",
    "# Proyectar los datos de R^3 a R^2 (lo vamos a usar para S')\n",
    "x_pca = x @ us[:, :2] # @ es el producto entre matrices (x con los dos primeros eigenvectores)\n",
    "print(\"\\nProyección en R^2:\")\n",
    "print(x_pca)\n",
    "\n",
    "# Projectar de R a R^1\n",
    "x_pca2 = x @ us[:, :1] \n",
    "print(\"\\nProyectados R^1:\")\n",
    "print(x_pca2)"
   ]
  },
  {
   "cell_type": "code",
   "execution_count": 2,
   "id": "cc1e4660",
   "metadata": {},
   "outputs": [
    {
     "name": "stdout",
     "output_type": "stream",
     "text": [
      "Datos en R^2:\n",
      "[[ 2.59828990e+06  7.05786489e+05]\n",
      " [ 8.83885495e+07  4.80542907e+08]\n",
      " [ 6.51579474e+07  3.86048671e+08]\n",
      " [ 4.27111034e+07 -6.17514810e+06]\n",
      " [ 8.52709010e+06  2.81086983e+07]\n",
      " [ 4.37824375e+06  6.00908402e+04]\n",
      " [ 1.08071971e+08  4.25797795e+08]\n",
      " [ 4.30622179e+09 -3.59540364e+08]\n",
      " [ 4.32234587e+11 -3.30005178e+10]\n",
      " [ 1.66160930e+11  1.16504459e+11]]\n",
      "\n",
      "S':\n",
      "[[1.97879178e+22 3.72827022e+06]\n",
      " [3.72827022e+06 1.54996377e+21]]\n",
      "\n",
      "Sorted lambdas de S':\n",
      "[1.97879178e+22 1.54996377e+21]\n",
      "\n",
      "Sorted eigenvectores de S':\n",
      "[[ 1.0000000e+00 -2.0442371e-16]\n",
      " [ 0.0000000e+00  1.0000000e+00]]\n",
      "\n",
      "Datos proyectados:\n",
      "[[2.59828990e+06]\n",
      " [8.83885495e+07]\n",
      " [6.51579474e+07]\n",
      " [4.27111034e+07]\n",
      " [8.52709010e+06]\n",
      " [4.37824375e+06]\n",
      " [1.08071971e+08]\n",
      " [4.30622179e+09]\n",
      " [4.32234587e+11]\n",
      " [1.66160930e+11]]\n",
      ":o\n"
     ]
    }
   ],
   "source": [
    "print(\"Datos en R^2:\")\n",
    "print(x_pca)\n",
    "\n",
    "# S'\n",
    "S_pca = np.cov(x_pca.T)\n",
    "print(\"\\nS':\")\n",
    "print(S_pca)\n",
    "\n",
    "# lambdas' y us' de S'\n",
    "lambdas_pca, us_pca = np.linalg.eig(S_pca)\n",
    "\n",
    "# Sort\n",
    "idx_pca = np.argsort(lambdas_pca)[::-1]     # indices de lambdas ordenados de mayor a menor\n",
    "lambdas_pca = lambdas_pca[idx_pca]      # lambdas ordenados\n",
    "us_pca = us_pca[:, idx_pca] # us ordenados\n",
    "print(\"\\nSorted lambdas de S':\")\n",
    "print(lambdas_pca)\n",
    "print(\"\\nSorted eigenvectores de S':\")\n",
    "print(us_pca)\n",
    "\n",
    "# Proyectar los datos de R^2 a R^1 usando S'\n",
    "x_pca_1 = x_pca @ us_pca[:, :1]   \n",
    "print(\"\\nDatos proyectados:\")\n",
    "print(x_pca_1)\n",
    "print(\":o\")"
   ]
  },
  {
   "cell_type": "code",
   "execution_count": 3,
   "id": "b8e9f39c",
   "metadata": {},
   "outputs": [
    {
     "name": "stdout",
     "output_type": "stream",
     "text": [
      "\n",
      "Diferencia de proyecciones:\n",
      "[[ 0.00000000e+00]\n",
      " [ 0.00000000e+00]\n",
      " [ 7.45058060e-09]\n",
      " [ 7.45058060e-09]\n",
      " [ 0.00000000e+00]\n",
      " [-9.31322575e-10]\n",
      " [ 0.00000000e+00]\n",
      " [ 0.00000000e+00]\n",
      " [ 0.00000000e+00]\n",
      " [ 0.00000000e+00]]\n"
     ]
    }
   ],
   "source": [
    "diferencia = x_pca_1 - x_pca2\n",
    "print(\"\\nDiferencia de proyecciones:\")\n",
    "print(diferencia)"
   ]
  },
  {
   "cell_type": "code",
   "execution_count": 4,
   "id": "b15794b1",
   "metadata": {},
   "outputs": [
    {
     "name": "stdout",
     "output_type": "stream",
     "text": [
      "diferencia de eigenvalores:\n",
      "[ 0.0000000e+00 -1.8237954e+22]\n"
     ]
    }
   ],
   "source": [
    "print(\"diferencia de eigenvalores:\")\n",
    "print(lambdas_pca - lambdas[:1])"
   ]
  }
 ],
 "metadata": {
  "kernelspec": {
   "display_name": "Python 3",
   "language": "python",
   "name": "python3"
  },
  "language_info": {
   "codemirror_mode": {
    "name": "ipython",
    "version": 3
   },
   "file_extension": ".py",
   "mimetype": "text/x-python",
   "name": "python",
   "nbconvert_exporter": "python",
   "pygments_lexer": "ipython3",
   "version": "3.12.1"
  }
 },
 "nbformat": 4,
 "nbformat_minor": 5
}
