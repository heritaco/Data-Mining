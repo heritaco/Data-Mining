{
 "cells": [
  {
   "cell_type": "code",
   "execution_count": 1,
   "id": "732d4d05-1866-4d9b-bd0b-ba7e680e6baf",
   "metadata": {},
   "outputs": [
    {
     "ename": "ModuleNotFoundError",
     "evalue": "No module named 'matplotlib'",
     "output_type": "error",
     "traceback": [
      "\u001b[1;31m---------------------------------------------------------------------------\u001b[0m",
      "\u001b[1;31mModuleNotFoundError\u001b[0m                       Traceback (most recent call last)",
      "Cell \u001b[1;32mIn[1], line 1\u001b[0m\n\u001b[1;32m----> 1\u001b[0m \u001b[38;5;28;01mimport\u001b[39;00m \u001b[38;5;21;01mmatplotlib\u001b[39;00m\u001b[38;5;21;01m.\u001b[39;00m\u001b[38;5;21;01mpyplot\u001b[39;00m \u001b[38;5;28;01mas\u001b[39;00m \u001b[38;5;21;01mplt\u001b[39;00m\n",
      "\u001b[1;31mModuleNotFoundError\u001b[0m: No module named 'matplotlib'"
     ]
    }
   ],
   "source": [
    "import matplotlib.pyplot as plt"
   ]
  },
  {
   "cell_type": "markdown",
   "id": "6aa2cb4a",
   "metadata": {},
   "source": [
    "   Y si quiero activar pandas? \n",
    "   Buscamos conda forge (library_name)"
   ]
  },
  {
   "cell_type": "markdown",
   "id": "d68a89e2",
   "metadata": {},
   "source": [
    "Tenemos que descargarla desde la terminal"
   ]
  },
  {
   "cell_type": "markdown",
   "id": "0001f497",
   "metadata": {},
   "source": [
    "   ```bash\n",
    "   conda install conda-forge::matplotlib\n",
    "   ```"
   ]
  },
  {
   "cell_type": "markdown",
   "id": "d450681e",
   "metadata": {},
   "source": [
    "   ```bash\n",
    "   (data-mining) PS C:\\Heri\\GitHub\\.Semester\\Data-Mining> conda install conda-forge::matplotlib      \n",
    "   Collecting package metadata (current_repodata.json): done\n",
    "   Solving environment: done\n",
    "   ```"
   ]
  },
  {
   "cell_type": "code",
   "execution_count": 2,
   "id": "b1a34352",
   "metadata": {},
   "outputs": [],
   "source": [
    "import matplotlib.pyplot as plt"
   ]
  },
  {
   "cell_type": "markdown",
   "id": "e006b356",
   "metadata": {},
   "source": [
    "Verificar que entorno estamos usando:"
   ]
  },
  {
   "cell_type": "code",
   "execution_count": 3,
   "id": "56ffdffe",
   "metadata": {},
   "outputs": [
    {
     "name": "stdout",
     "output_type": "stream",
     "text": [
      "c:\\Users\\herie\\.conda\\envs\\data-mining\\python.exe\n"
     ]
    }
   ],
   "source": [
    "import sys\n",
    "print(sys.executable)"
   ]
  },
  {
   "cell_type": "markdown",
   "id": "4890623f",
   "metadata": {},
   "source": [
    "Sí estamos en el entorno que queríamos :)"
   ]
  }
 ],
 "metadata": {
  "kernelspec": {
   "display_name": "data-mining",
   "language": "python",
   "name": "python3"
  },
  "language_info": {
   "codemirror_mode": {
    "name": "ipython",
    "version": 3
   },
   "file_extension": ".py",
   "mimetype": "text/x-python",
   "name": "python",
   "nbconvert_exporter": "python",
   "pygments_lexer": "ipython3",
   "version": "3.12.8"
  }
 },
 "nbformat": 4,
 "nbformat_minor": 5
}
